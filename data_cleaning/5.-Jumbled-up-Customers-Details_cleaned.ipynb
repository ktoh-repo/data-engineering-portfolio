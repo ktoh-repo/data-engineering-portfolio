{
 "cells": [
  {
   "cell_type": "code",
   "execution_count": 1,
   "id": "a7b09acb-aaa8-4e28-9be2-10f974574cb4",
   "metadata": {},
   "outputs": [],
   "source": [
    "import pandas as pd\n",
    "import numpy as np\n",
    "\n",
    "pd.set_option(\"max.colwidth\", None)"
   ]
  },
  {
   "cell_type": "code",
   "execution_count": 2,
   "id": "3bd9c5f5-aa5d-4c76-bfaf-d0bd196bbd4c",
   "metadata": {},
   "outputs": [],
   "source": [
    "df = pd.read_excel(\"../5.-Jumbled-up-Customers-Details.xlsx\", header=None)"
   ]
  },
  {
   "cell_type": "code",
   "execution_count": 3,
   "id": "5e0e560b-905c-442d-bbd4-955e431ac886",
   "metadata": {},
   "outputs": [
    {
     "data": {
      "text/html": [
       "<div>\n",
       "<style scoped>\n",
       "    .dataframe tbody tr th:only-of-type {\n",
       "        vertical-align: middle;\n",
       "    }\n",
       "\n",
       "    .dataframe tbody tr th {\n",
       "        vertical-align: top;\n",
       "    }\n",
       "\n",
       "    .dataframe thead th {\n",
       "        text-align: right;\n",
       "    }\n",
       "</style>\n",
       "<table border=\"1\" class=\"dataframe\">\n",
       "  <thead>\n",
       "    <tr style=\"text-align: right;\">\n",
       "      <th></th>\n",
       "      <th>0</th>\n",
       "    </tr>\n",
       "  </thead>\n",
       "  <tbody>\n",
       "    <tr>\n",
       "      <th>0</th>\n",
       "      <td>Name Hussein Hakeem Address Number 22 Fioye Crescent Surulere Lagos Age 17 Gender Male</td>\n",
       "    </tr>\n",
       "    <tr>\n",
       "      <th>1</th>\n",
       "      <td>Name Arojoye Samuel Address 11 Omolade Close Omole Estate Lagos Age 16 Gender Male</td>\n",
       "    </tr>\n",
       "    <tr>\n",
       "      <th>2</th>\n",
       "      <td>Name Alex Ezurum Address 1 Adamu Lane, Abuja Age 14 Gender Male</td>\n",
       "    </tr>\n",
       "    <tr>\n",
       "      <th>3</th>\n",
       "      <td>Name Susan Nwaimo Address Number 58 Yaba Street, Kaduna State  Age 16 Gender Female</td>\n",
       "    </tr>\n",
       "    <tr>\n",
       "      <th>4</th>\n",
       "      <td>Name Ajao Opeyemi Address No12 Olubunmi Street, Abeokuta Age 18 Gender Female</td>\n",
       "    </tr>\n",
       "  </tbody>\n",
       "</table>\n",
       "</div>"
      ],
      "text/plain": [
       "                                                                                        0\n",
       "0  Name Hussein Hakeem Address Number 22 Fioye Crescent Surulere Lagos Age 17 Gender Male\n",
       "1      Name Arojoye Samuel Address 11 Omolade Close Omole Estate Lagos Age 16 Gender Male\n",
       "2                         Name Alex Ezurum Address 1 Adamu Lane, Abuja Age 14 Gender Male\n",
       "3     Name Susan Nwaimo Address Number 58 Yaba Street, Kaduna State  Age 16 Gender Female\n",
       "4           Name Ajao Opeyemi Address No12 Olubunmi Street, Abeokuta Age 18 Gender Female"
      ]
     },
     "execution_count": 3,
     "metadata": {},
     "output_type": "execute_result"
    }
   ],
   "source": [
    "df.head()"
   ]
  },
  {
   "cell_type": "code",
   "execution_count": 4,
   "id": "63f77b7b-5fae-4fb3-a9ce-e14347a04a83",
   "metadata": {},
   "outputs": [],
   "source": [
    "splitted_df = df[0].str.split(\" \")"
   ]
  },
  {
   "cell_type": "code",
   "execution_count": 5,
   "id": "562d199e-1cf3-4634-8efd-4b510191f8a1",
   "metadata": {},
   "outputs": [
    {
     "data": {
      "text/plain": [
       "0    [Name, Hussein, Hakeem, Address, Number, 22, Fioye, Crescent, Surulere, Lagos, Age, 17, Gender, Male]\n",
       "1        [Name, Arojoye, Samuel, Address, 11, Omolade, Close, Omole, Estate, Lagos, Age, 16, Gender, Male]\n",
       "2                             [Name, Alex, Ezurum, Address, 1, Adamu, Lane,, Abuja, Age, 14, Gender, Male]\n",
       "3      [Name, Susan, Nwaimo, Address, Number, 58, Yaba, Street,, Kaduna, State, , Age, 16, Gender, Female]\n",
       "4               [Name, Ajao, Opeyemi, Address, No12, Olubunmi, Street,, Abeokuta, Age, 18, Gender, Female]\n",
       "5         [Name, Banjoko, Adebusola, Address, 34, Ngige, Street,, Ugheli,, Delta, Age, 14, Gender, Female]\n",
       "6                     [Name, Muhammed, Olabisi, Address, 13,, ICAN, road,, Enugu, Age, 12, Gender, Female]\n",
       "7                     [Name, Oluwagbemi, Mojisola, Address, ACCA, Lane,, Onitsha, Age, 13, Gender, Female]\n",
       "Name: 0, dtype: object"
      ]
     },
     "execution_count": 5,
     "metadata": {},
     "output_type": "execute_result"
    }
   ],
   "source": [
    "splitted_df.head(10)"
   ]
  },
  {
   "cell_type": "code",
   "execution_count": 6,
   "id": "97eb01af-e8d5-406b-a784-9767bb274669",
   "metadata": {},
   "outputs": [
    {
     "name": "stdout",
     "output_type": "stream",
     "text": [
      "<class 'pandas.core.series.Series'>\n",
      "RangeIndex: 8 entries, 0 to 7\n",
      "Series name: 0\n",
      "Non-Null Count  Dtype \n",
      "--------------  ----- \n",
      "8 non-null      object\n",
      "dtypes: object(1)\n",
      "memory usage: 196.0+ bytes\n"
     ]
    }
   ],
   "source": [
    "splitted_df.info()"
   ]
  },
  {
   "cell_type": "code",
   "execution_count": 22,
   "id": "c3255b16-61fa-4046-aff5-587ac0798601",
   "metadata": {},
   "outputs": [],
   "source": [
    "rows = []\n",
    "\n",
    "for i in splitted_df:\n",
    "    idx_name = i.index(\"Name\")\n",
    "    idx_addr = i.index(\"Address\")\n",
    "    idx_age = i.index(\"Age\")\n",
    "    idx_gdr = i.index(\"Gender\")\n",
    "    # print(\" \".join(i[idx_name+1: idx_addr])) \n",
    "    # new_df[\"name\"] = \" \".join(i[idx_name+1: idx_addr])\n",
    "    # new_df[\"address\"] = \" \".join(i[idx_addr+1: idx_age])\n",
    "    # new_df[\"age\"] = i[idx_age+1]\n",
    "    # new_df[\"gender\"] = i[idx_gdr+1]\n",
    "\n",
    "    new_row = {\n",
    "        \"name\": \" \".join(i[idx_name+1: idx_addr]),\n",
    "        \"address\": \" \".join(i[idx_addr+1: idx_age]),\n",
    "        \"age\": i[idx_age+1],\n",
    "        \"gender\": i[idx_gdr+1]\n",
    "    }\n",
    "\n",
    "    rows.append(new_row)\n",
    "\n",
    "new_df = pd.DataFrame(rows)"
   ]
  },
  {
   "cell_type": "code",
   "execution_count": 23,
   "id": "c17ea34a-34c4-46f6-a140-1cec583e38df",
   "metadata": {},
   "outputs": [
    {
     "data": {
      "text/html": [
       "<div>\n",
       "<style scoped>\n",
       "    .dataframe tbody tr th:only-of-type {\n",
       "        vertical-align: middle;\n",
       "    }\n",
       "\n",
       "    .dataframe tbody tr th {\n",
       "        vertical-align: top;\n",
       "    }\n",
       "\n",
       "    .dataframe thead th {\n",
       "        text-align: right;\n",
       "    }\n",
       "</style>\n",
       "<table border=\"1\" class=\"dataframe\">\n",
       "  <thead>\n",
       "    <tr style=\"text-align: right;\">\n",
       "      <th></th>\n",
       "      <th>name</th>\n",
       "      <th>address</th>\n",
       "      <th>age</th>\n",
       "      <th>gender</th>\n",
       "    </tr>\n",
       "  </thead>\n",
       "  <tbody>\n",
       "    <tr>\n",
       "      <th>0</th>\n",
       "      <td>Hussein Hakeem</td>\n",
       "      <td>Number 22 Fioye Crescent Surulere Lagos</td>\n",
       "      <td>17</td>\n",
       "      <td>Male</td>\n",
       "    </tr>\n",
       "    <tr>\n",
       "      <th>1</th>\n",
       "      <td>Arojoye Samuel</td>\n",
       "      <td>11 Omolade Close Omole Estate Lagos</td>\n",
       "      <td>16</td>\n",
       "      <td>Male</td>\n",
       "    </tr>\n",
       "    <tr>\n",
       "      <th>2</th>\n",
       "      <td>Alex Ezurum</td>\n",
       "      <td>1 Adamu Lane, Abuja</td>\n",
       "      <td>14</td>\n",
       "      <td>Male</td>\n",
       "    </tr>\n",
       "    <tr>\n",
       "      <th>3</th>\n",
       "      <td>Susan Nwaimo</td>\n",
       "      <td>Number 58 Yaba Street, Kaduna State</td>\n",
       "      <td>16</td>\n",
       "      <td>Female</td>\n",
       "    </tr>\n",
       "    <tr>\n",
       "      <th>4</th>\n",
       "      <td>Ajao Opeyemi</td>\n",
       "      <td>No12 Olubunmi Street, Abeokuta</td>\n",
       "      <td>18</td>\n",
       "      <td>Female</td>\n",
       "    </tr>\n",
       "    <tr>\n",
       "      <th>5</th>\n",
       "      <td>Banjoko Adebusola</td>\n",
       "      <td>34 Ngige Street, Ugheli, Delta</td>\n",
       "      <td>14</td>\n",
       "      <td>Female</td>\n",
       "    </tr>\n",
       "    <tr>\n",
       "      <th>6</th>\n",
       "      <td>Muhammed Olabisi</td>\n",
       "      <td>13, ICAN road, Enugu</td>\n",
       "      <td>12</td>\n",
       "      <td>Female</td>\n",
       "    </tr>\n",
       "    <tr>\n",
       "      <th>7</th>\n",
       "      <td>Oluwagbemi Mojisola</td>\n",
       "      <td>ACCA Lane, Onitsha</td>\n",
       "      <td>13</td>\n",
       "      <td>Female</td>\n",
       "    </tr>\n",
       "  </tbody>\n",
       "</table>\n",
       "</div>"
      ],
      "text/plain": [
       "                  name                                  address age  gender\n",
       "0       Hussein Hakeem  Number 22 Fioye Crescent Surulere Lagos  17    Male\n",
       "1       Arojoye Samuel      11 Omolade Close Omole Estate Lagos  16    Male\n",
       "2          Alex Ezurum                      1 Adamu Lane, Abuja  14    Male\n",
       "3         Susan Nwaimo     Number 58 Yaba Street, Kaduna State   16  Female\n",
       "4         Ajao Opeyemi           No12 Olubunmi Street, Abeokuta  18  Female\n",
       "5    Banjoko Adebusola           34 Ngige Street, Ugheli, Delta  14  Female\n",
       "6     Muhammed Olabisi                     13, ICAN road, Enugu  12  Female\n",
       "7  Oluwagbemi Mojisola                       ACCA Lane, Onitsha  13  Female"
      ]
     },
     "execution_count": 23,
     "metadata": {},
     "output_type": "execute_result"
    }
   ],
   "source": [
    "new_df.head(10)"
   ]
  },
  {
   "cell_type": "code",
   "execution_count": null,
   "id": "d0c100e5-669c-4d02-8f56-1f5081410840",
   "metadata": {},
   "outputs": [],
   "source": []
  },
  {
   "cell_type": "code",
   "execution_count": null,
   "id": "5395a355-9f24-4eb6-a744-ce2275b984e4",
   "metadata": {},
   "outputs": [],
   "source": []
  }
 ],
 "metadata": {
  "kernelspec": {
   "display_name": "Python 3 (ipykernel)",
   "language": "python",
   "name": "python3"
  },
  "language_info": {
   "codemirror_mode": {
    "name": "ipython",
    "version": 3
   },
   "file_extension": ".py",
   "mimetype": "text/x-python",
   "name": "python",
   "nbconvert_exporter": "python",
   "pygments_lexer": "ipython3",
   "version": "3.11.9"
  }
 },
 "nbformat": 4,
 "nbformat_minor": 5
}
