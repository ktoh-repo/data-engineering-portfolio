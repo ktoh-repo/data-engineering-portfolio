{
 "cells": [
  {
   "cell_type": "code",
   "execution_count": 0,
   "metadata": {
    "application/vnd.databricks.v1+cell": {
     "cellMetadata": {
      "byteLimit": 2048000,
      "rowLimit": 10000
     },
     "inputWidgets": {},
     "nuid": "2ab6e796-1de1-45f2-a3f3-d48abb16cafa",
     "showTitle": false,
     "title": ""
    }
   },
   "outputs": [],
   "source": [
    "from pyspark.sql import SparkSession\n",
    "from pyspark.sql.functions import *\n",
    "\n",
    "spark = SparkSession.builder.appName(\"GoldLayerCreation\").getOrCreate()\n",
    "\n",
    "# Read the necessary silver tables\n",
    "silver_sellers = spark.read.format(\"delta\").load(\"/mnt/delta/tables/silver/sellers\")\n",
    "silver_buyers = spark.read.format(\"delta\").load(\"/mnt/delta/tables/silver/buyers\")\n",
    "silver_users = spark.read.format(\"delta\").load(\"/mnt/delta/tables/silver/users\")\n",
    "silver_countries = spark.read.format(\"delta\").load(\"/mnt/delta/tables/silver/countries\")"
   ]
  },
  {
   "cell_type": "code",
   "execution_count": 0,
   "metadata": {
    "application/vnd.databricks.v1+cell": {
     "cellMetadata": {
      "byteLimit": 2048000,
      "rowLimit": 10000
     },
     "inputWidgets": {},
     "nuid": "0cd14055-fa44-488c-86ec-74000790e59c",
     "showTitle": false,
     "title": ""
    }
   },
   "outputs": [],
   "source": [
    "# Perform the join operations\n",
    "comprehensive_user_table = silver_users \\\n",
    "    .join(silver_countries, [\"country\"], \"outer\") \\\n",
    "    .join(silver_buyers, [\"country\"], \"outer\") \\\n",
    "    .join(silver_sellers, [\"country\"], \"outer\")\n",
    "\n",
    "# Select and alias columns from each dataframe to ensure uniqueness\n",
    "comprehensive_user_table = comprehensive_user_table.select(\n",
    "    silver_users[\"country\"].alias(\"Country\"),\n",
    "    # From silver_users\n",
    "    silver_users[\"productsSold\"].alias(\"Users_productsSold\"),\n",
    "    silver_users[\"productsWished\"].alias(\"User_productsWished\"),\n",
    "    silver_users[\"account_age_years\"].alias(\"User_account_age_years\"),\n",
    "    silver_users[\"account_age_group\"].alias(\"User_account_age_group\"),\n",
    "    silver_users[\"hasanyapp\"].alias(\"User_hasanyapp\"),\n",
    "    silver_users[\"socialnbfollowers\"].alias(\"User_socialnbfollowers\"),\n",
    "    silver_users[\"flag_long_title\"].alias(\"User_flag_long_title\"), \n",
    "\n",
    "    # From silver_countries\n",
    "    silver_countries[\"sellers\"].alias(\"Countries_Sellers\"),\n",
    "    silver_countries[\"topsellers\"].alias(\"Countries_TopSellers\"),\n",
    "    silver_countries[\"femalesellers\"].alias(\"Countries_FemaleSellers\"),\n",
    "    silver_countries[\"malesellers\"].alias(\"Countries_MaleSellers\"),\n",
    "    silver_countries[\"topfemalesellers\"].alias(\"Countries_TopFemaleSellers\"),\n",
    "    silver_countries[\"topmalesellers\"].alias(\"Countries_TopMaleSellers\"),\n",
    "\n",
    "    # From silver_buyers\n",
    "    silver_buyers[\"buyers\"].alias(\"Buyers_Total\"),\n",
    "    silver_buyers[\"topbuyers\"].alias(\"Buyers_Top\"),\n",
    "    silver_buyers[\"femalebuyers\"].alias(\"Buyers_Female\"),\n",
    "    silver_buyers[\"malebuyers\"].alias(\"Buyers_Male\"),\n",
    "    silver_buyers[\"topfemalebuyers\"].alias(\"Buyers_TopFemale\"),\n",
    "    silver_buyers[\"topmalebuyers\"].alias(\"Buyers_TopMale\"),\n",
    "\n",
    "    # from silver_sellers\n",
    "    silver_sellers[\"nbsellers\"].alias(\"Sellers_Total\"),\n",
    "    silver_sellers[\"sex\"].alias(\"Sellers_Sex\"),\n",
    "    silver_sellers[\"meanproductssold\"].alias(\"Sellers_MeanProductsSold\"),\n",
    "    silver_sellers[\"meanproductslisted\"].alias(\"Sellers_MeanProductsListed\")\n",
    ")"
   ]
  },
  {
   "cell_type": "code",
   "execution_count": 0,
   "metadata": {
    "application/vnd.databricks.v1+cell": {
     "cellMetadata": {
      "byteLimit": 2048000,
      "rowLimit": 10000
     },
     "inputWidgets": {},
     "nuid": "e76b8f7d-05fc-46e0-876f-53f3632a3314",
     "showTitle": false,
     "title": ""
    }
   },
   "outputs": [
    {
     "output_type": "stream",
     "name": "stdout",
     "output_type": "stream",
     "text": [
      "+---------+------------------+-------------------+----------------------+----------------------+--------------+----------------------+--------------------+-----------------+--------------------+-----------------------+---------------------+--------------------------+------------------------+------------+----------+-------------+-----------+----------------+--------------+-------------+-----------+------------------------+--------------------------+\n|  Country|Users_productsSold|User_productsWished|User_account_age_years|User_account_age_group|User_hasanyapp|User_socialnbfollowers|User_flag_long_title|Countries_Sellers|Countries_TopSellers|Countries_FemaleSellers|Countries_MaleSellers|Countries_TopFemaleSellers|Countries_TopMaleSellers|Buyers_Total|Buyers_Top|Buyers_Female|Buyers_Male|Buyers_TopFemale|Buyers_TopMale|Sellers_Total|Sellers_Sex|Sellers_MeanProductsSold|Sellers_MeanProductsListed|\n+---------+------------------+-------------------+----------------------+----------------------+--------------+----------------------+--------------------+-----------------+--------------------+-----------------------+---------------------+--------------------------+------------------------+------------+----------+-------------+-----------+----------------+--------------+-------------+-----------+------------------------+--------------------------+\n|Singapour|                 0|                  2|                 89.03|           Experienced|         false|                     4|               false|             NULL|                NULL|                   NULL|                 NULL|                      NULL|                    NULL|          16|         1|           12|          4|               0|             1|            5|     FEMALE|                    2.20|                      1.60|\n|Singapour|                 0|                  0|                 89.03|           Experienced|         false|                     3|               false|             NULL|                NULL|                   NULL|                 NULL|                      NULL|                    NULL|          16|         1|           12|          4|               0|             1|            5|     FEMALE|                    2.20|                      1.60|\n|Singapour|                 0|                  0|                 89.03|           Experienced|         false|                     3|               false|             NULL|                NULL|                   NULL|                 NULL|                      NULL|                    NULL|          16|         1|           12|          4|               0|             1|            5|     FEMALE|                    2.20|                      1.60|\n|Singapour|                 0|                  0|                 89.03|           Experienced|         false|                     3|               false|             NULL|                NULL|                   NULL|                 NULL|                      NULL|                    NULL|          16|         1|           12|          4|               0|             1|            5|     FEMALE|                    2.20|                      1.60|\n|Singapour|                 0|                  0|                 89.03|           Experienced|         false|                     3|               false|             NULL|                NULL|                   NULL|                 NULL|                      NULL|                    NULL|          16|         1|           12|          4|               0|             1|            5|     FEMALE|                    2.20|                      1.60|\n+---------+------------------+-------------------+----------------------+----------------------+--------------+----------------------+--------------------+-----------------+--------------------+-----------------------+---------------------+--------------------------+------------------------+------------+----------+-------------+-----------+----------------+--------------+-------------+-----------+------------------------+--------------------------+\nonly showing top 5 rows\n\n"
     ]
    }
   ],
   "source": [
    "comprehensive_user_table.show(5)"
   ]
  },
  {
   "cell_type": "code",
   "execution_count": 0,
   "metadata": {
    "application/vnd.databricks.v1+cell": {
     "cellMetadata": {
      "byteLimit": 2048000,
      "rowLimit": 10000
     },
     "inputWidgets": {},
     "nuid": "9e436927-5217-479d-8e37-ba60c5bd1b8e",
     "showTitle": false,
     "title": ""
    }
   },
   "outputs": [
    {
     "output_type": "stream",
     "name": "stdout",
     "output_type": "stream",
     "text": [
      "+-------+------------------+-------------------+----------------------+----------------------+--------------+----------------------+--------------------+-----------------+--------------------+-----------------------+---------------------+--------------------------+------------------------+------------+----------+-------------+-----------+----------------+--------------+-------------+-----------+------------------------+--------------------------+\n|Country|Users_productsSold|User_productsWished|User_account_age_years|User_account_age_group|User_hasanyapp|User_socialnbfollowers|User_flag_long_title|Countries_Sellers|Countries_TopSellers|Countries_FemaleSellers|Countries_MaleSellers|Countries_TopFemaleSellers|Countries_TopMaleSellers|Buyers_Total|Buyers_Top|Buyers_Female|Buyers_Male|Buyers_TopFemale|Buyers_TopMale|Sellers_Total|Sellers_Sex|Sellers_MeanProductsSold|Sellers_MeanProductsListed|\n+-------+------------------+-------------------+----------------------+----------------------+--------------+----------------------+--------------------+-----------------+--------------------+-----------------------+---------------------+--------------------------+------------------------+------------+----------+-------------+-----------+----------------+--------------+-------------+-----------+------------------------+--------------------------+\n|   NULL|              NULL|               NULL|                  NULL|                  NULL|          NULL|                  NULL|                NULL|               54|                   2|                     42|                   12|                         1|                       1|         144|        15|          118|         26|              10|             5|           15|       MALE|                    4.93|                      3.33|\n|   NULL|              NULL|               NULL|                  NULL|                  NULL|          NULL|                  NULL|                NULL|              289|                  21|                    232|                   57|                        18|                       3|         792|        38|          560|        232|              30|             8|           64|       MALE|                    5.69|                      1.61|\n|   NULL|              NULL|               NULL|                  NULL|                  NULL|          NULL|                  NULL|                NULL|              150|                   6|                    118|                   32|                         5|                       1|         912|        31|          700|        212|              21|            10|           41|       MALE|                    3.66|                      3.49|\n|   NULL|              NULL|               NULL|                  NULL|                  NULL|          NULL|                  NULL|                NULL|               54|                   2|                     42|                   12|                         1|                       1|         144|        15|          118|         26|              10|             5|           53|     FEMALE|                    2.64|                      2.02|\n|   NULL|              NULL|               NULL|                  NULL|                  NULL|          NULL|                  NULL|                NULL|              289|                  21|                    232|                   57|                        18|                       3|         792|        38|          560|        232|              30|             8|          285|     FEMALE|                    5.06|                      3.24|\n|   NULL|              NULL|               NULL|                  NULL|                  NULL|          NULL|                  NULL|                NULL|              150|                   6|                    118|                   32|                         5|                       1|         912|        31|          700|        212|              21|            10|          182|     FEMALE|                    4.49|                      4.50|\n|   NULL|              NULL|               NULL|                  NULL|                  NULL|          NULL|                  NULL|                NULL|             NULL|                NULL|                   NULL|                 NULL|                      NULL|                    NULL|           2|         1|            2|          0|               1|             0|         NULL|       NULL|                    NULL|                      NULL|\n|   NULL|              NULL|               NULL|                  NULL|                  NULL|          NULL|                  NULL|                NULL|             NULL|                NULL|                   NULL|                 NULL|                      NULL|                    NULL|           6|         0|            4|          2|               0|             0|            1|     FEMALE|                    0.00|                      1.00|\n|   NULL|              NULL|               NULL|                  NULL|                  NULL|          NULL|                  NULL|                NULL|             NULL|                NULL|                   NULL|                 NULL|                      NULL|                    NULL|           6|         0|            5|          1|               0|             0|         NULL|       NULL|                    NULL|                      NULL|\n|   NULL|              NULL|               NULL|                  NULL|                  NULL|          NULL|                  NULL|                NULL|             NULL|                NULL|                   NULL|                 NULL|                      NULL|                    NULL|        NULL|      NULL|         NULL|       NULL|            NULL|          NULL|            1|     FEMALE|                    1.00|                      0.00|\n|   NULL|              NULL|               NULL|                  NULL|                  NULL|          NULL|                  NULL|                NULL|             NULL|                NULL|                   NULL|                 NULL|                      NULL|                    NULL|        NULL|      NULL|         NULL|       NULL|            NULL|          NULL|            1|     FEMALE|                    1.00|                      1.00|\n+-------+------------------+-------------------+----------------------+----------------------+--------------+----------------------+--------------------+-----------------+--------------------+-----------------------+---------------------+--------------------------+------------------------+------------+----------+-------------+-----------+----------------+--------------+-------------+-----------+------------------------+--------------------------+\n\n"
     ]
    }
   ],
   "source": [
    "comprehensive_user_table.where(col(\"country\").isNull()).show()"
   ]
  },
  {
   "cell_type": "code",
   "execution_count": 0,
   "metadata": {
    "application/vnd.databricks.v1+cell": {
     "cellMetadata": {
      "byteLimit": 2048000,
      "rowLimit": 10000
     },
     "inputWidgets": {},
     "nuid": "445caad2-a143-4751-b4c7-d367bc5adab6",
     "showTitle": false,
     "title": ""
    }
   },
   "outputs": [],
   "source": [
    "comprehensive_user_table.write.format(\"delta\") \\\n",
    "    .option(\"overwriteSchema\", \"true\") \\\n",
    "    .mode(\"overwrite\") \\\n",
    "    .save(\"/mnt/delta/tables/gold/ecom_one_big_table\")"
   ]
  }
 ],
 "metadata": {
  "application/vnd.databricks.v1+notebook": {
   "dashboards": [],
   "environmentMetadata": null,
   "language": "python",
   "notebookMetadata": {
    "mostRecentlyExecutedCommandWithImplicitDF": {
     "commandId": 4301759298480020,
     "dataframes": [
      "_sqldf"
     ]
    },
    "pythonIndentUnit": 4
   },
   "notebookName": "Gold Layer",
   "widgets": {}
  }
 },
 "nbformat": 4,
 "nbformat_minor": 0
}
