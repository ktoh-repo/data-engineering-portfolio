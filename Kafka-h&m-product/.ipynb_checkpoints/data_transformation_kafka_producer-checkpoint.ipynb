{
 "cells": [
  {
   "cell_type": "code",
   "execution_count": null,
   "metadata": {},
   "outputs": [],
   "source": [
    "# pip install kafka-python-ng"
   ]
  },
  {
   "cell_type": "code",
   "execution_count": null,
   "metadata": {},
   "outputs": [],
   "source": [
    "import pandas as pd\n",
    "import matplotlib.pyplot as plt\n",
    "from kafka import KafkaProducer\n",
    "import json\n",
    "from json import dumps\n",
    "from time import sleep"
   ]
  },
  {
   "cell_type": "code",
   "execution_count": null,
   "metadata": {},
   "outputs": [],
   "source": [
    "pd.set_option(\"display.max_columns\", None)\n",
    "\n",
    "df = pd.read_csv('articles.csv')\n",
    "customer_df = pd.read_csv('customers.csv')\n",
    "trans_df = pd.read_csv('young_female_trans.csv')\n",
    "\n",
    "df.head(5)\n",
    "\n",
    "# print(df.shape[0])\n",
    "# print(customer_df.shape[0])\n",
    "# print(trans_df.shape[0])"
   ]
  },
  {
   "cell_type": "markdown",
   "metadata": {},
   "source": [
    "# Initial Data Analysis"
   ]
  },
  {
   "cell_type": "code",
   "execution_count": null,
   "metadata": {},
   "outputs": [],
   "source": [
    "df.info()"
   ]
  },
  {
   "cell_type": "code",
   "execution_count": null,
   "metadata": {},
   "outputs": [],
   "source": [
    "# Convert those items code/no into string instead of int\n",
    "df['product_code'] = df['product_code'].apply(str)\n",
    "df['product_type_no'] = df['product_type_no'].apply(str)\n",
    "df['graphical_appearance_no'] = df['graphical_appearance_no'].apply(str)\n",
    "df['colour_group_code'] = df['colour_group_code'].apply(str)\n",
    "df['perceived_colour_value_id'] = df['perceived_colour_value_id'].apply(str)\n",
    "df['perceived_colour_master_id'] = df['perceived_colour_master_id'].apply(str)\n",
    "df['department_no'] = df['department_no'].apply(str)\n",
    "df['index_code'] = df['index_code'].apply(str)\n",
    "df['index_group_no'] = df['index_group_no'].apply(str)\n",
    "df['section_no'] = df['section_no'].apply(str)\n",
    "df['garment_group_no'] = df['garment_group_no'].apply(str)\n",
    "\n",
    "df.head()"
   ]
  },
  {
   "cell_type": "code",
   "execution_count": null,
   "metadata": {},
   "outputs": [],
   "source": [
    "customer_df.info()"
   ]
  },
  {
   "cell_type": "code",
   "execution_count": null,
   "metadata": {},
   "outputs": [],
   "source": [
    "trans_df.info()"
   ]
  },
  {
   "cell_type": "code",
   "execution_count": null,
   "metadata": {},
   "outputs": [],
   "source": [
    "df.describe()"
   ]
  },
  {
   "cell_type": "code",
   "execution_count": null,
   "metadata": {},
   "outputs": [],
   "source": [
    "df.describe(include=\"object\").T"
   ]
  },
  {
   "cell_type": "markdown",
   "metadata": {},
   "source": [
    "Here omitted part ..\n",
    "\n",
    "<!-- `prod_code` & `prod_name`                   : There are a total 47,224 of unique product code and 45,875 of unique product name, indicates some of the product code are sharing the product name. The most frequent product is \"Dragonfly dress\", it appears 98 times within the dataset. \\\n",
    "\\\n",
    "`product_type_code` & `product_type_name`   : There are 132 unique of product type code and 131 unique of product type name. The top most product type is \"Trousers\", it appears 1,169 times. There is some minor different total counts, which might need to dig inside later. \\\n",
    "\\\n",
    "`product_group_name`                        : There are 19 unique product type and most frequent produce group is \"Garment Upper Body\", which accounts for around 40% of the product group. \\\n",
    "\\\n",
    "`graphical_appearance_no` & `graphical_appearance_name`         : Both of them having 30 unique of graphical appearance. The top graphical appearance is \"Solid\", it appears 49,747 times. \\\n",
    "\\\n",
    "`colour_group_code` & `colour_group_name`   : There are 50 unique colors in the product. The most frequent is \"black\" color which appear 22,670 times. \\\n",
    "\\\n",
    "`perceived_colour_value_id` & `perceived_colour_value_name`     : There are 8 unique perceived colors in the product. The most frequent is \"Dark\" color which appear 42,706 times. \\\n",
    "\\\n",
    "`perceived_colour_master_id` & `perceived_colour_master_name`   : There are 20 unique perceived colors in the product. The most frequent is \"Black\" color which appear 22,585 times. \\\n",
    "\\\n",
    "`department_no` & `department_name`         : There are 299 departments, the most department name is Jersey.  \\\n",
    "\\\n",
    "`index_code` & `index_name`                 : There are 10 unique index code, the top most index product is ladieswear, which appears for 26,001. \\\n",
    "\\\n",
    "`index_group_no` & `index_group_name`       : There are 5 unique index group code, the top most index product is ladieswear, which appears for 39,737. \\\n",
    "\\\n",
    "`section_no` & `section_name`               : There are 57 unique section code, but 56 in section name, the top most index product is ladieswear, which appears for 7,295. There is a minor different counts between section no and section name.  \\\n",
    "\\\n",
    "`garment_group_no` & `garment_group_name`   : There are 21 unique index code, the top most index product is ladieswear, which appears for 21,445. \\\n",
    "\\\n",
    "`detail_desc`                               : There are 43,404 of detail description, indicates some of the product code are sharing the same detail desc.\n",
    "\\ -->"
   ]
  },
  {
   "cell_type": "code",
   "execution_count": null,
   "metadata": {},
   "outputs": [],
   "source": [
    "customer_df.describe()"
   ]
  },
  {
   "cell_type": "code",
   "execution_count": null,
   "metadata": {},
   "outputs": [],
   "source": [
    "customer_df.describe(include=\"object\").T"
   ]
  },
  {
   "cell_type": "code",
   "execution_count": null,
   "metadata": {},
   "outputs": [],
   "source": [
    "trans_df.info()\n",
    "trans_df[\"t_dat\"] = pd.to_datetime(trans_df[\"t_dat\"])"
   ]
  },
  {
   "cell_type": "code",
   "execution_count": null,
   "metadata": {},
   "outputs": [],
   "source": [
    "trans_df.info()"
   ]
  },
  {
   "cell_type": "code",
   "execution_count": null,
   "metadata": {},
   "outputs": [],
   "source": [
    "trans_df.describe()"
   ]
  },
  {
   "cell_type": "code",
   "execution_count": null,
   "metadata": {},
   "outputs": [],
   "source": [
    "trans_df.describe(include=\"object\").T\n"
   ]
  },
  {
   "cell_type": "markdown",
   "metadata": {},
   "source": [
    "# Data Cleaning and Transformation"
   ]
  },
  {
   "cell_type": "markdown",
   "metadata": {},
   "source": [
    "## Handle Missing Value"
   ]
  },
  {
   "cell_type": "code",
   "execution_count": null,
   "metadata": {},
   "outputs": [],
   "source": [
    "missing_data = df.isnull().sum()\n",
    "missing_percent = ((missing_data[missing_data > 0]) / df.shape[0]) * 100\n",
    "\n",
    "missing_percent.sort_values(ascending=True, inplace=True)\n",
    "\n",
    "fig, ax= plt.subplots(figsize=(10, 1))\n",
    "ax.barh(missing_percent.index, missing_percent, color=\"#2337C6\")\n",
    "\n",
    "for i, (value, name) in enumerate(zip(missing_percent, missing_percent.index)):\n",
    "    ax.text(value, i, f\"{value:.2f}%\", ha='left', va='center')\n",
    "\n",
    "ax.set_xlim([0,10])\n",
    "plt.title(\"Percent of Missing Value: \", fontweight=\"bold\")\n",
    "plt.xlabel(\"Percent\", fontsize=10)\n",
    "plt.show()\n"
   ]
  },
  {
   "cell_type": "code",
   "execution_count": null,
   "metadata": {},
   "outputs": [],
   "source": [
    "df[df[\"detail_desc\"].isnull()].head()"
   ]
  },
  {
   "cell_type": "code",
   "execution_count": null,
   "metadata": {},
   "outputs": [],
   "source": [
    "# df = df.dropna(subset={'detail_desc'})\n",
    "df[\"detail_desc\"] = df[\"detail_desc\"].fillna(\"No Description\")"
   ]
  },
  {
   "cell_type": "code",
   "execution_count": null,
   "metadata": {},
   "outputs": [],
   "source": [
    "df.isnull().sum()"
   ]
  },
  {
   "cell_type": "code",
   "execution_count": null,
   "metadata": {},
   "outputs": [],
   "source": [
    "missing_cust_data = customer_df.isnull().sum()\n",
    "print(missing_cust_data)\n",
    "\n",
    "# customer_df[customer_df[\"club_member_status\"].isnull()].head()"
   ]
  },
  {
   "cell_type": "code",
   "execution_count": null,
   "metadata": {},
   "outputs": [],
   "source": [
    "customer_df[\"FN\"] = customer_df[\"FN\"].fillna(0)\n",
    "customer_df[\"Active\"] = customer_df[\"Active\"].fillna(0)\n",
    "customer_df[\"club_member_status\"] = customer_df[\"club_member_status\"].fillna(\"UNKNOWN\")\n",
    "customer_df[\"fashion_news_frequency\"] = customer_df[\"fashion_news_frequency\"].fillna(\"UNKNOWN\")\n",
    "customer_df[\"age\"] = customer_df[\"age\"].fillna(customer_df[\"age\"].median()) # fill with age median?"
   ]
  },
  {
   "cell_type": "code",
   "execution_count": null,
   "metadata": {},
   "outputs": [],
   "source": [
    "customer_df.isnull().sum()"
   ]
  },
  {
   "cell_type": "code",
   "execution_count": null,
   "metadata": {},
   "outputs": [],
   "source": [
    "missing_trans_data = trans_df.isnull().sum()\n",
    "print(missing_trans_data)"
   ]
  },
  {
   "cell_type": "markdown",
   "metadata": {},
   "source": [
    "## Handling Duplicates"
   ]
  },
  {
   "cell_type": "code",
   "execution_count": null,
   "metadata": {},
   "outputs": [],
   "source": [
    "dup_rows = df[df.duplicated(keep=False)]\n",
    "dup_rows_sorted = dup_rows.sort_values(by=[\"product_code\"])\n",
    "# dup_rows_sorted.head()\n",
    "print(f\"The dataset contains {df.duplicated().sum()} duplicate rows that need to be removed.\")\n",
    "\n",
    "dup_cust_rows = customer_df[customer_df.duplicated(keep=False)]\n",
    "dup_cust_rows_sorted = dup_cust_rows.sort_values(by=['customer_id'])\n",
    "print(f\"The customers dataset contains {customer_df.duplicated().sum()} duplicate rows that need to be removed\")\n",
    "\n",
    "dup_tran_rows = trans_df[trans_df.duplicated(keep=False)]\n",
    "dup_tran_rows_sorted = dup_tran_rows.sort_values(by=[\"t_dat\",\"customer_id\"])\n",
    "print(f\"The transactions dataset contains {trans_df.duplicated().sum()}\")"
   ]
  },
  {
   "cell_type": "code",
   "execution_count": null,
   "metadata": {},
   "outputs": [],
   "source": [
    "df.shape[0]"
   ]
  },
  {
   "cell_type": "markdown",
   "metadata": {},
   "source": [
    "# Correcting product name"
   ]
  },
  {
   "cell_type": "code",
   "execution_count": null,
   "metadata": {},
   "outputs": [],
   "source": [
    "unique_prod_name = df[\"prod_name\"].unique() # unique the column\n",
    "print(len(unique_prod_name)) # count have how many unique record\n",
    "\n",
    "nlist = []\n",
    "for word in unique_prod_name:\n",
    "    if \"(\" in word and \")\" in word:\n",
    "        start_index = word.find(\"(\")+1\n",
    "        end_index = word.find(\")\")\n",
    "        content = word[start_index:end_index]\n",
    "        if(content.isdigit()):\n",
    "            nlist.append(word)\n",
    "\n",
    "print(nlist)"
   ]
  },
  {
   "cell_type": "code",
   "execution_count": null,
   "metadata": {},
   "outputs": [],
   "source": [
    "def remove_parentheses(text):\n",
    "    words = text.split()\n",
    "    return \" \".join(word for word in words if \"(\" not in word and \")\" not in word)"
   ]
  },
  {
   "cell_type": "code",
   "execution_count": null,
   "metadata": {},
   "outputs": [],
   "source": [
    "df[\"prod_name\"] = df[\"prod_name\"].apply(remove_parentheses) # apply custom function\n",
    "\n",
    "df.head()"
   ]
  },
  {
   "cell_type": "code",
   "execution_count": null,
   "metadata": {},
   "outputs": [],
   "source": [
    "trans_df.head()"
   ]
  },
  {
   "cell_type": "code",
   "execution_count": null,
   "metadata": {},
   "outputs": [],
   "source": [
    "customer_df.head()"
   ]
  },
  {
   "cell_type": "code",
   "execution_count": null,
   "metadata": {},
   "outputs": [],
   "source": [
    "df.head()"
   ]
  },
  {
   "cell_type": "markdown",
   "metadata": {},
   "source": [
    "## Prepare dataframe"
   ]
  },
  {
   "cell_type": "code",
   "execution_count": null,
   "metadata": {},
   "outputs": [],
   "source": [
    "trans_df.rename(columns={\"t_dat\": \"trans_date\"}, inplace=True)\n",
    "trans_df.head()"
   ]
  },
  {
   "cell_type": "code",
   "execution_count": null,
   "metadata": {},
   "outputs": [],
   "source": [
    "def create_date_table(start=\"2016-01-01\", end=\"2026-12-31\"):\n",
    "    date_df = pd.DataFrame({\"Date\": pd.date_range(start, end)})\n",
    "    date_df[\"day\"] = date_df.Date.dt.day\n",
    "    date_df[\"day_of_week\"] = date_df.Date.dt.weekday\n",
    "    date_df[\"week\"] = date_df.Date.dt.strftime(\"%W\") # %U is sunday as first day of the week, whereas %W is monday as first day of the week\n",
    "    date_df[\"month\"] = date_df.Date.dt.month\n",
    "    date_df[\"month_name\"] = date_df.Date.dt.strftime(\"%B\")\n",
    "    date_df[\"quarter\"] = date_df.Date.dt.quarter\n",
    "    date_df[\"year\"] = date_df.Date.dt.year\n",
    "\n",
    "    return date_df\n"
   ]
  },
  {
   "cell_type": "code",
   "execution_count": null,
   "metadata": {},
   "outputs": [],
   "source": [
    "date_dim = create_date_table()"
   ]
  },
  {
   "cell_type": "code",
   "execution_count": null,
   "metadata": {},
   "outputs": [],
   "source": [
    "date_dim.head()"
   ]
  },
  {
   "cell_type": "code",
   "execution_count": null,
   "metadata": {},
   "outputs": [],
   "source": [
    "customer_dim = customer_df.filter(['customer_id', 'active', 'club_member_status', 'fashion_news_frequency', 'age'])\n",
    "customer_dim.head()"
   ]
  },
  {
   "cell_type": "code",
   "execution_count": null,
   "metadata": {},
   "outputs": [],
   "source": [
    "df.rename(columns={'prod_name': 'product_name'}, inplace=True)"
   ]
  },
  {
   "cell_type": "code",
   "execution_count": null,
   "metadata": {},
   "outputs": [],
   "source": [
    "df.head()"
   ]
  },
  {
   "cell_type": "code",
   "execution_count": null,
   "metadata": {},
   "outputs": [],
   "source": [
    "product_dim = df.filter(['article_id', 'product_code', 'product_name', 'product_type_no', 'product_type_name', 'product_group_name', 'graphical_appearance_name', 'colour_group_name', 'perceived_colour_value_name', 'perceived_colour_master_name', 'department_no', 'department_name', 'index_name', 'index_group_name', 'section_no', 'section_name', 'garment_group_name', 'detail_desc'])"
   ]
  },
  {
   "cell_type": "code",
   "execution_count": null,
   "metadata": {},
   "outputs": [],
   "source": [
    "product_dim.head()"
   ]
  },
  {
   "cell_type": "markdown",
   "metadata": {},
   "source": [
    "# Kafka Producer"
   ]
  },
  {
   "cell_type": "code",
   "execution_count": null,
   "metadata": {},
   "outputs": [],
   "source": [
    "def send_json_data_kafka(topic, jdata):\n",
    "    # create kafka producer\n",
    "    producer = KafkaProducer(bootstrap_servers=['34.133.203.182:9092'], value_serializer=lambda x: dumps(x).encode('utf-8'))\n",
    "    \n",
    "    # create topic\n",
    "    producer.send(topic, jdata)\n"
   ]
  },
  {
   "cell_type": "code",
   "execution_count": null,
   "metadata": {},
   "outputs": [],
   "source": [
    "trans_df.info()"
   ]
  },
  {
   "cell_type": "code",
   "execution_count": null,
   "metadata": {},
   "outputs": [],
   "source": [
    "producer = KafkaProducer(bootstrap_servers=['34.133.203.182:9092'], value_serializer=lambda x: json.dumps(x).encode('utf-8'))\n",
    "# producer.flush()\n",
    "trans_df[\"trans_date\"] = trans_df[\"trans_date\"].dt.strftime(\"%Y-%m-%d\")\n",
    "i =0 \n",
    "for _, row in trans_df.iterrows():\n",
    "    json_row = row.to_dict()\n",
    "    \n",
    "    send_json_data_kafka(\"trans_fact\", json_row)\n",
    "    \n",
    "    i += 1\n",
    "    if i == 100 : \n",
    "        sleep(10)\n",
    "        break"
   ]
  },
  {
   "cell_type": "code",
   "execution_count": null,
   "metadata": {},
   "outputs": [],
   "source": [
    "date_dim.head()"
   ]
  },
  {
   "cell_type": "code",
   "execution_count": null,
   "metadata": {},
   "outputs": [],
   "source": [
    "def convert_timestamps(row):\n",
    "    return {col: (val.strftime('%Y-%m-%d') if isinstance(val, pd.Timestamp) else val) for col, val in row.items()}\n",
    "\n",
    "for _, row in date_dim.iterrows():\n",
    "    # json_row = row.to_dict()\n",
    "    message = convert_timestamps(row)\n",
    "    send_json_data_kafka(\"date_dim\", message)"
   ]
  },
  {
   "cell_type": "code",
   "execution_count": null,
   "metadata": {},
   "outputs": [],
   "source": [
    "i = 0\n",
    "for _, row in customer_dim.iterrows():\n",
    "    json_row = row.to_dict()\n",
    "    send_json_data_kafka(\"customer_dim\", json_row)\n",
    "    \n",
    "    i += 1\n",
    "    if i == 300 : \n",
    "        break\n"
   ]
  },
  {
   "cell_type": "code",
   "execution_count": null,
   "metadata": {},
   "outputs": [],
   "source": [
    "for _, row in product_dim.iterrows():\n",
    "    json_row = row.to_dict()\n",
    "    send_json_data_kafka(\"product_dim\", json_row)"
   ]
  }
 ],
 "metadata": {
  "kernelspec": {
   "display_name": "Python 3",
   "language": "python",
   "name": "python3"
  },
  "language_info": {
   "codemirror_mode": {
    "name": "ipython",
    "version": 3
   },
   "file_extension": ".py",
   "mimetype": "text/x-python",
   "name": "python",
   "nbconvert_exporter": "python",
   "pygments_lexer": "ipython3",
   "version": "3.12.4"
  }
 },
 "nbformat": 4,
 "nbformat_minor": 2
}
