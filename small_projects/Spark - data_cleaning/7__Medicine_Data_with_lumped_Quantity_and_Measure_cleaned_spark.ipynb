{
 "cells": [
  {
   "cell_type": "code",
   "execution_count": 0,
   "metadata": {
    "application/vnd.databricks.v1+cell": {
     "cellMetadata": {
      "byteLimit": 2048000,
      "rowLimit": 10000
     },
     "inputWidgets": {},
     "nuid": "426f3df4-7a6a-493b-a439-18e0b6eb0ceb",
     "showTitle": false,
     "title": ""
    }
   },
   "outputs": [],
   "source": [
    "from pyspark.sql import SparkSession\n",
    "\n",
    "spark = SparkSession.builder \\\n",
    "    .config(\"spark.jars.packages\", \"com.crealytics:spark-excel_2.12-0.13.5\") \\\n",
    "    .getOrCreate()"
   ]
  },
  {
   "cell_type": "code",
   "execution_count": 0,
   "metadata": {
    "application/vnd.databricks.v1+cell": {
     "cellMetadata": {
      "byteLimit": 2048000,
      "rowLimit": 10000
     },
     "inputWidgets": {},
     "nuid": "ef7356c0-1150-49f9-8bf4-7f6a2aab818a",
     "showTitle": false,
     "title": ""
    }
   },
   "outputs": [
    {
     "output_type": "display_data",
     "data": {
      "text/html": [
       "<style scoped>\n",
       "  .table-result-container {\n",
       "    max-height: 300px;\n",
       "    overflow: auto;\n",
       "  }\n",
       "  table, th, td {\n",
       "    border: 1px solid black;\n",
       "    border-collapse: collapse;\n",
       "  }\n",
       "  th, td {\n",
       "    padding: 5px;\n",
       "  }\n",
       "  th {\n",
       "    text-align: left;\n",
       "  }\n",
       "</style><div class='table-result-container'><table class='table-result'><thead style='background-color: white'><tr><th>Description</th><th>Quantity</th></tr></thead><tbody><tr><td>lotion Benzylbenzoate lotion</td><td>0Bottle</td></tr><tr><td>Methylated spirit 100ml</td><td>0Bottle</td></tr><tr><td>susp Magnessium Trisilicate 200ml</td><td>0Bottle</td></tr><tr><td>Susp. Amoxicillin 125mg/5ml</td><td>0Bottle</td></tr><tr><td>Susp. Erythromycin 125mg/5ml</td><td>0Bottle</td></tr><tr><td>Syp Ascorbic acid</td><td>0Bottle</td></tr><tr><td>Syp Multivite</td><td>0Bottle</td></tr><tr><td>Syr Albendazole 100mg/5ml</td><td>0Bottle</td></tr><tr><td>syr Cough Syrup (A) 100ml</td><td>0Bottle</td></tr><tr><td>syr Cough Syrup (P) 100ml</td><td>0Bottle</td></tr><tr><td>syr Ferric amonium citrate 400mg/5ml</td><td>0Bottle</td></tr><tr><td>syr Vitamin B complex</td><td>0Bottle</td></tr><tr><td>Syrup Paracetamol 125mg/5ml</td><td>0Bottle</td></tr><tr><td>lotion Benzylbenzoate lotion</td><td>0Bottle</td></tr><tr><td>Methylated spirit 100ml</td><td>0Bottle</td></tr><tr><td>susp Magnessium Trisilicate 200ml</td><td>0Bottle</td></tr><tr><td>susp Metronidazole 100mg/5ml</td><td>0Bottle</td></tr><tr><td>Susp. Amoxicillin 125mg/5ml</td><td>0Bottle</td></tr><tr><td>susp. Ampiclox 125mg/5ml</td><td>0Bottle</td></tr><tr><td>Susp. Co-trimoxazole 240mg/5ml</td><td>0Bottle</td></tr><tr><td>Susp. Erythromycin 125mg/5ml</td><td>0Bottle</td></tr><tr><td>Syp Ascorbic acid</td><td>0Bottle</td></tr><tr><td>Syp Multivite</td><td>0Bottle</td></tr><tr><td>Syr Albendazole 100mg/5ml</td><td>0Bottle</td></tr><tr><td>syr Cough Syrup (A) 100ml</td><td>0Bottle</td></tr><tr><td>syr Cough Syrup (P) 100ml</td><td>0Bottle</td></tr><tr><td>syr Ferric amonium citrate 400mg/5ml</td><td>0Bottle</td></tr><tr><td>syr Vitamin B complex</td><td>0Bottle</td></tr><tr><td>Syrup Paracetamol 125mg/5ml</td><td>0Bottle</td></tr><tr><td>lotion Benzylbenzoate lotion</td><td>0Bottle</td></tr><tr><td>Methylated spirit 100ml</td><td>0Bottle</td></tr><tr><td>susp Magnessium Trisilicate 200ml</td><td>0Bottle</td></tr><tr><td>Susp. Amoxicillin 125mg/5ml</td><td>0Bottle</td></tr><tr><td>Susp. Erythromycin 125mg/5ml</td><td>0Bottle</td></tr><tr><td>Syp Ascorbic acid</td><td>0Bottle</td></tr><tr><td>syr Ferric amonium citrate 400mg/5ml</td><td>0Bottle</td></tr><tr><td>lotion Benzylbenzoate lotion</td><td>0Bottle</td></tr><tr><td>Methylated spirit 100ml</td><td>0Bottle</td></tr><tr><td>susp Magnessium Trisilicate 200ml</td><td>0Bottle</td></tr><tr><td>Susp. Amoxicillin 125mg/5ml</td><td>0Bottle</td></tr><tr><td>susp. Ampiclox 125mg/5ml</td><td>0Bottle</td></tr><tr><td>Susp. Erythromycin 125mg/5ml</td><td>0Bottle</td></tr><tr><td>syr Ferric amonium citrate 400mg/5ml</td><td>0Bottle</td></tr><tr><td>lotion Benzylbenzoate lotion</td><td>0Bottle</td></tr><tr><td>Methylated spirit 100ml</td><td>0Bottle</td></tr><tr><td>susp Magnessium Trisilicate 200ml</td><td>0Bottle</td></tr><tr><td>Susp. Amoxicillin 125mg/5ml</td><td>0Bottle</td></tr><tr><td>Susp. Erythromycin 125mg/5ml</td><td>0Bottle</td></tr><tr><td>lotion Benzylbenzoate lotion</td><td>0Bottle</td></tr><tr><td>Methylated spirit 100ml</td><td>0Bottle</td></tr><tr><td>susp Magnessium Trisilicate 200ml</td><td>0Bottle</td></tr><tr><td>Susp. Amoxicillin 125mg/5ml</td><td>0Bottle</td></tr><tr><td>Susp. Erythromycin 125mg/5ml</td><td>0Bottle</td></tr><tr><td>Syp Ascorbic acid</td><td>0Bottle</td></tr><tr><td>syr Cough Syrup (A) 100ml</td><td>0Bottle</td></tr><tr><td>syr Cough Syrup (P) 100ml</td><td>0Bottle</td></tr><tr><td>lotion Benzylbenzoate lotion</td><td>0Bottle</td></tr><tr><td>Methylated spirit 100ml</td><td>0Bottle</td></tr><tr><td>susp Magnessium Trisilicate 200ml</td><td>0Bottle</td></tr><tr><td>Susp. Amoxicillin 125mg/5ml</td><td>0Bottle</td></tr><tr><td>Susp. Erythromycin 125mg/5ml</td><td>0Bottle</td></tr><tr><td>Syp Ascorbic acid</td><td>0Bottle</td></tr><tr><td>Syr Albendazole 100mg/5ml</td><td>0Bottle</td></tr><tr><td>syr Ferric amonium citrate 400mg/5ml</td><td>0Bottle</td></tr><tr><td>syr Vitamin B complex</td><td>0Bottle</td></tr><tr><td>Syrup Paracetamol 125mg/5ml</td><td>0Bottle</td></tr><tr><td>lotion Benzylbenzoate lotion</td><td>0Bottle</td></tr><tr><td>Methylated spirit 100ml</td><td>0Bottle</td></tr><tr><td>susp Magnessium Trisilicate 200ml</td><td>0Bottle</td></tr><tr><td>Susp. Amoxicillin 125mg/5ml</td><td>0Bottle</td></tr><tr><td>susp. Ampiclox 125mg/5ml</td><td>0Bottle</td></tr><tr><td>Susp. Erythromycin 125mg/5ml</td><td>0Bottle</td></tr><tr><td>Syr Albendazole 100mg/5ml</td><td>0Bottle</td></tr><tr><td>syr Ferric amonium citrate 400mg/5ml</td><td>0Bottle</td></tr><tr><td>lotion Benzylbenzoate lotion</td><td>0Bottle</td></tr><tr><td>Susp. Amoxicillin 125mg/5ml</td><td>0Bottle</td></tr><tr><td>susp. Ampiclox 125mg/5ml</td><td>0Bottle</td></tr><tr><td>syr Ferric amonium citrate 400mg/5ml</td><td>0Bottle</td></tr><tr><td>lotion Benzylbenzoate lotion</td><td>0Bottle</td></tr><tr><td>Methylated spirit 100ml</td><td>0Bottle</td></tr><tr><td>Susp. Amoxicillin 125mg/5ml</td><td>0Bottle</td></tr><tr><td>susp. Ampiclox 125mg/5ml</td><td>0Bottle</td></tr><tr><td>Susp. Co-trimoxazole 240mg/5ml</td><td>0Bottle</td></tr><tr><td>Susp. Erythromycin 125mg/5ml</td><td>0Bottle</td></tr><tr><td>Syp Multivite</td><td>0Bottle</td></tr><tr><td>Syr Albendazole 100mg/5ml</td><td>0Bottle</td></tr><tr><td>syr Cough Syrup (A) 100ml</td><td>0Bottle</td></tr><tr><td>syr Cough Syrup (P) 100ml</td><td>0Bottle</td></tr><tr><td>syr Ferric amonium citrate 400mg/5ml</td><td>0Bottle</td></tr><tr><td>syr Vitamin B complex</td><td>0Bottle</td></tr><tr><td>lotion Benzylbenzoate lotion</td><td>0Bottle</td></tr><tr><td>Methylated spirit 100ml</td><td>0Bottle</td></tr><tr><td>susp Magnessium Trisilicate 200ml</td><td>0Bottle</td></tr><tr><td>susp Metronidazole 100mg/5ml</td><td>0Bottle</td></tr><tr><td>Susp. Amoxicillin 125mg/5ml</td><td>0Bottle</td></tr><tr><td>susp. Ampiclox 125mg/5ml</td><td>0Bottle</td></tr><tr><td>Susp. Co-trimoxazole 240mg/5ml</td><td>0Bottle</td></tr><tr><td>Susp. Erythromycin 125mg/5ml</td><td>0Bottle</td></tr><tr><td>Syp Ascorbic acid</td><td>0Bottle</td></tr><tr><td>Syp Multivite</td><td>0Bottle</td></tr><tr><td>Syr Albendazole 100mg/5ml</td><td>0Bottle</td></tr><tr><td>syr Cough Syrup (A) 100ml</td><td>0Bottle</td></tr><tr><td>syr Cough Syrup (P) 100ml</td><td>0Bottle</td></tr><tr><td>syr Ferric amonium citrate 400mg/5ml</td><td>0Bottle</td></tr><tr><td>syr Vitamin B complex</td><td>0Bottle</td></tr><tr><td>Syrup Paracetamol 125mg/5ml</td><td>0Bottle</td></tr><tr><td>lotion Benzylbenzoate lotion</td><td>0Bottle</td></tr><tr><td>Methylated spirit 100ml</td><td>0Bottle</td></tr><tr><td>susp Metronidazole 100mg/5ml</td><td>0Bottle</td></tr><tr><td>Susp. Amoxicillin 125mg/5ml</td><td>0Bottle</td></tr><tr><td>susp. Ampiclox 125mg/5ml</td><td>0Bottle</td></tr><tr><td>Syr Albendazole 100mg/5ml</td><td>0Bottle</td></tr><tr><td>syr Ferric amonium citrate 400mg/5ml</td><td>0Bottle</td></tr><tr><td>lotion Benzylbenzoate lotion</td><td>0Bottle</td></tr><tr><td>Methylated spirit 100ml</td><td>0Bottle</td></tr><tr><td>Susp. Amoxicillin 125mg/5ml</td><td>0Bottle</td></tr><tr><td>susp. Ampiclox 125mg/5ml</td><td>0Bottle</td></tr><tr><td>Susp. Erythromycin 125mg/5ml</td><td>0Bottle</td></tr><tr><td>Syp Ascorbic acid</td><td>0Bottle</td></tr><tr><td>Syp Multivite</td><td>0Bottle</td></tr><tr><td>Syr Albendazole 100mg/5ml</td><td>0Bottle</td></tr><tr><td>lotion Benzylbenzoate lotion</td><td>0Bottle</td></tr><tr><td>Methylated spirit 100ml</td><td>0Bottle</td></tr><tr><td>susp Magnessium Trisilicate 200ml</td><td>0Bottle</td></tr><tr><td>susp Metronidazole 100mg/5ml</td><td>0Bottle</td></tr><tr><td>Susp. Amoxicillin 125mg/5ml</td><td>0Bottle</td></tr><tr><td>susp. Ampiclox 125mg/5ml</td><td>0Bottle</td></tr><tr><td>Susp. Erythromycin 125mg/5ml</td><td>0Bottle</td></tr><tr><td>Syp Ascorbic acid</td><td>0Bottle</td></tr><tr><td>Syr Albendazole 100mg/5ml</td><td>0Bottle</td></tr><tr><td>syr Ferric amonium citrate 400mg/5ml</td><td>0Bottle</td></tr><tr><td>Methylated spirit 100ml</td><td>0Bottle</td></tr><tr><td>Susp. Amoxicillin 125mg/5ml</td><td>0Bottle</td></tr><tr><td>susp. Ampiclox 125mg/5ml</td><td>0Bottle</td></tr><tr><td>Susp. Erythromycin 125mg/5ml</td><td>0Bottle</td></tr><tr><td>Syp Ascorbic acid</td><td>0Bottle</td></tr><tr><td>syr Ferric amonium citrate 400mg/5ml</td><td>0Bottle</td></tr><tr><td>lotion Benzylbenzoate lotion</td><td>0Bottle</td></tr><tr><td>Methylated spirit 100ml</td><td>0Bottle</td></tr><tr><td>susp Magnessium Trisilicate 200ml</td><td>0Bottle</td></tr><tr><td>susp Metronidazole 100mg/5ml</td><td>0Bottle</td></tr><tr><td>susp. Ampiclox 125mg/5ml</td><td>0Bottle</td></tr><tr><td>Susp. Co-trimoxazole 240mg/5ml</td><td>0Bottle</td></tr><tr><td>Susp. Erythromycin 125mg/5ml</td><td>0Bottle</td></tr><tr><td>Syp Multivite</td><td>0Bottle</td></tr><tr><td>Syr Albendazole 100mg/5ml</td><td>0Bottle</td></tr><tr><td>syr Cough Syrup (A) 100ml</td><td>0Bottle</td></tr><tr><td>syr Cough Syrup (P) 100ml</td><td>0Bottle</td></tr><tr><td>syr Ferric amonium citrate 400mg/5ml</td><td>0Bottle</td></tr><tr><td>syr Vitamin B complex</td><td>0Bottle</td></tr><tr><td>lotion Benzylbenzoate lotion</td><td>0Bottle</td></tr><tr><td>Methylated spirit 100ml</td><td>0Bottle</td></tr><tr><td>susp Magnessium Trisilicate 200ml</td><td>0Bottle</td></tr><tr><td>susp Metronidazole 100mg/5ml</td><td>0Bottle</td></tr><tr><td>Susp. Amoxicillin 125mg/5ml</td><td>0Bottle</td></tr><tr><td>susp. Ampiclox 125mg/5ml</td><td>0Bottle</td></tr><tr><td>Susp. Co-trimoxazole 240mg/5ml</td><td>0Bottle</td></tr><tr><td>Susp. Erythromycin 125mg/5ml</td><td>0Bottle</td></tr><tr><td>Syp Ascorbic acid</td><td>0Bottle</td></tr><tr><td>Syp Multivite</td><td>0Bottle</td></tr><tr><td>Syr Albendazole 100mg/5ml</td><td>0Bottle</td></tr><tr><td>syr Cough Syrup (A) 100ml</td><td>0Bottle</td></tr><tr><td>syr Ferric amonium citrate 400mg/5ml</td><td>0Bottle</td></tr><tr><td>syr Vitamin B complex</td><td>0Bottle</td></tr><tr><td>Syrup Paracetamol 125mg/5ml</td><td>0Bottle</td></tr><tr><td>Syr Buscopan</td><td>0Bottle</td></tr><tr><td>lotion Benzylbenzoate lotion</td><td>0Bottle</td></tr><tr><td>susp Metronidazole 100mg/5ml</td><td>0Bottle</td></tr><tr><td>susp. Ampiclox 125mg/5ml</td><td>0Bottle</td></tr><tr><td>Susp. Co-trimoxazole 240mg/5ml</td><td>0Bottle</td></tr><tr><td>Syp Multivite</td><td>0Bottle</td></tr><tr><td>Syr Albendazole 100mg/5ml</td><td>0Bottle</td></tr><tr><td>syr Cough Syrup (A) 100ml</td><td>0Bottle</td></tr><tr><td>syr Ferric amonium citrate 400mg/5ml</td><td>0Bottle</td></tr><tr><td>syr Vitamin B complex</td><td>0Bottle</td></tr><tr><td>lotion Benzylbenzoate lotion</td><td>0Bottle</td></tr><tr><td>Methylated spirit 100ml</td><td>0Bottle</td></tr><tr><td>susp Metronidazole 100mg/5ml</td><td>0Bottle</td></tr><tr><td>Susp. Amoxicillin 125mg/5ml</td><td>0Bottle</td></tr><tr><td>susp. Ampiclox 125mg/5ml</td><td>0Bottle</td></tr><tr><td>Susp. Erythromycin 125mg/5ml</td><td>0Bottle</td></tr><tr><td>Syp Multivite</td><td>0Bottle</td></tr><tr><td>Syr Albendazole 100mg/5ml</td><td>0Bottle</td></tr><tr><td>syr Ferric amonium citrate 400mg/5ml</td><td>0Bottle</td></tr><tr><td>syr Vitamin B complex</td><td>0Bottle</td></tr><tr><td>lotion Benzylbenzoate lotion</td><td>0Bottle</td></tr><tr><td>Methylated spirit 100ml</td><td>0Bottle</td></tr><tr><td>susp Metronidazole 100mg/5ml</td><td>0Bottle</td></tr><tr><td>Susp. Co-trimoxazole 240mg/5ml</td><td>0Bottle</td></tr><tr><td>Susp. Erythromycin 125mg/5ml</td><td>0Bottle</td></tr><tr><td>Syp Ascorbic acid</td><td>0Bottle</td></tr><tr><td>Syp Multivite</td><td>0Bottle</td></tr><tr><td>syr Cough Syrup (A) 100ml</td><td>0Bottle</td></tr><tr><td>syr Ferric amonium citrate 400mg/5ml</td><td>0Bottle</td></tr><tr><td>lotion Benzylbenzoate lotion</td><td>0Bottle</td></tr><tr><td>Methylated spirit 100ml</td><td>0Bottle</td></tr><tr><td>susp Magnessium Trisilicate 200ml</td><td>0Bottle</td></tr><tr><td>susp Metronidazole 100mg/5ml</td><td>0Bottle</td></tr><tr><td>Susp. Amoxicillin 125mg/5ml</td><td>0Bottle</td></tr><tr><td>susp. Ampiclox 125mg/5ml</td><td>0Bottle</td></tr><tr><td>Susp. Co-trimoxazole 240mg/5ml</td><td>0Bottle</td></tr><tr><td>Susp. Erythromycin 125mg/5ml</td><td>0Bottle</td></tr><tr><td>Syp Ascorbic acid / Tabs B Complex</td><td>0Bottle</td></tr><tr><td>Syp Multivite / Tab Multivite</td><td>0Bottle</td></tr><tr><td>Syr Albendazole 100mg/5ml</td><td>0Bottle</td></tr><tr><td>syr Cough Syrup (A) 100ml</td><td>0Bottle</td></tr><tr><td>syr Cough Syrup (P) 100ml</td><td>0Bottle</td></tr><tr><td>syr Ferric amonium citrate 400mg/5ml</td><td>0Bottle</td></tr><tr><td>syr Vitamin B complex</td><td>0Bottle</td></tr><tr><td>Syrup Paracetamol 125mg/5ml</td><td>0Bottle</td></tr><tr><td>lotion Benzylbenzoate lotion</td><td>0Bottle</td></tr><tr><td>Methylated spirit 100ml</td><td>0Bottle</td></tr><tr><td>susp Magnessium Trisilicate 200ml</td><td>0Bottle</td></tr><tr><td>Susp. Amoxicillin 125mg/5ml</td><td>0Bottle</td></tr><tr><td>Susp. Erythromycin 125mg/5ml</td><td>0Bottle</td></tr><tr><td>Syp Ascorbic acid</td><td>0Bottle</td></tr><tr><td>syr Ferric amonium citrate 400mg/5ml</td><td>0Bottle</td></tr><tr><td>Syrup Paracetamol 125mg/5ml</td><td>0Bottle</td></tr><tr><td>lotion Benzylbenzoate lotion</td><td>0Bottle</td></tr><tr><td>Methylated spirit 100ml</td><td>0Bottle</td></tr><tr><td>susp Magnessium Trisilicate 200ml</td><td>0Bottle</td></tr><tr><td>Susp. Amoxicillin 125mg/5ml</td><td>0Bottle</td></tr><tr><td>susp. Ampiclox 125mg/5ml</td><td>0Bottle</td></tr><tr><td>Susp. Co-trimoxazole 240mg/5ml</td><td>0Bottle</td></tr><tr><td>Susp. Erythromycin 125mg/5ml</td><td>0Bottle</td></tr><tr><td>Syp Ascorbic acid</td><td>0Bottle</td></tr><tr><td>Syp Multivite</td><td>0Bottle</td></tr><tr><td>Syr Albendazole 100mg/5ml</td><td>0Bottle</td></tr><tr><td>syr Cough Syrup (P) 100ml</td><td>0Bottle</td></tr><tr><td>syr Ferric amonium citrate 400mg/5ml</td><td>0Bottle</td></tr><tr><td>syr Vitamin B complex</td><td>0Bottle</td></tr><tr><td>Syrup Paracetamol 125mg/5ml</td><td>0Bottle</td></tr><tr><td>lotion Benzylbenzoate lotion</td><td>0Bottle</td></tr><tr><td>Methylated spirit 100ml</td><td>0Bottle</td></tr><tr><td>susp Magnessium Trisilicate 200ml</td><td>0Bottle</td></tr><tr><td>susp Metronidazole 100mg/5ml</td><td>0Bottle</td></tr><tr><td>Susp. Amoxicillin 125mg/5ml</td><td>0Bottle</td></tr><tr><td>susp. Ampiclox 125mg/5ml</td><td>0Bottle</td></tr><tr><td>Susp. Co-trimoxazole 240mg/5ml</td><td>0Bottle</td></tr><tr><td>Susp. Erythromycin 125mg/5ml</td><td>0Bottle</td></tr><tr><td>Syp Ascorbic acid</td><td>0Bottle</td></tr><tr><td>Syp Multivite</td><td>0Bottle</td></tr><tr><td>Syr Albendazole 100mg/5ml</td><td>0Bottle</td></tr><tr><td>syr Ferric amonium citrate 400mg/5ml</td><td>0Bottle</td></tr><tr><td>syr Vitamin B complex</td><td>0Bottle</td></tr><tr><td>Syrup Paracetamol 125mg/5ml</td><td>0Bottle</td></tr><tr><td>lotion Benzylbenzoate lotion</td><td>0Bottle</td></tr><tr><td>Methylated spirit 100ml</td><td>0Bottle</td></tr><tr><td>susp Magnessium Trisilicate 200ml</td><td>0Bottle</td></tr><tr><td>susp Metronidazole 100mg/5ml</td><td>0Bottle</td></tr><tr><td>Susp. Amoxicillin 125mg/5ml</td><td>0Bottle</td></tr><tr><td>susp. Ampiclox 125mg/5ml</td><td>0Bottle</td></tr><tr><td>Susp. Co-trimoxazole 240mg/5ml</td><td>0Bottle</td></tr><tr><td>Susp. Erythromycin 125mg/5ml</td><td>0Bottle</td></tr><tr><td>Syp Ascorbic acid</td><td>0Bottle</td></tr><tr><td>Syp Multivite</td><td>0Bottle</td></tr><tr><td>Syr Albendazole 100mg/5ml</td><td>0Bottle</td></tr><tr><td>syr Cough Syrup (A) 100ml</td><td>0Bottle</td></tr><tr><td>syr Ferric amonium citrate 400mg/5ml</td><td>0Bottle</td></tr><tr><td>syr Vitamin B complex</td><td>0Bottle</td></tr><tr><td>Syrup Paracetamol 125mg/5ml</td><td>0Bottle</td></tr><tr><td>lotion Benzylbenzoate lotion</td><td>0Bottle</td></tr><tr><td>Methylated spirit 100ml</td><td>0Bottle</td></tr><tr><td>susp Magnessium Trisilicate 200ml</td><td>0Bottle</td></tr><tr><td>Susp. Amoxicillin 125mg/5ml</td><td>0Bottle</td></tr><tr><td>susp. Ampiclox 125mg/5ml</td><td>0Bottle</td></tr><tr><td>Susp. Co-trimoxazole 240mg/5ml</td><td>0Bottle</td></tr><tr><td>Susp. Erythromycin 125mg/5ml</td><td>0Bottle</td></tr><tr><td>Syp Ascorbic acid</td><td>0Bottle</td></tr><tr><td>Syp Multivite</td><td>0Bottle</td></tr><tr><td>Syr Albendazole 100mg/5ml</td><td>0Bottle</td></tr><tr><td>syr Cough Syrup (A) 100ml</td><td>0Bottle</td></tr><tr><td>syr Ferric amonium citrate 400mg/5ml</td><td>0Bottle</td></tr><tr><td>syr Vitamin B complex</td><td>0Bottle</td></tr><tr><td>Syrup Paracetamol 125mg/5ml</td><td>0Bottle</td></tr><tr><td>lotion Benzylbenzoate lotion</td><td>0Bottle</td></tr><tr><td>Methylated spirit 100ml</td><td>0Bottle</td></tr><tr><td>susp Magnessium Trisilicate 200ml</td><td>0Bottle</td></tr><tr><td>Susp. Amoxicillin 125mg/5ml</td><td>0Bottle</td></tr><tr><td>susp. Ampiclox 125mg/5ml</td><td>0Bottle</td></tr><tr><td>Susp. Co-trimoxazole 240mg/5ml</td><td>0Bottle</td></tr><tr><td>Susp. Erythromycin 125mg/5ml</td><td>0Bottle</td></tr><tr><td>Syp Ascorbic acid</td><td>0Bottle</td></tr><tr><td>Syp Multivite</td><td>0Bottle</td></tr><tr><td>Syr Albendazole 100mg/5ml</td><td>0Bottle</td></tr><tr><td>syr Cough Syrup (A) 100ml</td><td>0Bottle</td></tr><tr><td>syr Ferric amonium citrate 400mg/5ml</td><td>0Bottle</td></tr><tr><td>lotion Benzylbenzoate lotion</td><td>0Bottle</td></tr><tr><td>Methylated spirit 100ml</td><td>0Bottle</td></tr><tr><td>susp Magnessium Trisilicate 200ml</td><td>0Bottle</td></tr><tr><td>susp Metronidazole 100mg/5ml</td><td>0Bottle</td></tr><tr><td>Susp. Amoxicillin 125mg/5ml</td><td>0Bottle</td></tr><tr><td>susp. Ampiclox 125mg/5ml</td><td>0Bottle</td></tr><tr><td>Susp. Co-trimoxazole 240mg/5ml</td><td>0Bottle</td></tr><tr><td>Susp. Erythromycin 125mg/5ml</td><td>0Bottle</td></tr><tr><td>Syp Ascorbic acid</td><td>0Bottle</td></tr><tr><td>Syp Multivite</td><td>0Bottle</td></tr><tr><td>Syr Albendazole 100mg/5ml</td><td>0Bottle</td></tr><tr><td>syr Cough Syrup (A) 100ml</td><td>0Bottle</td></tr><tr><td>syr Cough Syrup (P) 100ml</td><td>0Bottle</td></tr><tr><td>syr Ferric amonium citrate 400mg/5ml</td><td>0Bottle</td></tr><tr><td>syr Vitamin B complex</td><td>0Bottle</td></tr><tr><td>Syrup Paracetamol 125mg/5ml</td><td>0Bottle</td></tr><tr><td>lotion Benzylbenzoate lotion</td><td>0Bottle</td></tr><tr><td>Methylated spirit 100ml</td><td>0Bottle</td></tr><tr><td>susp Magnessium Trisilicate 200ml</td><td>0Bottle</td></tr><tr><td>susp Metronidazole 100mg/5ml</td><td>0Bottle</td></tr><tr><td>Susp. Amoxicillin 125mg/5ml</td><td>0Bottle</td></tr><tr><td>susp. Ampiclox 125mg/5ml</td><td>0Bottle</td></tr><tr><td>Susp. Co-trimoxazole 240mg/5ml</td><td>0Bottle</td></tr><tr><td>Susp. Erythromycin 125mg/5ml</td><td>0Bottle</td></tr><tr><td>Syp Ascorbic acid</td><td>0Bottle</td></tr><tr><td>Syp Multivite</td><td>0Bottle</td></tr><tr><td>Syr Albendazole 100mg/5ml</td><td>0Bottle</td></tr><tr><td>syr Cough Syrup (A) 100ml</td><td>0Bottle</td></tr><tr><td>syr Cough Syrup (P) 100ml</td><td>0Bottle</td></tr><tr><td>syr Ferric amonium citrate 400mg/5ml</td><td>0Bottle</td></tr><tr><td>syr Vitamin B complex</td><td>0Bottle</td></tr><tr><td>Syrup Paracetamol 125mg/5ml</td><td>0Bottle</td></tr><tr><td>Methylated spirit 100ml</td><td>0Bottle</td></tr><tr><td>susp Magnessium Trisilicate 200ml</td><td>0Bottle</td></tr><tr><td>Susp. Amoxicillin 125mg/5ml</td><td>0Bottle</td></tr><tr><td>Susp. Erythromycin 125mg/5ml</td><td>0Bottle</td></tr><tr><td>Syp Ascorbic acid</td><td>0Bottle</td></tr><tr><td>Syp Multivite</td><td>0Bottle</td></tr><tr><td>Syr Albendazole 100mg/5ml</td><td>0Bottle</td></tr><tr><td>syr Cough Syrup (A) 100ml</td><td>0Bottle</td></tr><tr><td>syr Cough Syrup (P) 100ml</td><td>0Bottle</td></tr><tr><td>syr Ferric amonium citrate 400mg/5ml</td><td>0Bottle</td></tr><tr><td>syr Vitamin B complex</td><td>0Bottle</td></tr><tr><td>Syrup Paracetamol 125mg/5ml</td><td>0Bottle</td></tr><tr><td>lotion Benzylbenzoate lotion</td><td>0Bottle</td></tr><tr><td>Methylated spirit 100ml</td><td>0Bottle</td></tr><tr><td>susp Magnessium Trisilicate 200ml</td><td>0Bottle</td></tr><tr><td>Susp. Amoxicillin 125mg/5ml</td><td>0Bottle</td></tr><tr><td>Susp. Erythromycin 125mg/5ml</td><td>0Bottle</td></tr><tr><td>Syp Ascorbic acid</td><td>0Bottle</td></tr><tr><td>syr Ferric amonium citrate 400mg/5ml</td><td>0Bottle</td></tr><tr><td>lotion Benzylbenzoate lotion</td><td>0Bottle</td></tr><tr><td>Methylated spirit 100ml</td><td>0Bottle</td></tr><tr><td>susp Magnessium Trisilicate 200ml</td><td>0Bottle</td></tr><tr><td>Susp. Amoxicillin 125mg/5ml</td><td>0Bottle</td></tr><tr><td>Susp. Erythromycin 125mg/5ml</td><td>0Bottle</td></tr><tr><td>Syp Ascorbic acid</td><td>0Bottle</td></tr><tr><td>syr Ferric amonium citrate 400mg/5ml</td><td>0Bottle</td></tr><tr><td>lotion Benzylbenzoate lotion</td><td>0Bottle</td></tr><tr><td>Methylated spirit 100ml</td><td>0Bottle</td></tr><tr><td>susp Magnessium Trisilicate 200ml</td><td>0Bottle</td></tr><tr><td>Susp. Amoxicillin 125mg/5ml</td><td>0Bottle</td></tr><tr><td>susp. Ampiclox 125mg/5ml</td><td>0Bottle</td></tr><tr><td>Susp. Co-trimoxazole 240mg/5ml</td><td>0Bottle</td></tr><tr><td>Susp. Erythromycin 125mg/5ml</td><td>0Bottle</td></tr><tr><td>Syp Multivite</td><td>0Bottle</td></tr><tr><td>Syr Albendazole 100mg/5ml</td><td>0Bottle</td></tr><tr><td>syr Ferric amonium citrate 400mg/5ml</td><td>0Bottle</td></tr><tr><td>Syrup Paracetamol 125mg/5ml</td><td>0Bottle</td></tr><tr><td>lotion Benzylbenzoate lotion</td><td>0Bottle</td></tr><tr><td>Methylated spirit 100ml</td><td>0Bottle</td></tr><tr><td>susp Magnessium Trisilicate 200ml</td><td>0Bottle</td></tr><tr><td>Susp. Amoxicillin 125mg/5ml</td><td>0Bottle</td></tr><tr><td>Susp. Erythromycin 125mg/5ml</td><td>0Bottle</td></tr><tr><td>syr Ferric amonium citrate 400mg/5ml</td><td>0Bottle</td></tr><tr><td>lotion Benzylbenzoate lotion</td><td>0Bottle</td></tr><tr><td>Methylated spirit 100ml</td><td>0Bottle</td></tr><tr><td>susp Magnessium Trisilicate 200ml</td><td>0Bottle</td></tr><tr><td>Susp. Amoxicillin 125mg/5ml</td><td>0Bottle</td></tr><tr><td>Susp. Erythromycin 125mg/5ml</td><td>0Bottle</td></tr><tr><td>Syp Ascorbic acid</td><td>0Bottle</td></tr><tr><td>Syr Albendazole 100mg/5ml</td><td>0Bottle</td></tr><tr><td>syr Ferric amonium citrate 400mg/5ml</td><td>0Bottle</td></tr><tr><td>syr Vitamin B complex</td><td>0Bottle</td></tr><tr><td>lotion Benzylbenzoate lotion</td><td>0Bottle</td></tr><tr><td>Methylated spirit 100ml</td><td>0Bottle</td></tr><tr><td>susp Magnessium Trisilicate 200ml</td><td>0Bottle</td></tr><tr><td>Susp. Amoxicillin 125mg/5ml</td><td>0Bottle</td></tr><tr><td>susp. Ampiclox 125mg/5ml</td><td>0Bottle</td></tr><tr><td>Susp. Erythromycin 125mg/5ml</td><td>0Bottle</td></tr><tr><td>Syr Albendazole 100mg/5ml</td><td>0Bottle</td></tr><tr><td>syr Ferric amonium citrate 400mg/5ml</td><td>0Bottle</td></tr><tr><td>syr Vitamin B complex</td><td>0Bottle</td></tr><tr><td>Syrup Paracetamol 125mg/5ml</td><td>0Bottle</td></tr><tr><td>lotion Benzylbenzoate lotion</td><td>0Bottle</td></tr><tr><td>susp Magnessium Trisilicate 200ml</td><td>0Bottle</td></tr><tr><td>Susp. Amoxicillin 125mg/5ml</td><td>0Bottle</td></tr><tr><td>susp. Ampiclox 125mg/5ml</td><td>0Bottle</td></tr><tr><td>Susp. Erythromycin 125mg/5ml</td><td>0Bottle</td></tr><tr><td>Methylated spirit 100ml</td><td>0Bottle</td></tr><tr><td>Susp. Amoxicillin 125mg/5ml</td><td>0Bottle</td></tr><tr><td>susp. Ampiclox 125mg/5ml</td><td>0Bottle</td></tr><tr><td>Susp. Erythromycin 125mg/5ml</td><td>0Bottle</td></tr><tr><td>Syp Ascorbic acid</td><td>0Bottle</td></tr><tr><td>syr Ferric amonium citrate 400mg/5ml</td><td>0Bottle</td></tr><tr><td>lotion Benzylbenzoate lotion</td><td>0Bottle</td></tr><tr><td>Methylated spirit 100ml</td><td>0Bottle</td></tr><tr><td>susp Magnessium Trisilicate 200ml</td><td>0Bottle</td></tr><tr><td>susp Metronidazole 100mg/5ml</td><td>0Bottle</td></tr><tr><td>Susp. Amoxicillin 125mg/5ml</td><td>0Bottle</td></tr><tr><td>susp. Ampiclox 125mg/5ml</td><td>0Bottle</td></tr><tr><td>Susp. Co-trimoxazole 240mg/5ml</td><td>0Bottle</td></tr><tr><td>Susp. Erythromycin 125mg/5ml</td><td>0Bottle</td></tr><tr><td>Syp Ascorbic acid</td><td>0Bottle</td></tr><tr><td>Syp Multivite</td><td>0Bottle</td></tr><tr><td>Syr Albendazole 100mg/5ml</td><td>0Bottle</td></tr><tr><td>syr Cough Syrup (A) 100ml</td><td>0Bottle</td></tr><tr><td>syr Cough Syrup (P) 100ml</td><td>0Bottle</td></tr><tr><td>syr Ferric amonium citrate 400mg/5ml</td><td>0Bottle</td></tr><tr><td>syr Vitamin B complex</td><td>0Bottle</td></tr><tr><td>Syrup Paracetamol 125mg/5ml</td><td>0Bottle</td></tr><tr><td>lotion Benzylbenzoate lotion</td><td>0Bottle</td></tr><tr><td>Methylated spirit 100ml</td><td>0Bottle</td></tr><tr><td>susp Magnessium Trisilicate 200ml</td><td>0Bottle</td></tr><tr><td>susp Metronidazole 100mg/5ml</td><td>0Bottle</td></tr><tr><td>Susp. Amoxicillin 125mg/5ml</td><td>0Bottle</td></tr><tr><td>susp. Ampiclox 125mg/5ml</td><td>0Bottle</td></tr><tr><td>Susp. Co-trimoxazole 240mg/5ml</td><td>0Bottle</td></tr><tr><td>Susp. Erythromycin 125mg/5ml</td><td>0Bottle</td></tr><tr><td>Syp Ascorbic acid</td><td>0Bottle</td></tr><tr><td>Syp Multivite</td><td>0Bottle</td></tr><tr><td>Syr Albendazole 100mg/5ml</td><td>0Bottle</td></tr><tr><td>syr Cough Syrup (A) 100ml</td><td>0Bottle</td></tr><tr><td>syr Cough Syrup (P) 100ml</td><td>0Bottle</td></tr><tr><td>syr Ferric amonium citrate 400mg/5ml</td><td>0Bottle</td></tr><tr><td>syr Vitamin B complex</td><td>0Bottle</td></tr><tr><td>Syrup Paracetamol 125mg/5ml</td><td>0Bottle</td></tr><tr><td>Methylated spirit 100ml</td><td>0Bottle</td></tr><tr><td>susp Magnessium Trisilicate 200ml</td><td>0Bottle</td></tr><tr><td>Susp. Amoxicillin 125mg/5ml</td><td>0Bottle</td></tr><tr><td>Susp. Erythromycin 125mg/5ml</td><td>0Bottle</td></tr><tr><td>Syp Ascorbic acid</td><td>0Bottle</td></tr><tr><td>syr Ferric amonium citrate 400mg/5ml</td><td>0Bottle</td></tr><tr><td>lotion Benzylbenzoate lotion</td><td>0Bottle</td></tr><tr><td>susp. Ampiclox 125mg/5ml</td><td>0Bottle</td></tr><tr><td>Susp. Co-trimoxazole 240mg/5ml</td><td>0Bottle</td></tr><tr><td>Syp Multivite</td><td>0Bottle</td></tr><tr><td>Syr Albendazole 100mg/5ml</td><td>0Bottle</td></tr><tr><td>syr Ferric amonium citrate 400mg/5ml</td><td>0Bottle</td></tr><tr><td>syr Vitamin B complex</td><td>0Bottle</td></tr><tr><td>lotion Benzylbenzoate lotion</td><td>0Bottle</td></tr><tr><td>Methylated spirit 100ml</td><td>0Bottle</td></tr><tr><td>susp Magnessium Trisilicate 200ml</td><td>0Bottle</td></tr><tr><td>Susp. Amoxicillin 125mg/5ml</td><td>0Bottle</td></tr><tr><td>susp. Ampiclox 125mg/5ml</td><td>0Bottle</td></tr><tr><td>Susp. Co-trimoxazole 240mg/5ml</td><td>0Bottle</td></tr><tr><td>Susp. Erythromycin 125mg/5ml</td><td>0Bottle</td></tr><tr><td>Syp Multivite</td><td>0Bottle</td></tr><tr><td>Syr Albendazole 100mg/5ml</td><td>0Bottle</td></tr><tr><td>syr Cough Syrup (A) 100ml</td><td>0Bottle</td></tr><tr><td>syr Cough Syrup (P) 100ml</td><td>0Bottle</td></tr><tr><td>syr Ferric amonium citrate 400mg/5ml</td><td>0Bottle</td></tr><tr><td>syr Vitamin B complex</td><td>0Bottle</td></tr><tr><td>lotion Benzylbenzoate lotion</td><td>0Bottle</td></tr><tr><td>Methylated spirit 100ml</td><td>0Bottle</td></tr><tr><td>susp Metronidazole 100mg/5ml</td><td>0Bottle</td></tr><tr><td>Susp. Amoxicillin 125mg/5ml</td><td>0Bottle</td></tr><tr><td>susp. Ampiclox 125mg/5ml</td><td>0Bottle</td></tr><tr><td>Susp. Co-trimoxazole 240mg/5ml</td><td>0Bottle</td></tr><tr><td>Syp Multivite</td><td>0Bottle</td></tr><tr><td>Syr Albendazole 100mg/5ml</td><td>0Bottle</td></tr><tr><td>syr Ferric amonium citrate 400mg/5ml</td><td>0Bottle</td></tr><tr><td>syr Vitamin B complex</td><td>0Bottle</td></tr><tr><td>Syrup Paracetamol 125mg/5ml</td><td>0Bottle</td></tr><tr><td>lotion Benzylbenzoate lotion</td><td>0Bottle</td></tr><tr><td>Methylated spirit 100ml</td><td>0Bottle</td></tr><tr><td>susp Magnessium Trisilicate 200ml</td><td>0Bottle</td></tr><tr><td>Susp. Amoxicillin 125mg/5ml</td><td>0Bottle</td></tr><tr><td>Susp. Erythromycin 125mg/5ml</td><td>0Bottle</td></tr><tr><td>Syp Ascorbic acid</td><td>0Bottle</td></tr><tr><td>syr Ferric amonium citrate 400mg/5ml</td><td>0Bottle</td></tr><tr><td>lotion Benzylbenzoate lotion</td><td>0Bottle</td></tr><tr><td>Methylated spirit 100ml</td><td>0Bottle</td></tr><tr><td>susp Magnessium Trisilicate 200ml</td><td>0Bottle</td></tr><tr><td>Susp. Amoxicillin 125mg/5ml</td><td>0Bottle</td></tr><tr><td>susp. Ampiclox 125mg/5ml</td><td>0Bottle</td></tr><tr><td>Susp. Co-trimoxazole 240mg/5ml</td><td>0Bottle</td></tr><tr><td>Susp. Erythromycin 125mg/5ml</td><td>0Bottle</td></tr><tr><td>Syp Multivite</td><td>0Bottle</td></tr><tr><td>Syr Albendazole 100mg/5ml</td><td>0Bottle</td></tr><tr><td>syr Ferric amonium citrate 400mg/5ml</td><td>0Bottle</td></tr><tr><td>lotion Benzylbenzoate lotion</td><td>0Bottle</td></tr><tr><td>Methylated spirit 100ml</td><td>0Bottle</td></tr><tr><td>susp Metronidazole 100mg/5ml</td><td>0Bottle</td></tr><tr><td>Susp. Amoxicillin 125mg/5ml</td><td>0Bottle</td></tr><tr><td>Susp. Erythromycin 125mg/5ml</td><td>0Bottle</td></tr><tr><td>syr Ferric amonium citrate 400mg/5ml</td><td>0Bottle</td></tr><tr><td>lotion Benzylbenzoate lotion</td><td>0Bottle</td></tr><tr><td>Methylated spirit 100ml</td><td>0Bottle</td></tr><tr><td>susp Magnessium Trisilicate 200ml</td><td>0Bottle</td></tr><tr><td>Susp. Amoxicillin 125mg/5ml</td><td>0Bottle</td></tr><tr><td>susp. Ampiclox 125mg/5ml</td><td>0Bottle</td></tr><tr><td>Susp. Erythromycin 125mg/5ml</td><td>0Bottle</td></tr><tr><td>Syr Albendazole 100mg/5ml</td><td>0Bottle</td></tr><tr><td>syr Ferric amonium citrate 400mg/5ml</td><td>0Bottle</td></tr><tr><td>syr Vitamin B complex</td><td>0Bottle</td></tr><tr><td>lotion Benzylbenzoate lotion</td><td>0Bottle</td></tr><tr><td>susp Magnessium Trisilicate 200ml</td><td>0Bottle</td></tr><tr><td>Susp. Amoxicillin 125mg/5ml</td><td>0Bottle</td></tr><tr><td>susp. Ampiclox 125mg/5ml</td><td>0Bottle</td></tr><tr><td>Susp. Erythromycin 125mg/5ml</td><td>0Bottle</td></tr><tr><td>lotion Benzylbenzoate lotion</td><td>0Bottle</td></tr><tr><td>Methylated spirit 100ml</td><td>0Bottle</td></tr><tr><td>susp Magnessium Trisilicate 200ml</td><td>0Bottle</td></tr><tr><td>susp Metronidazole 100mg/5ml</td><td>0Bottle</td></tr><tr><td>Susp. Amoxicillin 125mg/5ml</td><td>0Bottle</td></tr><tr><td>susp. Ampiclox 125mg/5ml</td><td>0Bottle</td></tr><tr><td>Susp. Co-trimoxazole 240mg/5ml</td><td>0Bottle</td></tr><tr><td>Susp. Erythromycin 125mg/5ml</td><td>0Bottle</td></tr><tr><td>Syp Ascorbic acid</td><td>0Bottle</td></tr><tr><td>Syp Multivite</td><td>0Bottle</td></tr><tr><td>Syr Albendazole 100mg/5ml</td><td>0Bottle</td></tr><tr><td>syr Cough Syrup (P) 100ml</td><td>0Bottle</td></tr><tr><td>syr Ferric amonium citrate 400mg/5ml</td><td>0Bottle</td></tr><tr><td>Syrup Paracetamol 125mg/5ml</td><td>0Bottle</td></tr><tr><td>Methylated spirit 100ml</td><td>0Bottle</td></tr><tr><td>susp Magnessium Trisilicate 200ml</td><td>0Bottle</td></tr><tr><td>Susp. Amoxicillin 125mg/5ml</td><td>0Bottle</td></tr><tr><td>Susp. Erythromycin 125mg/5ml</td><td>0Bottle</td></tr><tr><td>Syp Ascorbic acid</td><td>0Bottle</td></tr><tr><td>syr Ferric amonium citrate 400mg/5ml</td><td>0Bottle</td></tr><tr><td>Methylated spirit 100ml</td><td>0Bottle</td></tr><tr><td>susp Magnessium Trisilicate 200ml</td><td>0Bottle</td></tr><tr><td>Susp. Amoxicillin 125mg/5ml</td><td>0Bottle</td></tr><tr><td>Susp. Erythromycin 125mg/5ml</td><td>0Bottle</td></tr><tr><td>Syp Ascorbic acid</td><td>0Bottle</td></tr><tr><td>syr Ferric amonium citrate 400mg/5ml</td><td>0Bottle</td></tr><tr><td>lotion Benzylbenzoate lotion</td><td>0Bottle</td></tr><tr><td>Methylated spirit 100ml</td><td>0Bottle</td></tr><tr><td>susp Magnessium Trisilicate 200ml</td><td>0Bottle</td></tr><tr><td>susp. Ampiclox 125mg/5ml</td><td>0Bottle</td></tr><tr><td>Susp. Co-trimoxazole 240mg/5ml</td><td>0Bottle</td></tr><tr><td>Susp. Erythromycin 125mg/5ml</td><td>0Bottle</td></tr><tr><td>Syp Ascorbic acid</td><td>0Bottle</td></tr><tr><td>Syp Multivite</td><td>0Bottle</td></tr><tr><td>Syr Albendazole 100mg/5ml</td><td>0Bottle</td></tr><tr><td>syr Ferric amonium citrate 400mg/5ml</td><td>0Bottle</td></tr><tr><td>Syrup Paracetamol 125mg/5ml</td><td>0Bottle</td></tr><tr><td>lotion Benzylbenzoate lotion</td><td>0Bottle</td></tr><tr><td>Methylated spirit 100ml</td><td>0Bottle</td></tr><tr><td>susp Magnessium Trisilicate 200ml</td><td>0Bottle</td></tr><tr><td>susp Metronidazole 100mg/5ml</td><td>0Bottle</td></tr><tr><td>Susp. Amoxicillin 125mg/5ml</td><td>0Bottle</td></tr><tr><td>susp. Ampiclox 125mg/5ml</td><td>0Bottle</td></tr><tr><td>Susp. Co-trimoxazole 240mg/5ml</td><td>0Bottle</td></tr><tr><td>Susp. Erythromycin 125mg/5ml</td><td>0Bottle</td></tr><tr><td>Syp Ascorbic acid</td><td>0Bottle</td></tr><tr><td>Syp Multivite</td><td>0Bottle</td></tr><tr><td>Syr Albendazole 100mg/5ml</td><td>0Bottle</td></tr><tr><td>syr Cough Syrup (A) 100ml</td><td>0Bottle</td></tr><tr><td>syr Cough Syrup (P) 100ml</td><td>0Bottle</td></tr><tr><td>syr Ferric amonium citrate 400mg/5ml</td><td>0Bottle</td></tr><tr><td>syr Vitamin B complex</td><td>0Bottle</td></tr><tr><td>lotion Benzylbenzoate lotion</td><td>0Bottle</td></tr><tr><td>Methylated spirit 100ml</td><td>0Bottle</td></tr><tr><td>susp Magnessium Trisilicate 200ml</td><td>0Bottle</td></tr><tr><td>susp Metronidazole 100mg/5ml</td><td>0Bottle</td></tr><tr><td>Susp. Amoxicillin 125mg/5ml</td><td>0Bottle</td></tr><tr><td>susp. Ampiclox 125mg/5ml</td><td>0Bottle</td></tr><tr><td>Susp. Co-trimoxazole 240mg/5ml</td><td>0Bottle</td></tr><tr><td>Susp. Erythromycin 125mg/5ml</td><td>0Bottle</td></tr><tr><td>Syp Multivite / Tab Multivite</td><td>0Bottle</td></tr><tr><td>Syr Albendazole 100mg/5ml</td><td>0Bottle</td></tr><tr><td>syr Cough Syrup (A) 100ml</td><td>0Bottle</td></tr><tr><td>syr Cough Syrup (P) 100ml</td><td>0Bottle</td></tr><tr><td>syr Ferric amonium citrate 400mg/5ml</td><td>0Bottle</td></tr><tr><td>syr Vitamin B complex</td><td>0Bottle</td></tr><tr><td>lotion Benzylbenzoate lotion</td><td>0Bottle</td></tr><tr><td>Methylated spirit 100ml</td><td>0Bottle</td></tr><tr><td>susp Magnessium Trisilicate 200ml</td><td>0Bottle</td></tr><tr><td>susp Metronidazole 100mg/5ml</td><td>0Bottle</td></tr><tr><td>Susp. Amoxicillin 125mg/5ml</td><td>0Bottle</td></tr><tr><td>susp. Ampiclox 125mg/5ml</td><td>0Bottle</td></tr><tr><td>Susp. Co-trimoxazole 240mg/5ml</td><td>0Bottle</td></tr><tr><td>Susp. Erythromycin 125mg/5ml</td><td>0Bottle</td></tr><tr><td>Syp Multivite</td><td>0Bottle</td></tr><tr><td>Syr Albendazole 100mg/5ml</td><td>0Bottle</td></tr><tr><td>syr Cough Syrup (A) 100ml</td><td>0Bottle</td></tr><tr><td>syr Cough Syrup (P) 100ml</td><td>0Bottle</td></tr><tr><td>syr Ferric amonium citrate 400mg/5ml</td><td>0Bottle</td></tr><tr><td>syr Vitamin B complex</td><td>0Bottle</td></tr><tr><td>Syrup Paracetamol 125mg/5ml</td><td>0Bottle</td></tr><tr><td>Methylated spirit 100ml</td><td>0Bottle</td></tr><tr><td>susp Magnessium Trisilicate 200ml</td><td>0Bottle</td></tr><tr><td>Susp. Amoxicillin 125mg/5ml</td><td>0Bottle</td></tr><tr><td>Susp. Erythromycin 125mg/5ml</td><td>0Bottle</td></tr><tr><td>Syp Ascorbic acid</td><td>0Bottle</td></tr><tr><td>syr Ferric amonium citrate 400mg/5ml</td><td>0Bottle</td></tr><tr><td>Methylated spirit 100ml</td><td>0Bottle</td></tr><tr><td>susp Magnessium Trisilicate 200ml</td><td>0Bottle</td></tr><tr><td>Susp. Amoxicillin 125mg/5ml</td><td>0Bottle</td></tr><tr><td>Susp. Erythromycin 125mg/5ml</td><td>0Bottle</td></tr><tr><td>Syp Ascorbic acid</td><td>0Bottle</td></tr><tr><td>syr Ferric amonium citrate 400mg/5ml</td><td>0Bottle</td></tr><tr><td>lotion Benzylbenzoate lotion</td><td>0Bottle</td></tr><tr><td>Methylated spirit 100ml</td><td>0Bottle</td></tr><tr><td>susp Magnessium Trisilicate 200ml</td><td>0Bottle</td></tr><tr><td>Susp. Amoxicillin 125mg/5ml</td><td>0Bottle</td></tr><tr><td>susp. Ampiclox 125mg/5ml</td><td>0Bottle</td></tr><tr><td>Susp. Co-trimoxazole 240mg/5ml</td><td>0Bottle</td></tr><tr><td>Susp. Erythromycin 125mg/5ml</td><td>0Bottle</td></tr><tr><td>Syp Ascorbic acid</td><td>0Bottle</td></tr><tr><td>Syp Multivite</td><td>0Bottle</td></tr><tr><td>Syr Albendazole 100mg/5ml</td><td>0Bottle</td></tr><tr><td>syr Ferric amonium citrate 400mg/5ml</td><td>0Bottle</td></tr><tr><td>syr Vitamin B complex</td><td>0Bottle</td></tr><tr><td>lotion Benzylbenzoate lotion</td><td>0Bottle</td></tr><tr><td>Methylated spirit 100ml</td><td>0Bottle</td></tr><tr><td>susp Magnessium Trisilicate 200ml</td><td>0Bottle</td></tr><tr><td>Susp. Amoxicillin 125mg/5ml</td><td>0Bottle</td></tr><tr><td>Susp. Erythromycin 125mg/5ml</td><td>0Bottle</td></tr><tr><td>Syp Ascorbic acid</td><td>0Bottle</td></tr><tr><td>syr Ferric amonium citrate 400mg/5ml</td><td>0Bottle</td></tr><tr><td>Methylated spirit 100ml</td><td>0Bottle</td></tr><tr><td>susp Magnessium Trisilicate 200ml</td><td>0Bottle</td></tr><tr><td>Susp. Amoxicillin 125mg/5ml</td><td>0Bottle</td></tr><tr><td>Susp. Erythromycin 125mg/5ml</td><td>0Bottle</td></tr><tr><td>Syp Ascorbic acid</td><td>0Bottle</td></tr><tr><td>syr Ferric amonium citrate 400mg/5ml</td><td>0Bottle</td></tr><tr><td>lotion Benzylbenzoate lotion</td><td>0Bottle</td></tr><tr><td>Methylated spirit 100ml</td><td>0Bottle</td></tr><tr><td>susp Magnessium Trisilicate 200ml</td><td>0Bottle</td></tr><tr><td>susp. Ampiclox 125mg/5ml</td><td>0Bottle</td></tr><tr><td>Susp. Co-trimoxazole 240mg/5ml</td><td>0Bottle</td></tr><tr><td>Susp. Erythromycin 125mg/5ml</td><td>0Bottle</td></tr><tr><td>Syp Ascorbic acid</td><td>0Bottle</td></tr><tr><td>Syp Multivite</td><td>0Bottle</td></tr><tr><td>Syr Albendazole 100mg/5ml</td><td>0Bottle</td></tr><tr><td>syr Ferric amonium citrate 400mg/5ml</td><td>0Bottle</td></tr><tr><td>lotion Benzylbenzoate lotion</td><td>0Bottle</td></tr><tr><td>Methylated spirit 100ml</td><td>0Bottle</td></tr><tr><td>susp Magnessium Trisilicate 200ml</td><td>0Bottle</td></tr><tr><td>Susp. Amoxicillin 125mg/5ml</td><td>0Bottle</td></tr><tr><td>susp. Ampiclox 125mg/5ml</td><td>0Bottle</td></tr><tr><td>Susp. Co-trimoxazole 240mg/5ml</td><td>0Bottle</td></tr><tr><td>Susp. Erythromycin 125mg/5ml</td><td>0Bottle</td></tr><tr><td>Syp Multivite / Tab Multivite</td><td>0Bottle</td></tr><tr><td>Syr Albendazole 100mg/5ml</td><td>0Bottle</td></tr><tr><td>syr Ferric amonium citrate 400mg/5ml</td><td>0Bottle</td></tr><tr><td>syr Vitamin B complex</td><td>0Bottle</td></tr><tr><td>lotion Benzylbenzoate lotion</td><td>0Bottle</td></tr><tr><td>Methylated spirit 100ml</td><td>0Bottle</td></tr><tr><td>susp Magnessium Trisilicate 200ml</td><td>0Bottle</td></tr><tr><td>susp Metronidazole 100mg/5ml</td><td>0Bottle</td></tr><tr><td>Susp. Amoxicillin 125mg/5ml</td><td>0Bottle</td></tr><tr><td>susp. Ampiclox 125mg/5ml</td><td>0Bottle</td></tr><tr><td>Susp. Co-trimoxazole 240mg/5ml</td><td>0Bottle</td></tr><tr><td>Susp. Erythromycin 125mg/5ml</td><td>0Bottle</td></tr><tr><td>Syp Ascorbic acid</td><td>0Bottle</td></tr><tr><td>Syp Multivite</td><td>0Bottle</td></tr><tr><td>Syr Albendazole 100mg/5ml</td><td>0Bottle</td></tr><tr><td>syr Ferric amonium citrate 400mg/5ml</td><td>0Bottle</td></tr><tr><td>Methylated spirit 100ml</td><td>0Bottle</td></tr><tr><td>susp Magnessium Trisilicate 200ml</td><td>0Bottle</td></tr><tr><td>Susp. Amoxicillin 125mg/5ml</td><td>0Bottle</td></tr><tr><td>Susp. Erythromycin 125mg/5ml</td><td>0Bottle</td></tr><tr><td>Syp Ascorbic acid</td><td>0Bottle</td></tr><tr><td>syr Ferric amonium citrate 400mg/5ml</td><td>0Bottle</td></tr><tr><td>lotion Benzylbenzoate lotion</td><td>0Bottle</td></tr><tr><td>Methylated spirit 100ml</td><td>0Bottle</td></tr><tr><td>susp Magnessium Trisilicate 200ml</td><td>0Bottle</td></tr><tr><td>susp. Ampiclox 125mg/5ml</td><td>0Bottle</td></tr><tr><td>Susp. Co-trimoxazole 240mg/5ml</td><td>0Bottle</td></tr><tr><td>Susp. Erythromycin 125mg/5ml</td><td>0Bottle</td></tr><tr><td>Syp Ascorbic acid</td><td>0Bottle</td></tr><tr><td>Syp Multivite</td><td>0Bottle</td></tr><tr><td>Syr Albendazole 100mg/5ml</td><td>0Bottle</td></tr><tr><td>syr Ferric amonium citrate 400mg/5ml</td><td>0Bottle</td></tr><tr><td>Methylated spirit 100ml</td><td>0Bottle</td></tr><tr><td>susp Magnessium Trisilicate 200ml</td><td>0Bottle</td></tr><tr><td>Susp. Amoxicillin 125mg/5ml</td><td>0Bottle</td></tr><tr><td>Susp. Erythromycin 125mg/5ml</td><td>0Bottle</td></tr><tr><td>Syp Ascorbic acid</td><td>0Bottle</td></tr><tr><td>syr Ferric amonium citrate 400mg/5ml</td><td>0Bottle</td></tr><tr><td>lotion Benzylbenzoate lotion</td><td>0Bottle</td></tr><tr><td>Methylated spirit 100ml</td><td>0Bottle</td></tr><tr><td>susp Magnessium Trisilicate 200ml</td><td>0Bottle</td></tr><tr><td>Susp. Amoxicillin 125mg/5ml</td><td>0Bottle</td></tr><tr><td>susp. Ampiclox 125mg/5ml</td><td>0Bottle</td></tr><tr><td>Susp. Co-trimoxazole 240mg/5ml</td><td>0Bottle</td></tr><tr><td>Susp. Erythromycin 125mg/5ml</td><td>0Bottle</td></tr><tr><td>Syp Ascorbic acid</td><td>0Bottle</td></tr><tr><td>Syp Multivite</td><td>0Bottle</td></tr><tr><td>Syr Albendazole 100mg/5ml</td><td>0Bottle</td></tr><tr><td>syr Ferric amonium citrate 400mg/5ml</td><td>0Bottle</td></tr><tr><td>lotion Benzylbenzoate lotion</td><td>0Bottle</td></tr><tr><td>Methylated spirit 100ml</td><td>0Bottle</td></tr><tr><td>susp Magnessium Trisilicate 200ml</td><td>0Bottle</td></tr><tr><td>Susp. Amoxicillin 125mg/5ml</td><td>0Bottle</td></tr><tr><td>Susp. Erythromycin 125mg/5ml</td><td>0Bottle</td></tr><tr><td>Syp Ascorbic acid</td><td>0Bottle</td></tr><tr><td>syr Ferric amonium citrate 400mg/5ml</td><td>0Bottle</td></tr><tr><td>lotion Benzylbenzoate lotion</td><td>0Bottle</td></tr><tr><td>Methylated spirit 100ml</td><td>0Bottle</td></tr><tr><td>susp Magnessium Trisilicate 200ml</td><td>0Bottle</td></tr><tr><td>Susp. Amoxicillin 125mg/5ml</td><td>0Bottle</td></tr><tr><td>susp. Ampiclox 125mg/5ml</td><td>0Bottle</td></tr><tr><td>Susp. Co-trimoxazole 240mg/5ml</td><td>0Bottle</td></tr><tr><td>Susp. Erythromycin 125mg/5ml</td><td>0Bottle</td></tr><tr><td>Syr Albendazole 100mg/5ml</td><td>0Bottle</td></tr><tr><td>syr Ferric amonium citrate 400mg/5ml</td><td>0Bottle</td></tr><tr><td>Cotton Wool 100g</td><td>0Pcs</td></tr><tr><td>5% Dextrose saline 1000ml</td><td>0Pcs</td></tr><tr><td>5% Dextrose water 500ml</td><td>0Pcs</td></tr><tr><td>0.9% Normal saline 1000ml</td><td>0Pcs</td></tr><tr><td>Infusion Sets 23g</td><td>0Pcs</td></tr><tr><td>Cotton Wool 100g</td><td>0Pcs</td></tr><tr><td>5% Dextrose saline 1000ml</td><td>0Pcs</td></tr><tr><td>5% Dextrose water 500ml</td><td>0Pcs</td></tr><tr><td>0.9% Normal saline 1000ml</td><td>0Pcs</td></tr><tr><td>Infusion Sets 23g</td><td>0Pcs</td></tr><tr><td>Cotton Wool 100g</td><td>0Pcs</td></tr><tr><td>5% Dextrose saline 1000ml</td><td>0Pcs</td></tr><tr><td>5% Dextrose water 500ml</td><td>0Pcs</td></tr><tr><td>0.9% Normal saline 1000ml</td><td>0Pcs</td></tr><tr><td>Cotton Wool 100g</td><td>0Pcs</td></tr><tr><td>5% Dextrose saline 1000ml</td><td>0Pcs</td></tr><tr><td>5% Dextrose water 500ml</td><td>0Pcs</td></tr><tr><td>0.9% Normal saline 1000ml</td><td>0Pcs</td></tr><tr><td>Cotton Wool 100g</td><td>0Pcs</td></tr><tr><td>5% Dextrose saline 1000ml</td><td>0Pcs</td></tr><tr><td>5% Dextrose water 500ml</td><td>0Pcs</td></tr><tr><td>0.9% Normal saline 1000ml</td><td>0Pcs</td></tr><tr><td>Cotton Wool 100g</td><td>0Pcs</td></tr><tr><td>5% Dextrose saline 1000ml</td><td>0Pcs</td></tr><tr><td>5% Dextrose water 500ml</td><td>0Pcs</td></tr><tr><td>0.9% Normal saline 1000ml</td><td>0Pcs</td></tr><tr><td>Cotton Wool 100g</td><td>0Pcs</td></tr><tr><td>5% Dextrose saline 1000ml</td><td>0Pcs</td></tr><tr><td>5% Dextrose water 500ml</td><td>0Pcs</td></tr><tr><td>0.9% Normal saline 1000ml</td><td>0Pcs</td></tr><tr><td>Cotton Wool 100g</td><td>0Pcs</td></tr><tr><td>5% Dextrose saline 1000ml</td><td>0Pcs</td></tr><tr><td>5% Dextrose water 500ml</td><td>0Pcs</td></tr><tr><td>0.9% Normal saline 1000ml</td><td>0Pcs</td></tr><tr><td>5% Dextrose water 500ml</td><td>0Pcs</td></tr><tr><td>Cotton Wool 100g</td><td>0Pcs</td></tr><tr><td>5% Dextrose saline 1000ml</td><td>0Pcs</td></tr><tr><td>5% Dextrose water 500ml</td><td>0Pcs</td></tr><tr><td>0.9% Normal saline 1000ml</td><td>0Pcs</td></tr><tr><td>Infusion Sets 23g</td><td>0Pcs</td></tr><tr><td>Cotton Wool 100g</td><td>0Pcs</td></tr><tr><td>5% Dextrose saline 1000ml</td><td>0Pcs</td></tr><tr><td>5% Dextrose water 500ml</td><td>0Pcs</td></tr><tr><td>0.9% Normal saline 1000ml</td><td>0Pcs</td></tr><tr><td>Infusion Sets 23g</td><td>0Pcs</td></tr><tr><td>5% Dextrose water 500ml</td><td>0Pcs</td></tr><tr><td>0.9% Normal saline 1000ml</td><td>0Pcs</td></tr><tr><td>Cotton Wool 100g</td><td>0Pcs</td></tr><tr><td>5% Dextrose water 500ml</td><td>0Pcs</td></tr><tr><td>0.9% Normal saline 1000ml</td><td>0Pcs</td></tr><tr><td>Cotton Wool 100g</td><td>0Pcs</td></tr><tr><td>5% Dextrose saline 1000ml</td><td>0Pcs</td></tr><tr><td>5% Dextrose water 500ml</td><td>0Pcs</td></tr><tr><td>0.9% Normal saline 1000ml</td><td>0Pcs</td></tr><tr><td>Infusion Sets 23g</td><td>0Pcs</td></tr><tr><td>Cotton Wool 100g</td><td>0Pcs</td></tr><tr><td>5% Dextrose saline 1000ml</td><td>0Pcs</td></tr><tr><td>5% Dextrose water 500ml</td><td>0Pcs</td></tr><tr><td>0.9% Normal saline 1000ml</td><td>0Pcs</td></tr><tr><td>Cotton Wool 100g</td><td>0Pcs</td></tr><tr><td>5% Dextrose water 500ml</td><td>0Pcs</td></tr><tr><td>Infusion Sets 23g</td><td>0Pcs</td></tr><tr><td>Cotton Wool 100g</td><td>0Pcs</td></tr><tr><td>5% Dextrose saline 1000ml</td><td>0Pcs</td></tr><tr><td>5% Dextrose water 500ml</td><td>0Pcs</td></tr><tr><td>0.9% Normal saline 1000ml</td><td>0Pcs</td></tr><tr><td>Infusion Sets 23g</td><td>0Pcs</td></tr><tr><td>Butterfly Needle 21G</td><td>0Pcs</td></tr><tr><td>Cotton Wool 100g</td><td>0Pcs</td></tr><tr><td>5% Dextrose saline 1000ml</td><td>0Pcs</td></tr><tr><td>5% Dextrose water 500ml</td><td>0Pcs</td></tr><tr><td>Cotton Wool 100g</td><td>0Pcs</td></tr><tr><td>5% Dextrose saline 1000ml</td><td>0Pcs</td></tr><tr><td>5% Dextrose water 500ml</td><td>0Pcs</td></tr><tr><td>0.9% Normal saline 1000ml</td><td>0Pcs</td></tr><tr><td>5% Dextrose saline 500mls</td><td>0Pcs</td></tr><tr><td>5% Dextrose water 500mls</td><td>0Pcs</td></tr><tr><td>0.9% Normal saline 500mls</td><td>0Pcs</td></tr><tr><td>Cotton Wool 100g</td><td>0Pcs</td></tr><tr><td>5% Dextrose saline 1000ml</td><td>0Pcs</td></tr><tr><td>5% Dextrose water 500ml</td><td>0Pcs</td></tr><tr><td>0.9% Normal saline 1000ml</td><td>0Pcs</td></tr><tr><td>Infusion Sets 23g</td><td>0Pcs</td></tr><tr><td>5% Dextrose water 500ml</td><td>0Pcs</td></tr><tr><td>0.9% Normal saline 1000ml</td><td>0Pcs</td></tr><tr><td>5% Dextrose saline 1000ml</td><td>0Pcs</td></tr><tr><td>5% Dextrose water 500ml</td><td>0Pcs</td></tr><tr><td>5% Dextrose saline 1000ml</td><td>0Pcs</td></tr><tr><td>5% Dextrose saline 1000ml</td><td>0Pcs</td></tr><tr><td>5% Dextrose water 500ml</td><td>0Pcs</td></tr><tr><td>5% Dextrose water 500ml</td><td>0Pcs</td></tr><tr><td>Cotton Wool 100g</td><td>0Pcs</td></tr><tr><td>5% Dextrose saline 1000ml</td><td>0Pcs</td></tr><tr><td>5% Dextrose water 500ml</td><td>0Pcs</td></tr><tr><td>0.9% Normal saline 1000ml</td><td>0Pcs</td></tr><tr><td>5% Dextrose saline 1000ml</td><td>0Pcs</td></tr><tr><td>5% Dextrose water 500ml</td><td>0Pcs</td></tr><tr><td>0.9% Normal saline 1000ml</td><td>0Pcs</td></tr><tr><td>Infusion Sets 23g</td><td>0Pcs</td></tr><tr><td>Cotton Wool 100g</td><td>0Pcs</td></tr><tr><td>5% Dextrose saline 1000ml</td><td>0Pcs</td></tr><tr><td>5% Dextrose water 500ml</td><td>0Pcs</td></tr><tr><td>0.9% Normal saline 1000ml</td><td>0Pcs</td></tr><tr><td>5% Dextrose water 500mls</td><td>0Pcs</td></tr><tr><td>Cotton Wool 100g</td><td>0Pcs</td></tr><tr><td>5% Dextrose saline 1000ml</td><td>0Pcs</td></tr><tr><td>5% Dextrose water 500ml</td><td>0Pcs</td></tr><tr><td>0.9% Normal saline 1000ml</td><td>0Pcs</td></tr><tr><td>0.9% Normal saline 1000ml</td><td>0Pcs</td></tr><tr><td>Cotton Wool 100g</td><td>0Pcs</td></tr><tr><td>5% Dextrose saline 1000ml</td><td>0Pcs</td></tr><tr><td>5% Dextrose water 500ml</td><td>0Pcs</td></tr><tr><td>0.9% Normal saline 1000ml</td><td>0Pcs</td></tr><tr><td>Cotton Wool 100g</td><td>0Pcs</td></tr><tr><td>5% Dextrose saline 1000ml</td><td>0Pcs</td></tr><tr><td>5% Dextrose water 500ml</td><td>0Pcs</td></tr><tr><td>0.9% Normal saline 1000ml</td><td>0Pcs</td></tr><tr><td>Infusion Sets 23g</td><td>0Pcs</td></tr><tr><td>5% Dextrose saline 1000ml</td><td>0Pcs</td></tr><tr><td>5% Dextrose water 500ml</td><td>0Pcs</td></tr><tr><td>0.9% Normal saline 1000ml</td><td>0Pcs</td></tr><tr><td>Infusion Sets 23g</td><td>0Pcs</td></tr><tr><td>Cotton Wool 100g</td><td>0Pcs</td></tr><tr><td>5% Dextrose saline 1000ml</td><td>0Pcs</td></tr><tr><td>5% Dextrose water 500ml</td><td>0Pcs</td></tr><tr><td>0.9% Normal saline 1000ml</td><td>0Pcs</td></tr><tr><td>Infusion Sets 23g</td><td>0Pcs</td></tr><tr><td>Cotton Wool 100g</td><td>0Pcs</td></tr><tr><td>5% Dextrose saline 1000ml</td><td>0Pcs</td></tr><tr><td>5% Dextrose water 500ml</td><td>0Pcs</td></tr><tr><td>Cotton Wool 100g</td><td>0Pcs</td></tr><tr><td>5% Dextrose saline 1000ml</td><td>0Pcs</td></tr><tr><td>5% Dextrose water 500ml</td><td>0Pcs</td></tr><tr><td>0.9% Normal saline 1000ml</td><td>0Pcs</td></tr><tr><td>5% Dextrose saline 1000ml</td><td>0Pcs</td></tr><tr><td>5% Dextrose water 500ml</td><td>0Pcs</td></tr><tr><td>0.9% Normal saline 1000ml</td><td>0Pcs</td></tr><tr><td>5% Dextrose saline 1000ml</td><td>0Pcs</td></tr><tr><td>5% Dextrose water 500ml</td><td>0Pcs</td></tr><tr><td>0.9% Normal saline 1000ml</td><td>0Pcs</td></tr><tr><td>5% Dextrose water 500mls</td><td>0Pcs</td></tr><tr><td>Cotton Wool 100g</td><td>0Pcs</td></tr><tr><td>5% Dextrose saline 1000ml</td><td>0Pcs</td></tr><tr><td>5% Dextrose water 500ml</td><td>0Pcs</td></tr><tr><td>0.9% Normal saline 1000ml</td><td>0Pcs</td></tr><tr><td>Infusion Sets 23g</td><td>0Pcs</td></tr><tr><td>5% Dextrose saline 1000ml</td><td>0Pcs</td></tr><tr><td>5% Dextrose water 500ml</td><td>0Pcs</td></tr><tr><td>Cotton Wool 100g</td><td>0Pcs</td></tr><tr><td>5% Dextrose saline 1000ml</td><td>0Pcs</td></tr><tr><td>5% Dextrose water 500ml</td><td>0Pcs</td></tr><tr><td>0.9% Normal saline 1000ml</td><td>0Pcs</td></tr><tr><td>5% Dextrose saline 1000ml</td><td>0Pcs</td></tr><tr><td>5% Dextrose water 500ml</td><td>0Pcs</td></tr><tr><td>0.9% Normal saline 1000ml</td><td>0Pcs</td></tr><tr><td>Cotton Wool 100g</td><td>0Pcs</td></tr><tr><td>5% Dextrose saline 1000ml</td><td>0Pcs</td></tr><tr><td>5% Dextrose water 500ml</td><td>0Pcs</td></tr><tr><td>0.9% Normal saline 1000ml</td><td>0Pcs</td></tr><tr><td>Cotton Wool 100g</td><td>0Pcs</td></tr><tr><td>5% Dextrose saline 1000ml</td><td>0Pcs</td></tr><tr><td>5% Dextrose water 500ml</td><td>0Pcs</td></tr><tr><td>0.9% Normal saline 1000ml</td><td>0Pcs</td></tr><tr><td>5% Dextrose saline 1000ml</td><td>0Pcs</td></tr><tr><td>5% Dextrose water 500ml</td><td>0Pcs</td></tr><tr><td>0.9% Normal saline 1000ml</td><td>0Pcs</td></tr><tr><td>Infusion Sets 23g</td><td>0Pcs</td></tr><tr><td>5% Dextrose water 500mls</td><td>0Pcs</td></tr><tr><td>5% Dextrose saline 1000ml</td><td>0Pcs</td></tr><tr><td>5% Dextrose water 500ml</td><td>0Pcs</td></tr><tr><td>0.9% Normal saline 1000ml</td><td>0Pcs</td></tr><tr><td>Infusion Sets 23g</td><td>0Pcs</td></tr><tr><td>Cotton Wool 100g</td><td>0Pcs</td></tr><tr><td>5% Dextrose saline 1000ml</td><td>0Pcs</td></tr><tr><td>5% Dextrose saline 1000ml</td><td>0Pcs</td></tr><tr><td>5% Dextrose water 500ml</td><td>0Pcs</td></tr><tr><td>0.9% Normal saline 1000ml</td><td>0Pcs</td></tr><tr><td>Infusion Sets 23g</td><td>0Pcs</td></tr><tr><td>Cotton Wool 100g</td><td>0Pcs</td></tr><tr><td>5% Dextrose saline 1000ml</td><td>0Pcs</td></tr><tr><td>5% Dextrose water 500ml</td><td>0Pcs</td></tr><tr><td>0.9% Normal saline 1000ml</td><td>0Pcs</td></tr><tr><td>Infusion Sets 23g</td><td>0Pcs</td></tr><tr><td>Cotton Wool 100g</td><td>0Pcs</td></tr><tr><td>5% Dextrose saline 1000ml</td><td>0Pcs</td></tr><tr><td>5% Dextrose water 500ml</td><td>0Pcs</td></tr><tr><td>0.9% Normal saline 1000ml</td><td>0Pcs</td></tr><tr><td>Infusion Sets 23g</td><td>0Pcs</td></tr><tr><td>Cotton Wool 100g</td><td>0Pcs</td></tr><tr><td>5% Dextrose saline 1000ml</td><td>0Pcs</td></tr><tr><td>5% Dextrose water 500ml</td><td>0Pcs</td></tr><tr><td>0.9% Normal saline 1000ml</td><td>0Pcs</td></tr><tr><td>Infusion Sets 23g</td><td>0Pcs</td></tr><tr><td>Cotton Wool 100g</td><td>0Pcs</td></tr><tr><td>5% Dextrose saline 1000ml</td><td>0Pcs</td></tr><tr><td>5% Dextrose water 500ml</td><td>0Pcs</td></tr><tr><td>0.9% Normal saline 1000ml</td><td>0Pcs</td></tr><tr><td>Cotton Wool 100g</td><td>0Pcs</td></tr><tr><td>5% Dextrose saline 1000ml</td><td>0Pcs</td></tr><tr><td>5% Dextrose water 500ml</td><td>0Pcs</td></tr><tr><td>0.9% Normal saline 1000ml</td><td>0Pcs</td></tr><tr><td>Infusion Sets 23g</td><td>0Pcs</td></tr><tr><td>5% Dextrose saline 1000ml</td><td>0Pcs</td></tr><tr><td>Cotton Wool 100g</td><td>0Pcs</td></tr><tr><td>5% Dextrose saline 1000ml</td><td>0Pcs</td></tr><tr><td>5% Dextrose water 500ml</td><td>0Pcs</td></tr><tr><td>0.9% Normal saline 1000ml</td><td>0Pcs</td></tr><tr><td>Cotton Wool 100g</td><td>0Pcs</td></tr><tr><td>5% Dextrose saline 1000ml</td><td>0Pcs</td></tr><tr><td>5% Dextrose water 500ml</td><td>0Pcs</td></tr><tr><td>0.9% Normal saline 1000ml</td><td>0Pcs</td></tr><tr><td>Cotton Wool 100g</td><td>0Pcs</td></tr><tr><td>5% Dextrose saline 1000ml</td><td>0Pcs</td></tr><tr><td>5% Dextrose water 500ml</td><td>0Pcs</td></tr><tr><td>0.9% Normal saline 1000ml</td><td>0Pcs</td></tr><tr><td>Infusion Sets 23g</td><td>0Pcs</td></tr><tr><td>5% Dextrose water 500ml</td><td>0Pcs</td></tr><tr><td>0.9% Normal saline 1000ml</td><td>0Pcs</td></tr><tr><td>Infusion Sets 23g</td><td>0Pcs</td></tr><tr><td>Cotton Wool 100g</td><td>0Pcs</td></tr><tr><td>5% Dextrose saline 1000ml</td><td>0Pcs</td></tr><tr><td>5% Dextrose water 500ml</td><td>0Pcs</td></tr><tr><td>0.9% Normal saline 1000ml</td><td>0Pcs</td></tr><tr><td>Cotton Wool 100g</td><td>0Pcs</td></tr><tr><td>5% Dextrose saline 1000ml</td><td>0Pcs</td></tr><tr><td>5% Dextrose water 500ml</td><td>0Pcs</td></tr><tr><td>0.9% Normal saline 1000ml</td><td>0Pcs</td></tr><tr><td>Infusion Sets 23g</td><td>0Pcs</td></tr><tr><td>Cotton Wool 100g</td><td>0Pcs</td></tr><tr><td>5% Dextrose saline 1000ml</td><td>0Pcs</td></tr><tr><td>5% Dextrose water 500ml</td><td>0Pcs</td></tr><tr><td>0.9% Normal saline 1000ml</td><td>0Pcs</td></tr><tr><td>Infusion Sets 23g</td><td>0Pcs</td></tr><tr><td>Cotton Wool 100g</td><td>0Pcs</td></tr><tr><td>5% Dextrose saline 1000ml</td><td>0Pcs</td></tr><tr><td>5% Dextrose water 500ml</td><td>0Pcs</td></tr><tr><td>0.9% Normal saline 1000ml</td><td>0Pcs</td></tr><tr><td>Cotton Wool 100g</td><td>0Pcs</td></tr><tr><td>5% Dextrose saline 1000ml</td><td>0Pcs</td></tr><tr><td>0.9% Normal saline 1000ml</td><td>0Pcs</td></tr><tr><td>Infusion Sets 23g</td><td>0Pcs</td></tr><tr><td>Cotton Wool 100g</td><td>0Pcs</td></tr><tr><td>5% Dextrose saline 1000ml</td><td>0Pcs</td></tr><tr><td>0.9% Normal saline 1000ml</td><td>0Pcs</td></tr><tr><td>Infusion Sets 23g</td><td>0Pcs</td></tr><tr><td>I.V Metronidazole 200mg</td><td>0Pcs</td></tr><tr><td>I.V Metronidazole 200mg</td><td>0Pcs</td></tr><tr><td>I.V Metronidazole 200mg</td><td>0Pcs</td></tr><tr><td>I.V Metronidazole 200mg</td><td>0Pcs</td></tr><tr><td>I.V Metronidazole 200mg</td><td>0Pcs</td></tr><tr><td>I.V Metronidazole 200mg</td><td>0Pcs</td></tr><tr><td>I.V Metronidazole 200mg</td><td>0Pcs</td></tr><tr><td>I.V Metronidazole 200mg</td><td>0Pcs</td></tr><tr><td>I.V Metronidazole 200mg</td><td>0Pcs</td></tr><tr><td>I.V Metronidazole 200mg</td><td>0Pcs</td></tr><tr><td>I.V Metronidazole 200mg</td><td>0Pcs</td></tr><tr><td>I.V Metronidazole 200mg</td><td>0Pcs</td></tr><tr><td>I.V Metronidazole 200mg</td><td>0Pcs</td></tr><tr><td>I.V Metronidazole 200mg</td><td>0Pcs</td></tr><tr><td>I.V Metronidazole 200mg</td><td>0Pcs</td></tr><tr><td>I.V Metronidazole 200mg</td><td>0Pcs</td></tr><tr><td>I.V Metronidazole 200mg</td><td>0Pcs</td></tr><tr><td>I.V Metronidazole 200mg</td><td>0Pcs</td></tr><tr><td>I.V Metronidazole 200mg</td><td>0Pcs</td></tr><tr><td>I.V Metronidazole 200mg</td><td>0Pcs</td></tr><tr><td>I.V Metronidazole 200mg</td><td>0Pcs</td></tr><tr><td>I.V Metronidazole 200mg</td><td>0Pcs</td></tr><tr><td>I.V Metronidazole 200mg</td><td>0Pcs</td></tr><tr><td>I.V Metronidazole 200mg</td><td>0Pcs</td></tr><tr><td>I.V Metronidazole 200mg</td><td>0Pcs</td></tr><tr><td>I.V Metronidazole 200mg</td><td>0Pcs</td></tr><tr><td>I.V Metronidazole 200mg</td><td>0Pcs</td></tr><tr><td>I.V Metronidazole 200mg</td><td>0Pcs</td></tr><tr><td>I.V Metronidazole 200mg</td><td>0Pcs</td></tr><tr><td>I.V Metronidazole 200mg</td><td>0Pcs</td></tr><tr><td>I.V Metronidazole 200mg</td><td>0Pcs</td></tr><tr><td>I.V Metronidazole 200mg</td><td>0Pcs</td></tr><tr><td>I.V Metronidazole 200mg</td><td>0Pcs</td></tr><tr><td>I.V Metronidazole 200mg</td><td>0Pcs</td></tr><tr><td>I.V Metronidazole 200mg</td><td>0Pcs</td></tr><tr><td>I.V Metronidazole 200mg</td><td>0Pcs</td></tr><tr><td>I.V Metronidazole 200mg</td><td>0Pcs</td></tr><tr><td>I.V Metronidazole 200mg</td><td>0Pcs</td></tr><tr><td>I.V Metronidazole 200mg</td><td>0Pcs</td></tr><tr><td>I.V Metronidazole 200mg</td><td>0Pcs</td></tr><tr><td>I.V Metronidazole 200mg</td><td>0Pcs</td></tr><tr><td>I.V Metronidazole 200mg</td><td>0Pcs</td></tr><tr><td>I.V Metronidazole 200mg</td><td>0Pcs</td></tr><tr><td>I.V Metronidazole 200mg</td><td>0Pcs</td></tr><tr><td>I.V Metronidazole 200mg</td><td>0Pcs</td></tr><tr><td>I.V Metronidazole 200mg</td><td>0Pcs</td></tr><tr><td>I.V Metronidazole 200mg</td><td>0Pcs</td></tr><tr><td>I.V Metronidazole 200mg</td><td>0Pcs</td></tr><tr><td>I.V Metronidazole 200mg</td><td>0Pcs</td></tr><tr><td>I.V Metronidazole 200mg</td><td>0Pcs</td></tr><tr><td>I.V Metronidazole 200mg</td><td>0Pcs</td></tr><tr><td>I.V Metronidazole 200mg</td><td>0Pcs</td></tr><tr><td>I.V Metronidazole 200mg</td><td>0Pcs</td></tr><tr><td>I.V Metronidazole 200mg</td><td>0Pcs</td></tr><tr><td>I.V Metronidazole 200mg</td><td>0Pcs</td></tr><tr><td>I.V Metronidazole 200mg</td><td>0Pcs</td></tr><tr><td>I.V Metronidazole 200mg</td><td>0Pcs</td></tr><tr><td>I.V Metronidazole 200mg</td><td>0Pcs</td></tr><tr><td>I.V Metronidazole 200mg</td><td>0Pcs</td></tr><tr><td>I.V Metronidazole 200mg</td><td>0Pcs</td></tr><tr><td>I.V Metronidazole 200mg</td><td>0Pcs</td></tr><tr><td>I.V Metronidazole 200mg</td><td>0Pcs</td></tr><tr><td>I.V Metronidazole 200mg</td><td>0Pcs</td></tr><tr><td>I.V Metronidazole 200mg</td><td>0Pcs</td></tr><tr><td>I.V Metronidazole 200mg</td><td>0Pcs</td></tr><tr><td>I.V Metronidazole 200mg</td><td>0Pcs</td></tr><tr><td>I.V Metronidazole 200mg</td><td>0Pcs</td></tr><tr><td>Darrows solution full strength 500ml</td><td>0Pcs</td></tr><tr><td>Darrows solution full strength 500ml</td><td>0Pcs</td></tr><tr><td>Darrows solution full strength 500ml</td><td>0Pcs</td></tr><tr><td>Darrows solution full strength 500ml</td><td>0Pcs</td></tr><tr><td>Darrows solution full strength 500ml</td><td>0Pcs</td></tr><tr><td>Darrows solution full strength 500ml</td><td>0Pcs</td></tr><tr><td>Darrows solution full strength 500ml</td><td>0Pcs</td></tr><tr><td>Darrows solution full strength 500ml</td><td>0Pcs</td></tr><tr><td>Darrows solution full strength 500ml</td><td>0Pcs</td></tr><tr><td>Darrows solution full strength 500ml</td><td>0Pcs</td></tr><tr><td>Darrows solution full strength 500ml</td><td>0Pcs</td></tr><tr><td>Darrows solution full strength 500ml</td><td>0Pcs</td></tr><tr><td>Darrows solution full strength 500ml</td><td>0Pcs</td></tr><tr><td>Darrows solution full strength 500ml</td><td>0Pcs</td></tr><tr><td>Darrows solution full strength 500ml</td><td>0Pcs</td></tr><tr><td>Darrows solution full strength 500ml</td><td>0Pcs</td></tr><tr><td>Darrows solution full strength 500ml</td><td>0Pcs</td></tr><tr><td>Darrows solution full strength 500ml</td><td>0Pcs</td></tr><tr><td>Darrows solution full strength 500ml</td><td>0Pcs</td></tr><tr><td>Darrows solution full strength 500ml</td><td>0Pcs</td></tr><tr><td>Darrows solution full strength 500ml</td><td>0Pcs</td></tr><tr><td>Darrows solution full strength 500ml</td><td>0Pcs</td></tr><tr><td>Darrows solution full strength 500ml</td><td>0Pcs</td></tr><tr><td>Darrows solution full strength 500ml</td><td>0Pcs</td></tr><tr><td>Darrows solution full strength 500ml</td><td>0Pcs</td></tr><tr><td>Darrows solution full strength 500ml</td><td>0Pcs</td></tr><tr><td>Darrows solution full strength 500ml</td><td>0Pcs</td></tr><tr><td>Darrows solution full strength 500ml</td><td>0Pcs</td></tr><tr><td>Darrows solution full strength 500ml</td><td>0Pcs</td></tr><tr><td>Darrows solution full strength 500ml</td><td>0Pcs</td></tr><tr><td>Darrows solution full strength 500ml</td><td>0Pcs</td></tr><tr><td>Darrows solution full strength 500ml</td><td>0Pcs</td></tr><tr><td>Darrows solution full strength 500ml</td><td>0Pcs</td></tr><tr><td>Darrows solution full strength 500ml</td><td>0Pcs</td></tr><tr><td>Darrows solution full strength 500ml</td><td>0Pcs</td></tr><tr><td>Darrows solution full strength 500ml</td><td>0Pcs</td></tr><tr><td>Darrows solution full strength 500ml</td><td>0Pcs</td></tr><tr><td>Darrows solution full strength 500ml</td><td>0Pcs</td></tr><tr><td>Darrows solution full strength 500ml</td><td>0Pcs</td></tr><tr><td>Darrows solution full strength 500ml</td><td>0Pcs</td></tr><tr><td>Darrows solution full strength 500ml</td><td>0Pcs</td></tr><tr><td>Darrows solution full strength 500ml</td><td>0Pcs</td></tr><tr><td>Darrows solution full strength 500ml</td><td>0Pcs</td></tr><tr><td>Darrows solution full strength 500ml</td><td>0Pcs</td></tr><tr><td>Darrows solution full strength 500ml</td><td>0Pcs</td></tr><tr><td>Darrows solution full strength 500ml</td><td>0Pcs</td></tr><tr><td>Darrows solution full strength 500ml</td><td>0Pcs</td></tr><tr><td>Darrows solution full strength 500ml</td><td>0Pcs</td></tr><tr><td>Darrows solution full strength 500ml</td><td>0Pcs</td></tr><tr><td>Darrows solution full strength 500ml</td><td>0Pcs</td></tr><tr><td>Darrows solution full strength 500ml</td><td>0Pcs</td></tr><tr><td>Darrows solution full strength 500ml</td><td>0Pcs</td></tr><tr><td>Darrows solution full strength 500ml</td><td>0Pcs</td></tr><tr><td>Darrows solution full strength 500ml</td><td>0Pcs</td></tr><tr><td>Darrows solution full strength 500ml</td><td>0Pcs</td></tr><tr><td>Darrows solution full strength 500ml</td><td>0Pcs</td></tr><tr><td>Darrows solution full strength 500ml</td><td>0Pcs</td></tr><tr><td>Darrows solution full strength 500ml</td><td>0Pcs</td></tr><tr><td>Darrows solution full strength 500ml</td><td>0Pcs</td></tr><tr><td>Darrows solution full strength 500ml</td><td>0Pcs</td></tr><tr><td>Darrows solution full strength 500ml</td><td>0Pcs</td></tr><tr><td>Darrows solution full strength 500ml</td><td>0Pcs</td></tr><tr><td>Darrows solution full strength 500ml</td><td>0Pcs</td></tr><tr><td>Darrows solution full strength 500ml</td><td>0Pcs</td></tr><tr><td>Darrows solution full strength 500ml</td><td>0Pcs</td></tr><tr><td>Darrows solution full strength 500ml</td><td>0Pcs</td></tr><tr><td>Darrows solution full strength 500ml</td><td>0Pcs</td></tr><tr><td>Darrows solution full strength 500ml</td><td>0Pcs</td></tr><tr><td>Darrows solution 1/2 strength 500ml</td><td>0Pcs</td></tr><tr><td>Darrows solution 1/2 strength 500ml</td><td>0Pcs</td></tr><tr><td>Darrows solution 1/2 strength 500ml</td><td>0Pcs</td></tr><tr><td>Darrows solution 1/2 strength 500ml</td><td>0Pcs</td></tr><tr><td>Darrows solution 1/2 strength 500ml</td><td>0Pcs</td></tr><tr><td>Darrows solution 1/2 strength 500ml</td><td>0Pcs</td></tr><tr><td>Darrows solution 1/2 strength 500ml</td><td>0Pcs</td></tr><tr><td>Darrows solution 1/2 strength 500ml</td><td>0Pcs</td></tr><tr><td>Darrows solution 1/2 strength 500ml</td><td>0Pcs</td></tr><tr><td>Darrows solution 1/2 strength 500ml</td><td>0Pcs</td></tr><tr><td>Darrows solution 1/2 strength 500ml</td><td>0Pcs</td></tr><tr><td>Darrows solution 1/2 strength 500ml</td><td>0Pcs</td></tr><tr><td>Darrows solution 1/2 strength 500ml</td><td>0Pcs</td></tr><tr><td>Darrows solution 1/2 strength 500ml</td><td>0Pcs</td></tr><tr><td>Darrows solution 1/2 strength 500ml</td><td>0Pcs</td></tr><tr><td>Darrows solution 1/2 strength 500ml</td><td>0Pcs</td></tr><tr><td>Darrows solution 1/2 strength 500ml</td><td>0Pcs</td></tr><tr><td>Darrows solution 1/2 strength 500ml</td><td>0Pcs</td></tr><tr><td>Darrows solution 1/2 strength 500ml</td><td>0Pcs</td></tr><tr><td>Darrows solution 1/2 strength 500ml</td><td>0Pcs</td></tr><tr><td>Darrows solution 1/2 strength 500ml</td><td>0Pcs</td></tr><tr><td>Darrows solution 1/2 strength 500ml</td><td>0Pcs</td></tr><tr><td>Darrows solution 1/2 strength 500ml</td><td>0Pcs</td></tr><tr><td>Darrows solution 1/2 strength 500ml</td><td>0Pcs</td></tr><tr><td>Darrows solution 1/2 strength 500ml</td><td>0Pcs</td></tr><tr><td>Darrows solution 1/2 strength 500ml</td><td>0Pcs</td></tr><tr><td>Darrows solution 1/2 strength 500ml</td><td>0Pcs</td></tr><tr><td>Darrows solution 1/2 strength 500ml</td><td>0Pcs</td></tr><tr><td>Darrows solution 1/2 strength 500ml</td><td>0Pcs</td></tr><tr><td>Darrows solution 1/2 strength 500ml</td><td>0Pcs</td></tr><tr><td>Darrows solution 1/2 strength 500ml</td><td>0Pcs</td></tr><tr><td>Darrows solution 1/2 strength 500ml</td><td>0Pcs</td></tr><tr><td>Darrows solution 1/2 strength 500ml</td><td>0Pcs</td></tr><tr><td>Darrows solution 1/2 strength 500ml</td><td>0Pcs</td></tr><tr><td>Darrows solution 1/2 strength 500ml</td><td>0Pcs</td></tr><tr><td>Darrows solution 1/2 strength 500ml</td><td>0Pcs</td></tr><tr><td>Darrows solution 1/2 strength 500ml</td><td>0Pcs</td></tr><tr><td>Darrows solution 1/2 strength 500ml</td><td>0Pcs</td></tr><tr><td>Darrows solution 1/2 strength 500ml</td><td>0Pcs</td></tr><tr><td>Darrows solution 1/2 strength 500ml</td><td>0Pcs</td></tr><tr><td>Darrows solution 1/2 strength 500ml</td><td>0Pcs</td></tr><tr><td>Darrows solution 1/2 strength 500ml</td><td>0Pcs</td></tr><tr><td>Darrows solution 1/2 strength 500ml</td><td>0Pcs</td></tr><tr><td>Darrows solution 1/2 strength 500ml</td><td>0Pcs</td></tr><tr><td>Darrows solution 1/2 strength 500ml</td><td>0Pcs</td></tr><tr><td>Darrows solution 1/2 strength 500ml</td><td>0Pcs</td></tr><tr><td>Darrows solution 1/2 strength 500ml</td><td>0Pcs</td></tr><tr><td>Darrows solution 1/2 strength 500ml</td><td>0Pcs</td></tr><tr><td>Darrows solution 1/2 strength 500ml</td><td>0Pcs</td></tr><tr><td>Darrows solution 1/2 strength 500ml</td><td>0Pcs</td></tr><tr><td>Darrows solution 1/2 strength 500ml</td><td>0Pcs</td></tr><tr><td>Darrows solution 1/2 strength 500ml</td><td>0Pcs</td></tr><tr><td>Darrows solution 1/2 strength 500ml</td><td>0Pcs</td></tr><tr><td>Darrows solution 1/2 strength 500ml</td><td>0Pcs</td></tr><tr><td>Darrows solution 1/2 strength 500ml</td><td>0Pcs</td></tr><tr><td>Darrows solution 1/2 strength 500ml</td><td>0Pcs</td></tr><tr><td>Darrows solution 1/2 strength 500ml</td><td>0Pcs</td></tr><tr><td>Darrows solution 1/2 strength 500ml</td><td>0Pcs</td></tr><tr><td>Darrows solution 1/2 strength 500ml</td><td>0Pcs</td></tr><tr><td>Darrows solution 1/2 strength 500ml</td><td>0Pcs</td></tr><tr><td>Darrows solution 1/2 strength 500ml</td><td>0Pcs</td></tr><tr><td>Darrows solution 1/2 strength 500ml</td><td>0Pcs</td></tr><tr><td>Darrows solution 1/2 strength 500ml</td><td>0Pcs</td></tr><tr><td>Darrows solution 1/2 strength 500ml</td><td>0Pcs</td></tr><tr><td>Darrows solution 1/2 strength 500ml</td><td>0Pcs</td></tr><tr><td>Darrows solution 1/2 strength 500ml</td><td>0Pcs</td></tr><tr><td>Darrows solution 1/2 strength 500ml</td><td>0Pcs</td></tr><tr><td>Darrows solution 1/2 strength 500ml</td><td>0Pcs</td></tr><tr><td>Darrows solution 1/2 strength 500ml</td><td>0Pcs</td></tr><tr><td>Chlorhexidine Gel</td><td>0Tube</td></tr><tr><td>Disposable gloves</td><td>0Pairs</td></tr><tr><td>Gutt/Ear Gentamycin 0.05</td><td>0Tube</td></tr><tr><td>inj Anti tetanus Serum (ATS) 1500i.u</td><td>0Amp</td></tr><tr><td>Inj Artmether 80mg/ml</td><td>0Amp</td></tr><tr><td>inj Hydrocortisone 100mg</td><td>0Vial</td></tr><tr><td>inj Tetanus Toxoid 0.5ml</td><td>0Amp</td></tr><tr><td>Chlorhexidine Gel</td><td>0Tube</td></tr><tr><td>Inj Artmether 80mg/ml</td><td>0Amp</td></tr><tr><td>inj Benzylpenicillin 1mu</td><td>0Vial</td></tr><tr><td>inj Hydrocortisone 100mg</td><td>0Vial</td></tr><tr><td>Chlorhexidine Gel</td><td>0Tube</td></tr><tr><td>Disposable gloves</td><td>0Pairs</td></tr><tr><td>Gutt/Ear Gentamycin 0.05</td><td>0Tube</td></tr><tr><td>inj Anti tetanus Serum (ATS) 1500i.u</td><td>0Amp</td></tr><tr><td>Inj Artmether 80mg/ml</td><td>0Amp</td></tr><tr><td>inj Hydrocortisone 100mg</td><td>0Vial</td></tr><tr><td>inj Tetanus Toxoid 0.5ml</td><td>0Amp</td></tr><tr><td>Chlorhexidine Gel</td><td>0Tube</td></tr><tr><td>Disposable gloves</td><td>0Pairs</td></tr><tr><td>Inj Artmether 80mg/ml</td><td>0Amp</td></tr><tr><td>inj Benzylpenicillin 1mu</td><td>0Vial</td></tr><tr><td>inj Hydrocortisone 100mg</td><td>0Vial</td></tr><tr><td>Chlorhexidine Gel</td><td>0Tube</td></tr><tr><td>Gutt/Ear Gentamycin 0.05</td><td>0Tube</td></tr><tr><td>inj Anti tetanus Serum (ATS) 1500i.u</td><td>0Amp</td></tr><tr><td>Inj Artmether 80mg/ml</td><td>0Amp</td></tr><tr><td>inj Hydrocortisone 100mg</td><td>0Vial</td></tr><tr><td>inj Tetanus Toxoid 0.5ml</td><td>0Amp</td></tr><tr><td>Chlorhexidine Gel</td><td>0Tube</td></tr><tr><td>Disposable gloves</td><td>0Pairs</td></tr><tr><td>Inj Artmether 80mg/ml</td><td>0Amp</td></tr><tr><td>inj Benzylpenicillin 1mu</td><td>0Vial</td></tr><tr><td>inj Hydrocortisone 100mg</td><td>0Vial</td></tr><tr><td>Chlorhexidine Gel</td><td>0Tube</td></tr><tr><td>Gutt/Ear Gentamycin 0.05</td><td>0Tube</td></tr><tr><td>inj Anti tetanus Serum (ATS) 1500i.u</td><td>0Amp</td></tr><tr><td>Inj Artmether 80mg/ml</td><td>0Amp</td></tr><tr><td>inj Hydrocortisone 100mg</td><td>0Vial</td></tr><tr><td>inj Tetanus Toxoid 0.5ml</td><td>0Amp</td></tr><tr><td>Chlorhexidine Gel</td><td>0Tube</td></tr><tr><td>Disposable gloves</td><td>0Pairs</td></tr><tr><td>Gutt/Ear Gentamycin 0.05</td><td>0Tube</td></tr><tr><td>inj Anti tetanus Serum (ATS) 1500i.u</td><td>0Amp</td></tr><tr><td>Inj Artmether 80mg/ml</td><td>0Amp</td></tr><tr><td>inj Benzylpenicillin 1mu</td><td>0Vial</td></tr><tr><td>inj Hydrocortisone 100mg</td><td>0Vial</td></tr><tr><td>inj Tetanus Toxoid 0.5ml</td><td>0Amp</td></tr><tr><td>Chlorhexidine Gel</td><td>0Tube</td></tr><tr><td>Inj Artmether 80mg/ml</td><td>0Amp</td></tr><tr><td>inj Benzylpenicillin 1mu</td><td>0Vial</td></tr><tr><td>inj Hydrocortisone 100mg</td><td>0Vial</td></tr><tr><td>Chlorhexidine Gel</td><td>0Tube</td></tr><tr><td>Disposable gloves</td><td>0Pairs</td></tr><tr><td>Inj Artmether 80mg/ml</td><td>0Amp</td></tr><tr><td>inj Benzylpenicillin 1mu</td><td>0Vial</td></tr><tr><td>inj Hydrocortisone 100mg</td><td>0Vial</td></tr><tr><td>Chlorhexidine Gel</td><td>0Tube</td></tr><tr><td>Gutt/Ear Gentamycin 0.05</td><td>0Tube</td></tr><tr><td>inj Anti tetanus Serum (ATS) 1500i.u</td><td>0Amp</td></tr><tr><td>Inj Artmether 80mg/ml</td><td>0Amp</td></tr><tr><td>inj Hydrocortisone 100mg</td><td>0Vial</td></tr><tr><td>inj Tetanus Toxoid 0.5ml</td><td>0Amp</td></tr><tr><td>Chlorhexidine Gel</td><td>0Tube</td></tr><tr><td>Disposable gloves</td><td>0Pairs</td></tr><tr><td>Inj Artmether 80mg/ml</td><td>0Amp</td></tr><tr><td>inj Benzylpenicillin 1mu</td><td>0Vial</td></tr><tr><td>inj Hydrocortisone 100mg</td><td>0Vial</td></tr><tr><td>Chlorhexidine Gel</td><td>0Tube</td></tr><tr><td>Disposable gloves</td><td>0Pairs</td></tr><tr><td>Inj Artmether 80mg/ml</td><td>0Amp</td></tr><tr><td>inj Benzylpenicillin 1mu</td><td>0Vial</td></tr><tr><td>inj Hydrocortisone 100mg</td><td>0Vial</td></tr><tr><td>Chlorhexidine Gel</td><td>0Tube</td></tr><tr><td>Disposable gloves</td><td>0Pairs</td></tr><tr><td>Gutt/Ear Gentamycin 0.05</td><td>0Tube</td></tr><tr><td>inj Anti tetanus Serum (ATS) 1500i.u</td><td>0Amp</td></tr><tr><td>Inj Artmether 80mg/ml</td><td>0Amp</td></tr><tr><td>inj Hydrocortisone 100mg</td><td>0Vial</td></tr><tr><td>inj Tetanus Toxoid 0.5ml</td><td>0Amp</td></tr><tr><td>Chlorhexidine Gel</td><td>0Tube</td></tr><tr><td>Gutt/Ear Gentamycin 0.05</td><td>0Tube</td></tr><tr><td>inj Anti tetanus Serum (ATS) 1500i.u</td><td>0Amp</td></tr><tr><td>Inj Artmether 80mg/ml</td><td>0Amp</td></tr><tr><td>inj Hydrocortisone 100mg</td><td>0Vial</td></tr><tr><td>inj Tetanus Toxoid 0.5ml</td><td>0Amp</td></tr><tr><td>Chlorhexidine Gel</td><td>0Tube</td></tr><tr><td>Disposable gloves</td><td>0Pairs</td></tr><tr><td>Inj Artmether 80mg/ml</td><td>0Amp</td></tr><tr><td>inj Benzylpenicillin 1mu</td><td>0Vial</td></tr><tr><td>inj Hydrocortisone 100mg</td><td>0Vial</td></tr><tr><td>Chlorhexidine Gel</td><td>0Tube</td></tr><tr><td>Disposable gloves</td><td>0Pairs</td></tr><tr><td>Gutt/Ear Gentamycin 0.05</td><td>0Tube</td></tr><tr><td>inj Anti tetanus Serum (ATS) 1500i.u</td><td>0Amp</td></tr><tr><td>Inj Artmether 80mg/ml</td><td>0Amp</td></tr><tr><td>inj Hydrocortisone 100mg</td><td>0Vial</td></tr><tr><td>inj Tetanus Toxoid 0.5ml</td><td>0Amp</td></tr><tr><td>Chlorhexidine Gel</td><td>0Tube</td></tr><tr><td>Gutt/Ear Gentamycin 0.05</td><td>0Tube</td></tr><tr><td>inj Tetanus Toxoid 0.5ml</td><td>0Amp</td></tr><tr><td>Chlorhexidine Gel</td><td>0Tube</td></tr><tr><td>Disposable gloves</td><td>0Pairs</td></tr><tr><td>inj Anti tetanus Serum (ATS) 1500i.u</td><td>0Amp</td></tr><tr><td>Inj Artmether 80mg/ml</td><td>0Amp</td></tr><tr><td>inj Benzylpenicillin 1mu</td><td>0Vial</td></tr><tr><td>inj Tetanus Toxoid 0.5ml</td><td>0Amp</td></tr><tr><td>Chlorhexidine Gel</td><td>0Tube</td></tr><tr><td>Disposable gloves</td><td>0Pairs</td></tr><tr><td>inj Anti tetanus Serum (ATS) 1500i.u</td><td>0Amp</td></tr><tr><td>Inj Artmether 80mg/ml</td><td>0Amp</td></tr><tr><td>inj Hydrocortisone 100mg</td><td>0Vial</td></tr><tr><td>inj Tetanus Toxoid 0.5ml</td><td>0Amp</td></tr><tr><td>Chlorhexidine Gel</td><td>0Tube</td></tr><tr><td>Disposable gloves</td><td>0Pairs</td></tr><tr><td>Gutt/Ear Gentamycin 0.05</td><td>0Tube</td></tr><tr><td>inj Anti tetanus Serum (ATS) 1500i.u</td><td>0Amp</td></tr><tr><td>Inj Artmether 80mg/ml</td><td>0Amp</td></tr><tr><td>inj Benzylpenicillin 1mu</td><td>0Vial</td></tr><tr><td>inj Hydrocortisone 100mg</td><td>0Vial</td></tr><tr><td>inj Tetanus Toxoid 0.5ml</td><td>0Amp</td></tr><tr><td>Chlorhexidine Gel</td><td>0Tube</td></tr><tr><td>Disposable gloves</td><td>0Pairs</td></tr><tr><td>Inj Artmether 80mg/ml</td><td>0Amp</td></tr><tr><td>inj Benzylpenicillin 1mu</td><td>0Vial</td></tr><tr><td>Chlorhexidine Gel</td><td>0Tube</td></tr><tr><td>Disposable gloves</td><td>0Pairs</td></tr><tr><td>Gutt/Ear Gentamycin 0.05</td><td>0Tube</td></tr><tr><td>Inj Artmether 80mg/ml</td><td>0Amp</td></tr><tr><td>inj Benzylpenicillin 1mu</td><td>0Vial</td></tr><tr><td>inj Hydrocortisone 100mg</td><td>0Vial</td></tr><tr><td>Chlorhexidine Gel</td><td>0Tube</td></tr><tr><td>Disposable gloves</td><td>0Pairs</td></tr><tr><td>Gutt/Ear Gentamycin 0.05</td><td>0Tube</td></tr><tr><td>inj Anti tetanus Serum (ATS) 1500i.u</td><td>0Amp</td></tr><tr><td>Inj Artmether 80mg/ml</td><td>0Amp</td></tr><tr><td>inj Hydrocortisone 100mg</td><td>0Vial</td></tr><tr><td>inj Tetanus Toxoid 0.5ml</td><td>0Amp</td></tr><tr><td>Chlorhexidine Gel</td><td>0Tube</td></tr><tr><td>Gutt/Ear Gentamycin 0.05</td><td>0Tube</td></tr><tr><td>inj Anti tetanus Serum (ATS) 1500i.u</td><td>0Amp</td></tr><tr><td>Inj Artmether 80mg/ml</td><td>0Amp</td></tr><tr><td>inj Hydrocortisone 100mg</td><td>0Vial</td></tr><tr><td>inj Tetanus Toxoid 0.5ml</td><td>0Amp</td></tr><tr><td>Chlorhexidine Gel</td><td>0Tube</td></tr><tr><td>Gutt/Ear Gentamycin 0.05</td><td>0Tube</td></tr><tr><td>inj Anti tetanus Serum (ATS) 1500i.u</td><td>0Amp</td></tr><tr><td>Inj Artmether 80mg/ml</td><td>0Amp</td></tr><tr><td>inj Hydrocortisone 100mg</td><td>0Vial</td></tr><tr><td>inj Tetanus Toxoid 0.5ml</td><td>0Amp</td></tr><tr><td>Chlorhexidine Gel</td><td>0Tube</td></tr><tr><td>Disposable gloves</td><td>0Pairs</td></tr><tr><td>Gutt/Ear Gentamycin 0.05</td><td>0Tube</td></tr><tr><td>inj Anti tetanus Serum (ATS) 1500i.u</td><td>0Amp</td></tr><tr><td>Inj Artmether 80mg/ml</td><td>0Amp</td></tr><tr><td>inj Benzylpenicillin 1mu</td><td>0Vial</td></tr><tr><td>inj Hydrocortisone 100mg</td><td>0Vial</td></tr><tr><td>inj Tetanus Toxoid 0.5ml</td><td>0Amp</td></tr><tr><td>Chlorhexidine Gel</td><td>0Tube</td></tr><tr><td>Gutt/Ear Gentamycin 0.05</td><td>0Tube</td></tr><tr><td>inj Anti tetanus Serum (ATS) 1500i.u</td><td>0Amp</td></tr><tr><td>Inj Artmether 80mg/ml</td><td>0Amp</td></tr><tr><td>inj Hydrocortisone 100mg</td><td>0Vial</td></tr><tr><td>inj Tetanus Toxoid 0.5ml</td><td>0Amp</td></tr><tr><td>Chlorhexidine Gel</td><td>0Tube</td></tr><tr><td>Gutt/Ear Gentamycin 0.05</td><td>0Tube</td></tr><tr><td>inj Anti tetanus Serum (ATS) 1500i.u</td><td>0Amp</td></tr><tr><td>Inj Artmether 80mg/ml</td><td>0Amp</td></tr><tr><td>inj Benzylpenicillin 1mu</td><td>0Vial</td></tr><tr><td>inj Hydrocortisone 100mg</td><td>0Vial</td></tr><tr><td>inj Tetanus Toxoid 0.5ml</td><td>0Amp</td></tr><tr><td>Chlorhexidine Gel</td><td>0Tube</td></tr><tr><td>Disposable gloves</td><td>0Pairs</td></tr><tr><td>Gutt/Ear Gentamycin 0.05</td><td>0Tube</td></tr><tr><td>inj Anti tetanus Serum (ATS) 1500i.u</td><td>0Amp</td></tr><tr><td>Inj Artmether 80mg/ml</td><td>0Amp</td></tr><tr><td>inj Benzylpenicillin 1mu</td><td>0Vial</td></tr><tr><td>inj Hydrocortisone 100mg</td><td>0Vial</td></tr><tr><td>inj Tetanus Toxoid 0.5ml</td><td>0Amp</td></tr><tr><td>Chlorhexidine Gel</td><td>0Tube</td></tr><tr><td>Disposable gloves</td><td>0Pairs</td></tr><tr><td>Gutt/Ear Gentamycin 0.05</td><td>0Tube</td></tr><tr><td>inj Anti tetanus Serum (ATS) 1500i.u</td><td>0Amp</td></tr><tr><td>Inj Artmether 80mg/ml</td><td>0Amp</td></tr><tr><td>inj Benzylpenicillin 1mu</td><td>0Vial</td></tr><tr><td>inj Hydrocortisone 100mg</td><td>0Vial</td></tr><tr><td>inj Tetanus Toxoid 0.5ml</td><td>0Amp</td></tr><tr><td>Chlorhexidine Gel</td><td>0Tube</td></tr><tr><td>Disposable gloves</td><td>0Pairs</td></tr><tr><td>Inj Artmether 80mg/ml</td><td>0Amp</td></tr><tr><td>inj Benzylpenicillin 1mu</td><td>0Vial</td></tr><tr><td>inj Hydrocortisone 100mg</td><td>0Vial</td></tr><tr><td>Chlorhexidine Gel</td><td>0Tube</td></tr><tr><td>Disposable gloves</td><td>0Pairs</td></tr><tr><td>inj Anti tetanus Serum (ATS) 1500i.u</td><td>0Amp</td></tr><tr><td>Inj Artmether 80mg/ml</td><td>0Amp</td></tr><tr><td>inj Benzylpenicillin 1mu</td><td>0Vial</td></tr><tr><td>inj Hydrocortisone 100mg</td><td>0Vial</td></tr><tr><td>Chlorhexidine Gel</td><td>0Tube</td></tr><tr><td>Disposable gloves</td><td>0Pairs</td></tr><tr><td>Inj Artmether 80mg/ml</td><td>0Amp</td></tr><tr><td>inj Benzylpenicillin 1mu</td><td>0Vial</td></tr><tr><td>inj Hydrocortisone 100mg</td><td>0Vial</td></tr><tr><td>Chlorhexidine Gel</td><td>0Tube</td></tr><tr><td>Disposable gloves</td><td>0Pairs</td></tr><tr><td>Gutt/Ear Gentamycin 0.05</td><td>0Tube</td></tr><tr><td>inj Anti tetanus Serum (ATS) 1500i.u</td><td>0Amp</td></tr><tr><td>Inj Artmether 80mg/ml</td><td>0Amp</td></tr><tr><td>inj Benzylpenicillin 1mu</td><td>0Vial</td></tr><tr><td>inj Hydrocortisone 100mg</td><td>0Vial</td></tr><tr><td>inj Tetanus Toxoid 0.5ml</td><td>0Amp</td></tr><tr><td>Chlorhexidine Gel</td><td>0Tube</td></tr><tr><td>Disposable gloves</td><td>0Pairs</td></tr><tr><td>inj Anti tetanus Serum (ATS) 1500i.u</td><td>0Amp</td></tr><tr><td>Inj Artmether 80mg/ml</td><td>0Amp</td></tr><tr><td>inj Tetanus Toxoid 0.5ml</td><td>0Amp</td></tr><tr><td>Chlorhexidine Gel</td><td>0Tube</td></tr><tr><td>Gutt/Ear Gentamycin 0.05</td><td>0Tube</td></tr><tr><td>inj Anti tetanus Serum (ATS) 1500i.u</td><td>0Amp</td></tr><tr><td>Inj Artmether 80mg/ml</td><td>0Amp</td></tr><tr><td>inj Benzylpenicillin 1mu</td><td>0Vial</td></tr><tr><td>inj Hydrocortisone 100mg</td><td>0Vial</td></tr><tr><td>inj Tetanus Toxoid 0.5ml</td><td>0Amp</td></tr><tr><td>Chlorhexidine Gel</td><td>0Tube</td></tr><tr><td>Disposable gloves</td><td>0Pairs</td></tr><tr><td>inj Anti tetanus Serum (ATS) 1500i.u</td><td>0Amp</td></tr><tr><td>Inj Artmether 80mg/ml</td><td>0Amp</td></tr><tr><td>inj Benzylpenicillin 1mu</td><td>0Vial</td></tr><tr><td>inj Tetanus Toxoid 0.5ml</td><td>0Amp</td></tr><tr><td>Chlorhexidine Gel</td><td>0Tube</td></tr><tr><td>Disposable gloves</td><td>0Pairs</td></tr><tr><td>inj Anti tetanus Serum (ATS) 1500i.u</td><td>0Amp</td></tr><tr><td>Inj Artmether 80mg/ml</td><td>0Amp</td></tr><tr><td>inj Hydrocortisone 100mg</td><td>0Vial</td></tr><tr><td>inj Tetanus Toxoid 0.5ml</td><td>0Amp</td></tr><tr><td>Chlorhexidine Gel</td><td>0Tube</td></tr><tr><td>Disposable gloves</td><td>0Pairs</td></tr><tr><td>Gutt/Ear Gentamycin 0.05</td><td>0Tube</td></tr><tr><td>Inj Artmether 80mg/ml</td><td>0Amp</td></tr><tr><td>inj Benzylpenicillin 1mu</td><td>0Vial</td></tr><tr><td>inj Hydrocortisone 100mg</td><td>0Vial</td></tr><tr><td>Chlorhexidine Gel</td><td>0Tube</td></tr><tr><td>Disposable gloves</td><td>0Pairs</td></tr><tr><td>Gutt/Ear Gentamycin 0.05</td><td>0Tube</td></tr><tr><td>inj Anti tetanus Serum (ATS) 1500i.u</td><td>0Amp</td></tr><tr><td>Inj Artmether 80mg/ml</td><td>0Amp</td></tr><tr><td>inj Benzylpenicillin 1mu</td><td>0Vial</td></tr><tr><td>inj Hydrocortisone 100mg</td><td>0Vial</td></tr><tr><td>inj Tetanus Toxoid 0.5ml</td><td>0Amp</td></tr><tr><td>Chlorhexidine Gel</td><td>0Tube</td></tr><tr><td>Disposable gloves</td><td>0Pairs</td></tr><tr><td>Gutt/Ear Gentamycin 0.05</td><td>0Tube</td></tr><tr><td>inj Anti tetanus Serum (ATS) 1500i.u</td><td>0Amp</td></tr><tr><td>Inj Artmether 80mg/ml</td><td>0Amp</td></tr><tr><td>inj Benzylpenicillin 1mu</td><td>0Vial</td></tr><tr><td>inj Hydrocortisone 100mg</td><td>0Vial</td></tr><tr><td>inj Tetanus Toxoid 0.5ml</td><td>0Amp</td></tr><tr><td>Chlorhexidine Gel</td><td>0Tube</td></tr><tr><td>Disposable gloves</td><td>0Pairs</td></tr><tr><td>Inj Artmether 80mg/ml</td><td>0Amp</td></tr><tr><td>inj Benzylpenicillin 1mu</td><td>0Vial</td></tr><tr><td>inj Hydrocortisone 100mg</td><td>0Vial</td></tr><tr><td>Chlorhexidine Gel</td><td>0Tube</td></tr><tr><td>Disposable gloves</td><td>0Pairs</td></tr><tr><td>Gutt/Ear Gentamycin 0.05</td><td>0Tube</td></tr><tr><td>inj Anti tetanus Serum (ATS) 1500i.u</td><td>0Amp</td></tr><tr><td>Inj Artmether 80mg/ml</td><td>0Amp</td></tr><tr><td>inj Hydrocortisone 100mg</td><td>0Vial</td></tr><tr><td>inj Tetanus Toxoid 0.5ml</td><td>0Amp</td></tr><tr><td>Chlorhexidine Gel</td><td>0Tube</td></tr><tr><td>Disposable gloves</td><td>0Pairs</td></tr><tr><td>inj Anti tetanus Serum (ATS) 1500i.u</td><td>0Amp</td></tr><tr><td>Inj Artmether 80mg/ml</td><td>0Amp</td></tr><tr><td>inj Benzylpenicillin 1mu</td><td>0Vial</td></tr><tr><td>inj Hydrocortisone 100mg</td><td>0Vial</td></tr><tr><td>inj Tetanus Toxoid 0.5ml</td><td>0Amp</td></tr><tr><td>Disposable gloves</td><td>0Pairs</td></tr><tr><td>Gutt/Ear Gentamycin 0.05</td><td>0Tube</td></tr><tr><td>inj Anti tetanus Serum (ATS) 1500i.u</td><td>0Amp</td></tr><tr><td>Inj Artmether 80mg/ml</td><td>0Amp</td></tr><tr><td>inj Benzylpenicillin 1mu</td><td>0Vial</td></tr><tr><td>inj Tetanus Toxoid 0.5ml</td><td>0Amp</td></tr><tr><td>Chlorhexidine Gel</td><td>0Tube</td></tr><tr><td>Disposable gloves</td><td>0Pairs</td></tr><tr><td>Gutt/Ear Gentamycin 0.05</td><td>0Tube</td></tr><tr><td>Inj Artmether 80mg/ml</td><td>0Amp</td></tr><tr><td>inj Benzylpenicillin 1mu</td><td>0Vial</td></tr><tr><td>inj Hydrocortisone 100mg</td><td>0Vial</td></tr><tr><td>inj Tetanus Toxoid 0.5ml</td><td>0Amp</td></tr><tr><td>Chlorhexidine Gel</td><td>0Tube</td></tr><tr><td>Disposable gloves</td><td>0Pairs</td></tr><tr><td>Gutt/Ear Gentamycin 0.05</td><td>0Tube</td></tr><tr><td>inj Anti tetanus Serum (ATS) 1500i.u</td><td>0Amp</td></tr><tr><td>Inj Artmether 80mg/ml</td><td>0Amp</td></tr><tr><td>inj Benzylpenicillin 1mu</td><td>0Vial</td></tr><tr><td>inj Hydrocortisone 100mg</td><td>0Vial</td></tr><tr><td>inj Tetanus Toxoid 0.5ml</td><td>0Amp</td></tr><tr><td>Chlorhexidine Gel</td><td>0Tube</td></tr><tr><td>Disposable gloves</td><td>0Pairs</td></tr><tr><td>inj Anti tetanus Serum (ATS) 1500i.u</td><td>0Amp</td></tr><tr><td>Inj Artmether 80mg/ml</td><td>0Amp</td></tr><tr><td>inj Hydrocortisone 100mg</td><td>0Vial</td></tr><tr><td>Chlorhexidine Gel</td><td>0Tube</td></tr><tr><td>Disposable gloves</td><td>0Pairs</td></tr><tr><td>Inj Artmether 80mg/ml</td><td>0Amp</td></tr><tr><td>inj Hydrocortisone 100mg</td><td>0Vial</td></tr><tr><td>Chlorhexidine Gel</td><td>0Tube</td></tr><tr><td>Disposable gloves</td><td>0Pairs</td></tr><tr><td>Inj Artmether 80mg/ml</td><td>0Amp</td></tr><tr><td>inj Tetanus Toxoid 0.5ml</td><td>0Amp</td></tr><tr><td>Chlorhexidine Gel</td><td>0Tube</td></tr><tr><td>Disposable gloves</td><td>0Pairs</td></tr><tr><td>Inj Artmether 80mg/ml</td><td>0Amp</td></tr><tr><td>inj Benzylpenicillin 1mu</td><td>0Vial</td></tr><tr><td>inj Hydrocortisone 100mg</td><td>0Vial</td></tr><tr><td>Chlorhexidine Gel</td><td>0Tube</td></tr><tr><td>Gutt/Ear Gentamycin 0.05</td><td>0Tube</td></tr><tr><td>inj Anti tetanus Serum (ATS) 1500i.u</td><td>0Amp</td></tr><tr><td>Inj Artmether 80mg/ml</td><td>0Amp</td></tr><tr><td>inj Benzylpenicillin 1mu</td><td>0Vial</td></tr><tr><td>inj Hydrocortisone 100mg</td><td>0Vial</td></tr><tr><td>inj Tetanus Toxoid 0.5ml</td><td>0Amp</td></tr><tr><td>Chlorhexidine Gel</td><td>0Tube</td></tr><tr><td>Disposable gloves</td><td>0Pairs</td></tr><tr><td>inj Anti tetanus Serum (ATS) 1500i.u</td><td>0Amp</td></tr><tr><td>Inj Artmether 80mg/ml</td><td>0Amp</td></tr><tr><td>inj Tetanus Toxoid 0.5ml</td><td>0Amp</td></tr><tr><td>Chlorhexidine Gel</td><td>0Tube</td></tr><tr><td>Gutt/Ear Gentamycin 0.05</td><td>0Tube</td></tr><tr><td>inj Anti tetanus Serum (ATS) 1500i.u</td><td>0Amp</td></tr><tr><td>Inj Artmether 80mg/ml</td><td>0Amp</td></tr><tr><td>Insulin (Actrapid)</td><td>0Vial</td></tr><tr><td>Inj Oxytocin</td><td>0Amp</td></tr><tr><td>Inj Ceftriazone/Sulbactam 1.5g</td><td>0Vial</td></tr><tr><td>Inj Ceftriazone</td><td>0Vial</td></tr><tr><td>Chlorhexidine Gel</td><td>0Tube</td></tr><tr><td>Disposable gloves</td><td>0Pairs</td></tr><tr><td>Gutt/Ear Gentamycin 0.05</td><td>0Tube</td></tr><tr><td>inj Anti tetanus Serum (ATS) 1500i.u</td><td>0Amp</td></tr><tr><td>Inj Artmether 80mg/ml</td><td>0Amp</td></tr><tr><td>inj Benzylpenicillin 1mu</td><td>0Vial</td></tr><tr><td>inj Hydrocortisone 100mg</td><td>0Vial</td></tr><tr><td>inj Tetanus Toxoid 0.5ml</td><td>0Amp</td></tr><tr><td>Chlorhexidine Gel</td><td>0Tube</td></tr><tr><td>Disposable gloves</td><td>0Pairs</td></tr><tr><td>inj Anti tetanus Serum (ATS) 1500i.u</td><td>0Amp</td></tr><tr><td>Inj Artmether 80mg/ml</td><td>0Amp</td></tr><tr><td>inj Benzylpenicillin 1mu</td><td>0Vial</td></tr><tr><td>inj Hydrocortisone 100mg</td><td>0Vial</td></tr><tr><td>inj Tetanus Toxoid 0.5ml</td><td>0Amp</td></tr><tr><td>Chlorhexidine Gel</td><td>0Tube</td></tr><tr><td>Disposable gloves</td><td>0Pairs</td></tr><tr><td>inj Anti tetanus Serum (ATS) 1500i.u</td><td>0Amp</td></tr><tr><td>Inj Artmether 80mg/ml</td><td>0Amp</td></tr><tr><td>inj Tetanus Toxoid 0.5ml</td><td>0Amp</td></tr><tr><td>Chlorhexidine Gel</td><td>0Tube</td></tr><tr><td>Disposable gloves</td><td>0Pairs</td></tr><tr><td>Gutt/Ear Gentamycin 0.05</td><td>0Tube</td></tr><tr><td>inj Anti tetanus Serum (ATS) 1500i.u</td><td>0Amp</td></tr><tr><td>Inj Artmether 80mg/ml</td><td>0Amp</td></tr><tr><td>inj Hydrocortisone 100mg</td><td>0Vial</td></tr><tr><td>inj Tetanus Toxoid 0.5ml</td><td>0Amp</td></tr><tr><td>Chlorhexidine Gel</td><td>0Tube</td></tr><tr><td>Disposable gloves</td><td>0Pairs</td></tr><tr><td>Gutt/Ear Gentamycin 0.05</td><td>0Tube</td></tr><tr><td>inj Anti tetanus Serum (ATS) 1500i.u</td><td>0Amp</td></tr><tr><td>Inj Artmether 80mg/ml</td><td>0Amp</td></tr><tr><td>inj Benzylpenicillin 1mu</td><td>0Vial</td></tr><tr><td>inj Hydrocortisone 100mg</td><td>0Vial</td></tr><tr><td>inj Tetanus Toxoid 0.5ml</td><td>0Amp</td></tr><tr><td>Chlorhexidine Gel</td><td>0Tube</td></tr><tr><td>Disposable gloves</td><td>0Pairs</td></tr><tr><td>Gutt/Ear Gentamycin 0.05</td><td>0Tube</td></tr><tr><td>Inj Artmether 80mg/ml</td><td>0Amp</td></tr><tr><td>inj Benzylpenicillin 1mu</td><td>0Vial</td></tr><tr><td>inj Hydrocortisone 100mg</td><td>0Vial</td></tr><tr><td>Chlorhexidine Gel</td><td>0Tube</td></tr><tr><td>Disposable gloves</td><td>0Pairs</td></tr><tr><td>Gutt/Ear Gentamycin 0.05</td><td>0Tube</td></tr><tr><td>inj Anti tetanus Serum (ATS) 1500i.u</td><td>0Amp</td></tr><tr><td>Inj Artmether 80mg/ml</td><td>0Amp</td></tr><tr><td>inj Benzylpenicillin 1mu</td><td>0Vial</td></tr><tr><td>inj Hydrocortisone 100mg</td><td>0Vial</td></tr><tr><td>inj Tetanus Toxoid 0.5ml</td><td>0Amp</td></tr><tr><td>Chlorhexidine Gel</td><td>0Tube</td></tr><tr><td>Gutt/Ear Gentamycin 0.05</td><td>0Tube</td></tr><tr><td>inj Anti tetanus Serum (ATS) 1500i.u</td><td>0Amp</td></tr><tr><td>Inj Artmether 80mg/ml</td><td>0Amp</td></tr><tr><td>inj Benzylpenicillin 1mu</td><td>0Vial</td></tr><tr><td>inj Hydrocortisone 100mg</td><td>0Vial</td></tr><tr><td>inj Tetanus Toxoid 0.5ml</td><td>0Amp</td></tr><tr><td>Chlorhexidine Gel</td><td>0Tube</td></tr><tr><td>Disposable gloves</td><td>0Pairs</td></tr><tr><td>Gutt/Ear Gentamycin 0.05</td><td>0Tube</td></tr><tr><td>inj Anti tetanus Serum (ATS) 1500i.u</td><td>0Amp</td></tr><tr><td>Inj Artmether 80mg/ml</td><td>0Amp</td></tr><tr><td>inj Hydrocortisone 100mg</td><td>0Vial</td></tr><tr><td>inj Tetanus Toxoid 0.5ml</td><td>0Amp</td></tr><tr><td>Chlorhexidine Gel</td><td>0Tube</td></tr><tr><td>Disposable gloves</td><td>0Pairs</td></tr><tr><td>Gutt/Ear Gentamycin 0.05</td><td>0Tube</td></tr><tr><td>inj Anti tetanus Serum (ATS) 1500i.u</td><td>0Amp</td></tr><tr><td>Inj Artmether 80mg/ml</td><td>0Amp</td></tr><tr><td>inj Tetanus Toxoid 0.5ml</td><td>0Amp</td></tr><tr><td>Chlorhexidine Gel</td><td>0Tube</td></tr><tr><td>Disposable gloves</td><td>0Pairs</td></tr><tr><td>inj Anti tetanus Serum (ATS) 1500i.u</td><td>0Amp</td></tr><tr><td>Inj Artmether 80mg/ml</td><td>0Amp</td></tr><tr><td>inj Benzylpenicillin 1mu</td><td>0Vial</td></tr><tr><td>inj Hydrocortisone 100mg</td><td>0Vial</td></tr><tr><td>Chlorhexidine Gel</td><td>0Tube</td></tr><tr><td>Gutt/Ear Gentamycin 0.05</td><td>0Tube</td></tr><tr><td>inj Anti tetanus Serum (ATS) 1500i.u</td><td>0Amp</td></tr><tr><td>Inj Artmether 80mg/ml</td><td>0Amp</td></tr><tr><td>inj Benzylpenicillin 1mu</td><td>0Vial</td></tr><tr><td>inj Hydrocortisone 100mg</td><td>0Vial</td></tr><tr><td>inj Tetanus Toxoid 0.5ml</td><td>0Amp</td></tr><tr><td>Chlorhexidine Gel</td><td>0Tube</td></tr><tr><td>Disposable gloves</td><td>0Pairs</td></tr><tr><td>Gutt/Ear Gentamycin 0.05</td><td>0Tube</td></tr><tr><td>Inj Artmether 80mg/ml</td><td>0Amp</td></tr><tr><td>inj Benzylpenicillin 1mu</td><td>0Vial</td></tr><tr><td>inj Hydrocortisone 100mg</td><td>0Vial</td></tr><tr><td>Chlorhexidine Gel</td><td>0Tube</td></tr><tr><td>Disposable gloves</td><td>0Pairs</td></tr><tr><td>Gutt/Ear Gentamycin 0.05</td><td>0Tube</td></tr><tr><td>inj Anti tetanus Serum (ATS) 1500i.u</td><td>0Amp</td></tr><tr><td>Inj Artmether 80mg/ml</td><td>0Amp</td></tr><tr><td>inj Hydrocortisone 100mg</td><td>0Vial</td></tr><tr><td>inj Tetanus Toxoid 0.5ml</td><td>0Amp</td></tr><tr><td>Chlorhexidine Gel</td><td>0Tube</td></tr><tr><td>Disposable gloves</td><td>0Pairs</td></tr><tr><td>Gutt/Ear Gentamycin 0.05</td><td>0Tube</td></tr><tr><td>inj Anti tetanus Serum (ATS) 1500i.u</td><td>0Amp</td></tr><tr><td>Inj Artmether 80mg/ml</td><td>0Amp</td></tr><tr><td>inj Benzylpenicillin 1mu</td><td>0Vial</td></tr><tr><td>inj Hydrocortisone 100mg</td><td>0Vial</td></tr><tr><td>inj Tetanus Toxoid 0.5ml</td><td>0Amp</td></tr><tr><td>5% Dextrose saline 1000ml</td><td>0Pcs</td></tr><tr><td>0.9% Normal saline 1000ml</td><td>0Pcs</td></tr><tr><td>Infusion Sets 23g</td><td>0Pcs</td></tr><tr><td>inj Anti tetanus Serum (ATS) 1500i.u</td><td>0Amp</td></tr><tr><td>inj Benzylpenicillin 1mu</td><td>0Vial</td></tr><tr><td>Syp Ascorbic acid</td><td>0Bottle</td></tr><tr><td>Syr Albendazole 100mg/5ml</td><td>0Bottle</td></tr><tr><td>syr Vitamin B complex</td><td>0Bottle</td></tr><tr><td>Gutt/Ear Gentamycin 0.05</td><td>0Tube</td></tr><tr><td>syr Ferric amonium citrate 400mg/5ml</td><td>0Bottle</td></tr><tr><td>0.9% Normal saline 1000ml</td><td>0Pcs</td></tr><tr><td>Gutt/Ear Gentamycin 0.05</td><td>0Tube</td></tr><tr><td>syr Vitamin B complex</td><td>0Bottle</td></tr><tr><td>Syp Multivite / Tab Multivite</td><td>0Bottle</td></tr><tr><td>syr Vitamin B complex</td><td>0Bottle</td></tr><tr><td>inj Anti tetanus Serum (ATS) 1500i.u</td><td>0Amp</td></tr><tr><td>Inj Artmether 80mg/ml</td><td>0Amp</td></tr><tr><td>inj Benzylpenicillin 1mu</td><td>0Vial</td></tr><tr><td>syr Cough Syrup (P) 100ml</td><td>0Bottle</td></tr><tr><td>inj Benzylpenicillin 1mu</td><td>0Vial</td></tr><tr><td>Syrup Paracetamol 125mg/5ml</td><td>0Bottle</td></tr><tr><td>Gutt/Ear Gentamycin 0.05</td><td>0Tube</td></tr><tr><td>Infusion Sets 23g</td><td>0Pcs</td></tr><tr><td>inj Benzylpenicillin 1mu</td><td>0Vial</td></tr><tr><td>inj Tetanus Toxoid 0.5ml</td><td>0Amp</td></tr><tr><td>Infusion Sets 23g</td><td>0Pcs</td></tr><tr><td>inj Benzylpenicillin 1mu</td><td>0Vial</td></tr><tr><td>Gutt/Ear Gentamycin 0.05</td><td>0Tube</td></tr><tr><td>inj Hydrocortisone 100mg</td><td>0Vial</td></tr><tr><td>Infusion Sets 23g</td><td>0Pcs</td></tr><tr><td>inj Benzylpenicillin 1mu</td><td>0Vial</td></tr><tr><td>I.V Metronidazole 200mg</td><td>0Pcs</td></tr><tr><td>Infusion Sets 23g</td><td>0Pcs</td></tr><tr><td>Insulin (Insulutard)</td><td>0Vial</td></tr><tr><td>inj Tetanus Toxoid 0.5ml</td><td>0Amp</td></tr><tr><td>Catheter 16</td><td>0Pcs</td></tr><tr><td>Plaster</td><td>0roll</td></tr><tr><td>Cotton Wool 100g</td><td>0Pcs</td></tr><tr><td>I.V Metronidazole 200mg</td><td>0Pcs</td></tr><tr><td>Infusion Sets 23g</td><td>0Pcs</td></tr><tr><td>inj Hydrocortisone 100mg</td><td>0Vial</td></tr><tr><td>5% Dextrose saline 1000ml</td><td>0Pcs</td></tr><tr><td>inj Benzylpenicillin 1mu</td><td>0Vial</td></tr><tr><td>Infusion Sets 23g</td><td>0Pcs</td></tr><tr><td>inj Tetanus Toxoid 0.5ml</td><td>0Amp</td></tr><tr><td>Cotton Wool 100g</td><td>0Pcs</td></tr><tr><td>5% Dextrose water 500ml</td><td>0Pcs</td></tr><tr><td>0.9% Normal saline 1000ml</td><td>0Pcs</td></tr><tr><td>Infusion Sets 23g</td><td>0Pcs</td></tr><tr><td>inj Benzylpenicillin 1mu</td><td>0Vial</td></tr><tr><td>Cotton Wool 100g</td><td>0Pcs</td></tr><tr><td>Infusion Sets 23g</td><td>0Pcs</td></tr><tr><td>Cotton Wool 100g</td><td>0Pcs</td></tr><tr><td>Disposable gloves</td><td>0Pairs</td></tr><tr><td>inj Benzylpenicillin 1mu</td><td>0Vial</td></tr><tr><td>Gutt/Ear Gentamycin 0.05</td><td>0Tube</td></tr><tr><td>Infusion Sets 23g</td><td>0Pcs</td></tr><tr><td>inj Anti tetanus Serum (ATS) 1500i.u</td><td>0Amp</td></tr><tr><td>inj Tetanus Toxoid 0.5ml</td><td>0Amp</td></tr><tr><td>Cotton Wool 100g</td><td>0Pcs</td></tr><tr><td>Disposable gloves</td><td>0Pairs</td></tr><tr><td>5% Dextrose saline 500mls</td><td>0Pcs</td></tr><tr><td>0.9% Normal saline 500mls</td><td>0Pcs</td></tr><tr><td>Infusion Sets 23g</td><td>0Pcs</td></tr><tr><td>inj Benzylpenicillin 1mu</td><td>0Vial</td></tr><tr><td>Disposable gloves</td><td>0Pairs</td></tr><tr><td>Infusion Sets 23g</td><td>0Pcs</td></tr><tr><td>inj Hydrocortisone 100mg</td><td>0Vial</td></tr><tr><td>Gutt/Ear Gentamycin 0.05</td><td>0Tube</td></tr><tr><td>inj Hydrocortisone 100mg</td><td>0Vial</td></tr><tr><td>Cotton Wool 100g</td><td>0Pcs</td></tr><tr><td>Gutt/Ear Gentamycin 0.05</td><td>0Tube</td></tr><tr><td>Infusion Sets 23g</td><td>0Pcs</td></tr><tr><td>inj Tetanus Toxoid 0.5ml</td><td>0Amp</td></tr><tr><td>Gutt/Ear Gentamycin 0.05</td><td>0Tube</td></tr><tr><td>Infusion Sets 23g</td><td>0Pcs</td></tr><tr><td>inj Hydrocortisone 100mg</td><td>0Vial</td></tr><tr><td>Gutt/Ear Gentamycin 0.05</td><td>0Tube</td></tr><tr><td>Darrows solution full strength 500ml</td><td>0Pcs</td></tr><tr><td>5% Dextrose water 500ml</td><td>0Pcs</td></tr><tr><td>susp Metronidazole 100mg/5ml</td><td>0Bottle</td></tr><tr><td>susp. Ampiclox 125mg/5ml</td><td>0Bottle</td></tr><tr><td>Susp. Co-trimoxazole 240mg/5ml</td><td>0Bottle</td></tr><tr><td>Syp Multivite</td><td>0Bottle</td></tr><tr><td>Syr Albendazole 100mg/5ml</td><td>0Bottle</td></tr><tr><td>syr Cough Syrup (A) 100ml</td><td>0Bottle</td></tr><tr><td>syr Cough Syrup (P) 100ml</td><td>0Bottle</td></tr><tr><td>syr Vitamin B complex</td><td>0Bottle</td></tr><tr><td>Syrup Paracetamol 125mg/5ml</td><td>0Bottle</td></tr><tr><td>Syp Ascorbic acid</td><td>0Bottle</td></tr><tr><td>susp Metronidazole 100mg/5ml</td><td>0Bottle</td></tr><tr><td>susp. Ampiclox 125mg/5ml</td><td>0Bottle</td></tr><tr><td>Susp. Co-trimoxazole 240mg/5ml</td><td>0Bottle</td></tr><tr><td>Syp Multivite</td><td>0Bottle</td></tr><tr><td>syr Cough Syrup (A) 100ml</td><td>0Bottle</td></tr><tr><td>syr Cough Syrup (P) 100ml</td><td>0Bottle</td></tr><tr><td>syr Ferric amonium citrate 400mg/5ml</td><td>0Bottle</td></tr><tr><td>Syrup Paracetamol 125mg/5ml</td><td>0Bottle</td></tr><tr><td>susp. Ampiclox 125mg/5ml</td><td>0Bottle</td></tr><tr><td>syr Ferric amonium citrate 400mg/5ml</td><td>0Bottle</td></tr><tr><td>syr Vitamin B complex</td><td>0Bottle</td></tr><tr><td>Syp Multivite</td><td>0Bottle</td></tr><tr><td>syr Cough Syrup (P) 100ml</td><td>0Bottle</td></tr><tr><td>syr Vitamin B complex</td><td>0Bottle</td></tr><tr><td>Syrup Paracetamol 125mg/5ml</td><td>0Bottle</td></tr><tr><td>Susp Cefixime 125mg/5ml</td><td>0Bottle</td></tr><tr><td>Syr Broncholyte</td><td>0Bottle</td></tr><tr><td>Susp Ibuprofen</td><td>0Bottle</td></tr><tr><td>susp Magnessium Trisilicate 200ml</td><td>0Bottle</td></tr><tr><td>susp Metronidazole 100mg/5ml</td><td>0Bottle</td></tr><tr><td>Syp Ascorbic acid</td><td>0Bottle</td></tr><tr><td>Syrup Paracetamol 125mg/5ml</td><td>0Bottle</td></tr><tr><td>susp Magnessium Trisilicate 200ml</td><td>0Bottle</td></tr><tr><td>Susp. Erythromycin 125mg/5ml</td><td>0Bottle</td></tr><tr><td>Syrup Paracetamol 125mg/5ml</td><td>0Bottle</td></tr><tr><td>susp Magnessium Trisilicate 200ml</td><td>0Bottle</td></tr><tr><td>Susp. Co-trimoxazole 240mg/5ml</td><td>0Bottle</td></tr><tr><td>syr Cough Syrup (A) 100ml</td><td>0Bottle</td></tr><tr><td>susp Magnessium Trisilicate 200ml</td><td>0Bottle</td></tr><tr><td>Susp. Amoxicillin 125mg/5ml</td><td>0Bottle</td></tr><tr><td>susp. Ampiclox 125mg/5ml</td><td>0Bottle</td></tr><tr><td>Syr Albendazole 100mg/5ml</td><td>0Bottle</td></tr><tr><td>syr Cough Syrup (P) 100ml</td><td>0Bottle</td></tr><tr><td>syr Vitamin B complex</td><td>0Bottle</td></tr><tr><td>Syrup Paracetamol 125mg/5ml</td><td>0Bottle</td></tr><tr><td>syr Cough Syrup (A) 100ml</td><td>0Bottle</td></tr><tr><td>syr Cough Syrup (P) 100ml</td><td>0Bottle</td></tr><tr><td>syr Vitamin B complex</td><td>0Bottle</td></tr><tr><td>Syrup Paracetamol 125mg/5ml</td><td>0Bottle</td></tr><tr><td>susp Metronidazole 100mg/5ml</td><td>0Bottle</td></tr><tr><td>Susp. Amoxicillin 125mg/5ml</td><td>0Bottle</td></tr><tr><td>syr Cough Syrup (A) 100ml</td><td>0Bottle</td></tr><tr><td>syr Cough Syrup (P) 100ml</td><td>0Bottle</td></tr><tr><td>syr Vitamin B complex</td><td>0Bottle</td></tr><tr><td>Syrup Paracetamol 125mg/5ml</td><td>0Bottle</td></tr><tr><td>susp Metronidazole 100mg/5ml</td><td>0Bottle</td></tr><tr><td>syr Cough Syrup (A) 100ml</td><td>0Bottle</td></tr><tr><td>syr Cough Syrup (P) 100ml</td><td>0Bottle</td></tr><tr><td>Syrup Paracetamol 125mg/5ml</td><td>0Bottle</td></tr><tr><td>susp Metronidazole 100mg/5ml</td><td>0Bottle</td></tr><tr><td>susp. Ampiclox 125mg/5ml</td><td>0Bottle</td></tr><tr><td>Susp. Co-trimoxazole 240mg/5ml</td><td>0Bottle</td></tr><tr><td>Syp Multivite</td><td>0Bottle</td></tr><tr><td>Syr Albendazole 100mg/5ml</td><td>0Bottle</td></tr><tr><td>syr Cough Syrup (A) 100ml</td><td>0Bottle</td></tr><tr><td>syr Cough Syrup (P) 100ml</td><td>0Bottle</td></tr><tr><td>syr Vitamin B complex</td><td>0Bottle</td></tr><tr><td>Syrup Paracetamol 125mg/5ml</td><td>0Bottle</td></tr><tr><td>susp Metronidazole 100mg/5ml</td><td>0Bottle</td></tr><tr><td>Syp Ascorbic acid / Tabs B Complex</td><td>0Bottle</td></tr><tr><td>syr Cough Syrup (A) 100ml</td><td>0Bottle</td></tr><tr><td>syr Cough Syrup (P) 100ml</td><td>0Bottle</td></tr><tr><td>Syrup Paracetamol 125mg/5ml</td><td>0Bottle</td></tr><tr><td>susp Magnessium Trisilicate 200ml</td><td>0Bottle</td></tr><tr><td>susp. Ampiclox 125mg/5ml</td><td>0Bottle</td></tr><tr><td>Susp. Co-trimoxazole 240mg/5ml</td><td>0Bottle</td></tr><tr><td>Syp Ascorbic acid</td><td>0Bottle</td></tr><tr><td>Syp Multivite</td><td>0Bottle</td></tr><tr><td>Syr Albendazole 100mg/5ml</td><td>0Bottle</td></tr><tr><td>syr Cough Syrup (A) 100ml</td><td>0Bottle</td></tr><tr><td>syr Cough Syrup (P) 100ml</td><td>0Bottle</td></tr><tr><td>syr Vitamin B complex</td><td>0Bottle</td></tr><tr><td>Syrup Paracetamol 125mg/5ml</td><td>0Bottle</td></tr><tr><td>susp Metronidazole 100mg/5ml</td><td>0Bottle</td></tr><tr><td>Susp. Co-trimoxazole 240mg/5ml</td><td>0Bottle</td></tr><tr><td>Syp Ascorbic acid</td><td>0Bottle</td></tr><tr><td>Syp Multivite</td><td>0Bottle</td></tr><tr><td>syr Cough Syrup (A) 100ml</td><td>0Bottle</td></tr><tr><td>syr Cough Syrup (P) 100ml</td><td>0Bottle</td></tr><tr><td>Syrup Paracetamol 125mg/5ml</td><td>0Bottle</td></tr><tr><td>susp Metronidazole 100mg/5ml</td><td>0Bottle</td></tr><tr><td>susp. Ampiclox 125mg/5ml</td><td>0Bottle</td></tr><tr><td>Susp. Co-trimoxazole 240mg/5ml</td><td>0Bottle</td></tr><tr><td>Syp Multivite</td><td>0Bottle</td></tr><tr><td>Syr Albendazole 100mg/5ml</td><td>0Bottle</td></tr><tr><td>syr Cough Syrup (A) 100ml</td><td>0Bottle</td></tr><tr><td>syr Cough Syrup (P) 100ml</td><td>0Bottle</td></tr><tr><td>syr Vitamin B complex</td><td>0Bottle</td></tr><tr><td>Syrup Paracetamol 125mg/5ml</td><td>0Bottle</td></tr><tr><td>susp Metronidazole 100mg/5ml</td><td>0Bottle</td></tr><tr><td>susp. Ampiclox 125mg/5ml</td><td>0Bottle</td></tr><tr><td>Susp. Co-trimoxazole 240mg/5ml</td><td>0Bottle</td></tr><tr><td>Syp Ascorbic acid</td><td>0Bottle</td></tr><tr><td>Syp Multivite</td><td>0Bottle</td></tr><tr><td>Syr Albendazole 100mg/5ml</td><td>0Bottle</td></tr><tr><td>syr Cough Syrup (A) 100ml</td><td>0Bottle</td></tr><tr><td>syr Cough Syrup (P) 100ml</td><td>0Bottle</td></tr><tr><td>syr Vitamin B complex</td><td>0Bottle</td></tr><tr><td>susp Metronidazole 100mg/5ml</td><td>0Bottle</td></tr><tr><td>susp Magnessium Trisilicate 200ml</td><td>0Bottle</td></tr><tr><td>susp Metronidazole 100mg/5ml</td><td>0Bottle</td></tr><tr><td>Syp Ascorbic acid</td><td>0Bottle</td></tr><tr><td>Syrup Paracetamol 125mg/5ml</td><td>0Bottle</td></tr><tr><td>Gutt/Ear Gentamycin 0.05</td><td>2Tube</td></tr><tr><td>susp Metronidazole 100mg/5ml</td><td>100Bottle</td></tr><tr><td>Susp. Co-trimoxazole 240mg/5ml</td><td>100Bottle</td></tr><tr><td>syr Cough Syrup (A) 100ml</td><td>110Bottle</td></tr><tr><td>Cotton Wool 100g</td><td>1.2Pcs</td></tr><tr><td>Disposable gloves</td><td>0.8Pairs</td></tr><tr><td>I.V Ciprofloxacin</td><td>63Vial</td></tr><tr><td>5% Dextrose saline 1000ml</td><td>44Pcs</td></tr><tr><td>5% Dextrose saline 500ml</td><td>73Pcs</td></tr><tr><td>0.9% Normal saline 500ml</td><td>51Pcs</td></tr><tr><td>Inj Amoxicillin 500mg</td><td>54vials</td></tr><tr><td>Inj Aminophyline</td><td>6Amp</td></tr><tr><td>Inj Paraldehyde</td><td>4Amp</td></tr><tr><td>Inj Anti Snake Venom</td><td>2Vial</td></tr><tr><td>Inj Metoclopramide</td><td>48Amp</td></tr><tr><td>Inj Vitamin K</td><td>10Amp</td></tr><tr><td>Inj Diazepam 10mg/ml</td><td>4Amp</td></tr><tr><td>susp Magnessium Trisilicate 200ml</td><td>23Bottle</td></tr><tr><td>susp Metronidazole 100mg/5ml</td><td>9Bottle</td></tr><tr><td>Susp. Co-trimoxazole 240mg/5ml</td><td>12Bottle</td></tr><tr><td>Syp Ascorbic acid</td><td>13Bottle</td></tr><tr><td>Syp Multivite</td><td>11Bottle</td></tr><tr><td>syr Cough Syrup (P) 100ml</td><td>27Bottle</td></tr><tr><td>syr Vitamin B complex</td><td>7Bottle</td></tr><tr><td>Urine Bag</td><td>3Pcs</td></tr><tr><td>Catheter 18</td><td>5Pcs</td></tr><tr><td>Chromic 2/0</td><td>0.4pack</td></tr><tr><td>Potassium Citrate Mixture</td><td>5Bottle</td></tr><tr><td>Syrup Paracetamol 125mg/5ml</td><td>67Bottle</td></tr><tr><td>Gutt/Ear Gentamycin 0.05</td><td>6Tube</td></tr><tr><td>5% Dextrose saline 1000ml</td><td>50Pcs</td></tr><tr><td>inj Benzylpenicillin 1mu</td><td>5Vial</td></tr><tr><td>Syp Multivite</td><td>30Bottle</td></tr><tr><td>syr Cough Syrup (A) 100ml</td><td>60Bottle</td></tr><tr><td>syr Cough Syrup (P) 100ml</td><td>60Bottle</td></tr><tr><td>syr Vitamin B complex</td><td>50Bottle</td></tr><tr><td>Infusion Sets 23g</td><td>50Pcs</td></tr><tr><td>inj Benzylpenicillin 1mu</td><td>50Vial</td></tr><tr><td>Syp Ascorbic acid</td><td>10Bottle</td></tr><tr><td>syr Cough Syrup (P) 100ml</td><td>10Bottle</td></tr><tr><td>Syrup Paracetamol 125mg/5ml</td><td>40Bottle</td></tr><tr><td>Cotton Wool 100g</td><td>1Pcs</td></tr><tr><td>Gutt/Ear Gentamycin 0.05</td><td>10Tube</td></tr><tr><td>inj Benzylpenicillin 1mu</td><td>20Vial</td></tr><tr><td>Methylated spirit 100ml</td><td>24Bottle</td></tr><tr><td>susp Metronidazole 100mg/5ml</td><td>20Bottle</td></tr><tr><td>Susp. Co-trimoxazole 240mg/5ml</td><td>100Bottle</td></tr><tr><td>Syp Ascorbic acid</td><td>10Bottle</td></tr><tr><td>Syp Multivite</td><td>30Bottle</td></tr><tr><td>Syr Albendazole 100mg/5ml</td><td>10Bottle</td></tr><tr><td>syr Cough Syrup (A) 100ml</td><td>60Bottle</td></tr><tr><td>syr Cough Syrup (P) 100ml</td><td>60Bottle</td></tr><tr><td>syr Ferric amonium citrate 400mg/5ml</td><td>20Bottle</td></tr><tr><td>syr Vitamin B complex</td><td>50Bottle</td></tr><tr><td>Syrup Paracetamol 125mg/5ml</td><td>50Bottle</td></tr><tr><td>Syp Ascorbic acid</td><td>3Bottle</td></tr><tr><td>Cotton Wool 100g</td><td>3Pcs</td></tr><tr><td>Cotton Wool 100g</td><td>1Pcs</td></tr><tr><td>Gutt/Ear Gentamycin 0.05</td><td>10Tube</td></tr><tr><td>5% Dextrose saline 1000ml</td><td>100Pcs</td></tr><tr><td>inj Benzylpenicillin 1mu</td><td>20Vial</td></tr><tr><td>Methylated spirit 100ml</td><td>20Bottle</td></tr><tr><td>Susp. Co-trimoxazole 240mg/5ml</td><td>100Bottle</td></tr><tr><td>Syp Ascorbic acid</td><td>10Bottle</td></tr><tr><td>Syp Multivite</td><td>30Bottle</td></tr><tr><td>Syr Albendazole 100mg/5ml</td><td>10Bottle</td></tr><tr><td>syr Cough Syrup (P) 100ml</td><td>60Bottle</td></tr><tr><td>syr Ferric amonium citrate 400mg/5ml</td><td>20Bottle</td></tr><tr><td>syr Vitamin B complex</td><td>50Bottle</td></tr><tr><td>Syrup Paracetamol 125mg/5ml</td><td>50Bottle</td></tr><tr><td>Gutt/Ear Gentamycin 0.05</td><td>5Tube</td></tr><tr><td>Infusion Sets 23g</td><td>50Pcs</td></tr><tr><td>inj Tetanus Toxoid 0.5ml</td><td>50Amp</td></tr><tr><td>lotion Benzylbenzoate lotion</td><td>5Bottle</td></tr><tr><td>susp Metronidazole 100mg/5ml</td><td>50Bottle</td></tr><tr><td>susp. Ampiclox 125mg/5ml</td><td>30Bottle</td></tr><tr><td>Susp. Co-trimoxazole 240mg/5ml</td><td>50Bottle</td></tr><tr><td>Syr Albendazole 100mg/5ml</td><td>10Bottle</td></tr><tr><td>Infusion Sets 23g</td><td>20Pcs</td></tr><tr><td>inj Hydrocortisone 100mg</td><td>10Vial</td></tr><tr><td>10% Mannitol</td><td>26Pcs</td></tr><tr><td>Darrows solution full strength 500ml</td><td>48Pcs</td></tr><tr><td>4.3% Dextrose Saline 500ml</td><td>87Pcs</td></tr><tr><td>5% Dextrose water 1000ml</td><td>13Pcs</td></tr><tr><td>50% Dextrose Water</td><td>23Pcs</td></tr><tr><td>inj Benzylpenicillin 1mu</td><td>96Vial</td></tr><tr><td>Inj Magnesium Sulphate</td><td>7Amp</td></tr><tr><td>Inj Vitamin B Co</td><td>16Vial</td></tr><tr><td>Inj Quinine</td><td>59Amp</td></tr><tr><td>Inj Hydrallazine</td><td>17Amp</td></tr><tr><td>inj Gentamicin 80mg</td><td>94Amp</td></tr><tr><td>Clotrimazole Cream</td><td>6Tube</td></tr><tr><td>Nylon 2</td><td>0.3pkt</td></tr><tr><td>Nylon 2/0</td><td>0.3pack</td></tr><tr><td>Infusion Sets 23g</td><td>35Pcs</td></tr><tr><td>I.V Metronidazole 200mg</td><td>6Pcs</td></tr><tr><td>5% Dextrose saline 1000ml</td><td>10Pcs</td></tr><tr><td>0.9% Normal saline 1000ml</td><td>12Pcs</td></tr><tr><td>Disposable gloves</td><td>3Pairs</td></tr><tr><td>Cotton Wool 100g</td><td>3Pcs</td></tr><tr><td>5% Dextrose water 500ml</td><td>40Pcs</td></tr><tr><td>Infusion Sets 23g</td><td>120Pcs</td></tr><tr><td>inj Hydrocortisone 100mg</td><td>8Vial</td></tr><tr><td>Infusion Sets 23g</td><td>30Pcs</td></tr><tr><td>5% Dextrose saline 1000ml</td><td>29Pcs</td></tr><tr><td>Infusion Sets 23g</td><td>62Pcs</td></tr><tr><td>inj Benzylpenicillin 1mu</td><td>68Vial</td></tr><tr><td>Cotton Wool 100g</td><td>2Pcs</td></tr><tr><td>0.9% Normal saline 1000ml</td><td>14Pcs</td></tr><tr><td>Infusion Sets 23g</td><td>30Pcs</td></tr><tr><td>Gutt/Ear Gentamycin 0.05</td><td>5Tube</td></tr><tr><td>0.9% Normal saline 1000ml</td><td>10Pcs</td></tr><tr><td>Infusion Sets 23g</td><td>50Pcs</td></tr><tr><td>inj Anti tetanus Serum (ATS) 1500i.u</td><td>10Amp</td></tr><tr><td>inj Tetanus Toxoid 0.5ml</td><td>50Amp</td></tr><tr><td>Gutt/Ear Gentamycin 0.05</td><td>5Tube</td></tr><tr><td>Infusion Sets 23g</td><td>50Pcs</td></tr><tr><td>inj Anti tetanus Serum (ATS) 1500i.u</td><td>10Amp</td></tr><tr><td>inj Tetanus Toxoid 0.5ml</td><td>50Amp</td></tr><tr><td>inj Anti tetanus Serum (ATS) 1500i.u</td><td>8Amp</td></tr><tr><td>5% Dextrose saline 1000ml</td><td>20Pcs</td></tr><tr><td>5% Dextrose water 500ml</td><td>30Pcs</td></tr><tr><td>Infusion Sets 23g</td><td>60Pcs</td></tr><tr><td>inj Benzylpenicillin 1mu</td><td>30Vial</td></tr><tr><td>0.9% Normal saline 1000ml</td><td>3Pcs</td></tr><tr><td>Infusion Sets 23g</td><td>20Pcs</td></tr><tr><td>inj Tetanus Toxoid 0.5ml</td><td>37Amp</td></tr><tr><td>Infusion Sets 23g</td><td>40Pcs</td></tr><tr><td>Infusion Sets 23g</td><td>100Pcs</td></tr><tr><td>inj Benzylpenicillin 1mu</td><td>90Vial</td></tr><tr><td>Infusion Sets 23g</td><td>50Pcs</td></tr><tr><td>Infusion Sets 23g</td><td>50Pcs</td></tr><tr><td>0.9% Normal saline 1000ml</td><td>5Pcs</td></tr><tr><td>inj Anti tetanus Serum (ATS) 1500i.u</td><td>7Amp</td></tr><tr><td>inj Tetanus Toxoid 0.5ml</td><td>43Amp</td></tr><tr><td>inj Tetanus Toxoid 0.5ml</td><td>40Amp</td></tr><tr><td>Cotton Wool 100g</td><td>3Pcs</td></tr><tr><td>Infusion Sets 23g</td><td>65Pcs</td></tr><tr><td>inj Benzylpenicillin 1mu</td><td>55Vial</td></tr><tr><td>inj Tetanus Toxoid 0.5ml</td><td>8Amp</td></tr><tr><td>Gutt/Ear Gentamycin 0.05</td><td>5Tube</td></tr><tr><td>Infusion Sets 23g</td><td>40Pcs</td></tr><tr><td>inj Benzylpenicillin 1mu</td><td>98Vial</td></tr><tr><td>Cotton Wool 100g</td><td>3Pcs</td></tr><tr><td>5% Dextrose saline 500mls</td><td>26Pcs</td></tr><tr><td>0.9% Normal saline 500mls</td><td>31Pcs</td></tr><tr><td>Infusion Sets 23g</td><td>65Pcs</td></tr><tr><td>inj Benzylpenicillin 1mu</td><td>55Vial</td></tr><tr><td>5% Dextrose water 500ml</td><td>32Pcs</td></tr><tr><td>0.9% Normal saline 1000ml</td><td>39Pcs</td></tr><tr><td>Infusion Sets 23g</td><td>62Pcs</td></tr><tr><td>inj Benzylpenicillin 1mu</td><td>68Vial</td></tr><tr><td>inj Anti tetanus Serum (ATS) 1500i.u</td><td>3Amp</td></tr><tr><td>5% Dextrose water 500ml</td><td>10Pcs</td></tr><tr><td>0.9% Normal saline 1000ml</td><td>22Pcs</td></tr><tr><td>Infusion Sets 23g</td><td>40Pcs</td></tr><tr><td>Buttefly Needle</td><td>120Pcs</td></tr><tr><td>Disposable gloves</td><td>70Pairs</td></tr><tr><td>Infusion Sets 23g</td><td>35Pcs</td></tr><tr><td>Gutt/Ear Gentamycin 0.05</td><td>8Tube</td></tr><tr><td>5% Dextrose water 500ml</td><td>50Pcs</td></tr><tr><td>0.9% Normal saline 1000ml</td><td>20Pcs</td></tr><tr><td>inj Benzylpenicillin 1mu</td><td>70Vial</td></tr><tr><td>Chlorhexidine Gel</td><td>8Tube</td></tr><tr><td>5% Dextrose water 500ml</td><td>72Pcs</td></tr><tr><td>inj Hydrocortisone 100mg</td><td>8Vial</td></tr><tr><td>susp Metronidazole 100mg/5ml</td><td>30Bottle</td></tr><tr><td>susp Metronidazole 100mg/5ml</td><td>40Bottle</td></tr><tr><td>susp. Ampiclox 125mg/5ml</td><td>20Bottle</td></tr><tr><td>Susp. Co-trimoxazole 240mg/5ml</td><td>37Bottle</td></tr><tr><td>Syp Multivite</td><td>35Bottle</td></tr><tr><td>syr Cough Syrup (A) 100ml</td><td>33Bottle</td></tr><tr><td>syr Cough Syrup (P) 100ml</td><td>30Bottle</td></tr><tr><td>Syp Ascorbic acid</td><td>110Bottle</td></tr><tr><td>Susp. Erythromycin 125mg/5ml</td><td>17Bottle</td></tr><tr><td>Syr Albendazole 100mg/5ml</td><td>17Bottle</td></tr><tr><td>syr Cough Syrup (A) 100ml</td><td>23Bottle</td></tr><tr><td>Drop Ampiclox</td><td>3Bottle</td></tr><tr><td>susp Cephalexin 125mg/5ml</td><td>5Bottle</td></tr><tr><td>Syr Paracetamol Drop</td><td>8Bottle</td></tr><tr><td>Susp. Co-trimoxazole 240mg/5ml</td><td>100Bottle</td></tr><tr><td>susp Metronidazole 100mg/5ml</td><td>32Bottle</td></tr><tr><td>Susp. Co-trimoxazole 240mg/5ml</td><td>27Bottle</td></tr><tr><td>Syp Multivite</td><td>13Bottle</td></tr><tr><td>syr Cough Syrup (P) 100ml</td><td>7Bottle</td></tr><tr><td>syr Vitamin B complex</td><td>29Bottle</td></tr><tr><td>Susp. Amoxicillin 125mg/5ml</td><td>60Bottle</td></tr><tr><td>Syp Ascorbic acid</td><td>35Bottle</td></tr><tr><td>Syrup Paracetamol 125mg/5ml</td><td>70Bottle</td></tr><tr><td>Susp. Amoxicillin 125mg/5ml</td><td>10Bottle</td></tr><tr><td>Syp Ascorbic acid</td><td>20Bottle</td></tr><tr><td>syr Cough Syrup (P) 100ml</td><td>20Bottle</td></tr><tr><td>susp Metronidazole 100mg/5ml</td><td>36Bottle</td></tr><tr><td>susp. Ampiclox 125mg/5ml</td><td>6Bottle</td></tr><tr><td>Susp. Co-trimoxazole 240mg/5ml</td><td>16Bottle</td></tr><tr><td>Syp Multivite</td><td>26Bottle</td></tr><tr><td>syr Cough Syrup (A) 100ml</td><td>28Bottle</td></tr><tr><td>syr Cough Syrup (P) 100ml</td><td>28Bottle</td></tr><tr><td>syr Vitamin B complex</td><td>14Bottle</td></tr><tr><td>syr Cough Syrup (P) 100ml</td><td>8Bottle</td></tr><tr><td>lotion Benzylbenzoate lotion</td><td>5Bottle</td></tr><tr><td>susp Metronidazole 100mg/5ml</td><td>50Bottle</td></tr><tr><td>susp. Ampiclox 125mg/5ml</td><td>30Bottle</td></tr><tr><td>Susp. Co-trimoxazole 240mg/5ml</td><td>50Bottle</td></tr><tr><td>Syp Multivite</td><td>40Bottle</td></tr><tr><td>Syr Albendazole 100mg/5ml</td><td>10Bottle</td></tr><tr><td>syr Cough Syrup (A) 100ml</td><td>40Bottle</td></tr><tr><td>syr Cough Syrup (P) 100ml</td><td>40Bottle</td></tr><tr><td>syr Vitamin B complex</td><td>30Bottle</td></tr><tr><td>Syrup Paracetamol 125mg/5ml</td><td>100Bottle</td></tr><tr><td>lotion Benzylbenzoate lotion</td><td>4Bottle</td></tr><tr><td>susp Metronidazole 100mg/5ml</td><td>50Bottle</td></tr><tr><td>susp. Ampiclox 125mg/5ml</td><td>30Bottle</td></tr><tr><td>Susp. Co-trimoxazole 240mg/5ml</td><td>50Bottle</td></tr><tr><td>Syp Multivite</td><td>40Bottle</td></tr><tr><td>Syr Albendazole 100mg/5ml</td><td>10Bottle</td></tr><tr><td>syr Cough Syrup (A) 100ml</td><td>40Bottle</td></tr><tr><td>syr Cough Syrup (P) 100ml</td><td>40Bottle</td></tr><tr><td>syr Vitamin B complex</td><td>30Bottle</td></tr><tr><td>Syrup Paracetamol 125mg/5ml</td><td>100Bottle</td></tr><tr><td>Syp Multivite</td><td>34Bottle</td></tr><tr><td>syr Cough Syrup (A) 100ml</td><td>37Bottle</td></tr><tr><td>susp Metronidazole 100mg/5ml</td><td>5Bottle</td></tr><tr><td>Syp Ascorbic acid</td><td>2Bottle</td></tr><tr><td>syr Cough Syrup (A) 100ml</td><td>4Bottle</td></tr><tr><td>syr Cough Syrup (P) 100ml</td><td>14Bottle</td></tr><tr><td>syr Vitamin B complex</td><td>5Bottle</td></tr><tr><td>syr Cough Syrup (A) 100ml</td><td>13Bottle</td></tr><tr><td>susp Metronidazole 100mg/5ml</td><td>30Bottle</td></tr><tr><td>susp. Ampiclox 125mg/5ml</td><td>17Bottle</td></tr><tr><td>Susp. Co-trimoxazole 240mg/5ml</td><td>36Bottle</td></tr><tr><td>syr Cough Syrup (A) 100ml</td><td>26Bottle</td></tr><tr><td>syr Vitamin B complex</td><td>15Bottle</td></tr><tr><td>Syrup Paracetamol 125mg/5ml</td><td>64Bottle</td></tr><tr><td>susp Metronidazole 100mg/5ml</td><td>40Bottle</td></tr><tr><td>Susp. Co-trimoxazole 240mg/5ml</td><td>40Bottle</td></tr><tr><td>Syp Multivite</td><td>20Bottle</td></tr><tr><td>Syr Albendazole 100mg/5ml</td><td>8Bottle</td></tr><tr><td>syr Cough Syrup (P) 100ml</td><td>30Bottle</td></tr><tr><td>Syrup Paracetamol 125mg/5ml</td><td>50Bottle</td></tr><tr><td>susp Metronidazole 100mg/5ml</td><td>10Bottle</td></tr><tr><td>syr Cough Syrup (P) 100ml</td><td>9Bottle</td></tr><tr><td>susp Metronidazole 100mg/5ml</td><td>41Bottle</td></tr><tr><td>susp. Ampiclox 125mg/5ml</td><td>24Bottle</td></tr><tr><td>Susp. Co-trimoxazole 240mg/5ml</td><td>40Bottle</td></tr><tr><td>Syp Multivite</td><td>32Bottle</td></tr><tr><td>syr Cough Syrup (A) 100ml</td><td>30Bottle</td></tr><tr><td>syr Cough Syrup (P) 100ml</td><td>30Bottle</td></tr><tr><td>syr Vitamin B complex</td><td>20Bottle</td></tr><tr><td>Syrup Paracetamol 125mg/5ml</td><td>80Bottle</td></tr><tr><td>susp. Ampiclox 125mg/5ml</td><td>25Bottle</td></tr><tr><td>Syrup Paracetamol 125mg/5ml</td><td>70Bottle</td></tr><tr><td>Syrup Paracetamol 125mg/5ml</td><td>20Bottle</td></tr><tr><td>susp Metronidazole 100mg/5ml</td><td>40Bottle</td></tr><tr><td>susp. Ampiclox 125mg/5ml</td><td>20Bottle</td></tr><tr><td>Susp. Co-trimoxazole 240mg/5ml</td><td>40Bottle</td></tr><tr><td>Syrup Paracetamol 125mg/5ml</td><td>60Bottle</td></tr><tr><td>lotion Benzylbenzoate lotion</td><td>5Bottle</td></tr><tr><td>susp Metronidazole 100mg/5ml</td><td>50Bottle</td></tr><tr><td>susp. Ampiclox 125mg/5ml</td><td>30Bottle</td></tr><tr><td>Susp. Co-trimoxazole 240mg/5ml</td><td>50Bottle</td></tr><tr><td>Syp Multivite</td><td>40Bottle</td></tr><tr><td>Syr Albendazole 100mg/5ml</td><td>10Bottle</td></tr><tr><td>syr Cough Syrup (P) 100ml</td><td>40Bottle</td></tr><tr><td>Syrup Paracetamol 125mg/5ml</td><td>100Bottle</td></tr><tr><td>susp Metronidazole 100mg/5ml</td><td>10Bottle</td></tr><tr><td>syr Cough Syrup (A) 100ml</td><td>5Bottle</td></tr><tr><td>syr Cough Syrup (P) 100ml</td><td>15Bottle</td></tr><tr><td>syr Vitamin B complex</td><td>5Bottle</td></tr><tr><td>Syrup Paracetamol 125mg/5ml</td><td>100Bottle</td></tr><tr><td>Syrup Paracetamol 125mg/5ml</td><td>20Bottle</td></tr><tr><td>syr Cough Syrup (P) 100ml</td><td>5Bottle</td></tr><tr><td>susp Metronidazole 100mg/5ml</td><td>6Bottle</td></tr><tr><td>syr Cough Syrup (P) 100ml</td><td>10Bottle</td></tr><tr><td>syr Vitamin B complex</td><td>6Bottle</td></tr><tr><td>susp Metronidazole 100mg/5ml</td><td>7Bottle</td></tr><tr><td>susp. Ampiclox 125mg/5ml</td><td>8Bottle</td></tr><tr><td>Susp. Co-trimoxazole 240mg/5ml</td><td>5Bottle</td></tr><tr><td>susp Metronidazole 100mg/5ml</td><td>45Bottle</td></tr><tr><td>susp. Ampiclox 125mg/5ml</td><td>20Bottle</td></tr><tr><td>Susp. Co-trimoxazole 240mg/5ml</td><td>46Bottle</td></tr><tr><td>Syp Multivite</td><td>33Bottle</td></tr><tr><td>Syr Albendazole 100mg/5ml</td><td>8Bottle</td></tr><tr><td>syr Cough Syrup (A) 100ml</td><td>36Bottle</td></tr><tr><td>syr Cough Syrup (P) 100ml</td><td>36Bottle</td></tr><tr><td>syr Vitamin B complex</td><td>27Bottle</td></tr><tr><td>Syrup Paracetamol 125mg/5ml</td><td>80Bottle</td></tr><tr><td>Syp Ascorbic acid</td><td>10Bottle</td></tr><tr><td>syr Cough Syrup (P) 100ml</td><td>10Bottle</td></tr><tr><td>syr Vitamin B complex</td><td>4Bottle</td></tr><tr><td>Syr Artemether/lumifantrine</td><td>20Bottle</td></tr><tr><td>susp Metronidazole 100mg/5ml</td><td>44Bottle</td></tr><tr><td>susp. Ampiclox 125mg/5ml</td><td>23Bottle</td></tr><tr><td>Susp. Co-trimoxazole 240mg/5ml</td><td>42Bottle</td></tr><tr><td>Syp Multivite</td><td>40Bottle</td></tr><tr><td>syr Cough Syrup (A) 100ml</td><td>36Bottle</td></tr><tr><td>syr Cough Syrup (P) 100ml</td><td>38Bottle</td></tr><tr><td>Syrup Paracetamol 125mg/5ml</td><td>90Bottle</td></tr><tr><td>susp Metronidazole 100mg/5ml</td><td>150Bottle</td></tr><tr><td>Susp. Co-trimoxazole 240mg/5ml</td><td>160Bottle</td></tr><tr><td>Syp Ascorbic acid</td><td>150Bottle</td></tr><tr><td>syr Cough Syrup (A) 100ml</td><td>150Bottle</td></tr><tr><td>susp Metronidazole 100mg/5ml</td><td>34Bottle</td></tr><tr><td>Susp. Co-trimoxazole 240mg/5ml</td><td>36Bottle</td></tr><tr><td>Syp Multivite</td><td>17Bottle</td></tr><tr><td>Syr Albendazole 100mg/5ml</td><td>2Bottle</td></tr><tr><td>syr Cough Syrup (P) 100ml</td><td>17Bottle</td></tr><tr><td>syr Vitamin B complex</td><td>30Bottle</td></tr><tr><td>Syrup Paracetamol 125mg/5ml</td><td>34Bottle</td></tr><tr><td>Methylated spirit 100ml</td><td>5Bottle</td></tr><tr><td>susp Magnessium Trisilicate 200ml</td><td>20Bottle</td></tr><tr><td>Syrup Paracetamol 125mg/5ml</td><td>40Bottle</td></tr><tr><td>Syp Ascorbic acid</td><td>20Bottle</td></tr><tr><td>inj Anti tetanus Serum (ATS) 1500i.u</td><td>1Amp</td></tr><tr><td>susp Metronidazole 100mg/5ml</td><td>3Bottle</td></tr><tr><td>susp. Ampiclox 125mg/5ml</td><td>4Bottle</td></tr><tr><td>Susp. Co-trimoxazole 240mg/5ml</td><td>3Bottle</td></tr><tr><td>inj Anti tetanus Serum (ATS) 1500i.u</td><td>2Amp</td></tr><tr><td>inj Anti tetanus Serum (ATS) 1500i.u</td><td>10Amp</td></tr><tr><td>inj Tetanus Toxoid 0.5ml</td><td>50Amp</td></tr><tr><td>Syp Multivite</td><td>40Bottle</td></tr><tr><td>Disposable gloves</td><td>30Pairs</td></tr><tr><td>10% Dextrose Water 500ml</td><td>9Pcs</td></tr><tr><td>Ringers Lactate</td><td>6Pcs</td></tr><tr><td>Inj Amoxy/clav 1.2</td><td>7vials</td></tr><tr><td>inj Hydrocortisone 100mg</td><td>7Vial</td></tr><tr><td>Inj Pentazocin</td><td>16Amp</td></tr><tr><td>Inj Tramadol</td><td>4Amp</td></tr><tr><td>Methylated spirit 100ml</td><td>6Bottle</td></tr><tr><td>syr jawaron</td><td>3Bottle</td></tr><tr><td>Blood Giving set</td><td>8Pcs</td></tr><tr><td>Susp. Co-trimoxazole 240mg/5ml</td><td>5Bottle</td></tr><tr><td>Syp Multivite</td><td>18Bottle</td></tr><tr><td>syr Cough Syrup (A) 100ml</td><td>7Bottle</td></tr><tr><td>syr Cough Syrup (P) 100ml</td><td>7Bottle</td></tr><tr><td>syr Vitamin B complex</td><td>8Bottle</td></tr><tr><td>susp Magnessium Trisilicate 200ml</td><td>9Bottle</td></tr><tr><td>Syr Albendazole 100mg/5ml</td><td>1Bottle</td></tr><tr><td>Syrup Paracetamol 125mg/5ml</td><td>10Bottle</td></tr><tr><td>syr Cough Syrup (P) 100ml</td><td>20Bottle</td></tr><tr><td>0.9% Normal saline 1000ml</td><td>10Pcs</td></tr><tr><td>Susp. Erythromycin 125mg/5ml</td><td>10Bottle</td></tr><tr><td>Darrows solution 1/2 strength 500ml</td><td>10Pcs</td></tr><tr><td>susp Metronidazole 100mg/5ml</td><td>2Bottle</td></tr><tr><td>syr Cough Syrup (A) 100ml</td><td>5Bottle</td></tr><tr><td>syr Cough Syrup (A) 100ml</td><td>2Bottle</td></tr><tr><td>Cotton Wool 100g</td><td>1Pcs</td></tr><tr><td>Disposable gloves</td><td>1Pairs</td></tr><tr><td>Syrup Paracetamol 125mg/5ml</td><td>15Bottle</td></tr><tr><td>syr Vitamin B complex</td><td>4Bottle</td></tr><tr><td>inj Hydrocortisone 100mg</td><td>51Vial</td></tr><tr><td>susp. Ampiclox 125mg/5ml</td><td>6Bottle</td></tr><tr><td>Susp. Amoxicillin 125mg/5ml</td><td>9Bottle</td></tr><tr><td>syr Cough Syrup (A) 100ml</td><td>2Bottle</td></tr><tr><td>syr Vitamin B complex</td><td>5Bottle</td></tr><tr><td>inj Benzylpenicillin 1mu</td><td>15Vial</td></tr><tr><td>Syrup Paracetamol 125mg/5ml</td><td>10Bottle</td></tr><tr><td>5% Dextrose saline 500mls</td><td>6Pcs</td></tr><tr><td>0.9% Normal saline 500mls</td><td>11Pcs</td></tr><tr><td>inj Benzylpenicillin 1mu</td><td>15Vial</td></tr><tr><td>Syrup Paracetamol 125mg/5ml</td><td>10Bottle</td></tr><tr><td>Cotton Wool 100g</td><td>1Pcs</td></tr><tr><td>Disposable gloves</td><td>1Pairs</td></tr><tr><td>Gutt/Ear Gentamycin 0.05</td><td>2Tube</td></tr><tr><td>inj Anti tetanus Serum (ATS) 1500i.u</td><td>4Amp</td></tr><tr><td>lotion Benzylbenzoate lotion</td><td>2Bottle</td></tr><tr><td>susp Metronidazole 100mg/5ml</td><td>30Bottle</td></tr><tr><td>Susp. Co-trimoxazole 240mg/5ml</td><td>40Bottle</td></tr><tr><td>Syp Multivite</td><td>30Bottle</td></tr><tr><td>Syr Albendazole 100mg/5ml</td><td>6Bottle</td></tr><tr><td>syr Cough Syrup (A) 100ml</td><td>30Bottle</td></tr><tr><td>syr Cough Syrup (P) 100ml</td><td>25Bottle</td></tr><tr><td>syr Vitamin B complex</td><td>18Bottle</td></tr><tr><td>susp Metronidazole 100mg/5ml</td><td>4Bottle</td></tr><tr><td>syr Cough Syrup (A) 100ml</td><td>5Bottle</td></tr><tr><td>syr Cough Syrup (P) 100ml</td><td>10Bottle</td></tr><tr><td>Susp. Amoxicillin 125mg/5ml</td><td>9Bottle</td></tr><tr><td>susp Metronidazole 100mg/5ml</td><td>4Bottle</td></tr><tr><td>syr Cough Syrup (A) 100ml</td><td>5Bottle</td></tr><tr><td>syr Cough Syrup (P) 100ml</td><td>10Bottle</td></tr><tr><td>susp Metronidazole 100mg/5ml</td><td>2Bottle</td></tr><tr><td>Syrup Paracetamol 125mg/5ml</td><td>5Bottle</td></tr><tr><td>Gutt/Ear Gentamycin 0.05</td><td>1Tube</td></tr><tr><td>inj Tetanus Toxoid 0.5ml</td><td>20Amp</td></tr><tr><td>lotion Benzylbenzoate lotion</td><td>4Bottle</td></tr><tr><td>syr Cough Syrup (A) 100ml</td><td>2Bottle</td></tr><tr><td>Syp Multivite</td><td>110Bottle</td></tr><tr><td>syr Cough Syrup (P) 100ml</td><td>140Bottle</td></tr><tr><td>lotion Benzylbenzoate lotion</td><td>4Bottle</td></tr><tr><td>susp Metronidazole 100mg/5ml</td><td>10Bottle</td></tr><tr><td>syr Cough Syrup (A) 100ml</td><td>10Bottle</td></tr><tr><td>susp Magnessium Trisilicate 200ml</td><td>12Bottle</td></tr><tr><td>Susp. Erythromycin 125mg/5ml</td><td>5Bottle</td></tr><tr><td>syr Cough Syrup (P) 100ml</td><td>10Bottle</td></tr><tr><td>Gutt/Ear Gentamycin 0.05</td><td>3Tube</td></tr><tr><td>inj Tetanus Toxoid 0.5ml</td><td>46Amp</td></tr><tr><td>susp Metronidazole 100mg/5ml</td><td>35Bottle</td></tr><tr><td>Susp. Co-trimoxazole 240mg/5ml</td><td>33Bottle</td></tr><tr><td>Syp Multivite</td><td>13Bottle</td></tr><tr><td>Syr Albendazole 100mg/5ml</td><td>7Bottle</td></tr><tr><td>syr Cough Syrup (A) 100ml</td><td>33Bottle</td></tr><tr><td>syr Cough Syrup (P) 100ml</td><td>23Bottle</td></tr><tr><td>syr Vitamin B complex</td><td>16Bottle</td></tr><tr><td>Syrup Paracetamol 125mg/5ml</td><td>32Bottle</td></tr><tr><td>Gutt/Ear Gentamycin 0.05</td><td>5Tube</td></tr><tr><td>Infusion Sets 23g</td><td>50Pcs</td></tr><tr><td>Susp. Co-trimoxazole 240mg/5ml</td><td>45Bottle</td></tr><tr><td>Syr Albendazole 100mg/5ml</td><td>10Bottle</td></tr><tr><td>Syrup Paracetamol 125mg/5ml</td><td>3Bottle</td></tr><tr><td>Inj Chlorpromazine</td><td>7Amp</td></tr><tr><td>Inj Cimetidine</td><td>5Amp</td></tr><tr><td>Inj AntiRabies</td><td>5Vial</td></tr><tr><td>Susp Cefuroxime</td><td>10Bottle</td></tr><tr><td>Syr Ascorbic Acid drops</td><td>7Bottle</td></tr><tr><td>Syr Chlorpheniramine</td><td>3Bottle</td></tr><tr><td>Hydrogen Peroxide</td><td>12Bottle</td></tr><tr><td>Susp. Co-trimoxazole 240mg/5ml</td><td>30Bottle</td></tr><tr><td>inj Anti tetanus Serum (ATS) 1500i.u</td><td>10Amp</td></tr><tr><td>inj Tetanus Toxoid 0.5ml</td><td>50Amp</td></tr><tr><td>lotion Benzylbenzoate lotion</td><td>4Bottle</td></tr><tr><td>syr Cough Syrup (A) 100ml</td><td>40Bottle</td></tr><tr><td>5% Dextrose saline 1000ml</td><td>20Pcs</td></tr><tr><td>Methylated spirit 100ml</td><td>4Bottle</td></tr><tr><td>susp Magnessium Trisilicate 200ml</td><td>15Bottle</td></tr><tr><td>Syrup Paracetamol 125mg/5ml</td><td>30Bottle</td></tr><tr><td>Cotton Wool 100g</td><td>2Pcs</td></tr><tr><td>Disposable gloves</td><td>2Pairs</td></tr><tr><td>inj Anti tetanus Serum (ATS) 1500i.u</td><td>100Amp</td></tr><tr><td>inj Tetanus Toxoid 0.5ml</td><td>2Amp</td></tr><tr><td>Syr Albendazole 100mg/5ml</td><td>6Bottle</td></tr><tr><td>Cotton Wool 100g</td><td>2Pcs</td></tr><tr><td>Gutt/Ear Gentamycin 0.05</td><td>5Tube</td></tr><tr><td>Infusion Sets 23g</td><td>40Pcs</td></tr><tr><td>inj Tetanus Toxoid 0.5ml</td><td>47Amp</td></tr><tr><td>susp Metronidazole 100mg/5ml</td><td>45Bottle</td></tr><tr><td>susp. Ampiclox 125mg/5ml</td><td>20Bottle</td></tr><tr><td>Susp. Co-trimoxazole 240mg/5ml</td><td>46Bottle</td></tr><tr><td>Syr Albendazole 100mg/5ml</td><td>8Bottle</td></tr><tr><td>syr Cough Syrup (P) 100ml</td><td>26Bottle</td></tr><tr><td>syr Vitamin B complex</td><td>27Bottle</td></tr><tr><td>Syrup Paracetamol 125mg/5ml</td><td>80Bottle</td></tr><tr><td>Cotton Wool 100g</td><td>2Pcs</td></tr><tr><td>Gutt/Ear Gentamycin 0.05</td><td>3Tube</td></tr><tr><td>inj Anti tetanus Serum (ATS) 1500i.u</td><td>6Amp</td></tr><tr><td>lotion Benzylbenzoate lotion</td><td>3Bottle</td></tr><tr><td>Syp Multivite</td><td>27Bottle</td></tr><tr><td>Syr Albendazole 100mg/5ml</td><td>8Bottle</td></tr><tr><td>syr Cough Syrup (P) 100ml</td><td>20Bottle</td></tr><tr><td>inj Anti tetanus Serum (ATS) 1500i.u</td><td>10Amp</td></tr><tr><td>inj Tetanus Toxoid 0.5ml</td><td>50Amp</td></tr><tr><td>lotion Benzylbenzoate lotion</td><td>4Bottle</td></tr><tr><td>syr Cough Syrup (A) 100ml</td><td>40Bottle</td></tr><tr><td>syr Vitamin B complex</td><td>30Bottle</td></tr><tr><td>Cotton Wool 100g</td><td>2Pcs</td></tr><tr><td>Cotton Wool 100g</td><td>2Pcs</td></tr><tr><td>Disposable gloves</td><td>2Pairs</td></tr><tr><td>Cotton Wool 100g</td><td>2Pcs</td></tr><tr><td>Disposable gloves</td><td>2Pairs</td></tr><tr><td>Syp Ascorbic acid / Tabs B Complex</td><td>2000Bottle</td></tr><tr><td>Gutt/Ear Gentamycin 0.05</td><td>3Tube</td></tr><tr><td>Infusion Sets 23g</td><td>36Pcs</td></tr><tr><td>lotion Benzylbenzoate lotion</td><td>3Bottle</td></tr><tr><td>Syr Albendazole 100mg/5ml</td><td>8Bottle</td></tr><tr><td>Infusion Sets 23g</td><td>34Pcs</td></tr><tr><td>Disposable gloves</td><td>2Pairs</td></tr><tr><td>Gutt/Ear Gentamycin 0.05</td><td>3Tube</td></tr><tr><td>Infusion Sets 23g</td><td>10Pcs</td></tr><tr><td>inj Anti tetanus Serum (ATS) 1500i.u</td><td>10Amp</td></tr><tr><td>Syp Multivite</td><td>30Bottle</td></tr><tr><td>Syr Albendazole 100mg/5ml</td><td>6Bottle</td></tr><tr><td>syr Cough Syrup (A) 100ml</td><td>30Bottle</td></tr><tr><td>syr Cough Syrup (P) 100ml</td><td>30Bottle</td></tr><tr><td>syr Vitamin B complex</td><td>30Bottle</td></tr><tr><td>inj Anti tetanus Serum (ATS) 1500i.u</td><td>10Amp</td></tr><tr><td>inj Tetanus Toxoid 0.5ml</td><td>50Amp</td></tr><tr><td>syr Cough Syrup (A) 100ml</td><td>40Bottle</td></tr><tr><td>syr Vitamin B complex</td><td>30Bottle</td></tr><tr><td>Disposable gloves</td><td>2Pairs</td></tr><tr><td>Syp Ascorbic acid / Tabs B Complex</td><td>2000Bottle</td></tr><tr><td>Disposable gloves</td><td>2Pairs</td></tr><tr><td>Gutt/Ear Gentamycin 0.05</td><td>4Tube</td></tr><tr><td>inj Anti tetanus Serum (ATS) 1500i.u</td><td>5Amp</td></tr><tr><td>inj Tetanus Toxoid 0.5ml</td><td>46Amp</td></tr><tr><td>Cotton Wool 100g</td><td>2Pcs</td></tr><tr><td>susp Metronidazole 100mg/5ml</td><td>2Bottle</td></tr><tr><td>Inj Zalote,</td><td>10Amp</td></tr><tr><td>inj Hydrocortisone 100mg</td><td>10Vial</td></tr><tr><td>Infusion Sets 23g</td><td>35Pcs</td></tr><tr><td>inj Anti tetanus Serum (ATS) 1500i.u</td><td>10Amp</td></tr><tr><td>inj Tetanus Toxoid 0.5ml</td><td>50Amp</td></tr><tr><td>syr Cough Syrup (A) 100ml</td><td>40Bottle</td></tr><tr><td>Cotton Wool 100g</td><td>3Pcs</td></tr><tr><td>5% Dextrose saline 1000ml</td><td>20Pcs</td></tr><tr><td>Infusion Sets 23g</td><td>100Pcs</td></tr><tr><td>Susp. Amoxicillin 125mg/5ml</td><td>10Bottle</td></tr><tr><td>Susp. Erythromycin 125mg/5ml</td><td>10Bottle</td></tr><tr><td>Syp Ascorbic acid</td><td>20Bottle</td></tr><tr><td>syr Cough Syrup (P) 100ml</td><td>20Bottle</td></tr><tr><td>syr Cough Syrup (A) 100ml</td><td>10Bottle</td></tr><tr><td>Cotton Wool 100g</td><td>1Pcs</td></tr><tr><td>Disposable gloves</td><td>1Pairs</td></tr></tbody></table></div>"
      ]
     },
     "metadata": {
      "application/vnd.databricks.v1+output": {
       "addedWidgets": {},
       "aggData": [],
       "aggError": "",
       "aggOverflow": false,
       "aggSchema": [],
       "aggSeriesLimitReached": false,
       "aggType": "",
       "arguments": {},
       "columnCustomDisplayInfos": {},
       "data": [
        [
         "lotion Benzylbenzoate lotion",
         "0Bottle"
        ],
        [
         "Methylated spirit 100ml",
         "0Bottle"
        ],
        [
         "susp Magnessium Trisilicate 200ml",
         "0Bottle"
        ],
        [
         "Susp. Amoxicillin 125mg/5ml",
         "0Bottle"
        ],
        [
         "Susp. Erythromycin 125mg/5ml",
         "0Bottle"
        ],
        [
         "Syp Ascorbic acid",
         "0Bottle"
        ],
        [
         "Syp Multivite",
         "0Bottle"
        ],
        [
         "Syr Albendazole 100mg/5ml",
         "0Bottle"
        ],
        [
         "syr Cough Syrup (A) 100ml",
         "0Bottle"
        ],
        [
         "syr Cough Syrup (P) 100ml",
         "0Bottle"
        ],
        [
         "syr Ferric amonium citrate 400mg/5ml",
         "0Bottle"
        ],
        [
         "syr Vitamin B complex",
         "0Bottle"
        ],
        [
         "Syrup Paracetamol 125mg/5ml",
         "0Bottle"
        ],
        [
         "lotion Benzylbenzoate lotion",
         "0Bottle"
        ],
        [
         "Methylated spirit 100ml",
         "0Bottle"
        ],
        [
         "susp Magnessium Trisilicate 200ml",
         "0Bottle"
        ],
        [
         "susp Metronidazole 100mg/5ml",
         "0Bottle"
        ],
        [
         "Susp. Amoxicillin 125mg/5ml",
         "0Bottle"
        ],
        [
         "susp. Ampiclox 125mg/5ml",
         "0Bottle"
        ],
        [
         "Susp. Co-trimoxazole 240mg/5ml",
         "0Bottle"
        ],
        [
         "Susp. Erythromycin 125mg/5ml",
         "0Bottle"
        ],
        [
         "Syp Ascorbic acid",
         "0Bottle"
        ],
        [
         "Syp Multivite",
         "0Bottle"
        ],
        [
         "Syr Albendazole 100mg/5ml",
         "0Bottle"
        ],
        [
         "syr Cough Syrup (A) 100ml",
         "0Bottle"
        ],
        [
         "syr Cough Syrup (P) 100ml",
         "0Bottle"
        ],
        [
         "syr Ferric amonium citrate 400mg/5ml",
         "0Bottle"
        ],
        [
         "syr Vitamin B complex",
         "0Bottle"
        ],
        [
         "Syrup Paracetamol 125mg/5ml",
         "0Bottle"
        ],
        [
         "lotion Benzylbenzoate lotion",
         "0Bottle"
        ],
        [
         "Methylated spirit 100ml",
         "0Bottle"
        ],
        [
         "susp Magnessium Trisilicate 200ml",
         "0Bottle"
        ],
        [
         "Susp. Amoxicillin 125mg/5ml",
         "0Bottle"
        ],
        [
         "Susp. Erythromycin 125mg/5ml",
         "0Bottle"
        ],
        [
         "Syp Ascorbic acid",
         "0Bottle"
        ],
        [
         "syr Ferric amonium citrate 400mg/5ml",
         "0Bottle"
        ],
        [
         "lotion Benzylbenzoate lotion",
         "0Bottle"
        ],
        [
         "Methylated spirit 100ml",
         "0Bottle"
        ],
        [
         "susp Magnessium Trisilicate 200ml",
         "0Bottle"
        ],
        [
         "Susp. Amoxicillin 125mg/5ml",
         "0Bottle"
        ],
        [
         "susp. Ampiclox 125mg/5ml",
         "0Bottle"
        ],
        [
         "Susp. Erythromycin 125mg/5ml",
         "0Bottle"
        ],
        [
         "syr Ferric amonium citrate 400mg/5ml",
         "0Bottle"
        ],
        [
         "lotion Benzylbenzoate lotion",
         "0Bottle"
        ],
        [
         "Methylated spirit 100ml",
         "0Bottle"
        ],
        [
         "susp Magnessium Trisilicate 200ml",
         "0Bottle"
        ],
        [
         "Susp. Amoxicillin 125mg/5ml",
         "0Bottle"
        ],
        [
         "Susp. Erythromycin 125mg/5ml",
         "0Bottle"
        ],
        [
         "lotion Benzylbenzoate lotion",
         "0Bottle"
        ],
        [
         "Methylated spirit 100ml",
         "0Bottle"
        ],
        [
         "susp Magnessium Trisilicate 200ml",
         "0Bottle"
        ],
        [
         "Susp. Amoxicillin 125mg/5ml",
         "0Bottle"
        ],
        [
         "Susp. Erythromycin 125mg/5ml",
         "0Bottle"
        ],
        [
         "Syp Ascorbic acid",
         "0Bottle"
        ],
        [
         "syr Cough Syrup (A) 100ml",
         "0Bottle"
        ],
        [
         "syr Cough Syrup (P) 100ml",
         "0Bottle"
        ],
        [
         "lotion Benzylbenzoate lotion",
         "0Bottle"
        ],
        [
         "Methylated spirit 100ml",
         "0Bottle"
        ],
        [
         "susp Magnessium Trisilicate 200ml",
         "0Bottle"
        ],
        [
         "Susp. Amoxicillin 125mg/5ml",
         "0Bottle"
        ],
        [
         "Susp. Erythromycin 125mg/5ml",
         "0Bottle"
        ],
        [
         "Syp Ascorbic acid",
         "0Bottle"
        ],
        [
         "Syr Albendazole 100mg/5ml",
         "0Bottle"
        ],
        [
         "syr Ferric amonium citrate 400mg/5ml",
         "0Bottle"
        ],
        [
         "syr Vitamin B complex",
         "0Bottle"
        ],
        [
         "Syrup Paracetamol 125mg/5ml",
         "0Bottle"
        ],
        [
         "lotion Benzylbenzoate lotion",
         "0Bottle"
        ],
        [
         "Methylated spirit 100ml",
         "0Bottle"
        ],
        [
         "susp Magnessium Trisilicate 200ml",
         "0Bottle"
        ],
        [
         "Susp. Amoxicillin 125mg/5ml",
         "0Bottle"
        ],
        [
         "susp. Ampiclox 125mg/5ml",
         "0Bottle"
        ],
        [
         "Susp. Erythromycin 125mg/5ml",
         "0Bottle"
        ],
        [
         "Syr Albendazole 100mg/5ml",
         "0Bottle"
        ],
        [
         "syr Ferric amonium citrate 400mg/5ml",
         "0Bottle"
        ],
        [
         "lotion Benzylbenzoate lotion",
         "0Bottle"
        ],
        [
         "Susp. Amoxicillin 125mg/5ml",
         "0Bottle"
        ],
        [
         "susp. Ampiclox 125mg/5ml",
         "0Bottle"
        ],
        [
         "syr Ferric amonium citrate 400mg/5ml",
         "0Bottle"
        ],
        [
         "lotion Benzylbenzoate lotion",
         "0Bottle"
        ],
        [
         "Methylated spirit 100ml",
         "0Bottle"
        ],
        [
         "Susp. Amoxicillin 125mg/5ml",
         "0Bottle"
        ],
        [
         "susp. Ampiclox 125mg/5ml",
         "0Bottle"
        ],
        [
         "Susp. Co-trimoxazole 240mg/5ml",
         "0Bottle"
        ],
        [
         "Susp. Erythromycin 125mg/5ml",
         "0Bottle"
        ],
        [
         "Syp Multivite",
         "0Bottle"
        ],
        [
         "Syr Albendazole 100mg/5ml",
         "0Bottle"
        ],
        [
         "syr Cough Syrup (A) 100ml",
         "0Bottle"
        ],
        [
         "syr Cough Syrup (P) 100ml",
         "0Bottle"
        ],
        [
         "syr Ferric amonium citrate 400mg/5ml",
         "0Bottle"
        ],
        [
         "syr Vitamin B complex",
         "0Bottle"
        ],
        [
         "lotion Benzylbenzoate lotion",
         "0Bottle"
        ],
        [
         "Methylated spirit 100ml",
         "0Bottle"
        ],
        [
         "susp Magnessium Trisilicate 200ml",
         "0Bottle"
        ],
        [
         "susp Metronidazole 100mg/5ml",
         "0Bottle"
        ],
        [
         "Susp. Amoxicillin 125mg/5ml",
         "0Bottle"
        ],
        [
         "susp. Ampiclox 125mg/5ml",
         "0Bottle"
        ],
        [
         "Susp. Co-trimoxazole 240mg/5ml",
         "0Bottle"
        ],
        [
         "Susp. Erythromycin 125mg/5ml",
         "0Bottle"
        ],
        [
         "Syp Ascorbic acid",
         "0Bottle"
        ],
        [
         "Syp Multivite",
         "0Bottle"
        ],
        [
         "Syr Albendazole 100mg/5ml",
         "0Bottle"
        ],
        [
         "syr Cough Syrup (A) 100ml",
         "0Bottle"
        ],
        [
         "syr Cough Syrup (P) 100ml",
         "0Bottle"
        ],
        [
         "syr Ferric amonium citrate 400mg/5ml",
         "0Bottle"
        ],
        [
         "syr Vitamin B complex",
         "0Bottle"
        ],
        [
         "Syrup Paracetamol 125mg/5ml",
         "0Bottle"
        ],
        [
         "lotion Benzylbenzoate lotion",
         "0Bottle"
        ],
        [
         "Methylated spirit 100ml",
         "0Bottle"
        ],
        [
         "susp Metronidazole 100mg/5ml",
         "0Bottle"
        ],
        [
         "Susp. Amoxicillin 125mg/5ml",
         "0Bottle"
        ],
        [
         "susp. Ampiclox 125mg/5ml",
         "0Bottle"
        ],
        [
         "Syr Albendazole 100mg/5ml",
         "0Bottle"
        ],
        [
         "syr Ferric amonium citrate 400mg/5ml",
         "0Bottle"
        ],
        [
         "lotion Benzylbenzoate lotion",
         "0Bottle"
        ],
        [
         "Methylated spirit 100ml",
         "0Bottle"
        ],
        [
         "Susp. Amoxicillin 125mg/5ml",
         "0Bottle"
        ],
        [
         "susp. Ampiclox 125mg/5ml",
         "0Bottle"
        ],
        [
         "Susp. Erythromycin 125mg/5ml",
         "0Bottle"
        ],
        [
         "Syp Ascorbic acid",
         "0Bottle"
        ],
        [
         "Syp Multivite",
         "0Bottle"
        ],
        [
         "Syr Albendazole 100mg/5ml",
         "0Bottle"
        ],
        [
         "lotion Benzylbenzoate lotion",
         "0Bottle"
        ],
        [
         "Methylated spirit 100ml",
         "0Bottle"
        ],
        [
         "susp Magnessium Trisilicate 200ml",
         "0Bottle"
        ],
        [
         "susp Metronidazole 100mg/5ml",
         "0Bottle"
        ],
        [
         "Susp. Amoxicillin 125mg/5ml",
         "0Bottle"
        ],
        [
         "susp. Ampiclox 125mg/5ml",
         "0Bottle"
        ],
        [
         "Susp. Erythromycin 125mg/5ml",
         "0Bottle"
        ],
        [
         "Syp Ascorbic acid",
         "0Bottle"
        ],
        [
         "Syr Albendazole 100mg/5ml",
         "0Bottle"
        ],
        [
         "syr Ferric amonium citrate 400mg/5ml",
         "0Bottle"
        ],
        [
         "Methylated spirit 100ml",
         "0Bottle"
        ],
        [
         "Susp. Amoxicillin 125mg/5ml",
         "0Bottle"
        ],
        [
         "susp. Ampiclox 125mg/5ml",
         "0Bottle"
        ],
        [
         "Susp. Erythromycin 125mg/5ml",
         "0Bottle"
        ],
        [
         "Syp Ascorbic acid",
         "0Bottle"
        ],
        [
         "syr Ferric amonium citrate 400mg/5ml",
         "0Bottle"
        ],
        [
         "lotion Benzylbenzoate lotion",
         "0Bottle"
        ],
        [
         "Methylated spirit 100ml",
         "0Bottle"
        ],
        [
         "susp Magnessium Trisilicate 200ml",
         "0Bottle"
        ],
        [
         "susp Metronidazole 100mg/5ml",
         "0Bottle"
        ],
        [
         "susp. Ampiclox 125mg/5ml",
         "0Bottle"
        ],
        [
         "Susp. Co-trimoxazole 240mg/5ml",
         "0Bottle"
        ],
        [
         "Susp. Erythromycin 125mg/5ml",
         "0Bottle"
        ],
        [
         "Syp Multivite",
         "0Bottle"
        ],
        [
         "Syr Albendazole 100mg/5ml",
         "0Bottle"
        ],
        [
         "syr Cough Syrup (A) 100ml",
         "0Bottle"
        ],
        [
         "syr Cough Syrup (P) 100ml",
         "0Bottle"
        ],
        [
         "syr Ferric amonium citrate 400mg/5ml",
         "0Bottle"
        ],
        [
         "syr Vitamin B complex",
         "0Bottle"
        ],
        [
         "lotion Benzylbenzoate lotion",
         "0Bottle"
        ],
        [
         "Methylated spirit 100ml",
         "0Bottle"
        ],
        [
         "susp Magnessium Trisilicate 200ml",
         "0Bottle"
        ],
        [
         "susp Metronidazole 100mg/5ml",
         "0Bottle"
        ],
        [
         "Susp. Amoxicillin 125mg/5ml",
         "0Bottle"
        ],
        [
         "susp. Ampiclox 125mg/5ml",
         "0Bottle"
        ],
        [
         "Susp. Co-trimoxazole 240mg/5ml",
         "0Bottle"
        ],
        [
         "Susp. Erythromycin 125mg/5ml",
         "0Bottle"
        ],
        [
         "Syp Ascorbic acid",
         "0Bottle"
        ],
        [
         "Syp Multivite",
         "0Bottle"
        ],
        [
         "Syr Albendazole 100mg/5ml",
         "0Bottle"
        ],
        [
         "syr Cough Syrup (A) 100ml",
         "0Bottle"
        ],
        [
         "syr Ferric amonium citrate 400mg/5ml",
         "0Bottle"
        ],
        [
         "syr Vitamin B complex",
         "0Bottle"
        ],
        [
         "Syrup Paracetamol 125mg/5ml",
         "0Bottle"
        ],
        [
         "Syr Buscopan",
         "0Bottle"
        ],
        [
         "lotion Benzylbenzoate lotion",
         "0Bottle"
        ],
        [
         "susp Metronidazole 100mg/5ml",
         "0Bottle"
        ],
        [
         "susp. Ampiclox 125mg/5ml",
         "0Bottle"
        ],
        [
         "Susp. Co-trimoxazole 240mg/5ml",
         "0Bottle"
        ],
        [
         "Syp Multivite",
         "0Bottle"
        ],
        [
         "Syr Albendazole 100mg/5ml",
         "0Bottle"
        ],
        [
         "syr Cough Syrup (A) 100ml",
         "0Bottle"
        ],
        [
         "syr Ferric amonium citrate 400mg/5ml",
         "0Bottle"
        ],
        [
         "syr Vitamin B complex",
         "0Bottle"
        ],
        [
         "lotion Benzylbenzoate lotion",
         "0Bottle"
        ],
        [
         "Methylated spirit 100ml",
         "0Bottle"
        ],
        [
         "susp Metronidazole 100mg/5ml",
         "0Bottle"
        ],
        [
         "Susp. Amoxicillin 125mg/5ml",
         "0Bottle"
        ],
        [
         "susp. Ampiclox 125mg/5ml",
         "0Bottle"
        ],
        [
         "Susp. Erythromycin 125mg/5ml",
         "0Bottle"
        ],
        [
         "Syp Multivite",
         "0Bottle"
        ],
        [
         "Syr Albendazole 100mg/5ml",
         "0Bottle"
        ],
        [
         "syr Ferric amonium citrate 400mg/5ml",
         "0Bottle"
        ],
        [
         "syr Vitamin B complex",
         "0Bottle"
        ],
        [
         "lotion Benzylbenzoate lotion",
         "0Bottle"
        ],
        [
         "Methylated spirit 100ml",
         "0Bottle"
        ],
        [
         "susp Metronidazole 100mg/5ml",
         "0Bottle"
        ],
        [
         "Susp. Co-trimoxazole 240mg/5ml",
         "0Bottle"
        ],
        [
         "Susp. Erythromycin 125mg/5ml",
         "0Bottle"
        ],
        [
         "Syp Ascorbic acid",
         "0Bottle"
        ],
        [
         "Syp Multivite",
         "0Bottle"
        ],
        [
         "syr Cough Syrup (A) 100ml",
         "0Bottle"
        ],
        [
         "syr Ferric amonium citrate 400mg/5ml",
         "0Bottle"
        ],
        [
         "lotion Benzylbenzoate lotion",
         "0Bottle"
        ],
        [
         "Methylated spirit 100ml",
         "0Bottle"
        ],
        [
         "susp Magnessium Trisilicate 200ml",
         "0Bottle"
        ],
        [
         "susp Metronidazole 100mg/5ml",
         "0Bottle"
        ],
        [
         "Susp. Amoxicillin 125mg/5ml",
         "0Bottle"
        ],
        [
         "susp. Ampiclox 125mg/5ml",
         "0Bottle"
        ],
        [
         "Susp. Co-trimoxazole 240mg/5ml",
         "0Bottle"
        ],
        [
         "Susp. Erythromycin 125mg/5ml",
         "0Bottle"
        ],
        [
         "Syp Ascorbic acid / Tabs B Complex",
         "0Bottle"
        ],
        [
         "Syp Multivite / Tab Multivite",
         "0Bottle"
        ],
        [
         "Syr Albendazole 100mg/5ml",
         "0Bottle"
        ],
        [
         "syr Cough Syrup (A) 100ml",
         "0Bottle"
        ],
        [
         "syr Cough Syrup (P) 100ml",
         "0Bottle"
        ],
        [
         "syr Ferric amonium citrate 400mg/5ml",
         "0Bottle"
        ],
        [
         "syr Vitamin B complex",
         "0Bottle"
        ],
        [
         "Syrup Paracetamol 125mg/5ml",
         "0Bottle"
        ],
        [
         "lotion Benzylbenzoate lotion",
         "0Bottle"
        ],
        [
         "Methylated spirit 100ml",
         "0Bottle"
        ],
        [
         "susp Magnessium Trisilicate 200ml",
         "0Bottle"
        ],
        [
         "Susp. Amoxicillin 125mg/5ml",
         "0Bottle"
        ],
        [
         "Susp. Erythromycin 125mg/5ml",
         "0Bottle"
        ],
        [
         "Syp Ascorbic acid",
         "0Bottle"
        ],
        [
         "syr Ferric amonium citrate 400mg/5ml",
         "0Bottle"
        ],
        [
         "Syrup Paracetamol 125mg/5ml",
         "0Bottle"
        ],
        [
         "lotion Benzylbenzoate lotion",
         "0Bottle"
        ],
        [
         "Methylated spirit 100ml",
         "0Bottle"
        ],
        [
         "susp Magnessium Trisilicate 200ml",
         "0Bottle"
        ],
        [
         "Susp. Amoxicillin 125mg/5ml",
         "0Bottle"
        ],
        [
         "susp. Ampiclox 125mg/5ml",
         "0Bottle"
        ],
        [
         "Susp. Co-trimoxazole 240mg/5ml",
         "0Bottle"
        ],
        [
         "Susp. Erythromycin 125mg/5ml",
         "0Bottle"
        ],
        [
         "Syp Ascorbic acid",
         "0Bottle"
        ],
        [
         "Syp Multivite",
         "0Bottle"
        ],
        [
         "Syr Albendazole 100mg/5ml",
         "0Bottle"
        ],
        [
         "syr Cough Syrup (P) 100ml",
         "0Bottle"
        ],
        [
         "syr Ferric amonium citrate 400mg/5ml",
         "0Bottle"
        ],
        [
         "syr Vitamin B complex",
         "0Bottle"
        ],
        [
         "Syrup Paracetamol 125mg/5ml",
         "0Bottle"
        ],
        [
         "lotion Benzylbenzoate lotion",
         "0Bottle"
        ],
        [
         "Methylated spirit 100ml",
         "0Bottle"
        ],
        [
         "susp Magnessium Trisilicate 200ml",
         "0Bottle"
        ],
        [
         "susp Metronidazole 100mg/5ml",
         "0Bottle"
        ],
        [
         "Susp. Amoxicillin 125mg/5ml",
         "0Bottle"
        ],
        [
         "susp. Ampiclox 125mg/5ml",
         "0Bottle"
        ],
        [
         "Susp. Co-trimoxazole 240mg/5ml",
         "0Bottle"
        ],
        [
         "Susp. Erythromycin 125mg/5ml",
         "0Bottle"
        ],
        [
         "Syp Ascorbic acid",
         "0Bottle"
        ],
        [
         "Syp Multivite",
         "0Bottle"
        ],
        [
         "Syr Albendazole 100mg/5ml",
         "0Bottle"
        ],
        [
         "syr Ferric amonium citrate 400mg/5ml",
         "0Bottle"
        ],
        [
         "syr Vitamin B complex",
         "0Bottle"
        ],
        [
         "Syrup Paracetamol 125mg/5ml",
         "0Bottle"
        ],
        [
         "lotion Benzylbenzoate lotion",
         "0Bottle"
        ],
        [
         "Methylated spirit 100ml",
         "0Bottle"
        ],
        [
         "susp Magnessium Trisilicate 200ml",
         "0Bottle"
        ],
        [
         "susp Metronidazole 100mg/5ml",
         "0Bottle"
        ],
        [
         "Susp. Amoxicillin 125mg/5ml",
         "0Bottle"
        ],
        [
         "susp. Ampiclox 125mg/5ml",
         "0Bottle"
        ],
        [
         "Susp. Co-trimoxazole 240mg/5ml",
         "0Bottle"
        ],
        [
         "Susp. Erythromycin 125mg/5ml",
         "0Bottle"
        ],
        [
         "Syp Ascorbic acid",
         "0Bottle"
        ],
        [
         "Syp Multivite",
         "0Bottle"
        ],
        [
         "Syr Albendazole 100mg/5ml",
         "0Bottle"
        ],
        [
         "syr Cough Syrup (A) 100ml",
         "0Bottle"
        ],
        [
         "syr Ferric amonium citrate 400mg/5ml",
         "0Bottle"
        ],
        [
         "syr Vitamin B complex",
         "0Bottle"
        ],
        [
         "Syrup Paracetamol 125mg/5ml",
         "0Bottle"
        ],
        [
         "lotion Benzylbenzoate lotion",
         "0Bottle"
        ],
        [
         "Methylated spirit 100ml",
         "0Bottle"
        ],
        [
         "susp Magnessium Trisilicate 200ml",
         "0Bottle"
        ],
        [
         "Susp. Amoxicillin 125mg/5ml",
         "0Bottle"
        ],
        [
         "susp. Ampiclox 125mg/5ml",
         "0Bottle"
        ],
        [
         "Susp. Co-trimoxazole 240mg/5ml",
         "0Bottle"
        ],
        [
         "Susp. Erythromycin 125mg/5ml",
         "0Bottle"
        ],
        [
         "Syp Ascorbic acid",
         "0Bottle"
        ],
        [
         "Syp Multivite",
         "0Bottle"
        ],
        [
         "Syr Albendazole 100mg/5ml",
         "0Bottle"
        ],
        [
         "syr Cough Syrup (A) 100ml",
         "0Bottle"
        ],
        [
         "syr Ferric amonium citrate 400mg/5ml",
         "0Bottle"
        ],
        [
         "syr Vitamin B complex",
         "0Bottle"
        ],
        [
         "Syrup Paracetamol 125mg/5ml",
         "0Bottle"
        ],
        [
         "lotion Benzylbenzoate lotion",
         "0Bottle"
        ],
        [
         "Methylated spirit 100ml",
         "0Bottle"
        ],
        [
         "susp Magnessium Trisilicate 200ml",
         "0Bottle"
        ],
        [
         "Susp. Amoxicillin 125mg/5ml",
         "0Bottle"
        ],
        [
         "susp. Ampiclox 125mg/5ml",
         "0Bottle"
        ],
        [
         "Susp. Co-trimoxazole 240mg/5ml",
         "0Bottle"
        ],
        [
         "Susp. Erythromycin 125mg/5ml",
         "0Bottle"
        ],
        [
         "Syp Ascorbic acid",
         "0Bottle"
        ],
        [
         "Syp Multivite",
         "0Bottle"
        ],
        [
         "Syr Albendazole 100mg/5ml",
         "0Bottle"
        ],
        [
         "syr Cough Syrup (A) 100ml",
         "0Bottle"
        ],
        [
         "syr Ferric amonium citrate 400mg/5ml",
         "0Bottle"
        ],
        [
         "lotion Benzylbenzoate lotion",
         "0Bottle"
        ],
        [
         "Methylated spirit 100ml",
         "0Bottle"
        ],
        [
         "susp Magnessium Trisilicate 200ml",
         "0Bottle"
        ],
        [
         "susp Metronidazole 100mg/5ml",
         "0Bottle"
        ],
        [
         "Susp. Amoxicillin 125mg/5ml",
         "0Bottle"
        ],
        [
         "susp. Ampiclox 125mg/5ml",
         "0Bottle"
        ],
        [
         "Susp. Co-trimoxazole 240mg/5ml",
         "0Bottle"
        ],
        [
         "Susp. Erythromycin 125mg/5ml",
         "0Bottle"
        ],
        [
         "Syp Ascorbic acid",
         "0Bottle"
        ],
        [
         "Syp Multivite",
         "0Bottle"
        ],
        [
         "Syr Albendazole 100mg/5ml",
         "0Bottle"
        ],
        [
         "syr Cough Syrup (A) 100ml",
         "0Bottle"
        ],
        [
         "syr Cough Syrup (P) 100ml",
         "0Bottle"
        ],
        [
         "syr Ferric amonium citrate 400mg/5ml",
         "0Bottle"
        ],
        [
         "syr Vitamin B complex",
         "0Bottle"
        ],
        [
         "Syrup Paracetamol 125mg/5ml",
         "0Bottle"
        ],
        [
         "lotion Benzylbenzoate lotion",
         "0Bottle"
        ],
        [
         "Methylated spirit 100ml",
         "0Bottle"
        ],
        [
         "susp Magnessium Trisilicate 200ml",
         "0Bottle"
        ],
        [
         "susp Metronidazole 100mg/5ml",
         "0Bottle"
        ],
        [
         "Susp. Amoxicillin 125mg/5ml",
         "0Bottle"
        ],
        [
         "susp. Ampiclox 125mg/5ml",
         "0Bottle"
        ],
        [
         "Susp. Co-trimoxazole 240mg/5ml",
         "0Bottle"
        ],
        [
         "Susp. Erythromycin 125mg/5ml",
         "0Bottle"
        ],
        [
         "Syp Ascorbic acid",
         "0Bottle"
        ],
        [
         "Syp Multivite",
         "0Bottle"
        ],
        [
         "Syr Albendazole 100mg/5ml",
         "0Bottle"
        ],
        [
         "syr Cough Syrup (A) 100ml",
         "0Bottle"
        ],
        [
         "syr Cough Syrup (P) 100ml",
         "0Bottle"
        ],
        [
         "syr Ferric amonium citrate 400mg/5ml",
         "0Bottle"
        ],
        [
         "syr Vitamin B complex",
         "0Bottle"
        ],
        [
         "Syrup Paracetamol 125mg/5ml",
         "0Bottle"
        ],
        [
         "Methylated spirit 100ml",
         "0Bottle"
        ],
        [
         "susp Magnessium Trisilicate 200ml",
         "0Bottle"
        ],
        [
         "Susp. Amoxicillin 125mg/5ml",
         "0Bottle"
        ],
        [
         "Susp. Erythromycin 125mg/5ml",
         "0Bottle"
        ],
        [
         "Syp Ascorbic acid",
         "0Bottle"
        ],
        [
         "Syp Multivite",
         "0Bottle"
        ],
        [
         "Syr Albendazole 100mg/5ml",
         "0Bottle"
        ],
        [
         "syr Cough Syrup (A) 100ml",
         "0Bottle"
        ],
        [
         "syr Cough Syrup (P) 100ml",
         "0Bottle"
        ],
        [
         "syr Ferric amonium citrate 400mg/5ml",
         "0Bottle"
        ],
        [
         "syr Vitamin B complex",
         "0Bottle"
        ],
        [
         "Syrup Paracetamol 125mg/5ml",
         "0Bottle"
        ],
        [
         "lotion Benzylbenzoate lotion",
         "0Bottle"
        ],
        [
         "Methylated spirit 100ml",
         "0Bottle"
        ],
        [
         "susp Magnessium Trisilicate 200ml",
         "0Bottle"
        ],
        [
         "Susp. Amoxicillin 125mg/5ml",
         "0Bottle"
        ],
        [
         "Susp. Erythromycin 125mg/5ml",
         "0Bottle"
        ],
        [
         "Syp Ascorbic acid",
         "0Bottle"
        ],
        [
         "syr Ferric amonium citrate 400mg/5ml",
         "0Bottle"
        ],
        [
         "lotion Benzylbenzoate lotion",
         "0Bottle"
        ],
        [
         "Methylated spirit 100ml",
         "0Bottle"
        ],
        [
         "susp Magnessium Trisilicate 200ml",
         "0Bottle"
        ],
        [
         "Susp. Amoxicillin 125mg/5ml",
         "0Bottle"
        ],
        [
         "Susp. Erythromycin 125mg/5ml",
         "0Bottle"
        ],
        [
         "Syp Ascorbic acid",
         "0Bottle"
        ],
        [
         "syr Ferric amonium citrate 400mg/5ml",
         "0Bottle"
        ],
        [
         "lotion Benzylbenzoate lotion",
         "0Bottle"
        ],
        [
         "Methylated spirit 100ml",
         "0Bottle"
        ],
        [
         "susp Magnessium Trisilicate 200ml",
         "0Bottle"
        ],
        [
         "Susp. Amoxicillin 125mg/5ml",
         "0Bottle"
        ],
        [
         "susp. Ampiclox 125mg/5ml",
         "0Bottle"
        ],
        [
         "Susp. Co-trimoxazole 240mg/5ml",
         "0Bottle"
        ],
        [
         "Susp. Erythromycin 125mg/5ml",
         "0Bottle"
        ],
        [
         "Syp Multivite",
         "0Bottle"
        ],
        [
         "Syr Albendazole 100mg/5ml",
         "0Bottle"
        ],
        [
         "syr Ferric amonium citrate 400mg/5ml",
         "0Bottle"
        ],
        [
         "Syrup Paracetamol 125mg/5ml",
         "0Bottle"
        ],
        [
         "lotion Benzylbenzoate lotion",
         "0Bottle"
        ],
        [
         "Methylated spirit 100ml",
         "0Bottle"
        ],
        [
         "susp Magnessium Trisilicate 200ml",
         "0Bottle"
        ],
        [
         "Susp. Amoxicillin 125mg/5ml",
         "0Bottle"
        ],
        [
         "Susp. Erythromycin 125mg/5ml",
         "0Bottle"
        ],
        [
         "syr Ferric amonium citrate 400mg/5ml",
         "0Bottle"
        ],
        [
         "lotion Benzylbenzoate lotion",
         "0Bottle"
        ],
        [
         "Methylated spirit 100ml",
         "0Bottle"
        ],
        [
         "susp Magnessium Trisilicate 200ml",
         "0Bottle"
        ],
        [
         "Susp. Amoxicillin 125mg/5ml",
         "0Bottle"
        ],
        [
         "Susp. Erythromycin 125mg/5ml",
         "0Bottle"
        ],
        [
         "Syp Ascorbic acid",
         "0Bottle"
        ],
        [
         "Syr Albendazole 100mg/5ml",
         "0Bottle"
        ],
        [
         "syr Ferric amonium citrate 400mg/5ml",
         "0Bottle"
        ],
        [
         "syr Vitamin B complex",
         "0Bottle"
        ],
        [
         "lotion Benzylbenzoate lotion",
         "0Bottle"
        ],
        [
         "Methylated spirit 100ml",
         "0Bottle"
        ],
        [
         "susp Magnessium Trisilicate 200ml",
         "0Bottle"
        ],
        [
         "Susp. Amoxicillin 125mg/5ml",
         "0Bottle"
        ],
        [
         "susp. Ampiclox 125mg/5ml",
         "0Bottle"
        ],
        [
         "Susp. Erythromycin 125mg/5ml",
         "0Bottle"
        ],
        [
         "Syr Albendazole 100mg/5ml",
         "0Bottle"
        ],
        [
         "syr Ferric amonium citrate 400mg/5ml",
         "0Bottle"
        ],
        [
         "syr Vitamin B complex",
         "0Bottle"
        ],
        [
         "Syrup Paracetamol 125mg/5ml",
         "0Bottle"
        ],
        [
         "lotion Benzylbenzoate lotion",
         "0Bottle"
        ],
        [
         "susp Magnessium Trisilicate 200ml",
         "0Bottle"
        ],
        [
         "Susp. Amoxicillin 125mg/5ml",
         "0Bottle"
        ],
        [
         "susp. Ampiclox 125mg/5ml",
         "0Bottle"
        ],
        [
         "Susp. Erythromycin 125mg/5ml",
         "0Bottle"
        ],
        [
         "Methylated spirit 100ml",
         "0Bottle"
        ],
        [
         "Susp. Amoxicillin 125mg/5ml",
         "0Bottle"
        ],
        [
         "susp. Ampiclox 125mg/5ml",
         "0Bottle"
        ],
        [
         "Susp. Erythromycin 125mg/5ml",
         "0Bottle"
        ],
        [
         "Syp Ascorbic acid",
         "0Bottle"
        ],
        [
         "syr Ferric amonium citrate 400mg/5ml",
         "0Bottle"
        ],
        [
         "lotion Benzylbenzoate lotion",
         "0Bottle"
        ],
        [
         "Methylated spirit 100ml",
         "0Bottle"
        ],
        [
         "susp Magnessium Trisilicate 200ml",
         "0Bottle"
        ],
        [
         "susp Metronidazole 100mg/5ml",
         "0Bottle"
        ],
        [
         "Susp. Amoxicillin 125mg/5ml",
         "0Bottle"
        ],
        [
         "susp. Ampiclox 125mg/5ml",
         "0Bottle"
        ],
        [
         "Susp. Co-trimoxazole 240mg/5ml",
         "0Bottle"
        ],
        [
         "Susp. Erythromycin 125mg/5ml",
         "0Bottle"
        ],
        [
         "Syp Ascorbic acid",
         "0Bottle"
        ],
        [
         "Syp Multivite",
         "0Bottle"
        ],
        [
         "Syr Albendazole 100mg/5ml",
         "0Bottle"
        ],
        [
         "syr Cough Syrup (A) 100ml",
         "0Bottle"
        ],
        [
         "syr Cough Syrup (P) 100ml",
         "0Bottle"
        ],
        [
         "syr Ferric amonium citrate 400mg/5ml",
         "0Bottle"
        ],
        [
         "syr Vitamin B complex",
         "0Bottle"
        ],
        [
         "Syrup Paracetamol 125mg/5ml",
         "0Bottle"
        ],
        [
         "lotion Benzylbenzoate lotion",
         "0Bottle"
        ],
        [
         "Methylated spirit 100ml",
         "0Bottle"
        ],
        [
         "susp Magnessium Trisilicate 200ml",
         "0Bottle"
        ],
        [
         "susp Metronidazole 100mg/5ml",
         "0Bottle"
        ],
        [
         "Susp. Amoxicillin 125mg/5ml",
         "0Bottle"
        ],
        [
         "susp. Ampiclox 125mg/5ml",
         "0Bottle"
        ],
        [
         "Susp. Co-trimoxazole 240mg/5ml",
         "0Bottle"
        ],
        [
         "Susp. Erythromycin 125mg/5ml",
         "0Bottle"
        ],
        [
         "Syp Ascorbic acid",
         "0Bottle"
        ],
        [
         "Syp Multivite",
         "0Bottle"
        ],
        [
         "Syr Albendazole 100mg/5ml",
         "0Bottle"
        ],
        [
         "syr Cough Syrup (A) 100ml",
         "0Bottle"
        ],
        [
         "syr Cough Syrup (P) 100ml",
         "0Bottle"
        ],
        [
         "syr Ferric amonium citrate 400mg/5ml",
         "0Bottle"
        ],
        [
         "syr Vitamin B complex",
         "0Bottle"
        ],
        [
         "Syrup Paracetamol 125mg/5ml",
         "0Bottle"
        ],
        [
         "Methylated spirit 100ml",
         "0Bottle"
        ],
        [
         "susp Magnessium Trisilicate 200ml",
         "0Bottle"
        ],
        [
         "Susp. Amoxicillin 125mg/5ml",
         "0Bottle"
        ],
        [
         "Susp. Erythromycin 125mg/5ml",
         "0Bottle"
        ],
        [
         "Syp Ascorbic acid",
         "0Bottle"
        ],
        [
         "syr Ferric amonium citrate 400mg/5ml",
         "0Bottle"
        ],
        [
         "lotion Benzylbenzoate lotion",
         "0Bottle"
        ],
        [
         "susp. Ampiclox 125mg/5ml",
         "0Bottle"
        ],
        [
         "Susp. Co-trimoxazole 240mg/5ml",
         "0Bottle"
        ],
        [
         "Syp Multivite",
         "0Bottle"
        ],
        [
         "Syr Albendazole 100mg/5ml",
         "0Bottle"
        ],
        [
         "syr Ferric amonium citrate 400mg/5ml",
         "0Bottle"
        ],
        [
         "syr Vitamin B complex",
         "0Bottle"
        ],
        [
         "lotion Benzylbenzoate lotion",
         "0Bottle"
        ],
        [
         "Methylated spirit 100ml",
         "0Bottle"
        ],
        [
         "susp Magnessium Trisilicate 200ml",
         "0Bottle"
        ],
        [
         "Susp. Amoxicillin 125mg/5ml",
         "0Bottle"
        ],
        [
         "susp. Ampiclox 125mg/5ml",
         "0Bottle"
        ],
        [
         "Susp. Co-trimoxazole 240mg/5ml",
         "0Bottle"
        ],
        [
         "Susp. Erythromycin 125mg/5ml",
         "0Bottle"
        ],
        [
         "Syp Multivite",
         "0Bottle"
        ],
        [
         "Syr Albendazole 100mg/5ml",
         "0Bottle"
        ],
        [
         "syr Cough Syrup (A) 100ml",
         "0Bottle"
        ],
        [
         "syr Cough Syrup (P) 100ml",
         "0Bottle"
        ],
        [
         "syr Ferric amonium citrate 400mg/5ml",
         "0Bottle"
        ],
        [
         "syr Vitamin B complex",
         "0Bottle"
        ],
        [
         "lotion Benzylbenzoate lotion",
         "0Bottle"
        ],
        [
         "Methylated spirit 100ml",
         "0Bottle"
        ],
        [
         "susp Metronidazole 100mg/5ml",
         "0Bottle"
        ],
        [
         "Susp. Amoxicillin 125mg/5ml",
         "0Bottle"
        ],
        [
         "susp. Ampiclox 125mg/5ml",
         "0Bottle"
        ],
        [
         "Susp. Co-trimoxazole 240mg/5ml",
         "0Bottle"
        ],
        [
         "Syp Multivite",
         "0Bottle"
        ],
        [
         "Syr Albendazole 100mg/5ml",
         "0Bottle"
        ],
        [
         "syr Ferric amonium citrate 400mg/5ml",
         "0Bottle"
        ],
        [
         "syr Vitamin B complex",
         "0Bottle"
        ],
        [
         "Syrup Paracetamol 125mg/5ml",
         "0Bottle"
        ],
        [
         "lotion Benzylbenzoate lotion",
         "0Bottle"
        ],
        [
         "Methylated spirit 100ml",
         "0Bottle"
        ],
        [
         "susp Magnessium Trisilicate 200ml",
         "0Bottle"
        ],
        [
         "Susp. Amoxicillin 125mg/5ml",
         "0Bottle"
        ],
        [
         "Susp. Erythromycin 125mg/5ml",
         "0Bottle"
        ],
        [
         "Syp Ascorbic acid",
         "0Bottle"
        ],
        [
         "syr Ferric amonium citrate 400mg/5ml",
         "0Bottle"
        ],
        [
         "lotion Benzylbenzoate lotion",
         "0Bottle"
        ],
        [
         "Methylated spirit 100ml",
         "0Bottle"
        ],
        [
         "susp Magnessium Trisilicate 200ml",
         "0Bottle"
        ],
        [
         "Susp. Amoxicillin 125mg/5ml",
         "0Bottle"
        ],
        [
         "susp. Ampiclox 125mg/5ml",
         "0Bottle"
        ],
        [
         "Susp. Co-trimoxazole 240mg/5ml",
         "0Bottle"
        ],
        [
         "Susp. Erythromycin 125mg/5ml",
         "0Bottle"
        ],
        [
         "Syp Multivite",
         "0Bottle"
        ],
        [
         "Syr Albendazole 100mg/5ml",
         "0Bottle"
        ],
        [
         "syr Ferric amonium citrate 400mg/5ml",
         "0Bottle"
        ],
        [
         "lotion Benzylbenzoate lotion",
         "0Bottle"
        ],
        [
         "Methylated spirit 100ml",
         "0Bottle"
        ],
        [
         "susp Metronidazole 100mg/5ml",
         "0Bottle"
        ],
        [
         "Susp. Amoxicillin 125mg/5ml",
         "0Bottle"
        ],
        [
         "Susp. Erythromycin 125mg/5ml",
         "0Bottle"
        ],
        [
         "syr Ferric amonium citrate 400mg/5ml",
         "0Bottle"
        ],
        [
         "lotion Benzylbenzoate lotion",
         "0Bottle"
        ],
        [
         "Methylated spirit 100ml",
         "0Bottle"
        ],
        [
         "susp Magnessium Trisilicate 200ml",
         "0Bottle"
        ],
        [
         "Susp. Amoxicillin 125mg/5ml",
         "0Bottle"
        ],
        [
         "susp. Ampiclox 125mg/5ml",
         "0Bottle"
        ],
        [
         "Susp. Erythromycin 125mg/5ml",
         "0Bottle"
        ],
        [
         "Syr Albendazole 100mg/5ml",
         "0Bottle"
        ],
        [
         "syr Ferric amonium citrate 400mg/5ml",
         "0Bottle"
        ],
        [
         "syr Vitamin B complex",
         "0Bottle"
        ],
        [
         "lotion Benzylbenzoate lotion",
         "0Bottle"
        ],
        [
         "susp Magnessium Trisilicate 200ml",
         "0Bottle"
        ],
        [
         "Susp. Amoxicillin 125mg/5ml",
         "0Bottle"
        ],
        [
         "susp. Ampiclox 125mg/5ml",
         "0Bottle"
        ],
        [
         "Susp. Erythromycin 125mg/5ml",
         "0Bottle"
        ],
        [
         "lotion Benzylbenzoate lotion",
         "0Bottle"
        ],
        [
         "Methylated spirit 100ml",
         "0Bottle"
        ],
        [
         "susp Magnessium Trisilicate 200ml",
         "0Bottle"
        ],
        [
         "susp Metronidazole 100mg/5ml",
         "0Bottle"
        ],
        [
         "Susp. Amoxicillin 125mg/5ml",
         "0Bottle"
        ],
        [
         "susp. Ampiclox 125mg/5ml",
         "0Bottle"
        ],
        [
         "Susp. Co-trimoxazole 240mg/5ml",
         "0Bottle"
        ],
        [
         "Susp. Erythromycin 125mg/5ml",
         "0Bottle"
        ],
        [
         "Syp Ascorbic acid",
         "0Bottle"
        ],
        [
         "Syp Multivite",
         "0Bottle"
        ],
        [
         "Syr Albendazole 100mg/5ml",
         "0Bottle"
        ],
        [
         "syr Cough Syrup (P) 100ml",
         "0Bottle"
        ],
        [
         "syr Ferric amonium citrate 400mg/5ml",
         "0Bottle"
        ],
        [
         "Syrup Paracetamol 125mg/5ml",
         "0Bottle"
        ],
        [
         "Methylated spirit 100ml",
         "0Bottle"
        ],
        [
         "susp Magnessium Trisilicate 200ml",
         "0Bottle"
        ],
        [
         "Susp. Amoxicillin 125mg/5ml",
         "0Bottle"
        ],
        [
         "Susp. Erythromycin 125mg/5ml",
         "0Bottle"
        ],
        [
         "Syp Ascorbic acid",
         "0Bottle"
        ],
        [
         "syr Ferric amonium citrate 400mg/5ml",
         "0Bottle"
        ],
        [
         "Methylated spirit 100ml",
         "0Bottle"
        ],
        [
         "susp Magnessium Trisilicate 200ml",
         "0Bottle"
        ],
        [
         "Susp. Amoxicillin 125mg/5ml",
         "0Bottle"
        ],
        [
         "Susp. Erythromycin 125mg/5ml",
         "0Bottle"
        ],
        [
         "Syp Ascorbic acid",
         "0Bottle"
        ],
        [
         "syr Ferric amonium citrate 400mg/5ml",
         "0Bottle"
        ],
        [
         "lotion Benzylbenzoate lotion",
         "0Bottle"
        ],
        [
         "Methylated spirit 100ml",
         "0Bottle"
        ],
        [
         "susp Magnessium Trisilicate 200ml",
         "0Bottle"
        ],
        [
         "susp. Ampiclox 125mg/5ml",
         "0Bottle"
        ],
        [
         "Susp. Co-trimoxazole 240mg/5ml",
         "0Bottle"
        ],
        [
         "Susp. Erythromycin 125mg/5ml",
         "0Bottle"
        ],
        [
         "Syp Ascorbic acid",
         "0Bottle"
        ],
        [
         "Syp Multivite",
         "0Bottle"
        ],
        [
         "Syr Albendazole 100mg/5ml",
         "0Bottle"
        ],
        [
         "syr Ferric amonium citrate 400mg/5ml",
         "0Bottle"
        ],
        [
         "Syrup Paracetamol 125mg/5ml",
         "0Bottle"
        ],
        [
         "lotion Benzylbenzoate lotion",
         "0Bottle"
        ],
        [
         "Methylated spirit 100ml",
         "0Bottle"
        ],
        [
         "susp Magnessium Trisilicate 200ml",
         "0Bottle"
        ],
        [
         "susp Metronidazole 100mg/5ml",
         "0Bottle"
        ],
        [
         "Susp. Amoxicillin 125mg/5ml",
         "0Bottle"
        ],
        [
         "susp. Ampiclox 125mg/5ml",
         "0Bottle"
        ],
        [
         "Susp. Co-trimoxazole 240mg/5ml",
         "0Bottle"
        ],
        [
         "Susp. Erythromycin 125mg/5ml",
         "0Bottle"
        ],
        [
         "Syp Ascorbic acid",
         "0Bottle"
        ],
        [
         "Syp Multivite",
         "0Bottle"
        ],
        [
         "Syr Albendazole 100mg/5ml",
         "0Bottle"
        ],
        [
         "syr Cough Syrup (A) 100ml",
         "0Bottle"
        ],
        [
         "syr Cough Syrup (P) 100ml",
         "0Bottle"
        ],
        [
         "syr Ferric amonium citrate 400mg/5ml",
         "0Bottle"
        ],
        [
         "syr Vitamin B complex",
         "0Bottle"
        ],
        [
         "lotion Benzylbenzoate lotion",
         "0Bottle"
        ],
        [
         "Methylated spirit 100ml",
         "0Bottle"
        ],
        [
         "susp Magnessium Trisilicate 200ml",
         "0Bottle"
        ],
        [
         "susp Metronidazole 100mg/5ml",
         "0Bottle"
        ],
        [
         "Susp. Amoxicillin 125mg/5ml",
         "0Bottle"
        ],
        [
         "susp. Ampiclox 125mg/5ml",
         "0Bottle"
        ],
        [
         "Susp. Co-trimoxazole 240mg/5ml",
         "0Bottle"
        ],
        [
         "Susp. Erythromycin 125mg/5ml",
         "0Bottle"
        ],
        [
         "Syp Multivite / Tab Multivite",
         "0Bottle"
        ],
        [
         "Syr Albendazole 100mg/5ml",
         "0Bottle"
        ],
        [
         "syr Cough Syrup (A) 100ml",
         "0Bottle"
        ],
        [
         "syr Cough Syrup (P) 100ml",
         "0Bottle"
        ],
        [
         "syr Ferric amonium citrate 400mg/5ml",
         "0Bottle"
        ],
        [
         "syr Vitamin B complex",
         "0Bottle"
        ],
        [
         "lotion Benzylbenzoate lotion",
         "0Bottle"
        ],
        [
         "Methylated spirit 100ml",
         "0Bottle"
        ],
        [
         "susp Magnessium Trisilicate 200ml",
         "0Bottle"
        ],
        [
         "susp Metronidazole 100mg/5ml",
         "0Bottle"
        ],
        [
         "Susp. Amoxicillin 125mg/5ml",
         "0Bottle"
        ],
        [
         "susp. Ampiclox 125mg/5ml",
         "0Bottle"
        ],
        [
         "Susp. Co-trimoxazole 240mg/5ml",
         "0Bottle"
        ],
        [
         "Susp. Erythromycin 125mg/5ml",
         "0Bottle"
        ],
        [
         "Syp Multivite",
         "0Bottle"
        ],
        [
         "Syr Albendazole 100mg/5ml",
         "0Bottle"
        ],
        [
         "syr Cough Syrup (A) 100ml",
         "0Bottle"
        ],
        [
         "syr Cough Syrup (P) 100ml",
         "0Bottle"
        ],
        [
         "syr Ferric amonium citrate 400mg/5ml",
         "0Bottle"
        ],
        [
         "syr Vitamin B complex",
         "0Bottle"
        ],
        [
         "Syrup Paracetamol 125mg/5ml",
         "0Bottle"
        ],
        [
         "Methylated spirit 100ml",
         "0Bottle"
        ],
        [
         "susp Magnessium Trisilicate 200ml",
         "0Bottle"
        ],
        [
         "Susp. Amoxicillin 125mg/5ml",
         "0Bottle"
        ],
        [
         "Susp. Erythromycin 125mg/5ml",
         "0Bottle"
        ],
        [
         "Syp Ascorbic acid",
         "0Bottle"
        ],
        [
         "syr Ferric amonium citrate 400mg/5ml",
         "0Bottle"
        ],
        [
         "Methylated spirit 100ml",
         "0Bottle"
        ],
        [
         "susp Magnessium Trisilicate 200ml",
         "0Bottle"
        ],
        [
         "Susp. Amoxicillin 125mg/5ml",
         "0Bottle"
        ],
        [
         "Susp. Erythromycin 125mg/5ml",
         "0Bottle"
        ],
        [
         "Syp Ascorbic acid",
         "0Bottle"
        ],
        [
         "syr Ferric amonium citrate 400mg/5ml",
         "0Bottle"
        ],
        [
         "lotion Benzylbenzoate lotion",
         "0Bottle"
        ],
        [
         "Methylated spirit 100ml",
         "0Bottle"
        ],
        [
         "susp Magnessium Trisilicate 200ml",
         "0Bottle"
        ],
        [
         "Susp. Amoxicillin 125mg/5ml",
         "0Bottle"
        ],
        [
         "susp. Ampiclox 125mg/5ml",
         "0Bottle"
        ],
        [
         "Susp. Co-trimoxazole 240mg/5ml",
         "0Bottle"
        ],
        [
         "Susp. Erythromycin 125mg/5ml",
         "0Bottle"
        ],
        [
         "Syp Ascorbic acid",
         "0Bottle"
        ],
        [
         "Syp Multivite",
         "0Bottle"
        ],
        [
         "Syr Albendazole 100mg/5ml",
         "0Bottle"
        ],
        [
         "syr Ferric amonium citrate 400mg/5ml",
         "0Bottle"
        ],
        [
         "syr Vitamin B complex",
         "0Bottle"
        ],
        [
         "lotion Benzylbenzoate lotion",
         "0Bottle"
        ],
        [
         "Methylated spirit 100ml",
         "0Bottle"
        ],
        [
         "susp Magnessium Trisilicate 200ml",
         "0Bottle"
        ],
        [
         "Susp. Amoxicillin 125mg/5ml",
         "0Bottle"
        ],
        [
         "Susp. Erythromycin 125mg/5ml",
         "0Bottle"
        ],
        [
         "Syp Ascorbic acid",
         "0Bottle"
        ],
        [
         "syr Ferric amonium citrate 400mg/5ml",
         "0Bottle"
        ],
        [
         "Methylated spirit 100ml",
         "0Bottle"
        ],
        [
         "susp Magnessium Trisilicate 200ml",
         "0Bottle"
        ],
        [
         "Susp. Amoxicillin 125mg/5ml",
         "0Bottle"
        ],
        [
         "Susp. Erythromycin 125mg/5ml",
         "0Bottle"
        ],
        [
         "Syp Ascorbic acid",
         "0Bottle"
        ],
        [
         "syr Ferric amonium citrate 400mg/5ml",
         "0Bottle"
        ],
        [
         "lotion Benzylbenzoate lotion",
         "0Bottle"
        ],
        [
         "Methylated spirit 100ml",
         "0Bottle"
        ],
        [
         "susp Magnessium Trisilicate 200ml",
         "0Bottle"
        ],
        [
         "susp. Ampiclox 125mg/5ml",
         "0Bottle"
        ],
        [
         "Susp. Co-trimoxazole 240mg/5ml",
         "0Bottle"
        ],
        [
         "Susp. Erythromycin 125mg/5ml",
         "0Bottle"
        ],
        [
         "Syp Ascorbic acid",
         "0Bottle"
        ],
        [
         "Syp Multivite",
         "0Bottle"
        ],
        [
         "Syr Albendazole 100mg/5ml",
         "0Bottle"
        ],
        [
         "syr Ferric amonium citrate 400mg/5ml",
         "0Bottle"
        ],
        [
         "lotion Benzylbenzoate lotion",
         "0Bottle"
        ],
        [
         "Methylated spirit 100ml",
         "0Bottle"
        ],
        [
         "susp Magnessium Trisilicate 200ml",
         "0Bottle"
        ],
        [
         "Susp. Amoxicillin 125mg/5ml",
         "0Bottle"
        ],
        [
         "susp. Ampiclox 125mg/5ml",
         "0Bottle"
        ],
        [
         "Susp. Co-trimoxazole 240mg/5ml",
         "0Bottle"
        ],
        [
         "Susp. Erythromycin 125mg/5ml",
         "0Bottle"
        ],
        [
         "Syp Multivite / Tab Multivite",
         "0Bottle"
        ],
        [
         "Syr Albendazole 100mg/5ml",
         "0Bottle"
        ],
        [
         "syr Ferric amonium citrate 400mg/5ml",
         "0Bottle"
        ],
        [
         "syr Vitamin B complex",
         "0Bottle"
        ],
        [
         "lotion Benzylbenzoate lotion",
         "0Bottle"
        ],
        [
         "Methylated spirit 100ml",
         "0Bottle"
        ],
        [
         "susp Magnessium Trisilicate 200ml",
         "0Bottle"
        ],
        [
         "susp Metronidazole 100mg/5ml",
         "0Bottle"
        ],
        [
         "Susp. Amoxicillin 125mg/5ml",
         "0Bottle"
        ],
        [
         "susp. Ampiclox 125mg/5ml",
         "0Bottle"
        ],
        [
         "Susp. Co-trimoxazole 240mg/5ml",
         "0Bottle"
        ],
        [
         "Susp. Erythromycin 125mg/5ml",
         "0Bottle"
        ],
        [
         "Syp Ascorbic acid",
         "0Bottle"
        ],
        [
         "Syp Multivite",
         "0Bottle"
        ],
        [
         "Syr Albendazole 100mg/5ml",
         "0Bottle"
        ],
        [
         "syr Ferric amonium citrate 400mg/5ml",
         "0Bottle"
        ],
        [
         "Methylated spirit 100ml",
         "0Bottle"
        ],
        [
         "susp Magnessium Trisilicate 200ml",
         "0Bottle"
        ],
        [
         "Susp. Amoxicillin 125mg/5ml",
         "0Bottle"
        ],
        [
         "Susp. Erythromycin 125mg/5ml",
         "0Bottle"
        ],
        [
         "Syp Ascorbic acid",
         "0Bottle"
        ],
        [
         "syr Ferric amonium citrate 400mg/5ml",
         "0Bottle"
        ],
        [
         "lotion Benzylbenzoate lotion",
         "0Bottle"
        ],
        [
         "Methylated spirit 100ml",
         "0Bottle"
        ],
        [
         "susp Magnessium Trisilicate 200ml",
         "0Bottle"
        ],
        [
         "susp. Ampiclox 125mg/5ml",
         "0Bottle"
        ],
        [
         "Susp. Co-trimoxazole 240mg/5ml",
         "0Bottle"
        ],
        [
         "Susp. Erythromycin 125mg/5ml",
         "0Bottle"
        ],
        [
         "Syp Ascorbic acid",
         "0Bottle"
        ],
        [
         "Syp Multivite",
         "0Bottle"
        ],
        [
         "Syr Albendazole 100mg/5ml",
         "0Bottle"
        ],
        [
         "syr Ferric amonium citrate 400mg/5ml",
         "0Bottle"
        ],
        [
         "Methylated spirit 100ml",
         "0Bottle"
        ],
        [
         "susp Magnessium Trisilicate 200ml",
         "0Bottle"
        ],
        [
         "Susp. Amoxicillin 125mg/5ml",
         "0Bottle"
        ],
        [
         "Susp. Erythromycin 125mg/5ml",
         "0Bottle"
        ],
        [
         "Syp Ascorbic acid",
         "0Bottle"
        ],
        [
         "syr Ferric amonium citrate 400mg/5ml",
         "0Bottle"
        ],
        [
         "lotion Benzylbenzoate lotion",
         "0Bottle"
        ],
        [
         "Methylated spirit 100ml",
         "0Bottle"
        ],
        [
         "susp Magnessium Trisilicate 200ml",
         "0Bottle"
        ],
        [
         "Susp. Amoxicillin 125mg/5ml",
         "0Bottle"
        ],
        [
         "susp. Ampiclox 125mg/5ml",
         "0Bottle"
        ],
        [
         "Susp. Co-trimoxazole 240mg/5ml",
         "0Bottle"
        ],
        [
         "Susp. Erythromycin 125mg/5ml",
         "0Bottle"
        ],
        [
         "Syp Ascorbic acid",
         "0Bottle"
        ],
        [
         "Syp Multivite",
         "0Bottle"
        ],
        [
         "Syr Albendazole 100mg/5ml",
         "0Bottle"
        ],
        [
         "syr Ferric amonium citrate 400mg/5ml",
         "0Bottle"
        ],
        [
         "lotion Benzylbenzoate lotion",
         "0Bottle"
        ],
        [
         "Methylated spirit 100ml",
         "0Bottle"
        ],
        [
         "susp Magnessium Trisilicate 200ml",
         "0Bottle"
        ],
        [
         "Susp. Amoxicillin 125mg/5ml",
         "0Bottle"
        ],
        [
         "Susp. Erythromycin 125mg/5ml",
         "0Bottle"
        ],
        [
         "Syp Ascorbic acid",
         "0Bottle"
        ],
        [
         "syr Ferric amonium citrate 400mg/5ml",
         "0Bottle"
        ],
        [
         "lotion Benzylbenzoate lotion",
         "0Bottle"
        ],
        [
         "Methylated spirit 100ml",
         "0Bottle"
        ],
        [
         "susp Magnessium Trisilicate 200ml",
         "0Bottle"
        ],
        [
         "Susp. Amoxicillin 125mg/5ml",
         "0Bottle"
        ],
        [
         "susp. Ampiclox 125mg/5ml",
         "0Bottle"
        ],
        [
         "Susp. Co-trimoxazole 240mg/5ml",
         "0Bottle"
        ],
        [
         "Susp. Erythromycin 125mg/5ml",
         "0Bottle"
        ],
        [
         "Syr Albendazole 100mg/5ml",
         "0Bottle"
        ],
        [
         "syr Ferric amonium citrate 400mg/5ml",
         "0Bottle"
        ],
        [
         "Cotton Wool 100g",
         "0Pcs"
        ],
        [
         "5% Dextrose saline 1000ml",
         "0Pcs"
        ],
        [
         "5% Dextrose water 500ml",
         "0Pcs"
        ],
        [
         "0.9% Normal saline 1000ml",
         "0Pcs"
        ],
        [
         "Infusion Sets 23g",
         "0Pcs"
        ],
        [
         "Cotton Wool 100g",
         "0Pcs"
        ],
        [
         "5% Dextrose saline 1000ml",
         "0Pcs"
        ],
        [
         "5% Dextrose water 500ml",
         "0Pcs"
        ],
        [
         "0.9% Normal saline 1000ml",
         "0Pcs"
        ],
        [
         "Infusion Sets 23g",
         "0Pcs"
        ],
        [
         "Cotton Wool 100g",
         "0Pcs"
        ],
        [
         "5% Dextrose saline 1000ml",
         "0Pcs"
        ],
        [
         "5% Dextrose water 500ml",
         "0Pcs"
        ],
        [
         "0.9% Normal saline 1000ml",
         "0Pcs"
        ],
        [
         "Cotton Wool 100g",
         "0Pcs"
        ],
        [
         "5% Dextrose saline 1000ml",
         "0Pcs"
        ],
        [
         "5% Dextrose water 500ml",
         "0Pcs"
        ],
        [
         "0.9% Normal saline 1000ml",
         "0Pcs"
        ],
        [
         "Cotton Wool 100g",
         "0Pcs"
        ],
        [
         "5% Dextrose saline 1000ml",
         "0Pcs"
        ],
        [
         "5% Dextrose water 500ml",
         "0Pcs"
        ],
        [
         "0.9% Normal saline 1000ml",
         "0Pcs"
        ],
        [
         "Cotton Wool 100g",
         "0Pcs"
        ],
        [
         "5% Dextrose saline 1000ml",
         "0Pcs"
        ],
        [
         "5% Dextrose water 500ml",
         "0Pcs"
        ],
        [
         "0.9% Normal saline 1000ml",
         "0Pcs"
        ],
        [
         "Cotton Wool 100g",
         "0Pcs"
        ],
        [
         "5% Dextrose saline 1000ml",
         "0Pcs"
        ],
        [
         "5% Dextrose water 500ml",
         "0Pcs"
        ],
        [
         "0.9% Normal saline 1000ml",
         "0Pcs"
        ],
        [
         "Cotton Wool 100g",
         "0Pcs"
        ],
        [
         "5% Dextrose saline 1000ml",
         "0Pcs"
        ],
        [
         "5% Dextrose water 500ml",
         "0Pcs"
        ],
        [
         "0.9% Normal saline 1000ml",
         "0Pcs"
        ],
        [
         "5% Dextrose water 500ml",
         "0Pcs"
        ],
        [
         "Cotton Wool 100g",
         "0Pcs"
        ],
        [
         "5% Dextrose saline 1000ml",
         "0Pcs"
        ],
        [
         "5% Dextrose water 500ml",
         "0Pcs"
        ],
        [
         "0.9% Normal saline 1000ml",
         "0Pcs"
        ],
        [
         "Infusion Sets 23g",
         "0Pcs"
        ],
        [
         "Cotton Wool 100g",
         "0Pcs"
        ],
        [
         "5% Dextrose saline 1000ml",
         "0Pcs"
        ],
        [
         "5% Dextrose water 500ml",
         "0Pcs"
        ],
        [
         "0.9% Normal saline 1000ml",
         "0Pcs"
        ],
        [
         "Infusion Sets 23g",
         "0Pcs"
        ],
        [
         "5% Dextrose water 500ml",
         "0Pcs"
        ],
        [
         "0.9% Normal saline 1000ml",
         "0Pcs"
        ],
        [
         "Cotton Wool 100g",
         "0Pcs"
        ],
        [
         "5% Dextrose water 500ml",
         "0Pcs"
        ],
        [
         "0.9% Normal saline 1000ml",
         "0Pcs"
        ],
        [
         "Cotton Wool 100g",
         "0Pcs"
        ],
        [
         "5% Dextrose saline 1000ml",
         "0Pcs"
        ],
        [
         "5% Dextrose water 500ml",
         "0Pcs"
        ],
        [
         "0.9% Normal saline 1000ml",
         "0Pcs"
        ],
        [
         "Infusion Sets 23g",
         "0Pcs"
        ],
        [
         "Cotton Wool 100g",
         "0Pcs"
        ],
        [
         "5% Dextrose saline 1000ml",
         "0Pcs"
        ],
        [
         "5% Dextrose water 500ml",
         "0Pcs"
        ],
        [
         "0.9% Normal saline 1000ml",
         "0Pcs"
        ],
        [
         "Cotton Wool 100g",
         "0Pcs"
        ],
        [
         "5% Dextrose water 500ml",
         "0Pcs"
        ],
        [
         "Infusion Sets 23g",
         "0Pcs"
        ],
        [
         "Cotton Wool 100g",
         "0Pcs"
        ],
        [
         "5% Dextrose saline 1000ml",
         "0Pcs"
        ],
        [
         "5% Dextrose water 500ml",
         "0Pcs"
        ],
        [
         "0.9% Normal saline 1000ml",
         "0Pcs"
        ],
        [
         "Infusion Sets 23g",
         "0Pcs"
        ],
        [
         "Butterfly Needle 21G",
         "0Pcs"
        ],
        [
         "Cotton Wool 100g",
         "0Pcs"
        ],
        [
         "5% Dextrose saline 1000ml",
         "0Pcs"
        ],
        [
         "5% Dextrose water 500ml",
         "0Pcs"
        ],
        [
         "Cotton Wool 100g",
         "0Pcs"
        ],
        [
         "5% Dextrose saline 1000ml",
         "0Pcs"
        ],
        [
         "5% Dextrose water 500ml",
         "0Pcs"
        ],
        [
         "0.9% Normal saline 1000ml",
         "0Pcs"
        ],
        [
         "5% Dextrose saline 500mls",
         "0Pcs"
        ],
        [
         "5% Dextrose water 500mls",
         "0Pcs"
        ],
        [
         "0.9% Normal saline 500mls",
         "0Pcs"
        ],
        [
         "Cotton Wool 100g",
         "0Pcs"
        ],
        [
         "5% Dextrose saline 1000ml",
         "0Pcs"
        ],
        [
         "5% Dextrose water 500ml",
         "0Pcs"
        ],
        [
         "0.9% Normal saline 1000ml",
         "0Pcs"
        ],
        [
         "Infusion Sets 23g",
         "0Pcs"
        ],
        [
         "5% Dextrose water 500ml",
         "0Pcs"
        ],
        [
         "0.9% Normal saline 1000ml",
         "0Pcs"
        ],
        [
         "5% Dextrose saline 1000ml",
         "0Pcs"
        ],
        [
         "5% Dextrose water 500ml",
         "0Pcs"
        ],
        [
         "5% Dextrose saline 1000ml",
         "0Pcs"
        ],
        [
         "5% Dextrose saline 1000ml",
         "0Pcs"
        ],
        [
         "5% Dextrose water 500ml",
         "0Pcs"
        ],
        [
         "5% Dextrose water 500ml",
         "0Pcs"
        ],
        [
         "Cotton Wool 100g",
         "0Pcs"
        ],
        [
         "5% Dextrose saline 1000ml",
         "0Pcs"
        ],
        [
         "5% Dextrose water 500ml",
         "0Pcs"
        ],
        [
         "0.9% Normal saline 1000ml",
         "0Pcs"
        ],
        [
         "5% Dextrose saline 1000ml",
         "0Pcs"
        ],
        [
         "5% Dextrose water 500ml",
         "0Pcs"
        ],
        [
         "0.9% Normal saline 1000ml",
         "0Pcs"
        ],
        [
         "Infusion Sets 23g",
         "0Pcs"
        ],
        [
         "Cotton Wool 100g",
         "0Pcs"
        ],
        [
         "5% Dextrose saline 1000ml",
         "0Pcs"
        ],
        [
         "5% Dextrose water 500ml",
         "0Pcs"
        ],
        [
         "0.9% Normal saline 1000ml",
         "0Pcs"
        ],
        [
         "5% Dextrose water 500mls",
         "0Pcs"
        ],
        [
         "Cotton Wool 100g",
         "0Pcs"
        ],
        [
         "5% Dextrose saline 1000ml",
         "0Pcs"
        ],
        [
         "5% Dextrose water 500ml",
         "0Pcs"
        ],
        [
         "0.9% Normal saline 1000ml",
         "0Pcs"
        ],
        [
         "0.9% Normal saline 1000ml",
         "0Pcs"
        ],
        [
         "Cotton Wool 100g",
         "0Pcs"
        ],
        [
         "5% Dextrose saline 1000ml",
         "0Pcs"
        ],
        [
         "5% Dextrose water 500ml",
         "0Pcs"
        ],
        [
         "0.9% Normal saline 1000ml",
         "0Pcs"
        ],
        [
         "Cotton Wool 100g",
         "0Pcs"
        ],
        [
         "5% Dextrose saline 1000ml",
         "0Pcs"
        ],
        [
         "5% Dextrose water 500ml",
         "0Pcs"
        ],
        [
         "0.9% Normal saline 1000ml",
         "0Pcs"
        ],
        [
         "Infusion Sets 23g",
         "0Pcs"
        ],
        [
         "5% Dextrose saline 1000ml",
         "0Pcs"
        ],
        [
         "5% Dextrose water 500ml",
         "0Pcs"
        ],
        [
         "0.9% Normal saline 1000ml",
         "0Pcs"
        ],
        [
         "Infusion Sets 23g",
         "0Pcs"
        ],
        [
         "Cotton Wool 100g",
         "0Pcs"
        ],
        [
         "5% Dextrose saline 1000ml",
         "0Pcs"
        ],
        [
         "5% Dextrose water 500ml",
         "0Pcs"
        ],
        [
         "0.9% Normal saline 1000ml",
         "0Pcs"
        ],
        [
         "Infusion Sets 23g",
         "0Pcs"
        ],
        [
         "Cotton Wool 100g",
         "0Pcs"
        ],
        [
         "5% Dextrose saline 1000ml",
         "0Pcs"
        ],
        [
         "5% Dextrose water 500ml",
         "0Pcs"
        ],
        [
         "Cotton Wool 100g",
         "0Pcs"
        ],
        [
         "5% Dextrose saline 1000ml",
         "0Pcs"
        ],
        [
         "5% Dextrose water 500ml",
         "0Pcs"
        ],
        [
         "0.9% Normal saline 1000ml",
         "0Pcs"
        ],
        [
         "5% Dextrose saline 1000ml",
         "0Pcs"
        ],
        [
         "5% Dextrose water 500ml",
         "0Pcs"
        ],
        [
         "0.9% Normal saline 1000ml",
         "0Pcs"
        ],
        [
         "5% Dextrose saline 1000ml",
         "0Pcs"
        ],
        [
         "5% Dextrose water 500ml",
         "0Pcs"
        ],
        [
         "0.9% Normal saline 1000ml",
         "0Pcs"
        ],
        [
         "5% Dextrose water 500mls",
         "0Pcs"
        ],
        [
         "Cotton Wool 100g",
         "0Pcs"
        ],
        [
         "5% Dextrose saline 1000ml",
         "0Pcs"
        ],
        [
         "5% Dextrose water 500ml",
         "0Pcs"
        ],
        [
         "0.9% Normal saline 1000ml",
         "0Pcs"
        ],
        [
         "Infusion Sets 23g",
         "0Pcs"
        ],
        [
         "5% Dextrose saline 1000ml",
         "0Pcs"
        ],
        [
         "5% Dextrose water 500ml",
         "0Pcs"
        ],
        [
         "Cotton Wool 100g",
         "0Pcs"
        ],
        [
         "5% Dextrose saline 1000ml",
         "0Pcs"
        ],
        [
         "5% Dextrose water 500ml",
         "0Pcs"
        ],
        [
         "0.9% Normal saline 1000ml",
         "0Pcs"
        ],
        [
         "5% Dextrose saline 1000ml",
         "0Pcs"
        ],
        [
         "5% Dextrose water 500ml",
         "0Pcs"
        ],
        [
         "0.9% Normal saline 1000ml",
         "0Pcs"
        ],
        [
         "Cotton Wool 100g",
         "0Pcs"
        ],
        [
         "5% Dextrose saline 1000ml",
         "0Pcs"
        ],
        [
         "5% Dextrose water 500ml",
         "0Pcs"
        ],
        [
         "0.9% Normal saline 1000ml",
         "0Pcs"
        ],
        [
         "Cotton Wool 100g",
         "0Pcs"
        ],
        [
         "5% Dextrose saline 1000ml",
         "0Pcs"
        ],
        [
         "5% Dextrose water 500ml",
         "0Pcs"
        ],
        [
         "0.9% Normal saline 1000ml",
         "0Pcs"
        ],
        [
         "5% Dextrose saline 1000ml",
         "0Pcs"
        ],
        [
         "5% Dextrose water 500ml",
         "0Pcs"
        ],
        [
         "0.9% Normal saline 1000ml",
         "0Pcs"
        ],
        [
         "Infusion Sets 23g",
         "0Pcs"
        ],
        [
         "5% Dextrose water 500mls",
         "0Pcs"
        ],
        [
         "5% Dextrose saline 1000ml",
         "0Pcs"
        ],
        [
         "5% Dextrose water 500ml",
         "0Pcs"
        ],
        [
         "0.9% Normal saline 1000ml",
         "0Pcs"
        ],
        [
         "Infusion Sets 23g",
         "0Pcs"
        ],
        [
         "Cotton Wool 100g",
         "0Pcs"
        ],
        [
         "5% Dextrose saline 1000ml",
         "0Pcs"
        ],
        [
         "5% Dextrose saline 1000ml",
         "0Pcs"
        ],
        [
         "5% Dextrose water 500ml",
         "0Pcs"
        ],
        [
         "0.9% Normal saline 1000ml",
         "0Pcs"
        ],
        [
         "Infusion Sets 23g",
         "0Pcs"
        ],
        [
         "Cotton Wool 100g",
         "0Pcs"
        ],
        [
         "5% Dextrose saline 1000ml",
         "0Pcs"
        ],
        [
         "5% Dextrose water 500ml",
         "0Pcs"
        ],
        [
         "0.9% Normal saline 1000ml",
         "0Pcs"
        ],
        [
         "Infusion Sets 23g",
         "0Pcs"
        ],
        [
         "Cotton Wool 100g",
         "0Pcs"
        ],
        [
         "5% Dextrose saline 1000ml",
         "0Pcs"
        ],
        [
         "5% Dextrose water 500ml",
         "0Pcs"
        ],
        [
         "0.9% Normal saline 1000ml",
         "0Pcs"
        ],
        [
         "Infusion Sets 23g",
         "0Pcs"
        ],
        [
         "Cotton Wool 100g",
         "0Pcs"
        ],
        [
         "5% Dextrose saline 1000ml",
         "0Pcs"
        ],
        [
         "5% Dextrose water 500ml",
         "0Pcs"
        ],
        [
         "0.9% Normal saline 1000ml",
         "0Pcs"
        ],
        [
         "Infusion Sets 23g",
         "0Pcs"
        ],
        [
         "Cotton Wool 100g",
         "0Pcs"
        ],
        [
         "5% Dextrose saline 1000ml",
         "0Pcs"
        ],
        [
         "5% Dextrose water 500ml",
         "0Pcs"
        ],
        [
         "0.9% Normal saline 1000ml",
         "0Pcs"
        ],
        [
         "Cotton Wool 100g",
         "0Pcs"
        ],
        [
         "5% Dextrose saline 1000ml",
         "0Pcs"
        ],
        [
         "5% Dextrose water 500ml",
         "0Pcs"
        ],
        [
         "0.9% Normal saline 1000ml",
         "0Pcs"
        ],
        [
         "Infusion Sets 23g",
         "0Pcs"
        ],
        [
         "5% Dextrose saline 1000ml",
         "0Pcs"
        ],
        [
         "Cotton Wool 100g",
         "0Pcs"
        ],
        [
         "5% Dextrose saline 1000ml",
         "0Pcs"
        ],
        [
         "5% Dextrose water 500ml",
         "0Pcs"
        ],
        [
         "0.9% Normal saline 1000ml",
         "0Pcs"
        ],
        [
         "Cotton Wool 100g",
         "0Pcs"
        ],
        [
         "5% Dextrose saline 1000ml",
         "0Pcs"
        ],
        [
         "5% Dextrose water 500ml",
         "0Pcs"
        ],
        [
         "0.9% Normal saline 1000ml",
         "0Pcs"
        ],
        [
         "Cotton Wool 100g",
         "0Pcs"
        ],
        [
         "5% Dextrose saline 1000ml",
         "0Pcs"
        ],
        [
         "5% Dextrose water 500ml",
         "0Pcs"
        ],
        [
         "0.9% Normal saline 1000ml",
         "0Pcs"
        ],
        [
         "Infusion Sets 23g",
         "0Pcs"
        ],
        [
         "5% Dextrose water 500ml",
         "0Pcs"
        ],
        [
         "0.9% Normal saline 1000ml",
         "0Pcs"
        ],
        [
         "Infusion Sets 23g",
         "0Pcs"
        ],
        [
         "Cotton Wool 100g",
         "0Pcs"
        ],
        [
         "5% Dextrose saline 1000ml",
         "0Pcs"
        ],
        [
         "5% Dextrose water 500ml",
         "0Pcs"
        ],
        [
         "0.9% Normal saline 1000ml",
         "0Pcs"
        ],
        [
         "Cotton Wool 100g",
         "0Pcs"
        ],
        [
         "5% Dextrose saline 1000ml",
         "0Pcs"
        ],
        [
         "5% Dextrose water 500ml",
         "0Pcs"
        ],
        [
         "0.9% Normal saline 1000ml",
         "0Pcs"
        ],
        [
         "Infusion Sets 23g",
         "0Pcs"
        ],
        [
         "Cotton Wool 100g",
         "0Pcs"
        ],
        [
         "5% Dextrose saline 1000ml",
         "0Pcs"
        ],
        [
         "5% Dextrose water 500ml",
         "0Pcs"
        ],
        [
         "0.9% Normal saline 1000ml",
         "0Pcs"
        ],
        [
         "Infusion Sets 23g",
         "0Pcs"
        ],
        [
         "Cotton Wool 100g",
         "0Pcs"
        ],
        [
         "5% Dextrose saline 1000ml",
         "0Pcs"
        ],
        [
         "5% Dextrose water 500ml",
         "0Pcs"
        ],
        [
         "0.9% Normal saline 1000ml",
         "0Pcs"
        ],
        [
         "Cotton Wool 100g",
         "0Pcs"
        ],
        [
         "5% Dextrose saline 1000ml",
         "0Pcs"
        ],
        [
         "0.9% Normal saline 1000ml",
         "0Pcs"
        ],
        [
         "Infusion Sets 23g",
         "0Pcs"
        ],
        [
         "Cotton Wool 100g",
         "0Pcs"
        ],
        [
         "5% Dextrose saline 1000ml",
         "0Pcs"
        ],
        [
         "0.9% Normal saline 1000ml",
         "0Pcs"
        ],
        [
         "Infusion Sets 23g",
         "0Pcs"
        ],
        [
         "I.V Metronidazole 200mg",
         "0Pcs"
        ],
        [
         "I.V Metronidazole 200mg",
         "0Pcs"
        ],
        [
         "I.V Metronidazole 200mg",
         "0Pcs"
        ],
        [
         "I.V Metronidazole 200mg",
         "0Pcs"
        ],
        [
         "I.V Metronidazole 200mg",
         "0Pcs"
        ],
        [
         "I.V Metronidazole 200mg",
         "0Pcs"
        ],
        [
         "I.V Metronidazole 200mg",
         "0Pcs"
        ],
        [
         "I.V Metronidazole 200mg",
         "0Pcs"
        ],
        [
         "I.V Metronidazole 200mg",
         "0Pcs"
        ],
        [
         "I.V Metronidazole 200mg",
         "0Pcs"
        ],
        [
         "I.V Metronidazole 200mg",
         "0Pcs"
        ],
        [
         "I.V Metronidazole 200mg",
         "0Pcs"
        ],
        [
         "I.V Metronidazole 200mg",
         "0Pcs"
        ],
        [
         "I.V Metronidazole 200mg",
         "0Pcs"
        ],
        [
         "I.V Metronidazole 200mg",
         "0Pcs"
        ],
        [
         "I.V Metronidazole 200mg",
         "0Pcs"
        ],
        [
         "I.V Metronidazole 200mg",
         "0Pcs"
        ],
        [
         "I.V Metronidazole 200mg",
         "0Pcs"
        ],
        [
         "I.V Metronidazole 200mg",
         "0Pcs"
        ],
        [
         "I.V Metronidazole 200mg",
         "0Pcs"
        ],
        [
         "I.V Metronidazole 200mg",
         "0Pcs"
        ],
        [
         "I.V Metronidazole 200mg",
         "0Pcs"
        ],
        [
         "I.V Metronidazole 200mg",
         "0Pcs"
        ],
        [
         "I.V Metronidazole 200mg",
         "0Pcs"
        ],
        [
         "I.V Metronidazole 200mg",
         "0Pcs"
        ],
        [
         "I.V Metronidazole 200mg",
         "0Pcs"
        ],
        [
         "I.V Metronidazole 200mg",
         "0Pcs"
        ],
        [
         "I.V Metronidazole 200mg",
         "0Pcs"
        ],
        [
         "I.V Metronidazole 200mg",
         "0Pcs"
        ],
        [
         "I.V Metronidazole 200mg",
         "0Pcs"
        ],
        [
         "I.V Metronidazole 200mg",
         "0Pcs"
        ],
        [
         "I.V Metronidazole 200mg",
         "0Pcs"
        ],
        [
         "I.V Metronidazole 200mg",
         "0Pcs"
        ],
        [
         "I.V Metronidazole 200mg",
         "0Pcs"
        ],
        [
         "I.V Metronidazole 200mg",
         "0Pcs"
        ],
        [
         "I.V Metronidazole 200mg",
         "0Pcs"
        ],
        [
         "I.V Metronidazole 200mg",
         "0Pcs"
        ],
        [
         "I.V Metronidazole 200mg",
         "0Pcs"
        ],
        [
         "I.V Metronidazole 200mg",
         "0Pcs"
        ],
        [
         "I.V Metronidazole 200mg",
         "0Pcs"
        ],
        [
         "I.V Metronidazole 200mg",
         "0Pcs"
        ],
        [
         "I.V Metronidazole 200mg",
         "0Pcs"
        ],
        [
         "I.V Metronidazole 200mg",
         "0Pcs"
        ],
        [
         "I.V Metronidazole 200mg",
         "0Pcs"
        ],
        [
         "I.V Metronidazole 200mg",
         "0Pcs"
        ],
        [
         "I.V Metronidazole 200mg",
         "0Pcs"
        ],
        [
         "I.V Metronidazole 200mg",
         "0Pcs"
        ],
        [
         "I.V Metronidazole 200mg",
         "0Pcs"
        ],
        [
         "I.V Metronidazole 200mg",
         "0Pcs"
        ],
        [
         "I.V Metronidazole 200mg",
         "0Pcs"
        ],
        [
         "I.V Metronidazole 200mg",
         "0Pcs"
        ],
        [
         "I.V Metronidazole 200mg",
         "0Pcs"
        ],
        [
         "I.V Metronidazole 200mg",
         "0Pcs"
        ],
        [
         "I.V Metronidazole 200mg",
         "0Pcs"
        ],
        [
         "I.V Metronidazole 200mg",
         "0Pcs"
        ],
        [
         "I.V Metronidazole 200mg",
         "0Pcs"
        ],
        [
         "I.V Metronidazole 200mg",
         "0Pcs"
        ],
        [
         "I.V Metronidazole 200mg",
         "0Pcs"
        ],
        [
         "I.V Metronidazole 200mg",
         "0Pcs"
        ],
        [
         "I.V Metronidazole 200mg",
         "0Pcs"
        ],
        [
         "I.V Metronidazole 200mg",
         "0Pcs"
        ],
        [
         "I.V Metronidazole 200mg",
         "0Pcs"
        ],
        [
         "I.V Metronidazole 200mg",
         "0Pcs"
        ],
        [
         "I.V Metronidazole 200mg",
         "0Pcs"
        ],
        [
         "I.V Metronidazole 200mg",
         "0Pcs"
        ],
        [
         "I.V Metronidazole 200mg",
         "0Pcs"
        ],
        [
         "I.V Metronidazole 200mg",
         "0Pcs"
        ],
        [
         "Darrows solution full strength 500ml",
         "0Pcs"
        ],
        [
         "Darrows solution full strength 500ml",
         "0Pcs"
        ],
        [
         "Darrows solution full strength 500ml",
         "0Pcs"
        ],
        [
         "Darrows solution full strength 500ml",
         "0Pcs"
        ],
        [
         "Darrows solution full strength 500ml",
         "0Pcs"
        ],
        [
         "Darrows solution full strength 500ml",
         "0Pcs"
        ],
        [
         "Darrows solution full strength 500ml",
         "0Pcs"
        ],
        [
         "Darrows solution full strength 500ml",
         "0Pcs"
        ],
        [
         "Darrows solution full strength 500ml",
         "0Pcs"
        ],
        [
         "Darrows solution full strength 500ml",
         "0Pcs"
        ],
        [
         "Darrows solution full strength 500ml",
         "0Pcs"
        ],
        [
         "Darrows solution full strength 500ml",
         "0Pcs"
        ],
        [
         "Darrows solution full strength 500ml",
         "0Pcs"
        ],
        [
         "Darrows solution full strength 500ml",
         "0Pcs"
        ],
        [
         "Darrows solution full strength 500ml",
         "0Pcs"
        ],
        [
         "Darrows solution full strength 500ml",
         "0Pcs"
        ],
        [
         "Darrows solution full strength 500ml",
         "0Pcs"
        ],
        [
         "Darrows solution full strength 500ml",
         "0Pcs"
        ],
        [
         "Darrows solution full strength 500ml",
         "0Pcs"
        ],
        [
         "Darrows solution full strength 500ml",
         "0Pcs"
        ],
        [
         "Darrows solution full strength 500ml",
         "0Pcs"
        ],
        [
         "Darrows solution full strength 500ml",
         "0Pcs"
        ],
        [
         "Darrows solution full strength 500ml",
         "0Pcs"
        ],
        [
         "Darrows solution full strength 500ml",
         "0Pcs"
        ],
        [
         "Darrows solution full strength 500ml",
         "0Pcs"
        ],
        [
         "Darrows solution full strength 500ml",
         "0Pcs"
        ],
        [
         "Darrows solution full strength 500ml",
         "0Pcs"
        ],
        [
         "Darrows solution full strength 500ml",
         "0Pcs"
        ],
        [
         "Darrows solution full strength 500ml",
         "0Pcs"
        ],
        [
         "Darrows solution full strength 500ml",
         "0Pcs"
        ],
        [
         "Darrows solution full strength 500ml",
         "0Pcs"
        ],
        [
         "Darrows solution full strength 500ml",
         "0Pcs"
        ],
        [
         "Darrows solution full strength 500ml",
         "0Pcs"
        ],
        [
         "Darrows solution full strength 500ml",
         "0Pcs"
        ],
        [
         "Darrows solution full strength 500ml",
         "0Pcs"
        ],
        [
         "Darrows solution full strength 500ml",
         "0Pcs"
        ],
        [
         "Darrows solution full strength 500ml",
         "0Pcs"
        ],
        [
         "Darrows solution full strength 500ml",
         "0Pcs"
        ],
        [
         "Darrows solution full strength 500ml",
         "0Pcs"
        ],
        [
         "Darrows solution full strength 500ml",
         "0Pcs"
        ],
        [
         "Darrows solution full strength 500ml",
         "0Pcs"
        ],
        [
         "Darrows solution full strength 500ml",
         "0Pcs"
        ],
        [
         "Darrows solution full strength 500ml",
         "0Pcs"
        ],
        [
         "Darrows solution full strength 500ml",
         "0Pcs"
        ],
        [
         "Darrows solution full strength 500ml",
         "0Pcs"
        ],
        [
         "Darrows solution full strength 500ml",
         "0Pcs"
        ],
        [
         "Darrows solution full strength 500ml",
         "0Pcs"
        ],
        [
         "Darrows solution full strength 500ml",
         "0Pcs"
        ],
        [
         "Darrows solution full strength 500ml",
         "0Pcs"
        ],
        [
         "Darrows solution full strength 500ml",
         "0Pcs"
        ],
        [
         "Darrows solution full strength 500ml",
         "0Pcs"
        ],
        [
         "Darrows solution full strength 500ml",
         "0Pcs"
        ],
        [
         "Darrows solution full strength 500ml",
         "0Pcs"
        ],
        [
         "Darrows solution full strength 500ml",
         "0Pcs"
        ],
        [
         "Darrows solution full strength 500ml",
         "0Pcs"
        ],
        [
         "Darrows solution full strength 500ml",
         "0Pcs"
        ],
        [
         "Darrows solution full strength 500ml",
         "0Pcs"
        ],
        [
         "Darrows solution full strength 500ml",
         "0Pcs"
        ],
        [
         "Darrows solution full strength 500ml",
         "0Pcs"
        ],
        [
         "Darrows solution full strength 500ml",
         "0Pcs"
        ],
        [
         "Darrows solution full strength 500ml",
         "0Pcs"
        ],
        [
         "Darrows solution full strength 500ml",
         "0Pcs"
        ],
        [
         "Darrows solution full strength 500ml",
         "0Pcs"
        ],
        [
         "Darrows solution full strength 500ml",
         "0Pcs"
        ],
        [
         "Darrows solution full strength 500ml",
         "0Pcs"
        ],
        [
         "Darrows solution full strength 500ml",
         "0Pcs"
        ],
        [
         "Darrows solution full strength 500ml",
         "0Pcs"
        ],
        [
         "Darrows solution full strength 500ml",
         "0Pcs"
        ],
        [
         "Darrows solution 1/2 strength 500ml",
         "0Pcs"
        ],
        [
         "Darrows solution 1/2 strength 500ml",
         "0Pcs"
        ],
        [
         "Darrows solution 1/2 strength 500ml",
         "0Pcs"
        ],
        [
         "Darrows solution 1/2 strength 500ml",
         "0Pcs"
        ],
        [
         "Darrows solution 1/2 strength 500ml",
         "0Pcs"
        ],
        [
         "Darrows solution 1/2 strength 500ml",
         "0Pcs"
        ],
        [
         "Darrows solution 1/2 strength 500ml",
         "0Pcs"
        ],
        [
         "Darrows solution 1/2 strength 500ml",
         "0Pcs"
        ],
        [
         "Darrows solution 1/2 strength 500ml",
         "0Pcs"
        ],
        [
         "Darrows solution 1/2 strength 500ml",
         "0Pcs"
        ],
        [
         "Darrows solution 1/2 strength 500ml",
         "0Pcs"
        ],
        [
         "Darrows solution 1/2 strength 500ml",
         "0Pcs"
        ],
        [
         "Darrows solution 1/2 strength 500ml",
         "0Pcs"
        ],
        [
         "Darrows solution 1/2 strength 500ml",
         "0Pcs"
        ],
        [
         "Darrows solution 1/2 strength 500ml",
         "0Pcs"
        ],
        [
         "Darrows solution 1/2 strength 500ml",
         "0Pcs"
        ],
        [
         "Darrows solution 1/2 strength 500ml",
         "0Pcs"
        ],
        [
         "Darrows solution 1/2 strength 500ml",
         "0Pcs"
        ],
        [
         "Darrows solution 1/2 strength 500ml",
         "0Pcs"
        ],
        [
         "Darrows solution 1/2 strength 500ml",
         "0Pcs"
        ],
        [
         "Darrows solution 1/2 strength 500ml",
         "0Pcs"
        ],
        [
         "Darrows solution 1/2 strength 500ml",
         "0Pcs"
        ],
        [
         "Darrows solution 1/2 strength 500ml",
         "0Pcs"
        ],
        [
         "Darrows solution 1/2 strength 500ml",
         "0Pcs"
        ],
        [
         "Darrows solution 1/2 strength 500ml",
         "0Pcs"
        ],
        [
         "Darrows solution 1/2 strength 500ml",
         "0Pcs"
        ],
        [
         "Darrows solution 1/2 strength 500ml",
         "0Pcs"
        ],
        [
         "Darrows solution 1/2 strength 500ml",
         "0Pcs"
        ],
        [
         "Darrows solution 1/2 strength 500ml",
         "0Pcs"
        ],
        [
         "Darrows solution 1/2 strength 500ml",
         "0Pcs"
        ],
        [
         "Darrows solution 1/2 strength 500ml",
         "0Pcs"
        ],
        [
         "Darrows solution 1/2 strength 500ml",
         "0Pcs"
        ],
        [
         "Darrows solution 1/2 strength 500ml",
         "0Pcs"
        ],
        [
         "Darrows solution 1/2 strength 500ml",
         "0Pcs"
        ],
        [
         "Darrows solution 1/2 strength 500ml",
         "0Pcs"
        ],
        [
         "Darrows solution 1/2 strength 500ml",
         "0Pcs"
        ],
        [
         "Darrows solution 1/2 strength 500ml",
         "0Pcs"
        ],
        [
         "Darrows solution 1/2 strength 500ml",
         "0Pcs"
        ],
        [
         "Darrows solution 1/2 strength 500ml",
         "0Pcs"
        ],
        [
         "Darrows solution 1/2 strength 500ml",
         "0Pcs"
        ],
        [
         "Darrows solution 1/2 strength 500ml",
         "0Pcs"
        ],
        [
         "Darrows solution 1/2 strength 500ml",
         "0Pcs"
        ],
        [
         "Darrows solution 1/2 strength 500ml",
         "0Pcs"
        ],
        [
         "Darrows solution 1/2 strength 500ml",
         "0Pcs"
        ],
        [
         "Darrows solution 1/2 strength 500ml",
         "0Pcs"
        ],
        [
         "Darrows solution 1/2 strength 500ml",
         "0Pcs"
        ],
        [
         "Darrows solution 1/2 strength 500ml",
         "0Pcs"
        ],
        [
         "Darrows solution 1/2 strength 500ml",
         "0Pcs"
        ],
        [
         "Darrows solution 1/2 strength 500ml",
         "0Pcs"
        ],
        [
         "Darrows solution 1/2 strength 500ml",
         "0Pcs"
        ],
        [
         "Darrows solution 1/2 strength 500ml",
         "0Pcs"
        ],
        [
         "Darrows solution 1/2 strength 500ml",
         "0Pcs"
        ],
        [
         "Darrows solution 1/2 strength 500ml",
         "0Pcs"
        ],
        [
         "Darrows solution 1/2 strength 500ml",
         "0Pcs"
        ],
        [
         "Darrows solution 1/2 strength 500ml",
         "0Pcs"
        ],
        [
         "Darrows solution 1/2 strength 500ml",
         "0Pcs"
        ],
        [
         "Darrows solution 1/2 strength 500ml",
         "0Pcs"
        ],
        [
         "Darrows solution 1/2 strength 500ml",
         "0Pcs"
        ],
        [
         "Darrows solution 1/2 strength 500ml",
         "0Pcs"
        ],
        [
         "Darrows solution 1/2 strength 500ml",
         "0Pcs"
        ],
        [
         "Darrows solution 1/2 strength 500ml",
         "0Pcs"
        ],
        [
         "Darrows solution 1/2 strength 500ml",
         "0Pcs"
        ],
        [
         "Darrows solution 1/2 strength 500ml",
         "0Pcs"
        ],
        [
         "Darrows solution 1/2 strength 500ml",
         "0Pcs"
        ],
        [
         "Darrows solution 1/2 strength 500ml",
         "0Pcs"
        ],
        [
         "Darrows solution 1/2 strength 500ml",
         "0Pcs"
        ],
        [
         "Darrows solution 1/2 strength 500ml",
         "0Pcs"
        ],
        [
         "Darrows solution 1/2 strength 500ml",
         "0Pcs"
        ],
        [
         "Darrows solution 1/2 strength 500ml",
         "0Pcs"
        ],
        [
         "Chlorhexidine Gel",
         "0Tube"
        ],
        [
         "Disposable gloves",
         "0Pairs"
        ],
        [
         "Gutt/Ear Gentamycin 0.05",
         "0Tube"
        ],
        [
         "inj Anti tetanus Serum (ATS) 1500i.u",
         "0Amp"
        ],
        [
         "Inj Artmether 80mg/ml",
         "0Amp"
        ],
        [
         "inj Hydrocortisone 100mg",
         "0Vial"
        ],
        [
         "inj Tetanus Toxoid 0.5ml",
         "0Amp"
        ],
        [
         "Chlorhexidine Gel",
         "0Tube"
        ],
        [
         "Inj Artmether 80mg/ml",
         "0Amp"
        ],
        [
         "inj Benzylpenicillin 1mu",
         "0Vial"
        ],
        [
         "inj Hydrocortisone 100mg",
         "0Vial"
        ],
        [
         "Chlorhexidine Gel",
         "0Tube"
        ],
        [
         "Disposable gloves",
         "0Pairs"
        ],
        [
         "Gutt/Ear Gentamycin 0.05",
         "0Tube"
        ],
        [
         "inj Anti tetanus Serum (ATS) 1500i.u",
         "0Amp"
        ],
        [
         "Inj Artmether 80mg/ml",
         "0Amp"
        ],
        [
         "inj Hydrocortisone 100mg",
         "0Vial"
        ],
        [
         "inj Tetanus Toxoid 0.5ml",
         "0Amp"
        ],
        [
         "Chlorhexidine Gel",
         "0Tube"
        ],
        [
         "Disposable gloves",
         "0Pairs"
        ],
        [
         "Inj Artmether 80mg/ml",
         "0Amp"
        ],
        [
         "inj Benzylpenicillin 1mu",
         "0Vial"
        ],
        [
         "inj Hydrocortisone 100mg",
         "0Vial"
        ],
        [
         "Chlorhexidine Gel",
         "0Tube"
        ],
        [
         "Gutt/Ear Gentamycin 0.05",
         "0Tube"
        ],
        [
         "inj Anti tetanus Serum (ATS) 1500i.u",
         "0Amp"
        ],
        [
         "Inj Artmether 80mg/ml",
         "0Amp"
        ],
        [
         "inj Hydrocortisone 100mg",
         "0Vial"
        ],
        [
         "inj Tetanus Toxoid 0.5ml",
         "0Amp"
        ],
        [
         "Chlorhexidine Gel",
         "0Tube"
        ],
        [
         "Disposable gloves",
         "0Pairs"
        ],
        [
         "Inj Artmether 80mg/ml",
         "0Amp"
        ],
        [
         "inj Benzylpenicillin 1mu",
         "0Vial"
        ],
        [
         "inj Hydrocortisone 100mg",
         "0Vial"
        ],
        [
         "Chlorhexidine Gel",
         "0Tube"
        ],
        [
         "Gutt/Ear Gentamycin 0.05",
         "0Tube"
        ],
        [
         "inj Anti tetanus Serum (ATS) 1500i.u",
         "0Amp"
        ],
        [
         "Inj Artmether 80mg/ml",
         "0Amp"
        ],
        [
         "inj Hydrocortisone 100mg",
         "0Vial"
        ],
        [
         "inj Tetanus Toxoid 0.5ml",
         "0Amp"
        ],
        [
         "Chlorhexidine Gel",
         "0Tube"
        ],
        [
         "Disposable gloves",
         "0Pairs"
        ],
        [
         "Gutt/Ear Gentamycin 0.05",
         "0Tube"
        ],
        [
         "inj Anti tetanus Serum (ATS) 1500i.u",
         "0Amp"
        ],
        [
         "Inj Artmether 80mg/ml",
         "0Amp"
        ],
        [
         "inj Benzylpenicillin 1mu",
         "0Vial"
        ],
        [
         "inj Hydrocortisone 100mg",
         "0Vial"
        ],
        [
         "inj Tetanus Toxoid 0.5ml",
         "0Amp"
        ],
        [
         "Chlorhexidine Gel",
         "0Tube"
        ],
        [
         "Inj Artmether 80mg/ml",
         "0Amp"
        ],
        [
         "inj Benzylpenicillin 1mu",
         "0Vial"
        ],
        [
         "inj Hydrocortisone 100mg",
         "0Vial"
        ],
        [
         "Chlorhexidine Gel",
         "0Tube"
        ],
        [
         "Disposable gloves",
         "0Pairs"
        ],
        [
         "Inj Artmether 80mg/ml",
         "0Amp"
        ],
        [
         "inj Benzylpenicillin 1mu",
         "0Vial"
        ],
        [
         "inj Hydrocortisone 100mg",
         "0Vial"
        ],
        [
         "Chlorhexidine Gel",
         "0Tube"
        ],
        [
         "Gutt/Ear Gentamycin 0.05",
         "0Tube"
        ],
        [
         "inj Anti tetanus Serum (ATS) 1500i.u",
         "0Amp"
        ],
        [
         "Inj Artmether 80mg/ml",
         "0Amp"
        ],
        [
         "inj Hydrocortisone 100mg",
         "0Vial"
        ],
        [
         "inj Tetanus Toxoid 0.5ml",
         "0Amp"
        ],
        [
         "Chlorhexidine Gel",
         "0Tube"
        ],
        [
         "Disposable gloves",
         "0Pairs"
        ],
        [
         "Inj Artmether 80mg/ml",
         "0Amp"
        ],
        [
         "inj Benzylpenicillin 1mu",
         "0Vial"
        ],
        [
         "inj Hydrocortisone 100mg",
         "0Vial"
        ],
        [
         "Chlorhexidine Gel",
         "0Tube"
        ],
        [
         "Disposable gloves",
         "0Pairs"
        ],
        [
         "Inj Artmether 80mg/ml",
         "0Amp"
        ],
        [
         "inj Benzylpenicillin 1mu",
         "0Vial"
        ],
        [
         "inj Hydrocortisone 100mg",
         "0Vial"
        ],
        [
         "Chlorhexidine Gel",
         "0Tube"
        ],
        [
         "Disposable gloves",
         "0Pairs"
        ],
        [
         "Gutt/Ear Gentamycin 0.05",
         "0Tube"
        ],
        [
         "inj Anti tetanus Serum (ATS) 1500i.u",
         "0Amp"
        ],
        [
         "Inj Artmether 80mg/ml",
         "0Amp"
        ],
        [
         "inj Hydrocortisone 100mg",
         "0Vial"
        ],
        [
         "inj Tetanus Toxoid 0.5ml",
         "0Amp"
        ],
        [
         "Chlorhexidine Gel",
         "0Tube"
        ],
        [
         "Gutt/Ear Gentamycin 0.05",
         "0Tube"
        ],
        [
         "inj Anti tetanus Serum (ATS) 1500i.u",
         "0Amp"
        ],
        [
         "Inj Artmether 80mg/ml",
         "0Amp"
        ],
        [
         "inj Hydrocortisone 100mg",
         "0Vial"
        ],
        [
         "inj Tetanus Toxoid 0.5ml",
         "0Amp"
        ],
        [
         "Chlorhexidine Gel",
         "0Tube"
        ],
        [
         "Disposable gloves",
         "0Pairs"
        ],
        [
         "Inj Artmether 80mg/ml",
         "0Amp"
        ],
        [
         "inj Benzylpenicillin 1mu",
         "0Vial"
        ],
        [
         "inj Hydrocortisone 100mg",
         "0Vial"
        ],
        [
         "Chlorhexidine Gel",
         "0Tube"
        ],
        [
         "Disposable gloves",
         "0Pairs"
        ],
        [
         "Gutt/Ear Gentamycin 0.05",
         "0Tube"
        ],
        [
         "inj Anti tetanus Serum (ATS) 1500i.u",
         "0Amp"
        ],
        [
         "Inj Artmether 80mg/ml",
         "0Amp"
        ],
        [
         "inj Hydrocortisone 100mg",
         "0Vial"
        ],
        [
         "inj Tetanus Toxoid 0.5ml",
         "0Amp"
        ],
        [
         "Chlorhexidine Gel",
         "0Tube"
        ],
        [
         "Gutt/Ear Gentamycin 0.05",
         "0Tube"
        ],
        [
         "inj Tetanus Toxoid 0.5ml",
         "0Amp"
        ],
        [
         "Chlorhexidine Gel",
         "0Tube"
        ],
        [
         "Disposable gloves",
         "0Pairs"
        ],
        [
         "inj Anti tetanus Serum (ATS) 1500i.u",
         "0Amp"
        ],
        [
         "Inj Artmether 80mg/ml",
         "0Amp"
        ],
        [
         "inj Benzylpenicillin 1mu",
         "0Vial"
        ],
        [
         "inj Tetanus Toxoid 0.5ml",
         "0Amp"
        ],
        [
         "Chlorhexidine Gel",
         "0Tube"
        ],
        [
         "Disposable gloves",
         "0Pairs"
        ],
        [
         "inj Anti tetanus Serum (ATS) 1500i.u",
         "0Amp"
        ],
        [
         "Inj Artmether 80mg/ml",
         "0Amp"
        ],
        [
         "inj Hydrocortisone 100mg",
         "0Vial"
        ],
        [
         "inj Tetanus Toxoid 0.5ml",
         "0Amp"
        ],
        [
         "Chlorhexidine Gel",
         "0Tube"
        ],
        [
         "Disposable gloves",
         "0Pairs"
        ],
        [
         "Gutt/Ear Gentamycin 0.05",
         "0Tube"
        ],
        [
         "inj Anti tetanus Serum (ATS) 1500i.u",
         "0Amp"
        ],
        [
         "Inj Artmether 80mg/ml",
         "0Amp"
        ],
        [
         "inj Benzylpenicillin 1mu",
         "0Vial"
        ],
        [
         "inj Hydrocortisone 100mg",
         "0Vial"
        ],
        [
         "inj Tetanus Toxoid 0.5ml",
         "0Amp"
        ],
        [
         "Chlorhexidine Gel",
         "0Tube"
        ],
        [
         "Disposable gloves",
         "0Pairs"
        ],
        [
         "Inj Artmether 80mg/ml",
         "0Amp"
        ],
        [
         "inj Benzylpenicillin 1mu",
         "0Vial"
        ],
        [
         "Chlorhexidine Gel",
         "0Tube"
        ],
        [
         "Disposable gloves",
         "0Pairs"
        ],
        [
         "Gutt/Ear Gentamycin 0.05",
         "0Tube"
        ],
        [
         "Inj Artmether 80mg/ml",
         "0Amp"
        ],
        [
         "inj Benzylpenicillin 1mu",
         "0Vial"
        ],
        [
         "inj Hydrocortisone 100mg",
         "0Vial"
        ],
        [
         "Chlorhexidine Gel",
         "0Tube"
        ],
        [
         "Disposable gloves",
         "0Pairs"
        ],
        [
         "Gutt/Ear Gentamycin 0.05",
         "0Tube"
        ],
        [
         "inj Anti tetanus Serum (ATS) 1500i.u",
         "0Amp"
        ],
        [
         "Inj Artmether 80mg/ml",
         "0Amp"
        ],
        [
         "inj Hydrocortisone 100mg",
         "0Vial"
        ],
        [
         "inj Tetanus Toxoid 0.5ml",
         "0Amp"
        ],
        [
         "Chlorhexidine Gel",
         "0Tube"
        ],
        [
         "Gutt/Ear Gentamycin 0.05",
         "0Tube"
        ],
        [
         "inj Anti tetanus Serum (ATS) 1500i.u",
         "0Amp"
        ],
        [
         "Inj Artmether 80mg/ml",
         "0Amp"
        ],
        [
         "inj Hydrocortisone 100mg",
         "0Vial"
        ],
        [
         "inj Tetanus Toxoid 0.5ml",
         "0Amp"
        ],
        [
         "Chlorhexidine Gel",
         "0Tube"
        ],
        [
         "Gutt/Ear Gentamycin 0.05",
         "0Tube"
        ],
        [
         "inj Anti tetanus Serum (ATS) 1500i.u",
         "0Amp"
        ],
        [
         "Inj Artmether 80mg/ml",
         "0Amp"
        ],
        [
         "inj Hydrocortisone 100mg",
         "0Vial"
        ],
        [
         "inj Tetanus Toxoid 0.5ml",
         "0Amp"
        ],
        [
         "Chlorhexidine Gel",
         "0Tube"
        ],
        [
         "Disposable gloves",
         "0Pairs"
        ],
        [
         "Gutt/Ear Gentamycin 0.05",
         "0Tube"
        ],
        [
         "inj Anti tetanus Serum (ATS) 1500i.u",
         "0Amp"
        ],
        [
         "Inj Artmether 80mg/ml",
         "0Amp"
        ],
        [
         "inj Benzylpenicillin 1mu",
         "0Vial"
        ],
        [
         "inj Hydrocortisone 100mg",
         "0Vial"
        ],
        [
         "inj Tetanus Toxoid 0.5ml",
         "0Amp"
        ],
        [
         "Chlorhexidine Gel",
         "0Tube"
        ],
        [
         "Gutt/Ear Gentamycin 0.05",
         "0Tube"
        ],
        [
         "inj Anti tetanus Serum (ATS) 1500i.u",
         "0Amp"
        ],
        [
         "Inj Artmether 80mg/ml",
         "0Amp"
        ],
        [
         "inj Hydrocortisone 100mg",
         "0Vial"
        ],
        [
         "inj Tetanus Toxoid 0.5ml",
         "0Amp"
        ],
        [
         "Chlorhexidine Gel",
         "0Tube"
        ],
        [
         "Gutt/Ear Gentamycin 0.05",
         "0Tube"
        ],
        [
         "inj Anti tetanus Serum (ATS) 1500i.u",
         "0Amp"
        ],
        [
         "Inj Artmether 80mg/ml",
         "0Amp"
        ],
        [
         "inj Benzylpenicillin 1mu",
         "0Vial"
        ],
        [
         "inj Hydrocortisone 100mg",
         "0Vial"
        ],
        [
         "inj Tetanus Toxoid 0.5ml",
         "0Amp"
        ],
        [
         "Chlorhexidine Gel",
         "0Tube"
        ],
        [
         "Disposable gloves",
         "0Pairs"
        ],
        [
         "Gutt/Ear Gentamycin 0.05",
         "0Tube"
        ],
        [
         "inj Anti tetanus Serum (ATS) 1500i.u",
         "0Amp"
        ],
        [
         "Inj Artmether 80mg/ml",
         "0Amp"
        ],
        [
         "inj Benzylpenicillin 1mu",
         "0Vial"
        ],
        [
         "inj Hydrocortisone 100mg",
         "0Vial"
        ],
        [
         "inj Tetanus Toxoid 0.5ml",
         "0Amp"
        ],
        [
         "Chlorhexidine Gel",
         "0Tube"
        ],
        [
         "Disposable gloves",
         "0Pairs"
        ],
        [
         "Gutt/Ear Gentamycin 0.05",
         "0Tube"
        ],
        [
         "inj Anti tetanus Serum (ATS) 1500i.u",
         "0Amp"
        ],
        [
         "Inj Artmether 80mg/ml",
         "0Amp"
        ],
        [
         "inj Benzylpenicillin 1mu",
         "0Vial"
        ],
        [
         "inj Hydrocortisone 100mg",
         "0Vial"
        ],
        [
         "inj Tetanus Toxoid 0.5ml",
         "0Amp"
        ],
        [
         "Chlorhexidine Gel",
         "0Tube"
        ],
        [
         "Disposable gloves",
         "0Pairs"
        ],
        [
         "Inj Artmether 80mg/ml",
         "0Amp"
        ],
        [
         "inj Benzylpenicillin 1mu",
         "0Vial"
        ],
        [
         "inj Hydrocortisone 100mg",
         "0Vial"
        ],
        [
         "Chlorhexidine Gel",
         "0Tube"
        ],
        [
         "Disposable gloves",
         "0Pairs"
        ],
        [
         "inj Anti tetanus Serum (ATS) 1500i.u",
         "0Amp"
        ],
        [
         "Inj Artmether 80mg/ml",
         "0Amp"
        ],
        [
         "inj Benzylpenicillin 1mu",
         "0Vial"
        ],
        [
         "inj Hydrocortisone 100mg",
         "0Vial"
        ],
        [
         "Chlorhexidine Gel",
         "0Tube"
        ],
        [
         "Disposable gloves",
         "0Pairs"
        ],
        [
         "Inj Artmether 80mg/ml",
         "0Amp"
        ],
        [
         "inj Benzylpenicillin 1mu",
         "0Vial"
        ],
        [
         "inj Hydrocortisone 100mg",
         "0Vial"
        ],
        [
         "Chlorhexidine Gel",
         "0Tube"
        ],
        [
         "Disposable gloves",
         "0Pairs"
        ],
        [
         "Gutt/Ear Gentamycin 0.05",
         "0Tube"
        ],
        [
         "inj Anti tetanus Serum (ATS) 1500i.u",
         "0Amp"
        ],
        [
         "Inj Artmether 80mg/ml",
         "0Amp"
        ],
        [
         "inj Benzylpenicillin 1mu",
         "0Vial"
        ],
        [
         "inj Hydrocortisone 100mg",
         "0Vial"
        ],
        [
         "inj Tetanus Toxoid 0.5ml",
         "0Amp"
        ],
        [
         "Chlorhexidine Gel",
         "0Tube"
        ],
        [
         "Disposable gloves",
         "0Pairs"
        ],
        [
         "inj Anti tetanus Serum (ATS) 1500i.u",
         "0Amp"
        ],
        [
         "Inj Artmether 80mg/ml",
         "0Amp"
        ],
        [
         "inj Tetanus Toxoid 0.5ml",
         "0Amp"
        ],
        [
         "Chlorhexidine Gel",
         "0Tube"
        ],
        [
         "Gutt/Ear Gentamycin 0.05",
         "0Tube"
        ],
        [
         "inj Anti tetanus Serum (ATS) 1500i.u",
         "0Amp"
        ],
        [
         "Inj Artmether 80mg/ml",
         "0Amp"
        ],
        [
         "inj Benzylpenicillin 1mu",
         "0Vial"
        ],
        [
         "inj Hydrocortisone 100mg",
         "0Vial"
        ],
        [
         "inj Tetanus Toxoid 0.5ml",
         "0Amp"
        ],
        [
         "Chlorhexidine Gel",
         "0Tube"
        ],
        [
         "Disposable gloves",
         "0Pairs"
        ],
        [
         "inj Anti tetanus Serum (ATS) 1500i.u",
         "0Amp"
        ],
        [
         "Inj Artmether 80mg/ml",
         "0Amp"
        ],
        [
         "inj Benzylpenicillin 1mu",
         "0Vial"
        ],
        [
         "inj Tetanus Toxoid 0.5ml",
         "0Amp"
        ],
        [
         "Chlorhexidine Gel",
         "0Tube"
        ],
        [
         "Disposable gloves",
         "0Pairs"
        ],
        [
         "inj Anti tetanus Serum (ATS) 1500i.u",
         "0Amp"
        ],
        [
         "Inj Artmether 80mg/ml",
         "0Amp"
        ],
        [
         "inj Hydrocortisone 100mg",
         "0Vial"
        ],
        [
         "inj Tetanus Toxoid 0.5ml",
         "0Amp"
        ],
        [
         "Chlorhexidine Gel",
         "0Tube"
        ],
        [
         "Disposable gloves",
         "0Pairs"
        ],
        [
         "Gutt/Ear Gentamycin 0.05",
         "0Tube"
        ],
        [
         "Inj Artmether 80mg/ml",
         "0Amp"
        ],
        [
         "inj Benzylpenicillin 1mu",
         "0Vial"
        ],
        [
         "inj Hydrocortisone 100mg",
         "0Vial"
        ],
        [
         "Chlorhexidine Gel",
         "0Tube"
        ],
        [
         "Disposable gloves",
         "0Pairs"
        ],
        [
         "Gutt/Ear Gentamycin 0.05",
         "0Tube"
        ],
        [
         "inj Anti tetanus Serum (ATS) 1500i.u",
         "0Amp"
        ],
        [
         "Inj Artmether 80mg/ml",
         "0Amp"
        ],
        [
         "inj Benzylpenicillin 1mu",
         "0Vial"
        ],
        [
         "inj Hydrocortisone 100mg",
         "0Vial"
        ],
        [
         "inj Tetanus Toxoid 0.5ml",
         "0Amp"
        ],
        [
         "Chlorhexidine Gel",
         "0Tube"
        ],
        [
         "Disposable gloves",
         "0Pairs"
        ],
        [
         "Gutt/Ear Gentamycin 0.05",
         "0Tube"
        ],
        [
         "inj Anti tetanus Serum (ATS) 1500i.u",
         "0Amp"
        ],
        [
         "Inj Artmether 80mg/ml",
         "0Amp"
        ],
        [
         "inj Benzylpenicillin 1mu",
         "0Vial"
        ],
        [
         "inj Hydrocortisone 100mg",
         "0Vial"
        ],
        [
         "inj Tetanus Toxoid 0.5ml",
         "0Amp"
        ],
        [
         "Chlorhexidine Gel",
         "0Tube"
        ],
        [
         "Disposable gloves",
         "0Pairs"
        ],
        [
         "Inj Artmether 80mg/ml",
         "0Amp"
        ],
        [
         "inj Benzylpenicillin 1mu",
         "0Vial"
        ],
        [
         "inj Hydrocortisone 100mg",
         "0Vial"
        ],
        [
         "Chlorhexidine Gel",
         "0Tube"
        ],
        [
         "Disposable gloves",
         "0Pairs"
        ],
        [
         "Gutt/Ear Gentamycin 0.05",
         "0Tube"
        ],
        [
         "inj Anti tetanus Serum (ATS) 1500i.u",
         "0Amp"
        ],
        [
         "Inj Artmether 80mg/ml",
         "0Amp"
        ],
        [
         "inj Hydrocortisone 100mg",
         "0Vial"
        ],
        [
         "inj Tetanus Toxoid 0.5ml",
         "0Amp"
        ],
        [
         "Chlorhexidine Gel",
         "0Tube"
        ],
        [
         "Disposable gloves",
         "0Pairs"
        ],
        [
         "inj Anti tetanus Serum (ATS) 1500i.u",
         "0Amp"
        ],
        [
         "Inj Artmether 80mg/ml",
         "0Amp"
        ],
        [
         "inj Benzylpenicillin 1mu",
         "0Vial"
        ],
        [
         "inj Hydrocortisone 100mg",
         "0Vial"
        ],
        [
         "inj Tetanus Toxoid 0.5ml",
         "0Amp"
        ],
        [
         "Disposable gloves",
         "0Pairs"
        ],
        [
         "Gutt/Ear Gentamycin 0.05",
         "0Tube"
        ],
        [
         "inj Anti tetanus Serum (ATS) 1500i.u",
         "0Amp"
        ],
        [
         "Inj Artmether 80mg/ml",
         "0Amp"
        ],
        [
         "inj Benzylpenicillin 1mu",
         "0Vial"
        ],
        [
         "inj Tetanus Toxoid 0.5ml",
         "0Amp"
        ],
        [
         "Chlorhexidine Gel",
         "0Tube"
        ],
        [
         "Disposable gloves",
         "0Pairs"
        ],
        [
         "Gutt/Ear Gentamycin 0.05",
         "0Tube"
        ],
        [
         "Inj Artmether 80mg/ml",
         "0Amp"
        ],
        [
         "inj Benzylpenicillin 1mu",
         "0Vial"
        ],
        [
         "inj Hydrocortisone 100mg",
         "0Vial"
        ],
        [
         "inj Tetanus Toxoid 0.5ml",
         "0Amp"
        ],
        [
         "Chlorhexidine Gel",
         "0Tube"
        ],
        [
         "Disposable gloves",
         "0Pairs"
        ],
        [
         "Gutt/Ear Gentamycin 0.05",
         "0Tube"
        ],
        [
         "inj Anti tetanus Serum (ATS) 1500i.u",
         "0Amp"
        ],
        [
         "Inj Artmether 80mg/ml",
         "0Amp"
        ],
        [
         "inj Benzylpenicillin 1mu",
         "0Vial"
        ],
        [
         "inj Hydrocortisone 100mg",
         "0Vial"
        ],
        [
         "inj Tetanus Toxoid 0.5ml",
         "0Amp"
        ],
        [
         "Chlorhexidine Gel",
         "0Tube"
        ],
        [
         "Disposable gloves",
         "0Pairs"
        ],
        [
         "inj Anti tetanus Serum (ATS) 1500i.u",
         "0Amp"
        ],
        [
         "Inj Artmether 80mg/ml",
         "0Amp"
        ],
        [
         "inj Hydrocortisone 100mg",
         "0Vial"
        ],
        [
         "Chlorhexidine Gel",
         "0Tube"
        ],
        [
         "Disposable gloves",
         "0Pairs"
        ],
        [
         "Inj Artmether 80mg/ml",
         "0Amp"
        ],
        [
         "inj Hydrocortisone 100mg",
         "0Vial"
        ],
        [
         "Chlorhexidine Gel",
         "0Tube"
        ],
        [
         "Disposable gloves",
         "0Pairs"
        ],
        [
         "Inj Artmether 80mg/ml",
         "0Amp"
        ],
        [
         "inj Tetanus Toxoid 0.5ml",
         "0Amp"
        ],
        [
         "Chlorhexidine Gel",
         "0Tube"
        ],
        [
         "Disposable gloves",
         "0Pairs"
        ],
        [
         "Inj Artmether 80mg/ml",
         "0Amp"
        ],
        [
         "inj Benzylpenicillin 1mu",
         "0Vial"
        ],
        [
         "inj Hydrocortisone 100mg",
         "0Vial"
        ],
        [
         "Chlorhexidine Gel",
         "0Tube"
        ],
        [
         "Gutt/Ear Gentamycin 0.05",
         "0Tube"
        ],
        [
         "inj Anti tetanus Serum (ATS) 1500i.u",
         "0Amp"
        ],
        [
         "Inj Artmether 80mg/ml",
         "0Amp"
        ],
        [
         "inj Benzylpenicillin 1mu",
         "0Vial"
        ],
        [
         "inj Hydrocortisone 100mg",
         "0Vial"
        ],
        [
         "inj Tetanus Toxoid 0.5ml",
         "0Amp"
        ],
        [
         "Chlorhexidine Gel",
         "0Tube"
        ],
        [
         "Disposable gloves",
         "0Pairs"
        ],
        [
         "inj Anti tetanus Serum (ATS) 1500i.u",
         "0Amp"
        ],
        [
         "Inj Artmether 80mg/ml",
         "0Amp"
        ],
        [
         "inj Tetanus Toxoid 0.5ml",
         "0Amp"
        ],
        [
         "Chlorhexidine Gel",
         "0Tube"
        ],
        [
         "Gutt/Ear Gentamycin 0.05",
         "0Tube"
        ],
        [
         "inj Anti tetanus Serum (ATS) 1500i.u",
         "0Amp"
        ],
        [
         "Inj Artmether 80mg/ml",
         "0Amp"
        ],
        [
         "Insulin (Actrapid)",
         "0Vial"
        ],
        [
         "Inj Oxytocin",
         "0Amp"
        ],
        [
         "Inj Ceftriazone/Sulbactam 1.5g",
         "0Vial"
        ],
        [
         "Inj Ceftriazone",
         "0Vial"
        ],
        [
         "Chlorhexidine Gel",
         "0Tube"
        ],
        [
         "Disposable gloves",
         "0Pairs"
        ],
        [
         "Gutt/Ear Gentamycin 0.05",
         "0Tube"
        ],
        [
         "inj Anti tetanus Serum (ATS) 1500i.u",
         "0Amp"
        ],
        [
         "Inj Artmether 80mg/ml",
         "0Amp"
        ],
        [
         "inj Benzylpenicillin 1mu",
         "0Vial"
        ],
        [
         "inj Hydrocortisone 100mg",
         "0Vial"
        ],
        [
         "inj Tetanus Toxoid 0.5ml",
         "0Amp"
        ],
        [
         "Chlorhexidine Gel",
         "0Tube"
        ],
        [
         "Disposable gloves",
         "0Pairs"
        ],
        [
         "inj Anti tetanus Serum (ATS) 1500i.u",
         "0Amp"
        ],
        [
         "Inj Artmether 80mg/ml",
         "0Amp"
        ],
        [
         "inj Benzylpenicillin 1mu",
         "0Vial"
        ],
        [
         "inj Hydrocortisone 100mg",
         "0Vial"
        ],
        [
         "inj Tetanus Toxoid 0.5ml",
         "0Amp"
        ],
        [
         "Chlorhexidine Gel",
         "0Tube"
        ],
        [
         "Disposable gloves",
         "0Pairs"
        ],
        [
         "inj Anti tetanus Serum (ATS) 1500i.u",
         "0Amp"
        ],
        [
         "Inj Artmether 80mg/ml",
         "0Amp"
        ],
        [
         "inj Tetanus Toxoid 0.5ml",
         "0Amp"
        ],
        [
         "Chlorhexidine Gel",
         "0Tube"
        ],
        [
         "Disposable gloves",
         "0Pairs"
        ],
        [
         "Gutt/Ear Gentamycin 0.05",
         "0Tube"
        ],
        [
         "inj Anti tetanus Serum (ATS) 1500i.u",
         "0Amp"
        ],
        [
         "Inj Artmether 80mg/ml",
         "0Amp"
        ],
        [
         "inj Hydrocortisone 100mg",
         "0Vial"
        ],
        [
         "inj Tetanus Toxoid 0.5ml",
         "0Amp"
        ],
        [
         "Chlorhexidine Gel",
         "0Tube"
        ],
        [
         "Disposable gloves",
         "0Pairs"
        ],
        [
         "Gutt/Ear Gentamycin 0.05",
         "0Tube"
        ],
        [
         "inj Anti tetanus Serum (ATS) 1500i.u",
         "0Amp"
        ],
        [
         "Inj Artmether 80mg/ml",
         "0Amp"
        ],
        [
         "inj Benzylpenicillin 1mu",
         "0Vial"
        ],
        [
         "inj Hydrocortisone 100mg",
         "0Vial"
        ],
        [
         "inj Tetanus Toxoid 0.5ml",
         "0Amp"
        ],
        [
         "Chlorhexidine Gel",
         "0Tube"
        ],
        [
         "Disposable gloves",
         "0Pairs"
        ],
        [
         "Gutt/Ear Gentamycin 0.05",
         "0Tube"
        ],
        [
         "Inj Artmether 80mg/ml",
         "0Amp"
        ],
        [
         "inj Benzylpenicillin 1mu",
         "0Vial"
        ],
        [
         "inj Hydrocortisone 100mg",
         "0Vial"
        ],
        [
         "Chlorhexidine Gel",
         "0Tube"
        ],
        [
         "Disposable gloves",
         "0Pairs"
        ],
        [
         "Gutt/Ear Gentamycin 0.05",
         "0Tube"
        ],
        [
         "inj Anti tetanus Serum (ATS) 1500i.u",
         "0Amp"
        ],
        [
         "Inj Artmether 80mg/ml",
         "0Amp"
        ],
        [
         "inj Benzylpenicillin 1mu",
         "0Vial"
        ],
        [
         "inj Hydrocortisone 100mg",
         "0Vial"
        ],
        [
         "inj Tetanus Toxoid 0.5ml",
         "0Amp"
        ],
        [
         "Chlorhexidine Gel",
         "0Tube"
        ],
        [
         "Gutt/Ear Gentamycin 0.05",
         "0Tube"
        ],
        [
         "inj Anti tetanus Serum (ATS) 1500i.u",
         "0Amp"
        ],
        [
         "Inj Artmether 80mg/ml",
         "0Amp"
        ],
        [
         "inj Benzylpenicillin 1mu",
         "0Vial"
        ],
        [
         "inj Hydrocortisone 100mg",
         "0Vial"
        ],
        [
         "inj Tetanus Toxoid 0.5ml",
         "0Amp"
        ],
        [
         "Chlorhexidine Gel",
         "0Tube"
        ],
        [
         "Disposable gloves",
         "0Pairs"
        ],
        [
         "Gutt/Ear Gentamycin 0.05",
         "0Tube"
        ],
        [
         "inj Anti tetanus Serum (ATS) 1500i.u",
         "0Amp"
        ],
        [
         "Inj Artmether 80mg/ml",
         "0Amp"
        ],
        [
         "inj Hydrocortisone 100mg",
         "0Vial"
        ],
        [
         "inj Tetanus Toxoid 0.5ml",
         "0Amp"
        ],
        [
         "Chlorhexidine Gel",
         "0Tube"
        ],
        [
         "Disposable gloves",
         "0Pairs"
        ],
        [
         "Gutt/Ear Gentamycin 0.05",
         "0Tube"
        ],
        [
         "inj Anti tetanus Serum (ATS) 1500i.u",
         "0Amp"
        ],
        [
         "Inj Artmether 80mg/ml",
         "0Amp"
        ],
        [
         "inj Tetanus Toxoid 0.5ml",
         "0Amp"
        ],
        [
         "Chlorhexidine Gel",
         "0Tube"
        ],
        [
         "Disposable gloves",
         "0Pairs"
        ],
        [
         "inj Anti tetanus Serum (ATS) 1500i.u",
         "0Amp"
        ],
        [
         "Inj Artmether 80mg/ml",
         "0Amp"
        ],
        [
         "inj Benzylpenicillin 1mu",
         "0Vial"
        ],
        [
         "inj Hydrocortisone 100mg",
         "0Vial"
        ],
        [
         "Chlorhexidine Gel",
         "0Tube"
        ],
        [
         "Gutt/Ear Gentamycin 0.05",
         "0Tube"
        ],
        [
         "inj Anti tetanus Serum (ATS) 1500i.u",
         "0Amp"
        ],
        [
         "Inj Artmether 80mg/ml",
         "0Amp"
        ],
        [
         "inj Benzylpenicillin 1mu",
         "0Vial"
        ],
        [
         "inj Hydrocortisone 100mg",
         "0Vial"
        ],
        [
         "inj Tetanus Toxoid 0.5ml",
         "0Amp"
        ],
        [
         "Chlorhexidine Gel",
         "0Tube"
        ],
        [
         "Disposable gloves",
         "0Pairs"
        ],
        [
         "Gutt/Ear Gentamycin 0.05",
         "0Tube"
        ],
        [
         "Inj Artmether 80mg/ml",
         "0Amp"
        ],
        [
         "inj Benzylpenicillin 1mu",
         "0Vial"
        ],
        [
         "inj Hydrocortisone 100mg",
         "0Vial"
        ],
        [
         "Chlorhexidine Gel",
         "0Tube"
        ],
        [
         "Disposable gloves",
         "0Pairs"
        ],
        [
         "Gutt/Ear Gentamycin 0.05",
         "0Tube"
        ],
        [
         "inj Anti tetanus Serum (ATS) 1500i.u",
         "0Amp"
        ],
        [
         "Inj Artmether 80mg/ml",
         "0Amp"
        ],
        [
         "inj Hydrocortisone 100mg",
         "0Vial"
        ],
        [
         "inj Tetanus Toxoid 0.5ml",
         "0Amp"
        ],
        [
         "Chlorhexidine Gel",
         "0Tube"
        ],
        [
         "Disposable gloves",
         "0Pairs"
        ],
        [
         "Gutt/Ear Gentamycin 0.05",
         "0Tube"
        ],
        [
         "inj Anti tetanus Serum (ATS) 1500i.u",
         "0Amp"
        ],
        [
         "Inj Artmether 80mg/ml",
         "0Amp"
        ],
        [
         "inj Benzylpenicillin 1mu",
         "0Vial"
        ],
        [
         "inj Hydrocortisone 100mg",
         "0Vial"
        ],
        [
         "inj Tetanus Toxoid 0.5ml",
         "0Amp"
        ],
        [
         "5% Dextrose saline 1000ml",
         "0Pcs"
        ],
        [
         "0.9% Normal saline 1000ml",
         "0Pcs"
        ],
        [
         "Infusion Sets 23g",
         "0Pcs"
        ],
        [
         "inj Anti tetanus Serum (ATS) 1500i.u",
         "0Amp"
        ],
        [
         "inj Benzylpenicillin 1mu",
         "0Vial"
        ],
        [
         "Syp Ascorbic acid",
         "0Bottle"
        ],
        [
         "Syr Albendazole 100mg/5ml",
         "0Bottle"
        ],
        [
         "syr Vitamin B complex",
         "0Bottle"
        ],
        [
         "Gutt/Ear Gentamycin 0.05",
         "0Tube"
        ],
        [
         "syr Ferric amonium citrate 400mg/5ml",
         "0Bottle"
        ],
        [
         "0.9% Normal saline 1000ml",
         "0Pcs"
        ],
        [
         "Gutt/Ear Gentamycin 0.05",
         "0Tube"
        ],
        [
         "syr Vitamin B complex",
         "0Bottle"
        ],
        [
         "Syp Multivite / Tab Multivite",
         "0Bottle"
        ],
        [
         "syr Vitamin B complex",
         "0Bottle"
        ],
        [
         "inj Anti tetanus Serum (ATS) 1500i.u",
         "0Amp"
        ],
        [
         "Inj Artmether 80mg/ml",
         "0Amp"
        ],
        [
         "inj Benzylpenicillin 1mu",
         "0Vial"
        ],
        [
         "syr Cough Syrup (P) 100ml",
         "0Bottle"
        ],
        [
         "inj Benzylpenicillin 1mu",
         "0Vial"
        ],
        [
         "Syrup Paracetamol 125mg/5ml",
         "0Bottle"
        ],
        [
         "Gutt/Ear Gentamycin 0.05",
         "0Tube"
        ],
        [
         "Infusion Sets 23g",
         "0Pcs"
        ],
        [
         "inj Benzylpenicillin 1mu",
         "0Vial"
        ],
        [
         "inj Tetanus Toxoid 0.5ml",
         "0Amp"
        ],
        [
         "Infusion Sets 23g",
         "0Pcs"
        ],
        [
         "inj Benzylpenicillin 1mu",
         "0Vial"
        ],
        [
         "Gutt/Ear Gentamycin 0.05",
         "0Tube"
        ],
        [
         "inj Hydrocortisone 100mg",
         "0Vial"
        ],
        [
         "Infusion Sets 23g",
         "0Pcs"
        ],
        [
         "inj Benzylpenicillin 1mu",
         "0Vial"
        ],
        [
         "I.V Metronidazole 200mg",
         "0Pcs"
        ],
        [
         "Infusion Sets 23g",
         "0Pcs"
        ],
        [
         "Insulin (Insulutard)",
         "0Vial"
        ],
        [
         "inj Tetanus Toxoid 0.5ml",
         "0Amp"
        ],
        [
         "Catheter 16",
         "0Pcs"
        ],
        [
         "Plaster",
         "0roll"
        ],
        [
         "Cotton Wool 100g",
         "0Pcs"
        ],
        [
         "I.V Metronidazole 200mg",
         "0Pcs"
        ],
        [
         "Infusion Sets 23g",
         "0Pcs"
        ],
        [
         "inj Hydrocortisone 100mg",
         "0Vial"
        ],
        [
         "5% Dextrose saline 1000ml",
         "0Pcs"
        ],
        [
         "inj Benzylpenicillin 1mu",
         "0Vial"
        ],
        [
         "Infusion Sets 23g",
         "0Pcs"
        ],
        [
         "inj Tetanus Toxoid 0.5ml",
         "0Amp"
        ],
        [
         "Cotton Wool 100g",
         "0Pcs"
        ],
        [
         "5% Dextrose water 500ml",
         "0Pcs"
        ],
        [
         "0.9% Normal saline 1000ml",
         "0Pcs"
        ],
        [
         "Infusion Sets 23g",
         "0Pcs"
        ],
        [
         "inj Benzylpenicillin 1mu",
         "0Vial"
        ],
        [
         "Cotton Wool 100g",
         "0Pcs"
        ],
        [
         "Infusion Sets 23g",
         "0Pcs"
        ],
        [
         "Cotton Wool 100g",
         "0Pcs"
        ],
        [
         "Disposable gloves",
         "0Pairs"
        ],
        [
         "inj Benzylpenicillin 1mu",
         "0Vial"
        ],
        [
         "Gutt/Ear Gentamycin 0.05",
         "0Tube"
        ],
        [
         "Infusion Sets 23g",
         "0Pcs"
        ],
        [
         "inj Anti tetanus Serum (ATS) 1500i.u",
         "0Amp"
        ],
        [
         "inj Tetanus Toxoid 0.5ml",
         "0Amp"
        ],
        [
         "Cotton Wool 100g",
         "0Pcs"
        ],
        [
         "Disposable gloves",
         "0Pairs"
        ],
        [
         "5% Dextrose saline 500mls",
         "0Pcs"
        ],
        [
         "0.9% Normal saline 500mls",
         "0Pcs"
        ],
        [
         "Infusion Sets 23g",
         "0Pcs"
        ],
        [
         "inj Benzylpenicillin 1mu",
         "0Vial"
        ],
        [
         "Disposable gloves",
         "0Pairs"
        ],
        [
         "Infusion Sets 23g",
         "0Pcs"
        ],
        [
         "inj Hydrocortisone 100mg",
         "0Vial"
        ],
        [
         "Gutt/Ear Gentamycin 0.05",
         "0Tube"
        ],
        [
         "inj Hydrocortisone 100mg",
         "0Vial"
        ],
        [
         "Cotton Wool 100g",
         "0Pcs"
        ],
        [
         "Gutt/Ear Gentamycin 0.05",
         "0Tube"
        ],
        [
         "Infusion Sets 23g",
         "0Pcs"
        ],
        [
         "inj Tetanus Toxoid 0.5ml",
         "0Amp"
        ],
        [
         "Gutt/Ear Gentamycin 0.05",
         "0Tube"
        ],
        [
         "Infusion Sets 23g",
         "0Pcs"
        ],
        [
         "inj Hydrocortisone 100mg",
         "0Vial"
        ],
        [
         "Gutt/Ear Gentamycin 0.05",
         "0Tube"
        ],
        [
         "Darrows solution full strength 500ml",
         "0Pcs"
        ],
        [
         "5% Dextrose water 500ml",
         "0Pcs"
        ],
        [
         "susp Metronidazole 100mg/5ml",
         "0Bottle"
        ],
        [
         "susp. Ampiclox 125mg/5ml",
         "0Bottle"
        ],
        [
         "Susp. Co-trimoxazole 240mg/5ml",
         "0Bottle"
        ],
        [
         "Syp Multivite",
         "0Bottle"
        ],
        [
         "Syr Albendazole 100mg/5ml",
         "0Bottle"
        ],
        [
         "syr Cough Syrup (A) 100ml",
         "0Bottle"
        ],
        [
         "syr Cough Syrup (P) 100ml",
         "0Bottle"
        ],
        [
         "syr Vitamin B complex",
         "0Bottle"
        ],
        [
         "Syrup Paracetamol 125mg/5ml",
         "0Bottle"
        ],
        [
         "Syp Ascorbic acid",
         "0Bottle"
        ],
        [
         "susp Metronidazole 100mg/5ml",
         "0Bottle"
        ],
        [
         "susp. Ampiclox 125mg/5ml",
         "0Bottle"
        ],
        [
         "Susp. Co-trimoxazole 240mg/5ml",
         "0Bottle"
        ],
        [
         "Syp Multivite",
         "0Bottle"
        ],
        [
         "syr Cough Syrup (A) 100ml",
         "0Bottle"
        ],
        [
         "syr Cough Syrup (P) 100ml",
         "0Bottle"
        ],
        [
         "syr Ferric amonium citrate 400mg/5ml",
         "0Bottle"
        ],
        [
         "Syrup Paracetamol 125mg/5ml",
         "0Bottle"
        ],
        [
         "susp. Ampiclox 125mg/5ml",
         "0Bottle"
        ],
        [
         "syr Ferric amonium citrate 400mg/5ml",
         "0Bottle"
        ],
        [
         "syr Vitamin B complex",
         "0Bottle"
        ],
        [
         "Syp Multivite",
         "0Bottle"
        ],
        [
         "syr Cough Syrup (P) 100ml",
         "0Bottle"
        ],
        [
         "syr Vitamin B complex",
         "0Bottle"
        ],
        [
         "Syrup Paracetamol 125mg/5ml",
         "0Bottle"
        ],
        [
         "Susp Cefixime 125mg/5ml",
         "0Bottle"
        ],
        [
         "Syr Broncholyte",
         "0Bottle"
        ],
        [
         "Susp Ibuprofen",
         "0Bottle"
        ],
        [
         "susp Magnessium Trisilicate 200ml",
         "0Bottle"
        ],
        [
         "susp Metronidazole 100mg/5ml",
         "0Bottle"
        ],
        [
         "Syp Ascorbic acid",
         "0Bottle"
        ],
        [
         "Syrup Paracetamol 125mg/5ml",
         "0Bottle"
        ],
        [
         "susp Magnessium Trisilicate 200ml",
         "0Bottle"
        ],
        [
         "Susp. Erythromycin 125mg/5ml",
         "0Bottle"
        ],
        [
         "Syrup Paracetamol 125mg/5ml",
         "0Bottle"
        ],
        [
         "susp Magnessium Trisilicate 200ml",
         "0Bottle"
        ],
        [
         "Susp. Co-trimoxazole 240mg/5ml",
         "0Bottle"
        ],
        [
         "syr Cough Syrup (A) 100ml",
         "0Bottle"
        ],
        [
         "susp Magnessium Trisilicate 200ml",
         "0Bottle"
        ],
        [
         "Susp. Amoxicillin 125mg/5ml",
         "0Bottle"
        ],
        [
         "susp. Ampiclox 125mg/5ml",
         "0Bottle"
        ],
        [
         "Syr Albendazole 100mg/5ml",
         "0Bottle"
        ],
        [
         "syr Cough Syrup (P) 100ml",
         "0Bottle"
        ],
        [
         "syr Vitamin B complex",
         "0Bottle"
        ],
        [
         "Syrup Paracetamol 125mg/5ml",
         "0Bottle"
        ],
        [
         "syr Cough Syrup (A) 100ml",
         "0Bottle"
        ],
        [
         "syr Cough Syrup (P) 100ml",
         "0Bottle"
        ],
        [
         "syr Vitamin B complex",
         "0Bottle"
        ],
        [
         "Syrup Paracetamol 125mg/5ml",
         "0Bottle"
        ],
        [
         "susp Metronidazole 100mg/5ml",
         "0Bottle"
        ],
        [
         "Susp. Amoxicillin 125mg/5ml",
         "0Bottle"
        ],
        [
         "syr Cough Syrup (A) 100ml",
         "0Bottle"
        ],
        [
         "syr Cough Syrup (P) 100ml",
         "0Bottle"
        ],
        [
         "syr Vitamin B complex",
         "0Bottle"
        ],
        [
         "Syrup Paracetamol 125mg/5ml",
         "0Bottle"
        ],
        [
         "susp Metronidazole 100mg/5ml",
         "0Bottle"
        ],
        [
         "syr Cough Syrup (A) 100ml",
         "0Bottle"
        ],
        [
         "syr Cough Syrup (P) 100ml",
         "0Bottle"
        ],
        [
         "Syrup Paracetamol 125mg/5ml",
         "0Bottle"
        ],
        [
         "susp Metronidazole 100mg/5ml",
         "0Bottle"
        ],
        [
         "susp. Ampiclox 125mg/5ml",
         "0Bottle"
        ],
        [
         "Susp. Co-trimoxazole 240mg/5ml",
         "0Bottle"
        ],
        [
         "Syp Multivite",
         "0Bottle"
        ],
        [
         "Syr Albendazole 100mg/5ml",
         "0Bottle"
        ],
        [
         "syr Cough Syrup (A) 100ml",
         "0Bottle"
        ],
        [
         "syr Cough Syrup (P) 100ml",
         "0Bottle"
        ],
        [
         "syr Vitamin B complex",
         "0Bottle"
        ],
        [
         "Syrup Paracetamol 125mg/5ml",
         "0Bottle"
        ],
        [
         "susp Metronidazole 100mg/5ml",
         "0Bottle"
        ],
        [
         "Syp Ascorbic acid / Tabs B Complex",
         "0Bottle"
        ],
        [
         "syr Cough Syrup (A) 100ml",
         "0Bottle"
        ],
        [
         "syr Cough Syrup (P) 100ml",
         "0Bottle"
        ],
        [
         "Syrup Paracetamol 125mg/5ml",
         "0Bottle"
        ],
        [
         "susp Magnessium Trisilicate 200ml",
         "0Bottle"
        ],
        [
         "susp. Ampiclox 125mg/5ml",
         "0Bottle"
        ],
        [
         "Susp. Co-trimoxazole 240mg/5ml",
         "0Bottle"
        ],
        [
         "Syp Ascorbic acid",
         "0Bottle"
        ],
        [
         "Syp Multivite",
         "0Bottle"
        ],
        [
         "Syr Albendazole 100mg/5ml",
         "0Bottle"
        ],
        [
         "syr Cough Syrup (A) 100ml",
         "0Bottle"
        ],
        [
         "syr Cough Syrup (P) 100ml",
         "0Bottle"
        ],
        [
         "syr Vitamin B complex",
         "0Bottle"
        ],
        [
         "Syrup Paracetamol 125mg/5ml",
         "0Bottle"
        ],
        [
         "susp Metronidazole 100mg/5ml",
         "0Bottle"
        ],
        [
         "Susp. Co-trimoxazole 240mg/5ml",
         "0Bottle"
        ],
        [
         "Syp Ascorbic acid",
         "0Bottle"
        ],
        [
         "Syp Multivite",
         "0Bottle"
        ],
        [
         "syr Cough Syrup (A) 100ml",
         "0Bottle"
        ],
        [
         "syr Cough Syrup (P) 100ml",
         "0Bottle"
        ],
        [
         "Syrup Paracetamol 125mg/5ml",
         "0Bottle"
        ],
        [
         "susp Metronidazole 100mg/5ml",
         "0Bottle"
        ],
        [
         "susp. Ampiclox 125mg/5ml",
         "0Bottle"
        ],
        [
         "Susp. Co-trimoxazole 240mg/5ml",
         "0Bottle"
        ],
        [
         "Syp Multivite",
         "0Bottle"
        ],
        [
         "Syr Albendazole 100mg/5ml",
         "0Bottle"
        ],
        [
         "syr Cough Syrup (A) 100ml",
         "0Bottle"
        ],
        [
         "syr Cough Syrup (P) 100ml",
         "0Bottle"
        ],
        [
         "syr Vitamin B complex",
         "0Bottle"
        ],
        [
         "Syrup Paracetamol 125mg/5ml",
         "0Bottle"
        ],
        [
         "susp Metronidazole 100mg/5ml",
         "0Bottle"
        ],
        [
         "susp. Ampiclox 125mg/5ml",
         "0Bottle"
        ],
        [
         "Susp. Co-trimoxazole 240mg/5ml",
         "0Bottle"
        ],
        [
         "Syp Ascorbic acid",
         "0Bottle"
        ],
        [
         "Syp Multivite",
         "0Bottle"
        ],
        [
         "Syr Albendazole 100mg/5ml",
         "0Bottle"
        ],
        [
         "syr Cough Syrup (A) 100ml",
         "0Bottle"
        ],
        [
         "syr Cough Syrup (P) 100ml",
         "0Bottle"
        ],
        [
         "syr Vitamin B complex",
         "0Bottle"
        ],
        [
         "susp Metronidazole 100mg/5ml",
         "0Bottle"
        ],
        [
         "susp Magnessium Trisilicate 200ml",
         "0Bottle"
        ],
        [
         "susp Metronidazole 100mg/5ml",
         "0Bottle"
        ],
        [
         "Syp Ascorbic acid",
         "0Bottle"
        ],
        [
         "Syrup Paracetamol 125mg/5ml",
         "0Bottle"
        ],
        [
         "Gutt/Ear Gentamycin 0.05",
         "2Tube"
        ],
        [
         "susp Metronidazole 100mg/5ml",
         "100Bottle"
        ],
        [
         "Susp. Co-trimoxazole 240mg/5ml",
         "100Bottle"
        ],
        [
         "syr Cough Syrup (A) 100ml",
         "110Bottle"
        ],
        [
         "Cotton Wool 100g",
         "1.2Pcs"
        ],
        [
         "Disposable gloves",
         "0.8Pairs"
        ],
        [
         "I.V Ciprofloxacin",
         "63Vial"
        ],
        [
         "5% Dextrose saline 1000ml",
         "44Pcs"
        ],
        [
         "5% Dextrose saline 500ml",
         "73Pcs"
        ],
        [
         "0.9% Normal saline 500ml",
         "51Pcs"
        ],
        [
         "Inj Amoxicillin 500mg",
         "54vials"
        ],
        [
         "Inj Aminophyline",
         "6Amp"
        ],
        [
         "Inj Paraldehyde",
         "4Amp"
        ],
        [
         "Inj Anti Snake Venom",
         "2Vial"
        ],
        [
         "Inj Metoclopramide",
         "48Amp"
        ],
        [
         "Inj Vitamin K",
         "10Amp"
        ],
        [
         "Inj Diazepam 10mg/ml",
         "4Amp"
        ],
        [
         "susp Magnessium Trisilicate 200ml",
         "23Bottle"
        ],
        [
         "susp Metronidazole 100mg/5ml",
         "9Bottle"
        ],
        [
         "Susp. Co-trimoxazole 240mg/5ml",
         "12Bottle"
        ],
        [
         "Syp Ascorbic acid",
         "13Bottle"
        ],
        [
         "Syp Multivite",
         "11Bottle"
        ],
        [
         "syr Cough Syrup (P) 100ml",
         "27Bottle"
        ],
        [
         "syr Vitamin B complex",
         "7Bottle"
        ],
        [
         "Urine Bag",
         "3Pcs"
        ],
        [
         "Catheter 18",
         "5Pcs"
        ],
        [
         "Chromic 2/0",
         "0.4pack"
        ],
        [
         "Potassium Citrate Mixture",
         "5Bottle"
        ],
        [
         "Syrup Paracetamol 125mg/5ml",
         "67Bottle"
        ],
        [
         "Gutt/Ear Gentamycin 0.05",
         "6Tube"
        ],
        [
         "5% Dextrose saline 1000ml",
         "50Pcs"
        ],
        [
         "inj Benzylpenicillin 1mu",
         "5Vial"
        ],
        [
         "Syp Multivite",
         "30Bottle"
        ],
        [
         "syr Cough Syrup (A) 100ml",
         "60Bottle"
        ],
        [
         "syr Cough Syrup (P) 100ml",
         "60Bottle"
        ],
        [
         "syr Vitamin B complex",
         "50Bottle"
        ],
        [
         "Infusion Sets 23g",
         "50Pcs"
        ],
        [
         "inj Benzylpenicillin 1mu",
         "50Vial"
        ],
        [
         "Syp Ascorbic acid",
         "10Bottle"
        ],
        [
         "syr Cough Syrup (P) 100ml",
         "10Bottle"
        ],
        [
         "Syrup Paracetamol 125mg/5ml",
         "40Bottle"
        ],
        [
         "Cotton Wool 100g",
         "1Pcs"
        ],
        [
         "Gutt/Ear Gentamycin 0.05",
         "10Tube"
        ],
        [
         "inj Benzylpenicillin 1mu",
         "20Vial"
        ],
        [
         "Methylated spirit 100ml",
         "24Bottle"
        ],
        [
         "susp Metronidazole 100mg/5ml",
         "20Bottle"
        ],
        [
         "Susp. Co-trimoxazole 240mg/5ml",
         "100Bottle"
        ],
        [
         "Syp Ascorbic acid",
         "10Bottle"
        ],
        [
         "Syp Multivite",
         "30Bottle"
        ],
        [
         "Syr Albendazole 100mg/5ml",
         "10Bottle"
        ],
        [
         "syr Cough Syrup (A) 100ml",
         "60Bottle"
        ],
        [
         "syr Cough Syrup (P) 100ml",
         "60Bottle"
        ],
        [
         "syr Ferric amonium citrate 400mg/5ml",
         "20Bottle"
        ],
        [
         "syr Vitamin B complex",
         "50Bottle"
        ],
        [
         "Syrup Paracetamol 125mg/5ml",
         "50Bottle"
        ],
        [
         "Syp Ascorbic acid",
         "3Bottle"
        ],
        [
         "Cotton Wool 100g",
         "3Pcs"
        ],
        [
         "Cotton Wool 100g",
         "1Pcs"
        ],
        [
         "Gutt/Ear Gentamycin 0.05",
         "10Tube"
        ],
        [
         "5% Dextrose saline 1000ml",
         "100Pcs"
        ],
        [
         "inj Benzylpenicillin 1mu",
         "20Vial"
        ],
        [
         "Methylated spirit 100ml",
         "20Bottle"
        ],
        [
         "Susp. Co-trimoxazole 240mg/5ml",
         "100Bottle"
        ],
        [
         "Syp Ascorbic acid",
         "10Bottle"
        ],
        [
         "Syp Multivite",
         "30Bottle"
        ],
        [
         "Syr Albendazole 100mg/5ml",
         "10Bottle"
        ],
        [
         "syr Cough Syrup (P) 100ml",
         "60Bottle"
        ],
        [
         "syr Ferric amonium citrate 400mg/5ml",
         "20Bottle"
        ],
        [
         "syr Vitamin B complex",
         "50Bottle"
        ],
        [
         "Syrup Paracetamol 125mg/5ml",
         "50Bottle"
        ],
        [
         "Gutt/Ear Gentamycin 0.05",
         "5Tube"
        ],
        [
         "Infusion Sets 23g",
         "50Pcs"
        ],
        [
         "inj Tetanus Toxoid 0.5ml",
         "50Amp"
        ],
        [
         "lotion Benzylbenzoate lotion",
         "5Bottle"
        ],
        [
         "susp Metronidazole 100mg/5ml",
         "50Bottle"
        ],
        [
         "susp. Ampiclox 125mg/5ml",
         "30Bottle"
        ],
        [
         "Susp. Co-trimoxazole 240mg/5ml",
         "50Bottle"
        ],
        [
         "Syr Albendazole 100mg/5ml",
         "10Bottle"
        ],
        [
         "Infusion Sets 23g",
         "20Pcs"
        ],
        [
         "inj Hydrocortisone 100mg",
         "10Vial"
        ],
        [
         "10% Mannitol",
         "26Pcs"
        ],
        [
         "Darrows solution full strength 500ml",
         "48Pcs"
        ],
        [
         "4.3% Dextrose Saline 500ml",
         "87Pcs"
        ],
        [
         "5% Dextrose water 1000ml",
         "13Pcs"
        ],
        [
         "50% Dextrose Water",
         "23Pcs"
        ],
        [
         "inj Benzylpenicillin 1mu",
         "96Vial"
        ],
        [
         "Inj Magnesium Sulphate",
         "7Amp"
        ],
        [
         "Inj Vitamin B Co",
         "16Vial"
        ],
        [
         "Inj Quinine",
         "59Amp"
        ],
        [
         "Inj Hydrallazine",
         "17Amp"
        ],
        [
         "inj Gentamicin 80mg",
         "94Amp"
        ],
        [
         "Clotrimazole Cream",
         "6Tube"
        ],
        [
         "Nylon 2",
         "0.3pkt"
        ],
        [
         "Nylon 2/0",
         "0.3pack"
        ],
        [
         "Infusion Sets 23g",
         "35Pcs"
        ],
        [
         "I.V Metronidazole 200mg",
         "6Pcs"
        ],
        [
         "5% Dextrose saline 1000ml",
         "10Pcs"
        ],
        [
         "0.9% Normal saline 1000ml",
         "12Pcs"
        ],
        [
         "Disposable gloves",
         "3Pairs"
        ],
        [
         "Cotton Wool 100g",
         "3Pcs"
        ],
        [
         "5% Dextrose water 500ml",
         "40Pcs"
        ],
        [
         "Infusion Sets 23g",
         "120Pcs"
        ],
        [
         "inj Hydrocortisone 100mg",
         "8Vial"
        ],
        [
         "Infusion Sets 23g",
         "30Pcs"
        ],
        [
         "5% Dextrose saline 1000ml",
         "29Pcs"
        ],
        [
         "Infusion Sets 23g",
         "62Pcs"
        ],
        [
         "inj Benzylpenicillin 1mu",
         "68Vial"
        ],
        [
         "Cotton Wool 100g",
         "2Pcs"
        ],
        [
         "0.9% Normal saline 1000ml",
         "14Pcs"
        ],
        [
         "Infusion Sets 23g",
         "30Pcs"
        ],
        [
         "Gutt/Ear Gentamycin 0.05",
         "5Tube"
        ],
        [
         "0.9% Normal saline 1000ml",
         "10Pcs"
        ],
        [
         "Infusion Sets 23g",
         "50Pcs"
        ],
        [
         "inj Anti tetanus Serum (ATS) 1500i.u",
         "10Amp"
        ],
        [
         "inj Tetanus Toxoid 0.5ml",
         "50Amp"
        ],
        [
         "Gutt/Ear Gentamycin 0.05",
         "5Tube"
        ],
        [
         "Infusion Sets 23g",
         "50Pcs"
        ],
        [
         "inj Anti tetanus Serum (ATS) 1500i.u",
         "10Amp"
        ],
        [
         "inj Tetanus Toxoid 0.5ml",
         "50Amp"
        ],
        [
         "inj Anti tetanus Serum (ATS) 1500i.u",
         "8Amp"
        ],
        [
         "5% Dextrose saline 1000ml",
         "20Pcs"
        ],
        [
         "5% Dextrose water 500ml",
         "30Pcs"
        ],
        [
         "Infusion Sets 23g",
         "60Pcs"
        ],
        [
         "inj Benzylpenicillin 1mu",
         "30Vial"
        ],
        [
         "0.9% Normal saline 1000ml",
         "3Pcs"
        ],
        [
         "Infusion Sets 23g",
         "20Pcs"
        ],
        [
         "inj Tetanus Toxoid 0.5ml",
         "37Amp"
        ],
        [
         "Infusion Sets 23g",
         "40Pcs"
        ],
        [
         "Infusion Sets 23g",
         "100Pcs"
        ],
        [
         "inj Benzylpenicillin 1mu",
         "90Vial"
        ],
        [
         "Infusion Sets 23g",
         "50Pcs"
        ],
        [
         "Infusion Sets 23g",
         "50Pcs"
        ],
        [
         "0.9% Normal saline 1000ml",
         "5Pcs"
        ],
        [
         "inj Anti tetanus Serum (ATS) 1500i.u",
         "7Amp"
        ],
        [
         "inj Tetanus Toxoid 0.5ml",
         "43Amp"
        ],
        [
         "inj Tetanus Toxoid 0.5ml",
         "40Amp"
        ],
        [
         "Cotton Wool 100g",
         "3Pcs"
        ],
        [
         "Infusion Sets 23g",
         "65Pcs"
        ],
        [
         "inj Benzylpenicillin 1mu",
         "55Vial"
        ],
        [
         "inj Tetanus Toxoid 0.5ml",
         "8Amp"
        ],
        [
         "Gutt/Ear Gentamycin 0.05",
         "5Tube"
        ],
        [
         "Infusion Sets 23g",
         "40Pcs"
        ],
        [
         "inj Benzylpenicillin 1mu",
         "98Vial"
        ],
        [
         "Cotton Wool 100g",
         "3Pcs"
        ],
        [
         "5% Dextrose saline 500mls",
         "26Pcs"
        ],
        [
         "0.9% Normal saline 500mls",
         "31Pcs"
        ],
        [
         "Infusion Sets 23g",
         "65Pcs"
        ],
        [
         "inj Benzylpenicillin 1mu",
         "55Vial"
        ],
        [
         "5% Dextrose water 500ml",
         "32Pcs"
        ],
        [
         "0.9% Normal saline 1000ml",
         "39Pcs"
        ],
        [
         "Infusion Sets 23g",
         "62Pcs"
        ],
        [
         "inj Benzylpenicillin 1mu",
         "68Vial"
        ],
        [
         "inj Anti tetanus Serum (ATS) 1500i.u",
         "3Amp"
        ],
        [
         "5% Dextrose water 500ml",
         "10Pcs"
        ],
        [
         "0.9% Normal saline 1000ml",
         "22Pcs"
        ],
        [
         "Infusion Sets 23g",
         "40Pcs"
        ],
        [
         "Buttefly Needle",
         "120Pcs"
        ],
        [
         "Disposable gloves",
         "70Pairs"
        ],
        [
         "Infusion Sets 23g",
         "35Pcs"
        ],
        [
         "Gutt/Ear Gentamycin 0.05",
         "8Tube"
        ],
        [
         "5% Dextrose water 500ml",
         "50Pcs"
        ],
        [
         "0.9% Normal saline 1000ml",
         "20Pcs"
        ],
        [
         "inj Benzylpenicillin 1mu",
         "70Vial"
        ],
        [
         "Chlorhexidine Gel",
         "8Tube"
        ],
        [
         "5% Dextrose water 500ml",
         "72Pcs"
        ],
        [
         "inj Hydrocortisone 100mg",
         "8Vial"
        ],
        [
         "susp Metronidazole 100mg/5ml",
         "30Bottle"
        ],
        [
         "susp Metronidazole 100mg/5ml",
         "40Bottle"
        ],
        [
         "susp. Ampiclox 125mg/5ml",
         "20Bottle"
        ],
        [
         "Susp. Co-trimoxazole 240mg/5ml",
         "37Bottle"
        ],
        [
         "Syp Multivite",
         "35Bottle"
        ],
        [
         "syr Cough Syrup (A) 100ml",
         "33Bottle"
        ],
        [
         "syr Cough Syrup (P) 100ml",
         "30Bottle"
        ],
        [
         "Syp Ascorbic acid",
         "110Bottle"
        ],
        [
         "Susp. Erythromycin 125mg/5ml",
         "17Bottle"
        ],
        [
         "Syr Albendazole 100mg/5ml",
         "17Bottle"
        ],
        [
         "syr Cough Syrup (A) 100ml",
         "23Bottle"
        ],
        [
         "Drop Ampiclox",
         "3Bottle"
        ],
        [
         "susp Cephalexin 125mg/5ml",
         "5Bottle"
        ],
        [
         "Syr Paracetamol Drop",
         "8Bottle"
        ],
        [
         "Susp. Co-trimoxazole 240mg/5ml",
         "100Bottle"
        ],
        [
         "susp Metronidazole 100mg/5ml",
         "32Bottle"
        ],
        [
         "Susp. Co-trimoxazole 240mg/5ml",
         "27Bottle"
        ],
        [
         "Syp Multivite",
         "13Bottle"
        ],
        [
         "syr Cough Syrup (P) 100ml",
         "7Bottle"
        ],
        [
         "syr Vitamin B complex",
         "29Bottle"
        ],
        [
         "Susp. Amoxicillin 125mg/5ml",
         "60Bottle"
        ],
        [
         "Syp Ascorbic acid",
         "35Bottle"
        ],
        [
         "Syrup Paracetamol 125mg/5ml",
         "70Bottle"
        ],
        [
         "Susp. Amoxicillin 125mg/5ml",
         "10Bottle"
        ],
        [
         "Syp Ascorbic acid",
         "20Bottle"
        ],
        [
         "syr Cough Syrup (P) 100ml",
         "20Bottle"
        ],
        [
         "susp Metronidazole 100mg/5ml",
         "36Bottle"
        ],
        [
         "susp. Ampiclox 125mg/5ml",
         "6Bottle"
        ],
        [
         "Susp. Co-trimoxazole 240mg/5ml",
         "16Bottle"
        ],
        [
         "Syp Multivite",
         "26Bottle"
        ],
        [
         "syr Cough Syrup (A) 100ml",
         "28Bottle"
        ],
        [
         "syr Cough Syrup (P) 100ml",
         "28Bottle"
        ],
        [
         "syr Vitamin B complex",
         "14Bottle"
        ],
        [
         "syr Cough Syrup (P) 100ml",
         "8Bottle"
        ],
        [
         "lotion Benzylbenzoate lotion",
         "5Bottle"
        ],
        [
         "susp Metronidazole 100mg/5ml",
         "50Bottle"
        ],
        [
         "susp. Ampiclox 125mg/5ml",
         "30Bottle"
        ],
        [
         "Susp. Co-trimoxazole 240mg/5ml",
         "50Bottle"
        ],
        [
         "Syp Multivite",
         "40Bottle"
        ],
        [
         "Syr Albendazole 100mg/5ml",
         "10Bottle"
        ],
        [
         "syr Cough Syrup (A) 100ml",
         "40Bottle"
        ],
        [
         "syr Cough Syrup (P) 100ml",
         "40Bottle"
        ],
        [
         "syr Vitamin B complex",
         "30Bottle"
        ],
        [
         "Syrup Paracetamol 125mg/5ml",
         "100Bottle"
        ],
        [
         "lotion Benzylbenzoate lotion",
         "4Bottle"
        ],
        [
         "susp Metronidazole 100mg/5ml",
         "50Bottle"
        ],
        [
         "susp. Ampiclox 125mg/5ml",
         "30Bottle"
        ],
        [
         "Susp. Co-trimoxazole 240mg/5ml",
         "50Bottle"
        ],
        [
         "Syp Multivite",
         "40Bottle"
        ],
        [
         "Syr Albendazole 100mg/5ml",
         "10Bottle"
        ],
        [
         "syr Cough Syrup (A) 100ml",
         "40Bottle"
        ],
        [
         "syr Cough Syrup (P) 100ml",
         "40Bottle"
        ],
        [
         "syr Vitamin B complex",
         "30Bottle"
        ],
        [
         "Syrup Paracetamol 125mg/5ml",
         "100Bottle"
        ],
        [
         "Syp Multivite",
         "34Bottle"
        ],
        [
         "syr Cough Syrup (A) 100ml",
         "37Bottle"
        ],
        [
         "susp Metronidazole 100mg/5ml",
         "5Bottle"
        ],
        [
         "Syp Ascorbic acid",
         "2Bottle"
        ],
        [
         "syr Cough Syrup (A) 100ml",
         "4Bottle"
        ],
        [
         "syr Cough Syrup (P) 100ml",
         "14Bottle"
        ],
        [
         "syr Vitamin B complex",
         "5Bottle"
        ],
        [
         "syr Cough Syrup (A) 100ml",
         "13Bottle"
        ],
        [
         "susp Metronidazole 100mg/5ml",
         "30Bottle"
        ],
        [
         "susp. Ampiclox 125mg/5ml",
         "17Bottle"
        ],
        [
         "Susp. Co-trimoxazole 240mg/5ml",
         "36Bottle"
        ],
        [
         "syr Cough Syrup (A) 100ml",
         "26Bottle"
        ],
        [
         "syr Vitamin B complex",
         "15Bottle"
        ],
        [
         "Syrup Paracetamol 125mg/5ml",
         "64Bottle"
        ],
        [
         "susp Metronidazole 100mg/5ml",
         "40Bottle"
        ],
        [
         "Susp. Co-trimoxazole 240mg/5ml",
         "40Bottle"
        ],
        [
         "Syp Multivite",
         "20Bottle"
        ],
        [
         "Syr Albendazole 100mg/5ml",
         "8Bottle"
        ],
        [
         "syr Cough Syrup (P) 100ml",
         "30Bottle"
        ],
        [
         "Syrup Paracetamol 125mg/5ml",
         "50Bottle"
        ],
        [
         "susp Metronidazole 100mg/5ml",
         "10Bottle"
        ],
        [
         "syr Cough Syrup (P) 100ml",
         "9Bottle"
        ],
        [
         "susp Metronidazole 100mg/5ml",
         "41Bottle"
        ],
        [
         "susp. Ampiclox 125mg/5ml",
         "24Bottle"
        ],
        [
         "Susp. Co-trimoxazole 240mg/5ml",
         "40Bottle"
        ],
        [
         "Syp Multivite",
         "32Bottle"
        ],
        [
         "syr Cough Syrup (A) 100ml",
         "30Bottle"
        ],
        [
         "syr Cough Syrup (P) 100ml",
         "30Bottle"
        ],
        [
         "syr Vitamin B complex",
         "20Bottle"
        ],
        [
         "Syrup Paracetamol 125mg/5ml",
         "80Bottle"
        ],
        [
         "susp. Ampiclox 125mg/5ml",
         "25Bottle"
        ],
        [
         "Syrup Paracetamol 125mg/5ml",
         "70Bottle"
        ],
        [
         "Syrup Paracetamol 125mg/5ml",
         "20Bottle"
        ],
        [
         "susp Metronidazole 100mg/5ml",
         "40Bottle"
        ],
        [
         "susp. Ampiclox 125mg/5ml",
         "20Bottle"
        ],
        [
         "Susp. Co-trimoxazole 240mg/5ml",
         "40Bottle"
        ],
        [
         "Syrup Paracetamol 125mg/5ml",
         "60Bottle"
        ],
        [
         "lotion Benzylbenzoate lotion",
         "5Bottle"
        ],
        [
         "susp Metronidazole 100mg/5ml",
         "50Bottle"
        ],
        [
         "susp. Ampiclox 125mg/5ml",
         "30Bottle"
        ],
        [
         "Susp. Co-trimoxazole 240mg/5ml",
         "50Bottle"
        ],
        [
         "Syp Multivite",
         "40Bottle"
        ],
        [
         "Syr Albendazole 100mg/5ml",
         "10Bottle"
        ],
        [
         "syr Cough Syrup (P) 100ml",
         "40Bottle"
        ],
        [
         "Syrup Paracetamol 125mg/5ml",
         "100Bottle"
        ],
        [
         "susp Metronidazole 100mg/5ml",
         "10Bottle"
        ],
        [
         "syr Cough Syrup (A) 100ml",
         "5Bottle"
        ],
        [
         "syr Cough Syrup (P) 100ml",
         "15Bottle"
        ],
        [
         "syr Vitamin B complex",
         "5Bottle"
        ],
        [
         "Syrup Paracetamol 125mg/5ml",
         "100Bottle"
        ],
        [
         "Syrup Paracetamol 125mg/5ml",
         "20Bottle"
        ],
        [
         "syr Cough Syrup (P) 100ml",
         "5Bottle"
        ],
        [
         "susp Metronidazole 100mg/5ml",
         "6Bottle"
        ],
        [
         "syr Cough Syrup (P) 100ml",
         "10Bottle"
        ],
        [
         "syr Vitamin B complex",
         "6Bottle"
        ],
        [
         "susp Metronidazole 100mg/5ml",
         "7Bottle"
        ],
        [
         "susp. Ampiclox 125mg/5ml",
         "8Bottle"
        ],
        [
         "Susp. Co-trimoxazole 240mg/5ml",
         "5Bottle"
        ],
        [
         "susp Metronidazole 100mg/5ml",
         "45Bottle"
        ],
        [
         "susp. Ampiclox 125mg/5ml",
         "20Bottle"
        ],
        [
         "Susp. Co-trimoxazole 240mg/5ml",
         "46Bottle"
        ],
        [
         "Syp Multivite",
         "33Bottle"
        ],
        [
         "Syr Albendazole 100mg/5ml",
         "8Bottle"
        ],
        [
         "syr Cough Syrup (A) 100ml",
         "36Bottle"
        ],
        [
         "syr Cough Syrup (P) 100ml",
         "36Bottle"
        ],
        [
         "syr Vitamin B complex",
         "27Bottle"
        ],
        [
         "Syrup Paracetamol 125mg/5ml",
         "80Bottle"
        ],
        [
         "Syp Ascorbic acid",
         "10Bottle"
        ],
        [
         "syr Cough Syrup (P) 100ml",
         "10Bottle"
        ],
        [
         "syr Vitamin B complex",
         "4Bottle"
        ],
        [
         "Syr Artemether/lumifantrine",
         "20Bottle"
        ],
        [
         "susp Metronidazole 100mg/5ml",
         "44Bottle"
        ],
        [
         "susp. Ampiclox 125mg/5ml",
         "23Bottle"
        ],
        [
         "Susp. Co-trimoxazole 240mg/5ml",
         "42Bottle"
        ],
        [
         "Syp Multivite",
         "40Bottle"
        ],
        [
         "syr Cough Syrup (A) 100ml",
         "36Bottle"
        ],
        [
         "syr Cough Syrup (P) 100ml",
         "38Bottle"
        ],
        [
         "Syrup Paracetamol 125mg/5ml",
         "90Bottle"
        ],
        [
         "susp Metronidazole 100mg/5ml",
         "150Bottle"
        ],
        [
         "Susp. Co-trimoxazole 240mg/5ml",
         "160Bottle"
        ],
        [
         "Syp Ascorbic acid",
         "150Bottle"
        ],
        [
         "syr Cough Syrup (A) 100ml",
         "150Bottle"
        ],
        [
         "susp Metronidazole 100mg/5ml",
         "34Bottle"
        ],
        [
         "Susp. Co-trimoxazole 240mg/5ml",
         "36Bottle"
        ],
        [
         "Syp Multivite",
         "17Bottle"
        ],
        [
         "Syr Albendazole 100mg/5ml",
         "2Bottle"
        ],
        [
         "syr Cough Syrup (P) 100ml",
         "17Bottle"
        ],
        [
         "syr Vitamin B complex",
         "30Bottle"
        ],
        [
         "Syrup Paracetamol 125mg/5ml",
         "34Bottle"
        ],
        [
         "Methylated spirit 100ml",
         "5Bottle"
        ],
        [
         "susp Magnessium Trisilicate 200ml",
         "20Bottle"
        ],
        [
         "Syrup Paracetamol 125mg/5ml",
         "40Bottle"
        ],
        [
         "Syp Ascorbic acid",
         "20Bottle"
        ],
        [
         "inj Anti tetanus Serum (ATS) 1500i.u",
         "1Amp"
        ],
        [
         "susp Metronidazole 100mg/5ml",
         "3Bottle"
        ],
        [
         "susp. Ampiclox 125mg/5ml",
         "4Bottle"
        ],
        [
         "Susp. Co-trimoxazole 240mg/5ml",
         "3Bottle"
        ],
        [
         "inj Anti tetanus Serum (ATS) 1500i.u",
         "2Amp"
        ],
        [
         "inj Anti tetanus Serum (ATS) 1500i.u",
         "10Amp"
        ],
        [
         "inj Tetanus Toxoid 0.5ml",
         "50Amp"
        ],
        [
         "Syp Multivite",
         "40Bottle"
        ],
        [
         "Disposable gloves",
         "30Pairs"
        ],
        [
         "10% Dextrose Water 500ml",
         "9Pcs"
        ],
        [
         "Ringers Lactate",
         "6Pcs"
        ],
        [
         "Inj Amoxy/clav 1.2",
         "7vials"
        ],
        [
         "inj Hydrocortisone 100mg",
         "7Vial"
        ],
        [
         "Inj Pentazocin",
         "16Amp"
        ],
        [
         "Inj Tramadol",
         "4Amp"
        ],
        [
         "Methylated spirit 100ml",
         "6Bottle"
        ],
        [
         "syr jawaron",
         "3Bottle"
        ],
        [
         "Blood Giving set",
         "8Pcs"
        ],
        [
         "Susp. Co-trimoxazole 240mg/5ml",
         "5Bottle"
        ],
        [
         "Syp Multivite",
         "18Bottle"
        ],
        [
         "syr Cough Syrup (A) 100ml",
         "7Bottle"
        ],
        [
         "syr Cough Syrup (P) 100ml",
         "7Bottle"
        ],
        [
         "syr Vitamin B complex",
         "8Bottle"
        ],
        [
         "susp Magnessium Trisilicate 200ml",
         "9Bottle"
        ],
        [
         "Syr Albendazole 100mg/5ml",
         "1Bottle"
        ],
        [
         "Syrup Paracetamol 125mg/5ml",
         "10Bottle"
        ],
        [
         "syr Cough Syrup (P) 100ml",
         "20Bottle"
        ],
        [
         "0.9% Normal saline 1000ml",
         "10Pcs"
        ],
        [
         "Susp. Erythromycin 125mg/5ml",
         "10Bottle"
        ],
        [
         "Darrows solution 1/2 strength 500ml",
         "10Pcs"
        ],
        [
         "susp Metronidazole 100mg/5ml",
         "2Bottle"
        ],
        [
         "syr Cough Syrup (A) 100ml",
         "5Bottle"
        ],
        [
         "syr Cough Syrup (A) 100ml",
         "2Bottle"
        ],
        [
         "Cotton Wool 100g",
         "1Pcs"
        ],
        [
         "Disposable gloves",
         "1Pairs"
        ],
        [
         "Syrup Paracetamol 125mg/5ml",
         "15Bottle"
        ],
        [
         "syr Vitamin B complex",
         "4Bottle"
        ],
        [
         "inj Hydrocortisone 100mg",
         "51Vial"
        ],
        [
         "susp. Ampiclox 125mg/5ml",
         "6Bottle"
        ],
        [
         "Susp. Amoxicillin 125mg/5ml",
         "9Bottle"
        ],
        [
         "syr Cough Syrup (A) 100ml",
         "2Bottle"
        ],
        [
         "syr Vitamin B complex",
         "5Bottle"
        ],
        [
         "inj Benzylpenicillin 1mu",
         "15Vial"
        ],
        [
         "Syrup Paracetamol 125mg/5ml",
         "10Bottle"
        ],
        [
         "5% Dextrose saline 500mls",
         "6Pcs"
        ],
        [
         "0.9% Normal saline 500mls",
         "11Pcs"
        ],
        [
         "inj Benzylpenicillin 1mu",
         "15Vial"
        ],
        [
         "Syrup Paracetamol 125mg/5ml",
         "10Bottle"
        ],
        [
         "Cotton Wool 100g",
         "1Pcs"
        ],
        [
         "Disposable gloves",
         "1Pairs"
        ],
        [
         "Gutt/Ear Gentamycin 0.05",
         "2Tube"
        ],
        [
         "inj Anti tetanus Serum (ATS) 1500i.u",
         "4Amp"
        ],
        [
         "lotion Benzylbenzoate lotion",
         "2Bottle"
        ],
        [
         "susp Metronidazole 100mg/5ml",
         "30Bottle"
        ],
        [
         "Susp. Co-trimoxazole 240mg/5ml",
         "40Bottle"
        ],
        [
         "Syp Multivite",
         "30Bottle"
        ],
        [
         "Syr Albendazole 100mg/5ml",
         "6Bottle"
        ],
        [
         "syr Cough Syrup (A) 100ml",
         "30Bottle"
        ],
        [
         "syr Cough Syrup (P) 100ml",
         "25Bottle"
        ],
        [
         "syr Vitamin B complex",
         "18Bottle"
        ],
        [
         "susp Metronidazole 100mg/5ml",
         "4Bottle"
        ],
        [
         "syr Cough Syrup (A) 100ml",
         "5Bottle"
        ],
        [
         "syr Cough Syrup (P) 100ml",
         "10Bottle"
        ],
        [
         "Susp. Amoxicillin 125mg/5ml",
         "9Bottle"
        ],
        [
         "susp Metronidazole 100mg/5ml",
         "4Bottle"
        ],
        [
         "syr Cough Syrup (A) 100ml",
         "5Bottle"
        ],
        [
         "syr Cough Syrup (P) 100ml",
         "10Bottle"
        ],
        [
         "susp Metronidazole 100mg/5ml",
         "2Bottle"
        ],
        [
         "Syrup Paracetamol 125mg/5ml",
         "5Bottle"
        ],
        [
         "Gutt/Ear Gentamycin 0.05",
         "1Tube"
        ],
        [
         "inj Tetanus Toxoid 0.5ml",
         "20Amp"
        ],
        [
         "lotion Benzylbenzoate lotion",
         "4Bottle"
        ],
        [
         "syr Cough Syrup (A) 100ml",
         "2Bottle"
        ],
        [
         "Syp Multivite",
         "110Bottle"
        ],
        [
         "syr Cough Syrup (P) 100ml",
         "140Bottle"
        ],
        [
         "lotion Benzylbenzoate lotion",
         "4Bottle"
        ],
        [
         "susp Metronidazole 100mg/5ml",
         "10Bottle"
        ],
        [
         "syr Cough Syrup (A) 100ml",
         "10Bottle"
        ],
        [
         "susp Magnessium Trisilicate 200ml",
         "12Bottle"
        ],
        [
         "Susp. Erythromycin 125mg/5ml",
         "5Bottle"
        ],
        [
         "syr Cough Syrup (P) 100ml",
         "10Bottle"
        ],
        [
         "Gutt/Ear Gentamycin 0.05",
         "3Tube"
        ],
        [
         "inj Tetanus Toxoid 0.5ml",
         "46Amp"
        ],
        [
         "susp Metronidazole 100mg/5ml",
         "35Bottle"
        ],
        [
         "Susp. Co-trimoxazole 240mg/5ml",
         "33Bottle"
        ],
        [
         "Syp Multivite",
         "13Bottle"
        ],
        [
         "Syr Albendazole 100mg/5ml",
         "7Bottle"
        ],
        [
         "syr Cough Syrup (A) 100ml",
         "33Bottle"
        ],
        [
         "syr Cough Syrup (P) 100ml",
         "23Bottle"
        ],
        [
         "syr Vitamin B complex",
         "16Bottle"
        ],
        [
         "Syrup Paracetamol 125mg/5ml",
         "32Bottle"
        ],
        [
         "Gutt/Ear Gentamycin 0.05",
         "5Tube"
        ],
        [
         "Infusion Sets 23g",
         "50Pcs"
        ],
        [
         "Susp. Co-trimoxazole 240mg/5ml",
         "45Bottle"
        ],
        [
         "Syr Albendazole 100mg/5ml",
         "10Bottle"
        ],
        [
         "Syrup Paracetamol 125mg/5ml",
         "3Bottle"
        ],
        [
         "Inj Chlorpromazine",
         "7Amp"
        ],
        [
         "Inj Cimetidine",
         "5Amp"
        ],
        [
         "Inj AntiRabies",
         "5Vial"
        ],
        [
         "Susp Cefuroxime",
         "10Bottle"
        ],
        [
         "Syr Ascorbic Acid drops",
         "7Bottle"
        ],
        [
         "Syr Chlorpheniramine",
         "3Bottle"
        ],
        [
         "Hydrogen Peroxide",
         "12Bottle"
        ],
        [
         "Susp. Co-trimoxazole 240mg/5ml",
         "30Bottle"
        ],
        [
         "inj Anti tetanus Serum (ATS) 1500i.u",
         "10Amp"
        ],
        [
         "inj Tetanus Toxoid 0.5ml",
         "50Amp"
        ],
        [
         "lotion Benzylbenzoate lotion",
         "4Bottle"
        ],
        [
         "syr Cough Syrup (A) 100ml",
         "40Bottle"
        ],
        [
         "5% Dextrose saline 1000ml",
         "20Pcs"
        ],
        [
         "Methylated spirit 100ml",
         "4Bottle"
        ],
        [
         "susp Magnessium Trisilicate 200ml",
         "15Bottle"
        ],
        [
         "Syrup Paracetamol 125mg/5ml",
         "30Bottle"
        ],
        [
         "Cotton Wool 100g",
         "2Pcs"
        ],
        [
         "Disposable gloves",
         "2Pairs"
        ],
        [
         "inj Anti tetanus Serum (ATS) 1500i.u",
         "100Amp"
        ],
        [
         "inj Tetanus Toxoid 0.5ml",
         "2Amp"
        ],
        [
         "Syr Albendazole 100mg/5ml",
         "6Bottle"
        ],
        [
         "Cotton Wool 100g",
         "2Pcs"
        ],
        [
         "Gutt/Ear Gentamycin 0.05",
         "5Tube"
        ],
        [
         "Infusion Sets 23g",
         "40Pcs"
        ],
        [
         "inj Tetanus Toxoid 0.5ml",
         "47Amp"
        ],
        [
         "susp Metronidazole 100mg/5ml",
         "45Bottle"
        ],
        [
         "susp. Ampiclox 125mg/5ml",
         "20Bottle"
        ],
        [
         "Susp. Co-trimoxazole 240mg/5ml",
         "46Bottle"
        ],
        [
         "Syr Albendazole 100mg/5ml",
         "8Bottle"
        ],
        [
         "syr Cough Syrup (P) 100ml",
         "26Bottle"
        ],
        [
         "syr Vitamin B complex",
         "27Bottle"
        ],
        [
         "Syrup Paracetamol 125mg/5ml",
         "80Bottle"
        ],
        [
         "Cotton Wool 100g",
         "2Pcs"
        ],
        [
         "Gutt/Ear Gentamycin 0.05",
         "3Tube"
        ],
        [
         "inj Anti tetanus Serum (ATS) 1500i.u",
         "6Amp"
        ],
        [
         "lotion Benzylbenzoate lotion",
         "3Bottle"
        ],
        [
         "Syp Multivite",
         "27Bottle"
        ],
        [
         "Syr Albendazole 100mg/5ml",
         "8Bottle"
        ],
        [
         "syr Cough Syrup (P) 100ml",
         "20Bottle"
        ],
        [
         "inj Anti tetanus Serum (ATS) 1500i.u",
         "10Amp"
        ],
        [
         "inj Tetanus Toxoid 0.5ml",
         "50Amp"
        ],
        [
         "lotion Benzylbenzoate lotion",
         "4Bottle"
        ],
        [
         "syr Cough Syrup (A) 100ml",
         "40Bottle"
        ],
        [
         "syr Vitamin B complex",
         "30Bottle"
        ],
        [
         "Cotton Wool 100g",
         "2Pcs"
        ],
        [
         "Cotton Wool 100g",
         "2Pcs"
        ],
        [
         "Disposable gloves",
         "2Pairs"
        ],
        [
         "Cotton Wool 100g",
         "2Pcs"
        ],
        [
         "Disposable gloves",
         "2Pairs"
        ],
        [
         "Syp Ascorbic acid / Tabs B Complex",
         "2000Bottle"
        ],
        [
         "Gutt/Ear Gentamycin 0.05",
         "3Tube"
        ],
        [
         "Infusion Sets 23g",
         "36Pcs"
        ],
        [
         "lotion Benzylbenzoate lotion",
         "3Bottle"
        ],
        [
         "Syr Albendazole 100mg/5ml",
         "8Bottle"
        ],
        [
         "Infusion Sets 23g",
         "34Pcs"
        ],
        [
         "Disposable gloves",
         "2Pairs"
        ],
        [
         "Gutt/Ear Gentamycin 0.05",
         "3Tube"
        ],
        [
         "Infusion Sets 23g",
         "10Pcs"
        ],
        [
         "inj Anti tetanus Serum (ATS) 1500i.u",
         "10Amp"
        ],
        [
         "Syp Multivite",
         "30Bottle"
        ],
        [
         "Syr Albendazole 100mg/5ml",
         "6Bottle"
        ],
        [
         "syr Cough Syrup (A) 100ml",
         "30Bottle"
        ],
        [
         "syr Cough Syrup (P) 100ml",
         "30Bottle"
        ],
        [
         "syr Vitamin B complex",
         "30Bottle"
        ],
        [
         "inj Anti tetanus Serum (ATS) 1500i.u",
         "10Amp"
        ],
        [
         "inj Tetanus Toxoid 0.5ml",
         "50Amp"
        ],
        [
         "syr Cough Syrup (A) 100ml",
         "40Bottle"
        ],
        [
         "syr Vitamin B complex",
         "30Bottle"
        ],
        [
         "Disposable gloves",
         "2Pairs"
        ],
        [
         "Syp Ascorbic acid / Tabs B Complex",
         "2000Bottle"
        ],
        [
         "Disposable gloves",
         "2Pairs"
        ],
        [
         "Gutt/Ear Gentamycin 0.05",
         "4Tube"
        ],
        [
         "inj Anti tetanus Serum (ATS) 1500i.u",
         "5Amp"
        ],
        [
         "inj Tetanus Toxoid 0.5ml",
         "46Amp"
        ],
        [
         "Cotton Wool 100g",
         "2Pcs"
        ],
        [
         "susp Metronidazole 100mg/5ml",
         "2Bottle"
        ],
        [
         "Inj Zalote,",
         "10Amp"
        ],
        [
         "inj Hydrocortisone 100mg",
         "10Vial"
        ],
        [
         "Infusion Sets 23g",
         "35Pcs"
        ],
        [
         "inj Anti tetanus Serum (ATS) 1500i.u",
         "10Amp"
        ],
        [
         "inj Tetanus Toxoid 0.5ml",
         "50Amp"
        ],
        [
         "syr Cough Syrup (A) 100ml",
         "40Bottle"
        ],
        [
         "Cotton Wool 100g",
         "3Pcs"
        ],
        [
         "5% Dextrose saline 1000ml",
         "20Pcs"
        ],
        [
         "Infusion Sets 23g",
         "100Pcs"
        ],
        [
         "Susp. Amoxicillin 125mg/5ml",
         "10Bottle"
        ],
        [
         "Susp. Erythromycin 125mg/5ml",
         "10Bottle"
        ],
        [
         "Syp Ascorbic acid",
         "20Bottle"
        ],
        [
         "syr Cough Syrup (P) 100ml",
         "20Bottle"
        ],
        [
         "syr Cough Syrup (A) 100ml",
         "10Bottle"
        ],
        [
         "Cotton Wool 100g",
         "1Pcs"
        ],
        [
         "Disposable gloves",
         "1Pairs"
        ]
       ],
       "datasetInfos": [],
       "dbfsResultPath": null,
       "isJsonSchema": true,
       "metadata": {},
       "overflow": false,
       "plotOptions": {
        "customPlotOptions": {},
        "displayType": "table",
        "pivotAggregation": null,
        "pivotColumns": null,
        "xColumns": null,
        "yColumns": null
       },
       "removedWidgets": [],
       "schema": [
        {
         "metadata": "{}",
         "name": "Description",
         "type": "\"string\""
        },
        {
         "metadata": "{}",
         "name": "Quantity",
         "type": "\"string\""
        }
       ],
       "type": "table"
      }
     },
     "output_type": "display_data"
    }
   ],
   "source": [
    "df = spark.read.format(\"com.crealytics.spark.excel\") \\\n",
    "    .option(\"inferSchema\", \"false\") \\\n",
    "    .option(\"header\", \"true\") \\\n",
    "    .option(\"dataAddress\", \"'Dirty 6'!A1\") \\\n",
    "    .load(\"/FileStore/tables/7__Medicine_Data_with_lumped_Quantity_and_Measure.xlsx\")\n",
    "\n",
    "display(df)"
   ]
  },
  {
   "cell_type": "code",
   "execution_count": 0,
   "metadata": {
    "application/vnd.databricks.v1+cell": {
     "cellMetadata": {
      "byteLimit": 2048000,
      "rowLimit": 10000
     },
     "inputWidgets": {},
     "nuid": "f6caad64-f3cb-4646-920b-8d68fcc1ca3c",
     "showTitle": false,
     "title": ""
    }
   },
   "outputs": [],
   "source": [
    "from pyspark.sql.functions import regexp_extract"
   ]
  },
  {
   "cell_type": "code",
   "execution_count": 0,
   "metadata": {
    "application/vnd.databricks.v1+cell": {
     "cellMetadata": {
      "byteLimit": 2048000,
      "rowLimit": 10000
     },
     "inputWidgets": {},
     "nuid": "334df025-6e5c-43f6-954c-6376f6e44da7",
     "showTitle": false,
     "title": ""
    }
   },
   "outputs": [],
   "source": [
    "df = df.withColumn(\"qty\", regexp_extract(\"Quantity\", r\"(\\d+)\", 0))"
   ]
  },
  {
   "cell_type": "code",
   "execution_count": 0,
   "metadata": {
    "application/vnd.databricks.v1+cell": {
     "cellMetadata": {
      "byteLimit": 2048000,
      "rowLimit": 10000
     },
     "inputWidgets": {},
     "nuid": "e9c1a870-a531-4357-8cb5-598093d95b93",
     "showTitle": false,
     "title": ""
    }
   },
   "outputs": [],
   "source": [
    "df = df.withColumn(\"units\", regexp_extract(\"Quantity\", r\"([a-zA-Z]+)\", 0))"
   ]
  },
  {
   "cell_type": "code",
   "execution_count": 0,
   "metadata": {
    "application/vnd.databricks.v1+cell": {
     "cellMetadata": {
      "byteLimit": 2048000,
      "rowLimit": 10000
     },
     "inputWidgets": {},
     "nuid": "43909564-3ab2-44ed-97d7-fced70f19872",
     "showTitle": false,
     "title": ""
    }
   },
   "outputs": [],
   "source": [
    "df = df.drop(\"Quantity\")"
   ]
  },
  {
   "cell_type": "code",
   "execution_count": 0,
   "metadata": {
    "application/vnd.databricks.v1+cell": {
     "cellMetadata": {
      "byteLimit": 2048000,
      "rowLimit": 10000
     },
     "inputWidgets": {},
     "nuid": "bb3b6a93-0189-4287-bbc6-703484c3c4a5",
     "showTitle": false,
     "title": ""
    }
   },
   "outputs": [
    {
     "output_type": "stream",
     "name": "stdout",
     "output_type": "stream",
     "text": [
      "+------------------------------------+---+------+\n|Description                         |qty|units |\n+------------------------------------+---+------+\n|lotion Benzylbenzoate lotion        |0  |Bottle|\n|Methylated spirit 100ml             |0  |Bottle|\n|susp Magnessium Trisilicate 200ml   |0  |Bottle|\n|Susp. Amoxicillin 125mg/5ml         |0  |Bottle|\n|Susp. Erythromycin 125mg/5ml        |0  |Bottle|\n|Syp Ascorbic acid                   |0  |Bottle|\n|Syp Multivite                       |0  |Bottle|\n|Syr Albendazole 100mg/5ml           |0  |Bottle|\n|syr Cough Syrup (A) 100ml           |0  |Bottle|\n|syr Cough Syrup (P) 100ml           |0  |Bottle|\n|syr Ferric amonium citrate 400mg/5ml|0  |Bottle|\n|syr Vitamin B complex               |0  |Bottle|\n|Syrup Paracetamol 125mg/5ml         |0  |Bottle|\n|lotion Benzylbenzoate lotion        |0  |Bottle|\n|Methylated spirit 100ml             |0  |Bottle|\n|susp Magnessium Trisilicate 200ml   |0  |Bottle|\n|susp Metronidazole 100mg/5ml        |0  |Bottle|\n|Susp. Amoxicillin 125mg/5ml         |0  |Bottle|\n|susp. Ampiclox 125mg/5ml            |0  |Bottle|\n|Susp. Co-trimoxazole 240mg/5ml      |0  |Bottle|\n+------------------------------------+---+------+\nonly showing top 20 rows\n\n"
     ]
    }
   ],
   "source": [
    "df.show(truncate=False)"
   ]
  },
  {
   "cell_type": "code",
   "execution_count": 0,
   "metadata": {
    "application/vnd.databricks.v1+cell": {
     "cellMetadata": {
      "byteLimit": 2048000,
      "rowLimit": 10000
     },
     "inputWidgets": {},
     "nuid": "64232bbe-7ebc-418e-be24-e38e40ce8db4",
     "showTitle": false,
     "title": ""
    }
   },
   "outputs": [],
   "source": []
  }
 ],
 "metadata": {
  "application/vnd.databricks.v1+notebook": {
   "dashboards": [],
   "environmentMetadata": null,
   "language": "python",
   "notebookMetadata": {
    "pythonIndentUnit": 4
   },
   "notebookName": "7__Medicine_Data_with_lumped_Quantity_and_Measure_cleaned_spark",
   "widgets": {}
  }
 },
 "nbformat": 4,
 "nbformat_minor": 0
}
