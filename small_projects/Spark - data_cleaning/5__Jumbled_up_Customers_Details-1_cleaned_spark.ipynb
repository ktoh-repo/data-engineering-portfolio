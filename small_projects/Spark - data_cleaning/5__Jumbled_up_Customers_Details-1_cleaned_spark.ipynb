{
 "cells": [
  {
   "cell_type": "code",
   "execution_count": 0,
   "metadata": {
    "application/vnd.databricks.v1+cell": {
     "cellMetadata": {
      "byteLimit": 2048000,
      "rowLimit": 10000
     },
     "inputWidgets": {},
     "nuid": "98f99d5a-3c55-4b87-85ca-360e4496636e",
     "showTitle": false,
     "title": ""
    }
   },
   "outputs": [],
   "source": [
    "from pyspark.sql import SparkSession\n",
    "\n",
    "spark = SparkSession.builder \\\n",
    "    .config('spark.jars.packages', 'com.crealytics:spark-excel_2.12:0.13.5') \\\n",
    "    .getOrCreate()"
   ]
  },
  {
   "cell_type": "code",
   "execution_count": 0,
   "metadata": {
    "application/vnd.databricks.v1+cell": {
     "cellMetadata": {
      "byteLimit": 2048000,
      "rowLimit": 10000
     },
     "inputWidgets": {},
     "nuid": "3efc1bbf-c8e0-438f-b496-8c226932da50",
     "showTitle": false,
     "title": ""
    }
   },
   "outputs": [
    {
     "output_type": "display_data",
     "data": {
      "text/html": [
       "<style scoped>\n",
       "  .table-result-container {\n",
       "    max-height: 300px;\n",
       "    overflow: auto;\n",
       "  }\n",
       "  table, th, td {\n",
       "    border: 1px solid black;\n",
       "    border-collapse: collapse;\n",
       "  }\n",
       "  th, td {\n",
       "    padding: 5px;\n",
       "  }\n",
       "  th {\n",
       "    text-align: left;\n",
       "  }\n",
       "</style><div class='table-result-container'><table class='table-result'><thead style='background-color: white'><tr><th>_c0</th></tr></thead><tbody><tr><td>Name Hussein Hakeem Address Number 22 Fioye Crescent Surulere Lagos Age 17 Gender Male</td></tr><tr><td>Name Arojoye Samuel Address 11 Omolade Close Omole Estate Lagos Age 16 Gender Male</td></tr><tr><td>Name Alex Ezurum Address 1 Adamu Lane, Abuja Age 14 Gender Male</td></tr><tr><td>Name Susan Nwaimo Address Number 58 Yaba Street, Kaduna State  Age 16 Gender Female</td></tr><tr><td>Name Ajao Opeyemi Address No12 Olubunmi Street, Abeokuta Age 18 Gender Female</td></tr><tr><td>Name Banjoko Adebusola Address 34 Ngige Street, Ugheli, Delta Age 14 Gender Female</td></tr><tr><td>Name Muhammed Olabisi Address 13, ICAN road, Enugu Age 12 Gender Female</td></tr><tr><td>Name Oluwagbemi Mojisola Address ACCA Lane, Onitsha Age 13 Gender Female</td></tr></tbody></table></div>"
      ]
     },
     "metadata": {
      "application/vnd.databricks.v1+output": {
       "addedWidgets": {},
       "aggData": [],
       "aggError": "",
       "aggOverflow": false,
       "aggSchema": [],
       "aggSeriesLimitReached": false,
       "aggType": "",
       "arguments": {},
       "columnCustomDisplayInfos": {},
       "data": [
        [
         "Name Hussein Hakeem Address Number 22 Fioye Crescent Surulere Lagos Age 17 Gender Male"
        ],
        [
         "Name Arojoye Samuel Address 11 Omolade Close Omole Estate Lagos Age 16 Gender Male"
        ],
        [
         "Name Alex Ezurum Address 1 Adamu Lane, Abuja Age 14 Gender Male"
        ],
        [
         "Name Susan Nwaimo Address Number 58 Yaba Street, Kaduna State  Age 16 Gender Female"
        ],
        [
         "Name Ajao Opeyemi Address No12 Olubunmi Street, Abeokuta Age 18 Gender Female"
        ],
        [
         "Name Banjoko Adebusola Address 34 Ngige Street, Ugheli, Delta Age 14 Gender Female"
        ],
        [
         "Name Muhammed Olabisi Address 13, ICAN road, Enugu Age 12 Gender Female"
        ],
        [
         "Name Oluwagbemi Mojisola Address ACCA Lane, Onitsha Age 13 Gender Female"
        ]
       ],
       "datasetInfos": [],
       "dbfsResultPath": null,
       "isJsonSchema": true,
       "metadata": {},
       "overflow": false,
       "plotOptions": {
        "customPlotOptions": {},
        "displayType": "table",
        "pivotAggregation": null,
        "pivotColumns": null,
        "xColumns": null,
        "yColumns": null
       },
       "removedWidgets": [],
       "schema": [
        {
         "metadata": "{}",
         "name": "_c0",
         "type": "\"string\""
        }
       ],
       "type": "table"
      }
     },
     "output_type": "display_data"
    }
   ],
   "source": [
    "df = spark.read.format(\"com.crealytics.spark.excel\") \\\n",
    "    .option(\"inferSchema\", \"true\") \\\n",
    "    .option(\"header\", \"false\") \\\n",
    "    .option(\"dataAddress\", \"'Dirty 5'!A1\") \\\n",
    "    .load(\"/FileStore/tables/5__Jumbled_up_Customers_Details-1.xlsx\")\n",
    "\n",
    "display(df)"
   ]
  },
  {
   "cell_type": "code",
   "execution_count": 0,
   "metadata": {
    "application/vnd.databricks.v1+cell": {
     "cellMetadata": {
      "byteLimit": 2048000,
      "rowLimit": 10000
     },
     "inputWidgets": {},
     "nuid": "8082cab5-2b62-47fd-812a-cd941f3bbc60",
     "showTitle": false,
     "title": ""
    }
   },
   "outputs": [],
   "source": [
    "from pyspark.sql.functions import split, expr, array_position, col, size"
   ]
  },
  {
   "cell_type": "code",
   "execution_count": 0,
   "metadata": {
    "application/vnd.databricks.v1+cell": {
     "cellMetadata": {
      "byteLimit": 2048000,
      "rowLimit": 10000
     },
     "inputWidgets": {},
     "nuid": "cb820d26-22c4-475d-9f4a-1bac09b62707",
     "showTitle": false,
     "title": ""
    }
   },
   "outputs": [],
   "source": [
    "splitted_df = df.withColumn(\"splitted_col\", split(df[\"_c0\"], \" \"))"
   ]
  },
  {
   "cell_type": "code",
   "execution_count": 0,
   "metadata": {
    "application/vnd.databricks.v1+cell": {
     "cellMetadata": {
      "byteLimit": 2048000,
      "rowLimit": 10000
     },
     "inputWidgets": {},
     "nuid": "ef0c3783-fee4-49cf-ab54-2e0899bff046",
     "showTitle": false,
     "title": ""
    }
   },
   "outputs": [],
   "source": [
    "splitted_df = splitted_df.drop('_c0')"
   ]
  },
  {
   "cell_type": "code",
   "execution_count": 0,
   "metadata": {
    "application/vnd.databricks.v1+cell": {
     "cellMetadata": {
      "byteLimit": 2048000,
      "rowLimit": 10000
     },
     "inputWidgets": {},
     "nuid": "330fe0bc-7165-4c67-b37b-965ad3beab76",
     "showTitle": false,
     "title": ""
    }
   },
   "outputs": [
    {
     "output_type": "stream",
     "name": "stdout",
     "output_type": "stream",
     "text": [
      "+--------------------+\n|        splitted_col|\n+--------------------+\n|[Name, Hussein, H...|\n|[Name, Arojoye, S...|\n|[Name, Alex, Ezur...|\n|[Name, Susan, Nwa...|\n|[Name, Ajao, Opey...|\n|[Name, Banjoko, A...|\n|[Name, Muhammed, ...|\n|[Name, Oluwagbemi...|\n+--------------------+\n\n"
     ]
    }
   ],
   "source": [
    "splitted_df.show()"
   ]
  },
  {
   "cell_type": "code",
   "execution_count": 0,
   "metadata": {
    "application/vnd.databricks.v1+cell": {
     "cellMetadata": {
      "byteLimit": 2048000,
      "rowLimit": 10000
     },
     "inputWidgets": {},
     "nuid": "7efc687e-beff-4783-81c5-c7d5741c5843",
     "showTitle": false,
     "title": ""
    }
   },
   "outputs": [],
   "source": [
    "import pyspark.sql.functions as F"
   ]
  },
  {
   "cell_type": "code",
   "execution_count": 0,
   "metadata": {
    "application/vnd.databricks.v1+cell": {
     "cellMetadata": {
      "byteLimit": 2048000,
      "rowLimit": 10000
     },
     "inputWidgets": {},
     "nuid": "9e19e36b-ebc7-4ec9-95d2-d8c0ec0619c2",
     "showTitle": false,
     "title": ""
    }
   },
   "outputs": [
    {
     "output_type": "stream",
     "name": "stdout",
     "output_type": "stream",
     "text": [
      "+-------------------+---------------------------------------+---+------+\n|name               |address                                |age|gender|\n+-------------------+---------------------------------------+---+------+\n|Hussein Hakeem     |Number 22 Fioye Crescent Surulere Lagos|17 |Male  |\n|Arojoye Samuel     |11 Omolade Close Omole Estate Lagos    |16 |Male  |\n|Alex Ezurum        |1 Adamu Lane, Abuja                    |14 |Male  |\n|Susan Nwaimo       |Number 58 Yaba Street, Kaduna State    |16 |Female|\n|Ajao Opeyemi       |No12 Olubunmi Street, Abeokuta         |18 |Female|\n|Banjoko Adebusola  |34 Ngige Street, Ugheli, Delta         |14 |Female|\n|Muhammed Olabisi   |13, ICAN road, Enugu                   |12 |Female|\n|Oluwagbemi Mojisola|ACCA Lane, Onitsha                     |13 |Female|\n+-------------------+---------------------------------------+---+------+\n\n"
     ]
    }
   ],
   "source": [
    "# df.select(\n",
    "#     array_position(df['splitted_col'], \"Age\")\n",
    "# ).show()\n",
    "\n",
    "# splitted_df.select(idx_address).show()\n",
    "\n",
    "idx_name = array_position(splitted_df[\"splitted_col\"], 'Name')\n",
    "idx_address = array_position(splitted_df[\"splitted_col\"], 'Address')\n",
    "idx_age = array_position(splitted_df[\"splitted_col\"], 'Age')\n",
    "idx_gender = array_position(splitted_df[\"splitted_col\"], 'Gender')\n",
    "\n",
    "# slice(column, start_index, length)\n",
    "splitted_df.select(\n",
    "    expr(\"concat_ws(' ', slice(splitted_col, array_position(splitted_col, 'Name') + 1, array_position(splitted_col, 'Address') - array_position(splitted_col, 'Name') - 1))\").alias(\"name\"), \n",
    "    \n",
    "    expr(\"concat_ws(' ', slice(splitted_col, array_position(splitted_col, 'Address') + 1, array_position(splitted_col, 'Age') - array_position(splitted_col, 'Address') - 1))\").alias(\"address\"),\n",
    "    \n",
    "    expr(\"concat_ws(' ', slice(splitted_col, array_position(splitted_col, 'Age') + 1, array_position(splitted_col, 'Gender') - array_position(splitted_col, 'Age') - 1))\").alias(\"age\"),\n",
    "    \n",
    "    col(\"splitted_col\")[size(col(\"splitted_col\")) -1 ].alias(\"gender\")\n",
    ").show(truncate=False)\n",
    "\n",
    "# test = splitted_df.select(\n",
    "#     expr(f\"slice(splitted_col, 1, 4)\").alias(\"name123\")\n",
    "# )\n",
    "# test.show()\n",
    "# splitted_df.select(\n",
    "#     # expr(\"slice(splitted_df, 1, 3)\").alias(\"test\")\n",
    "#     expr(f\"concat_ws(' ', slice(splitted_col, {idx_name} + 1, {idx_address} - {idx_name} - 1))\").alias(\"name1\")\n",
    "# ).show()"
   ]
  },
  {
   "cell_type": "code",
   "execution_count": 0,
   "metadata": {
    "application/vnd.databricks.v1+cell": {
     "cellMetadata": {},
     "inputWidgets": {},
     "nuid": "c6ab5ba4-1621-4fc2-805b-63d375b5c802",
     "showTitle": false,
     "title": ""
    }
   },
   "outputs": [],
   "source": []
  }
 ],
 "metadata": {
  "application/vnd.databricks.v1+notebook": {
   "dashboards": [],
   "environmentMetadata": null,
   "language": "python",
   "notebookMetadata": {
    "pythonIndentUnit": 4
   },
   "notebookName": "5__Jumbled_up_Customers_Details-1_cleaned_spark",
   "widgets": {}
  }
 },
 "nbformat": 4,
 "nbformat_minor": 0
}
