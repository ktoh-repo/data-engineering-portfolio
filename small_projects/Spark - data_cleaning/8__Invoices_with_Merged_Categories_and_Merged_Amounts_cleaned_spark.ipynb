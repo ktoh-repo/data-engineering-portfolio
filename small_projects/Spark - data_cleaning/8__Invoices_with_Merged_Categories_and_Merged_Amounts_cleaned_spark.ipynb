{
 "cells": [
  {
   "cell_type": "code",
   "execution_count": 0,
   "metadata": {
    "application/vnd.databricks.v1+cell": {
     "cellMetadata": {
      "byteLimit": 2048000,
      "rowLimit": 10000
     },
     "inputWidgets": {},
     "nuid": "effb08df-90b2-4736-8a63-f336a44ca280",
     "showTitle": false,
     "title": ""
    }
   },
   "outputs": [],
   "source": [
    "from pyspark.sql import SparkSession\n",
    "\n",
    "spark = SparkSession.builder \\\n",
    "    .config(\"spark.jars.packages\", \"com.crealytics:spark-excel_2.12-0.13.5\") \\\n",
    "    .getOrCreate()"
   ]
  },
  {
   "cell_type": "code",
   "execution_count": 0,
   "metadata": {
    "application/vnd.databricks.v1+cell": {
     "cellMetadata": {
      "byteLimit": 2048000,
      "rowLimit": 10000
     },
     "inputWidgets": {},
     "nuid": "6cf37a33-09db-44d4-867f-fac9bdd845df",
     "showTitle": false,
     "title": ""
    }
   },
   "outputs": [
    {
     "output_type": "stream",
     "name": "stdout",
     "output_type": "stream",
     "text": [
      "+--------------+------------------------------------------+---------------------------------------+\n|Order ID      |Category                                  |Amount                                 |\n+--------------+------------------------------------------+---------------------------------------+\n|CA-2011-167199|Binders | Art | Phones | Fasteners | Paper|609.98 | 5.48 | 391.98 | 755.96 | 31.12|\n|CA-2011-149020|Office Supplies | Furniture               |2.98 | 51.94                           |\n|CA-2011-131905|Office Supplies | Technology | Technology |7.2 | 42.0186 | 42.035                 |\n|CA-2011-127614|Accessories | Tables | Binders            |234.45 | 1256.22 | 17.46               |\n|CA-2011-112352|Stationery | Furniture                    |54.35                                  |\n|CA-2011-105898|Art                                       |5.48 | 65.58                           |\n+--------------+------------------------------------------+---------------------------------------+\n\n"
     ]
    }
   ],
   "source": [
    "df = spark.read.format(\"com.crealytics.spark.excel\") \\\n",
    "            .option(\"inferSchema\", \"false\") \\\n",
    "            .option(\"header\", \"true\") \\\n",
    "            .option(\"dataAddress\", \"'Dirty 8'!A1\") \\\n",
    "            .load(\"/FileStore/tables/8__Invoices_with_Merged_Categories_and_Merged_Amounts.xlsx\") \n",
    "\n",
    "df.show(truncate=False)"
   ]
  },
  {
   "cell_type": "code",
   "execution_count": 0,
   "metadata": {
    "application/vnd.databricks.v1+cell": {
     "cellMetadata": {
      "byteLimit": 2048000,
      "rowLimit": 10000
     },
     "inputWidgets": {},
     "nuid": "3da8fa30-d82f-4583-b9c8-8cf8bd859cd5",
     "showTitle": false,
     "title": ""
    }
   },
   "outputs": [],
   "source": [
    "from pyspark.sql.functions import split, posexplode, coalesce, col"
   ]
  },
  {
   "cell_type": "code",
   "execution_count": 0,
   "metadata": {
    "application/vnd.databricks.v1+cell": {
     "cellMetadata": {
      "byteLimit": 2048000,
      "rowLimit": 10000
     },
     "inputWidgets": {},
     "nuid": "255c32fe-9034-4fe0-a3aa-1f57d0403ec3",
     "showTitle": false,
     "title": ""
    }
   },
   "outputs": [],
   "source": [
    "# '|' : it will split every character\n",
    "# '[|]': it split only the character between '|'\n",
    "df = df.withColumn(\"splitted_category\", split('category', '[|]')).drop(\"category\")"
   ]
  },
  {
   "cell_type": "code",
   "execution_count": 0,
   "metadata": {
    "application/vnd.databricks.v1+cell": {
     "cellMetadata": {
      "byteLimit": 2048000,
      "rowLimit": 10000
     },
     "inputWidgets": {},
     "nuid": "57a117e3-d285-4339-951a-b98a0f4124a6",
     "showTitle": false,
     "title": ""
    }
   },
   "outputs": [],
   "source": [
    "df = df.withColumn(\"splitted_amount\", split('amount', '[|]')).drop(\"amount\")"
   ]
  },
  {
   "cell_type": "code",
   "execution_count": 0,
   "metadata": {
    "application/vnd.databricks.v1+cell": {
     "cellMetadata": {
      "byteLimit": 2048000,
      "rowLimit": 10000
     },
     "inputWidgets": {},
     "nuid": "807073ed-1995-4ee7-8c90-5379acf18f62",
     "showTitle": false,
     "title": ""
    }
   },
   "outputs": [
    {
     "output_type": "stream",
     "name": "stdout",
     "output_type": "stream",
     "text": [
      "+--------------+------------------------------------------------+---------------------------------------------+\n|Order ID      |splitted_category                               |splitted_amount                              |\n+--------------+------------------------------------------------+---------------------------------------------+\n|CA-2011-167199|[Binders ,  Art ,  Phones ,  Fasteners ,  Paper]|[609.98 ,  5.48 ,  391.98 ,  755.96 ,  31.12]|\n|CA-2011-149020|[Office Supplies ,  Furniture]                  |[2.98 ,  51.94]                              |\n|CA-2011-131905|[Office Supplies ,  Technology ,  Technology]   |[7.2 ,  42.0186 ,  42.035]                   |\n|CA-2011-127614|[Accessories ,  Tables ,  Binders]              |[234.45 ,  1256.22 ,  17.46]                 |\n|CA-2011-112352|[Stationery ,  Furniture]                       |[54.35]                                      |\n|CA-2011-105898|[Art]                                           |[5.48 ,  65.58]                              |\n+--------------+------------------------------------------------+---------------------------------------------+\n\n"
     ]
    }
   ],
   "source": [
    "df.show(truncate=False)"
   ]
  },
  {
   "cell_type": "code",
   "execution_count": 0,
   "metadata": {
    "application/vnd.databricks.v1+cell": {
     "cellMetadata": {
      "byteLimit": 2048000,
      "rowLimit": 10000
     },
     "inputWidgets": {},
     "nuid": "6e7a0ae1-59d8-4d0e-806e-88c45268352e",
     "showTitle": false,
     "title": ""
    }
   },
   "outputs": [],
   "source": [
    "exploded_cat = df.selectExpr(\"*\", \"posexplode(splitted_category) as (pos,col)\")\n",
    "exploded_amt = df.selectExpr(\"*\", \"posexplode(splitted_amount) as (pos,col1)\")\n",
    "\n",
    "df_combined = exploded_cat.join(exploded_amt, on=[\"Order ID\", \"pos\"], how=\"full_outer\")"
   ]
  },
  {
   "cell_type": "code",
   "execution_count": 0,
   "metadata": {
    "application/vnd.databricks.v1+cell": {
     "cellMetadata": {
      "byteLimit": 2048000,
      "rowLimit": 10000
     },
     "inputWidgets": {},
     "nuid": "b8db2a9c-c4d2-43e9-8315-efee018a3d0a",
     "showTitle": false,
     "title": ""
    }
   },
   "outputs": [
    {
     "output_type": "stream",
     "name": "stdout",
     "output_type": "stream",
     "text": [
      "+--------------+---+------------------------------------------------+---------------------------------------------+----------------+------------------------------------------------+---------------------------------------------+---------+\n|Order ID      |pos|splitted_category                               |splitted_amount                              |col             |splitted_category                               |splitted_amount                              |col1     |\n+--------------+---+------------------------------------------------+---------------------------------------------+----------------+------------------------------------------------+---------------------------------------------+---------+\n|CA-2011-105898|0  |[Art]                                           |[5.48 ,  65.58]                              |Art             |[Art]                                           |[5.48 ,  65.58]                              |5.48     |\n|CA-2011-105898|1  |null                                            |null                                         |null            |[Art]                                           |[5.48 ,  65.58]                              | 65.58   |\n|CA-2011-112352|0  |[Stationery ,  Furniture]                       |[54.35]                                      |Stationery      |[Stationery ,  Furniture]                       |[54.35]                                      |54.35    |\n|CA-2011-112352|1  |[Stationery ,  Furniture]                       |[54.35]                                      | Furniture      |null                                            |null                                         |null     |\n|CA-2011-127614|0  |[Accessories ,  Tables ,  Binders]              |[234.45 ,  1256.22 ,  17.46]                 |Accessories     |[Accessories ,  Tables ,  Binders]              |[234.45 ,  1256.22 ,  17.46]                 |234.45   |\n|CA-2011-127614|1  |[Accessories ,  Tables ,  Binders]              |[234.45 ,  1256.22 ,  17.46]                 | Tables         |[Accessories ,  Tables ,  Binders]              |[234.45 ,  1256.22 ,  17.46]                 | 1256.22 |\n|CA-2011-127614|2  |[Accessories ,  Tables ,  Binders]              |[234.45 ,  1256.22 ,  17.46]                 | Binders        |[Accessories ,  Tables ,  Binders]              |[234.45 ,  1256.22 ,  17.46]                 | 17.46   |\n|CA-2011-131905|0  |[Office Supplies ,  Technology ,  Technology]   |[7.2 ,  42.0186 ,  42.035]                   |Office Supplies |[Office Supplies ,  Technology ,  Technology]   |[7.2 ,  42.0186 ,  42.035]                   |7.2      |\n|CA-2011-131905|1  |[Office Supplies ,  Technology ,  Technology]   |[7.2 ,  42.0186 ,  42.035]                   | Technology     |[Office Supplies ,  Technology ,  Technology]   |[7.2 ,  42.0186 ,  42.035]                   | 42.0186 |\n|CA-2011-131905|2  |[Office Supplies ,  Technology ,  Technology]   |[7.2 ,  42.0186 ,  42.035]                   | Technology     |[Office Supplies ,  Technology ,  Technology]   |[7.2 ,  42.0186 ,  42.035]                   | 42.035  |\n|CA-2011-149020|0  |[Office Supplies ,  Furniture]                  |[2.98 ,  51.94]                              |Office Supplies |[Office Supplies ,  Furniture]                  |[2.98 ,  51.94]                              |2.98     |\n|CA-2011-149020|1  |[Office Supplies ,  Furniture]                  |[2.98 ,  51.94]                              | Furniture      |[Office Supplies ,  Furniture]                  |[2.98 ,  51.94]                              | 51.94   |\n|CA-2011-167199|0  |[Binders ,  Art ,  Phones ,  Fasteners ,  Paper]|[609.98 ,  5.48 ,  391.98 ,  755.96 ,  31.12]|Binders         |[Binders ,  Art ,  Phones ,  Fasteners ,  Paper]|[609.98 ,  5.48 ,  391.98 ,  755.96 ,  31.12]|609.98   |\n|CA-2011-167199|1  |[Binders ,  Art ,  Phones ,  Fasteners ,  Paper]|[609.98 ,  5.48 ,  391.98 ,  755.96 ,  31.12]| Art            |[Binders ,  Art ,  Phones ,  Fasteners ,  Paper]|[609.98 ,  5.48 ,  391.98 ,  755.96 ,  31.12]| 5.48    |\n|CA-2011-167199|2  |[Binders ,  Art ,  Phones ,  Fasteners ,  Paper]|[609.98 ,  5.48 ,  391.98 ,  755.96 ,  31.12]| Phones         |[Binders ,  Art ,  Phones ,  Fasteners ,  Paper]|[609.98 ,  5.48 ,  391.98 ,  755.96 ,  31.12]| 391.98  |\n|CA-2011-167199|3  |[Binders ,  Art ,  Phones ,  Fasteners ,  Paper]|[609.98 ,  5.48 ,  391.98 ,  755.96 ,  31.12]| Fasteners      |[Binders ,  Art ,  Phones ,  Fasteners ,  Paper]|[609.98 ,  5.48 ,  391.98 ,  755.96 ,  31.12]| 755.96  |\n|CA-2011-167199|4  |[Binders ,  Art ,  Phones ,  Fasteners ,  Paper]|[609.98 ,  5.48 ,  391.98 ,  755.96 ,  31.12]| Paper          |[Binders ,  Art ,  Phones ,  Fasteners ,  Paper]|[609.98 ,  5.48 ,  391.98 ,  755.96 ,  31.12]| 31.12   |\n+--------------+---+------------------------------------------------+---------------------------------------------+----------------+------------------------------------------------+---------------------------------------------+---------+\n\n"
     ]
    }
   ],
   "source": [
    "df_combined.show(truncate=False)"
   ]
  },
  {
   "cell_type": "code",
   "execution_count": 0,
   "metadata": {
    "application/vnd.databricks.v1+cell": {
     "cellMetadata": {
      "byteLimit": 2048000,
      "rowLimit": 10000
     },
     "inputWidgets": {},
     "nuid": "7ebe56a4-53cc-48ab-82f1-6bcc3a84e4c6",
     "showTitle": false,
     "title": ""
    }
   },
   "outputs": [
    {
     "output_type": "stream",
     "name": "stdout",
     "output_type": "stream",
     "text": [
      "+--------------+----------------+---------+\n|      Order ID|        Category|   Amount|\n+--------------+----------------+---------+\n|CA-2011-105898|             Art|    5.48 |\n|CA-2011-105898|            null|    65.58|\n|CA-2011-112352|     Stationery |    54.35|\n|CA-2011-112352|       Furniture|     null|\n|CA-2011-127614|    Accessories |  234.45 |\n|CA-2011-127614|         Tables | 1256.22 |\n|CA-2011-127614|         Binders|    17.46|\n|CA-2011-131905|Office Supplies |     7.2 |\n|CA-2011-131905|     Technology | 42.0186 |\n|CA-2011-131905|      Technology|   42.035|\n|CA-2011-149020|Office Supplies |    2.98 |\n|CA-2011-149020|       Furniture|    51.94|\n|CA-2011-167199|        Binders |  609.98 |\n|CA-2011-167199|            Art |    5.48 |\n|CA-2011-167199|         Phones |  391.98 |\n|CA-2011-167199|      Fasteners |  755.96 |\n|CA-2011-167199|           Paper|    31.12|\n+--------------+----------------+---------+\n\n"
     ]
    }
   ],
   "source": [
    "df_final = df_combined.select(\n",
    "    \"Order ID\", col(\"col\").alias(\"Category\"), col(\"col1\").alias(\"Amount\")\n",
    ")"
   ]
  },
  {
   "cell_type": "code",
   "execution_count": 0,
   "metadata": {
    "application/vnd.databricks.v1+cell": {
     "cellMetadata": {
      "byteLimit": 2048000,
      "rowLimit": 10000
     },
     "inputWidgets": {},
     "nuid": "3cce40a9-9a05-4272-82b8-094555bec9cd",
     "showTitle": false,
     "title": ""
    }
   },
   "outputs": [
    {
     "output_type": "display_data",
     "data": {
      "text/html": [
       "<style scoped>\n",
       "  .table-result-container {\n",
       "    max-height: 300px;\n",
       "    overflow: auto;\n",
       "  }\n",
       "  table, th, td {\n",
       "    border: 1px solid black;\n",
       "    border-collapse: collapse;\n",
       "  }\n",
       "  th, td {\n",
       "    padding: 5px;\n",
       "  }\n",
       "  th {\n",
       "    text-align: left;\n",
       "  }\n",
       "</style><div class='table-result-container'><table class='table-result'><thead style='background-color: white'><tr><th>Order ID</th><th>Category</th><th>Amount</th></tr></thead><tbody><tr><td>CA-2011-105898</td><td>Art</td><td>5.48 </td></tr><tr><td>CA-2011-105898</td><td>null</td><td> 65.58</td></tr><tr><td>CA-2011-112352</td><td>Stationery </td><td>54.35</td></tr><tr><td>CA-2011-112352</td><td> Furniture</td><td>null</td></tr><tr><td>CA-2011-127614</td><td>Accessories </td><td>234.45 </td></tr><tr><td>CA-2011-127614</td><td> Tables </td><td> 1256.22 </td></tr><tr><td>CA-2011-127614</td><td> Binders</td><td> 17.46</td></tr><tr><td>CA-2011-131905</td><td>Office Supplies </td><td>7.2 </td></tr><tr><td>CA-2011-131905</td><td> Technology </td><td> 42.0186 </td></tr><tr><td>CA-2011-131905</td><td> Technology</td><td> 42.035</td></tr><tr><td>CA-2011-149020</td><td>Office Supplies </td><td>2.98 </td></tr><tr><td>CA-2011-149020</td><td> Furniture</td><td> 51.94</td></tr><tr><td>CA-2011-167199</td><td>Binders </td><td>609.98 </td></tr><tr><td>CA-2011-167199</td><td> Art </td><td> 5.48 </td></tr><tr><td>CA-2011-167199</td><td> Phones </td><td> 391.98 </td></tr><tr><td>CA-2011-167199</td><td> Fasteners </td><td> 755.96 </td></tr><tr><td>CA-2011-167199</td><td> Paper</td><td> 31.12</td></tr></tbody></table></div>"
      ]
     },
     "metadata": {
      "application/vnd.databricks.v1+output": {
       "addedWidgets": {},
       "aggData": [],
       "aggError": "",
       "aggOverflow": false,
       "aggSchema": [],
       "aggSeriesLimitReached": false,
       "aggType": "",
       "arguments": {},
       "columnCustomDisplayInfos": {},
       "data": [
        [
         "CA-2011-105898",
         "Art",
         "5.48 "
        ],
        [
         "CA-2011-105898",
         null,
         " 65.58"
        ],
        [
         "CA-2011-112352",
         "Stationery ",
         "54.35"
        ],
        [
         "CA-2011-112352",
         " Furniture",
         null
        ],
        [
         "CA-2011-127614",
         "Accessories ",
         "234.45 "
        ],
        [
         "CA-2011-127614",
         " Tables ",
         " 1256.22 "
        ],
        [
         "CA-2011-127614",
         " Binders",
         " 17.46"
        ],
        [
         "CA-2011-131905",
         "Office Supplies ",
         "7.2 "
        ],
        [
         "CA-2011-131905",
         " Technology ",
         " 42.0186 "
        ],
        [
         "CA-2011-131905",
         " Technology",
         " 42.035"
        ],
        [
         "CA-2011-149020",
         "Office Supplies ",
         "2.98 "
        ],
        [
         "CA-2011-149020",
         " Furniture",
         " 51.94"
        ],
        [
         "CA-2011-167199",
         "Binders ",
         "609.98 "
        ],
        [
         "CA-2011-167199",
         " Art ",
         " 5.48 "
        ],
        [
         "CA-2011-167199",
         " Phones ",
         " 391.98 "
        ],
        [
         "CA-2011-167199",
         " Fasteners ",
         " 755.96 "
        ],
        [
         "CA-2011-167199",
         " Paper",
         " 31.12"
        ]
       ],
       "datasetInfos": [],
       "dbfsResultPath": null,
       "isJsonSchema": true,
       "metadata": {},
       "overflow": false,
       "plotOptions": {
        "customPlotOptions": {},
        "displayType": "table",
        "pivotAggregation": null,
        "pivotColumns": null,
        "xColumns": null,
        "yColumns": null
       },
       "removedWidgets": [],
       "schema": [
        {
         "metadata": "{}",
         "name": "Order ID",
         "type": "\"string\""
        },
        {
         "metadata": "{}",
         "name": "Category",
         "type": "\"string\""
        },
        {
         "metadata": "{}",
         "name": "Amount",
         "type": "\"string\""
        }
       ],
       "type": "table"
      }
     },
     "output_type": "display_data"
    }
   ],
   "source": [
    "display(df_final)"
   ]
  },
  {
   "cell_type": "code",
   "execution_count": 0,
   "metadata": {
    "application/vnd.databricks.v1+cell": {
     "cellMetadata": {
      "byteLimit": 2048000,
      "rowLimit": 10000
     },
     "inputWidgets": {},
     "nuid": "4e7a4707-b7d0-4cd7-b0c3-6dd4ec9385d0",
     "showTitle": false,
     "title": ""
    }
   },
   "outputs": [
    {
     "output_type": "stream",
     "name": "stdout",
     "output_type": "stream",
     "text": [
      "Out[14]: ['Order ID', 'Category', 'Amount']"
     ]
    }
   ],
   "source": [
    "df_final.columns"
   ]
  },
  {
   "cell_type": "code",
   "execution_count": 0,
   "metadata": {
    "application/vnd.databricks.v1+cell": {
     "cellMetadata": {
      "byteLimit": 2048000,
      "rowLimit": 10000
     },
     "inputWidgets": {},
     "nuid": "b9fc2d07-c14d-4298-88e7-5067269c3e91",
     "showTitle": false,
     "title": ""
    }
   },
   "outputs": [
    {
     "output_type": "stream",
     "name": "stdout",
     "output_type": "stream",
     "text": [
      "+--------------+----------+------+\n|      Order ID|  Category|Amount|\n+--------------+----------+------+\n|CA-2011-112352| Furniture|  null|\n+--------------+----------+------+\n\n"
     ]
    }
   ],
   "source": [
    "df_final.filter(df_final[\"Amount\"].isNull()).show()"
   ]
  },
  {
   "cell_type": "code",
   "execution_count": 0,
   "metadata": {
    "application/vnd.databricks.v1+cell": {
     "cellMetadata": {
      "byteLimit": 2048000,
      "rowLimit": 10000
     },
     "inputWidgets": {},
     "nuid": "1e7350ea-bcd1-489d-bf41-370dfc7281a8",
     "showTitle": false,
     "title": ""
    }
   },
   "outputs": [
    {
     "output_type": "stream",
     "name": "stdout",
     "output_type": "stream",
     "text": [
      "root\n |-- Order ID: string (nullable = true)\n |-- Category: string (nullable = true)\n |-- Amount: string (nullable = true)\n\n"
     ]
    }
   ],
   "source": [
    "df_final.printSchema()"
   ]
  },
  {
   "cell_type": "code",
   "execution_count": 0,
   "metadata": {
    "application/vnd.databricks.v1+cell": {
     "cellMetadata": {
      "byteLimit": 2048000,
      "rowLimit": 10000
     },
     "inputWidgets": {},
     "nuid": "7ccd926b-8529-417e-99c9-b2a397f52e9d",
     "showTitle": false,
     "title": ""
    }
   },
   "outputs": [],
   "source": [
    "df_final = df_final.withColumn(\"Amount\", col(\"Amount\").cast(\"decimal(10,2)\"))"
   ]
  },
  {
   "cell_type": "code",
   "execution_count": 0,
   "metadata": {
    "application/vnd.databricks.v1+cell": {
     "cellMetadata": {
      "byteLimit": 2048000,
      "rowLimit": 10000
     },
     "inputWidgets": {},
     "nuid": "474e7641-6ef7-4a99-95f8-53fd46d99417",
     "showTitle": false,
     "title": ""
    }
   },
   "outputs": [
    {
     "output_type": "stream",
     "name": "stdout",
     "output_type": "stream",
     "text": [
      "root\n |-- Order ID: string (nullable = true)\n |-- Category: string (nullable = true)\n |-- Amount: decimal(10,2) (nullable = true)\n\n"
     ]
    }
   ],
   "source": [
    "df_final.printSchema()"
   ]
  },
  {
   "cell_type": "code",
   "execution_count": 0,
   "metadata": {
    "application/vnd.databricks.v1+cell": {
     "cellMetadata": {
      "byteLimit": 2048000,
      "rowLimit": 10000
     },
     "inputWidgets": {},
     "nuid": "7badbd5f-f3f8-4d3e-bf1b-3abecb4f3a65",
     "showTitle": false,
     "title": ""
    }
   },
   "outputs": [],
   "source": [
    "df_final = df_final.na.fill(value=0, subset=[\"Amount\"])"
   ]
  }
 ],
 "metadata": {
  "application/vnd.databricks.v1+notebook": {
   "dashboards": [],
   "environmentMetadata": null,
   "language": "python",
   "notebookMetadata": {
    "pythonIndentUnit": 4
   },
   "notebookName": "8__Invoices_with_Merged_Categories_and_Merged_Amounts_cleaned_spark",
   "widgets": {}
  }
 },
 "nbformat": 4,
 "nbformat_minor": 0
}
