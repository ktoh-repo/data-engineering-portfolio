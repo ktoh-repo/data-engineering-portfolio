{
 "cells": [
  {
   "cell_type": "code",
   "execution_count": 1,
   "id": "a7d3cccd-69df-4e95-8f0c-823c6c0e5de5",
   "metadata": {},
   "outputs": [],
   "source": [
    "import pandas as pd"
   ]
  },
  {
   "cell_type": "code",
   "execution_count": 2,
   "id": "29175e16-ae30-44b2-a974-88d36e4ff0e9",
   "metadata": {},
   "outputs": [
    {
     "data": {
      "text/html": [
       "<div>\n",
       "<style scoped>\n",
       "    .dataframe tbody tr th:only-of-type {\n",
       "        vertical-align: middle;\n",
       "    }\n",
       "\n",
       "    .dataframe tbody tr th {\n",
       "        vertical-align: top;\n",
       "    }\n",
       "\n",
       "    .dataframe thead th {\n",
       "        text-align: right;\n",
       "    }\n",
       "</style>\n",
       "<table border=\"1\" class=\"dataframe\">\n",
       "  <thead>\n",
       "    <tr style=\"text-align: right;\">\n",
       "      <th></th>\n",
       "      <th>Order ID</th>\n",
       "      <th>Category</th>\n",
       "      <th>Amount</th>\n",
       "    </tr>\n",
       "  </thead>\n",
       "  <tbody>\n",
       "    <tr>\n",
       "      <th>0</th>\n",
       "      <td>CA-2011-167199</td>\n",
       "      <td>Binders | Art | Phones | Fasteners | Paper</td>\n",
       "      <td>609.98 | 5.48 | 391.98 | 755.96 | 31.12</td>\n",
       "    </tr>\n",
       "    <tr>\n",
       "      <th>1</th>\n",
       "      <td>CA-2011-149020</td>\n",
       "      <td>Office Supplies | Furniture</td>\n",
       "      <td>2.98 | 51.94</td>\n",
       "    </tr>\n",
       "    <tr>\n",
       "      <th>2</th>\n",
       "      <td>CA-2011-131905</td>\n",
       "      <td>Office Supplies | Technology | Technology</td>\n",
       "      <td>7.2 | 42.0186 | 42.035</td>\n",
       "    </tr>\n",
       "    <tr>\n",
       "      <th>3</th>\n",
       "      <td>CA-2011-127614</td>\n",
       "      <td>Accessories | Tables | Binders</td>\n",
       "      <td>234.45 | 1256.22 | 17.46</td>\n",
       "    </tr>\n",
       "    <tr>\n",
       "      <th>4</th>\n",
       "      <td>CA-2011-112352</td>\n",
       "      <td>Stationery | Furniture</td>\n",
       "      <td>54.35</td>\n",
       "    </tr>\n",
       "    <tr>\n",
       "      <th>5</th>\n",
       "      <td>CA-2011-105898</td>\n",
       "      <td>Art</td>\n",
       "      <td>5.48 | 65.58</td>\n",
       "    </tr>\n",
       "  </tbody>\n",
       "</table>\n",
       "</div>"
      ],
      "text/plain": [
       "         Order ID                                    Category  \\\n",
       "0  CA-2011-167199  Binders | Art | Phones | Fasteners | Paper   \n",
       "1  CA-2011-149020                 Office Supplies | Furniture   \n",
       "2  CA-2011-131905   Office Supplies | Technology | Technology   \n",
       "3  CA-2011-127614              Accessories | Tables | Binders   \n",
       "4  CA-2011-112352                      Stationery | Furniture   \n",
       "5  CA-2011-105898                                         Art   \n",
       "\n",
       "                                    Amount  \n",
       "0  609.98 | 5.48 | 391.98 | 755.96 | 31.12  \n",
       "1                             2.98 | 51.94  \n",
       "2                   7.2 | 42.0186 | 42.035  \n",
       "3                 234.45 | 1256.22 | 17.46  \n",
       "4                                    54.35  \n",
       "5                             5.48 | 65.58  "
      ]
     },
     "execution_count": 2,
     "metadata": {},
     "output_type": "execute_result"
    }
   ],
   "source": [
    "df = pd.read_excel(\"..\\8.-Invoices-with-Merged-Categories-and-Merged-Amounts.xlsx\")\n",
    "df.head(10)"
   ]
  },
  {
   "cell_type": "code",
   "execution_count": 3,
   "id": "c99224e1-a328-42e1-84ef-50ac0fc7a663",
   "metadata": {},
   "outputs": [
    {
     "name": "stdout",
     "output_type": "stream",
     "text": [
      "<class 'pandas.core.frame.DataFrame'>\n",
      "RangeIndex: 6 entries, 0 to 5\n",
      "Data columns (total 3 columns):\n",
      " #   Column    Non-Null Count  Dtype \n",
      "---  ------    --------------  ----- \n",
      " 0   Order ID  6 non-null      object\n",
      " 1   Category  6 non-null      object\n",
      " 2   Amount    6 non-null      object\n",
      "dtypes: object(3)\n",
      "memory usage: 276.0+ bytes\n"
     ]
    }
   ],
   "source": [
    "df.info()"
   ]
  },
  {
   "cell_type": "code",
   "execution_count": 4,
   "id": "c1ba8275-e208-46c3-8a24-ed4666d477cf",
   "metadata": {},
   "outputs": [],
   "source": [
    "df[\"Category\"] = df['Category'].str.split(\"|\")\n",
    "df[\"Amount\"] = df[\"Amount\"].astype(str).str.split(\"|\")"
   ]
  },
  {
   "cell_type": "code",
   "execution_count": 5,
   "id": "df5b4bab-2d45-4e4a-af08-abdb88a57de2",
   "metadata": {},
   "outputs": [
    {
     "ename": "ValueError",
     "evalue": "columns must have matching element counts",
     "output_type": "error",
     "traceback": [
      "\u001b[1;31m---------------------------------------------------------------------------\u001b[0m",
      "\u001b[1;31mValueError\u001b[0m                                Traceback (most recent call last)",
      "\u001b[1;32m~\\AppData\\Local\\Temp\\ipykernel_12996\\1747708131.py\u001b[0m in \u001b[0;36m?\u001b[1;34m()\u001b[0m\n\u001b[1;32m----> 1\u001b[1;33m \u001b[0mdf\u001b[0m \u001b[1;33m=\u001b[0m \u001b[0mdf\u001b[0m\u001b[1;33m.\u001b[0m\u001b[0mexplode\u001b[0m\u001b[1;33m(\u001b[0m\u001b[1;33m[\u001b[0m\u001b[1;34m\"Category\"\u001b[0m\u001b[1;33m,\u001b[0m \u001b[1;34m\"Amount\"\u001b[0m\u001b[1;33m]\u001b[0m\u001b[1;33m)\u001b[0m\u001b[1;33m\u001b[0m\u001b[1;33m\u001b[0m\u001b[0m\n\u001b[0m",
      "\u001b[1;32mC:\\Program Files\\anaconda3\\Lib\\site-packages\\pandas\\core\\frame.py\u001b[0m in \u001b[0;36m?\u001b[1;34m(self, column, ignore_index)\u001b[0m\n\u001b[0;32m   9848\u001b[0m             \u001b[0mmylen\u001b[0m \u001b[1;33m=\u001b[0m \u001b[1;32mlambda\u001b[0m \u001b[0mx\u001b[0m\u001b[1;33m:\u001b[0m \u001b[0mlen\u001b[0m\u001b[1;33m(\u001b[0m\u001b[0mx\u001b[0m\u001b[1;33m)\u001b[0m \u001b[1;32mif\u001b[0m \u001b[1;33m(\u001b[0m\u001b[0mis_list_like\u001b[0m\u001b[1;33m(\u001b[0m\u001b[0mx\u001b[0m\u001b[1;33m)\u001b[0m \u001b[1;32mand\u001b[0m \u001b[0mlen\u001b[0m\u001b[1;33m(\u001b[0m\u001b[0mx\u001b[0m\u001b[1;33m)\u001b[0m \u001b[1;33m>\u001b[0m \u001b[1;36m0\u001b[0m\u001b[1;33m)\u001b[0m \u001b[1;32melse\u001b[0m \u001b[1;36m1\u001b[0m\u001b[1;33m\u001b[0m\u001b[1;33m\u001b[0m\u001b[0m\n\u001b[0;32m   9849\u001b[0m             \u001b[0mcounts0\u001b[0m \u001b[1;33m=\u001b[0m \u001b[0mself\u001b[0m\u001b[1;33m[\u001b[0m\u001b[0mcolumns\u001b[0m\u001b[1;33m[\u001b[0m\u001b[1;36m0\u001b[0m\u001b[1;33m]\u001b[0m\u001b[1;33m]\u001b[0m\u001b[1;33m.\u001b[0m\u001b[0mapply\u001b[0m\u001b[1;33m(\u001b[0m\u001b[0mmylen\u001b[0m\u001b[1;33m)\u001b[0m\u001b[1;33m\u001b[0m\u001b[1;33m\u001b[0m\u001b[0m\n\u001b[0;32m   9850\u001b[0m             \u001b[1;32mfor\u001b[0m \u001b[0mc\u001b[0m \u001b[1;32min\u001b[0m \u001b[0mcolumns\u001b[0m\u001b[1;33m[\u001b[0m\u001b[1;36m1\u001b[0m\u001b[1;33m:\u001b[0m\u001b[1;33m]\u001b[0m\u001b[1;33m:\u001b[0m\u001b[1;33m\u001b[0m\u001b[1;33m\u001b[0m\u001b[0m\n\u001b[0;32m   9851\u001b[0m                 \u001b[1;32mif\u001b[0m \u001b[1;32mnot\u001b[0m \u001b[0mall\u001b[0m\u001b[1;33m(\u001b[0m\u001b[0mcounts0\u001b[0m \u001b[1;33m==\u001b[0m \u001b[0mself\u001b[0m\u001b[1;33m[\u001b[0m\u001b[0mc\u001b[0m\u001b[1;33m]\u001b[0m\u001b[1;33m.\u001b[0m\u001b[0mapply\u001b[0m\u001b[1;33m(\u001b[0m\u001b[0mmylen\u001b[0m\u001b[1;33m)\u001b[0m\u001b[1;33m)\u001b[0m\u001b[1;33m:\u001b[0m\u001b[1;33m\u001b[0m\u001b[1;33m\u001b[0m\u001b[0m\n\u001b[1;32m-> 9852\u001b[1;33m                     \u001b[1;32mraise\u001b[0m \u001b[0mValueError\u001b[0m\u001b[1;33m(\u001b[0m\u001b[1;34m\"columns must have matching element counts\"\u001b[0m\u001b[1;33m)\u001b[0m\u001b[1;33m\u001b[0m\u001b[1;33m\u001b[0m\u001b[0m\n\u001b[0m\u001b[0;32m   9853\u001b[0m             \u001b[0mresult\u001b[0m \u001b[1;33m=\u001b[0m \u001b[0mDataFrame\u001b[0m\u001b[1;33m(\u001b[0m\u001b[1;33m{\u001b[0m\u001b[0mc\u001b[0m\u001b[1;33m:\u001b[0m \u001b[0mdf\u001b[0m\u001b[1;33m[\u001b[0m\u001b[0mc\u001b[0m\u001b[1;33m]\u001b[0m\u001b[1;33m.\u001b[0m\u001b[0mexplode\u001b[0m\u001b[1;33m(\u001b[0m\u001b[1;33m)\u001b[0m \u001b[1;32mfor\u001b[0m \u001b[0mc\u001b[0m \u001b[1;32min\u001b[0m \u001b[0mcolumns\u001b[0m\u001b[1;33m}\u001b[0m\u001b[1;33m)\u001b[0m\u001b[1;33m\u001b[0m\u001b[1;33m\u001b[0m\u001b[0m\n\u001b[0;32m   9854\u001b[0m         \u001b[0mresult\u001b[0m \u001b[1;33m=\u001b[0m \u001b[0mdf\u001b[0m\u001b[1;33m.\u001b[0m\u001b[0mdrop\u001b[0m\u001b[1;33m(\u001b[0m\u001b[0mcolumns\u001b[0m\u001b[1;33m,\u001b[0m \u001b[0maxis\u001b[0m\u001b[1;33m=\u001b[0m\u001b[1;36m1\u001b[0m\u001b[1;33m)\u001b[0m\u001b[1;33m.\u001b[0m\u001b[0mjoin\u001b[0m\u001b[1;33m(\u001b[0m\u001b[0mresult\u001b[0m\u001b[1;33m)\u001b[0m\u001b[1;33m\u001b[0m\u001b[1;33m\u001b[0m\u001b[0m\n\u001b[0;32m   9855\u001b[0m         \u001b[1;32mif\u001b[0m \u001b[0mignore_index\u001b[0m\u001b[1;33m:\u001b[0m\u001b[1;33m\u001b[0m\u001b[1;33m\u001b[0m\u001b[0m\n",
      "\u001b[1;31mValueError\u001b[0m: columns must have matching element counts"
     ]
    }
   ],
   "source": [
    "df = df.explode([\"Category\", \"Amount\"])"
   ]
  },
  {
   "cell_type": "markdown",
   "id": "7fa022fe-c264-48a1-857e-13b6ba3eb5e6",
   "metadata": {},
   "source": [
    "# Found columns not matching element counts"
   ]
  },
  {
   "cell_type": "code",
   "execution_count": 6,
   "id": "709b9e6a-d627-4c26-8033-ee79f46dcd6f",
   "metadata": {},
   "outputs": [
    {
     "name": "stdout",
     "output_type": "stream",
     "text": [
      "         Order ID                                          Category  \\\n",
      "0  CA-2011-167199  [Binders ,  Art ,  Phones ,  Fasteners ,  Paper]   \n",
      "1  CA-2011-149020                    [Office Supplies ,  Furniture]   \n",
      "2  CA-2011-131905     [Office Supplies ,  Technology ,  Technology]   \n",
      "3  CA-2011-127614                [Accessories ,  Tables ,  Binders]   \n",
      "4  CA-2011-112352                         [Stationery ,  Furniture]   \n",
      "5  CA-2011-105898                                             [Art]   \n",
      "\n",
      "                                          Amount  \n",
      "0  [609.98 ,  5.48 ,  391.98 ,  755.96 ,  31.12]  \n",
      "1                                [2.98 ,  51.94]  \n",
      "2                     [7.2 ,  42.0186 ,  42.035]  \n",
      "3                   [234.45 ,  1256.22 ,  17.46]  \n",
      "4                                        [54.35]  \n",
      "5                                [5.48 ,  65.58]  \n"
     ]
    }
   ],
   "source": [
    "print(df)"
   ]
  },
  {
   "cell_type": "code",
   "execution_count": 7,
   "id": "b104dc4a-f335-4826-a110-07a4308d21f9",
   "metadata": {},
   "outputs": [],
   "source": [
    "def pad_lists(row):\n",
    "    \n",
    "    # Calculate the maximum length between the two lists\n",
    "    max_len = max(len(row['Category']), len(row['Amount']))\n",
    "    \n",
    "    # Pad both lists with None to match the maximum length\n",
    "    row['Category'] += [None] * (max_len - len(row['Category']))\n",
    "    row['Amount'] += [None] * (max_len - len(row['Amount']))\n",
    "    \n",
    "    return row"
   ]
  },
  {
   "cell_type": "code",
   "execution_count": 8,
   "id": "b5679dca-e4da-415a-b2f9-80f91efe4afd",
   "metadata": {},
   "outputs": [
    {
     "data": {
      "text/html": [
       "<div>\n",
       "<style scoped>\n",
       "    .dataframe tbody tr th:only-of-type {\n",
       "        vertical-align: middle;\n",
       "    }\n",
       "\n",
       "    .dataframe tbody tr th {\n",
       "        vertical-align: top;\n",
       "    }\n",
       "\n",
       "    .dataframe thead th {\n",
       "        text-align: right;\n",
       "    }\n",
       "</style>\n",
       "<table border=\"1\" class=\"dataframe\">\n",
       "  <thead>\n",
       "    <tr style=\"text-align: right;\">\n",
       "      <th></th>\n",
       "      <th>Order ID</th>\n",
       "      <th>Category</th>\n",
       "      <th>Amount</th>\n",
       "    </tr>\n",
       "  </thead>\n",
       "  <tbody>\n",
       "    <tr>\n",
       "      <th>0</th>\n",
       "      <td>CA-2011-167199</td>\n",
       "      <td>[Binders ,  Art ,  Phones ,  Fasteners ,  Paper]</td>\n",
       "      <td>[609.98 ,  5.48 ,  391.98 ,  755.96 ,  31.12]</td>\n",
       "    </tr>\n",
       "    <tr>\n",
       "      <th>1</th>\n",
       "      <td>CA-2011-149020</td>\n",
       "      <td>[Office Supplies ,  Furniture]</td>\n",
       "      <td>[2.98 ,  51.94]</td>\n",
       "    </tr>\n",
       "    <tr>\n",
       "      <th>2</th>\n",
       "      <td>CA-2011-131905</td>\n",
       "      <td>[Office Supplies ,  Technology ,  Technology]</td>\n",
       "      <td>[7.2 ,  42.0186 ,  42.035]</td>\n",
       "    </tr>\n",
       "    <tr>\n",
       "      <th>3</th>\n",
       "      <td>CA-2011-127614</td>\n",
       "      <td>[Accessories ,  Tables ,  Binders]</td>\n",
       "      <td>[234.45 ,  1256.22 ,  17.46]</td>\n",
       "    </tr>\n",
       "    <tr>\n",
       "      <th>4</th>\n",
       "      <td>CA-2011-112352</td>\n",
       "      <td>[Stationery ,  Furniture]</td>\n",
       "      <td>[54.35]</td>\n",
       "    </tr>\n",
       "    <tr>\n",
       "      <th>5</th>\n",
       "      <td>CA-2011-105898</td>\n",
       "      <td>[Art]</td>\n",
       "      <td>[5.48 ,  65.58]</td>\n",
       "    </tr>\n",
       "  </tbody>\n",
       "</table>\n",
       "</div>"
      ],
      "text/plain": [
       "         Order ID                                          Category  \\\n",
       "0  CA-2011-167199  [Binders ,  Art ,  Phones ,  Fasteners ,  Paper]   \n",
       "1  CA-2011-149020                    [Office Supplies ,  Furniture]   \n",
       "2  CA-2011-131905     [Office Supplies ,  Technology ,  Technology]   \n",
       "3  CA-2011-127614                [Accessories ,  Tables ,  Binders]   \n",
       "4  CA-2011-112352                         [Stationery ,  Furniture]   \n",
       "5  CA-2011-105898                                             [Art]   \n",
       "\n",
       "                                          Amount  \n",
       "0  [609.98 ,  5.48 ,  391.98 ,  755.96 ,  31.12]  \n",
       "1                                [2.98 ,  51.94]  \n",
       "2                     [7.2 ,  42.0186 ,  42.035]  \n",
       "3                   [234.45 ,  1256.22 ,  17.46]  \n",
       "4                                        [54.35]  \n",
       "5                                [5.48 ,  65.58]  "
      ]
     },
     "execution_count": 8,
     "metadata": {},
     "output_type": "execute_result"
    }
   ],
   "source": [
    "df"
   ]
  },
  {
   "cell_type": "code",
   "execution_count": 9,
   "id": "5fceec7b-8c2c-4385-a12e-3804d4082337",
   "metadata": {},
   "outputs": [
    {
     "data": {
      "text/html": [
       "<div>\n",
       "<style scoped>\n",
       "    .dataframe tbody tr th:only-of-type {\n",
       "        vertical-align: middle;\n",
       "    }\n",
       "\n",
       "    .dataframe tbody tr th {\n",
       "        vertical-align: top;\n",
       "    }\n",
       "\n",
       "    .dataframe thead th {\n",
       "        text-align: right;\n",
       "    }\n",
       "</style>\n",
       "<table border=\"1\" class=\"dataframe\">\n",
       "  <thead>\n",
       "    <tr style=\"text-align: right;\">\n",
       "      <th></th>\n",
       "      <th>Order ID</th>\n",
       "      <th>Category</th>\n",
       "      <th>Amount</th>\n",
       "    </tr>\n",
       "  </thead>\n",
       "  <tbody>\n",
       "    <tr>\n",
       "      <th>0</th>\n",
       "      <td>CA-2011-167199</td>\n",
       "      <td>[Binders ,  Art ,  Phones ,  Fasteners ,  Paper]</td>\n",
       "      <td>[609.98 ,  5.48 ,  391.98 ,  755.96 ,  31.12]</td>\n",
       "    </tr>\n",
       "    <tr>\n",
       "      <th>1</th>\n",
       "      <td>CA-2011-149020</td>\n",
       "      <td>[Office Supplies ,  Furniture]</td>\n",
       "      <td>[2.98 ,  51.94]</td>\n",
       "    </tr>\n",
       "    <tr>\n",
       "      <th>2</th>\n",
       "      <td>CA-2011-131905</td>\n",
       "      <td>[Office Supplies ,  Technology ,  Technology]</td>\n",
       "      <td>[7.2 ,  42.0186 ,  42.035]</td>\n",
       "    </tr>\n",
       "    <tr>\n",
       "      <th>3</th>\n",
       "      <td>CA-2011-127614</td>\n",
       "      <td>[Accessories ,  Tables ,  Binders]</td>\n",
       "      <td>[234.45 ,  1256.22 ,  17.46]</td>\n",
       "    </tr>\n",
       "    <tr>\n",
       "      <th>4</th>\n",
       "      <td>CA-2011-112352</td>\n",
       "      <td>[Stationery ,  Furniture]</td>\n",
       "      <td>[54.35, None]</td>\n",
       "    </tr>\n",
       "    <tr>\n",
       "      <th>5</th>\n",
       "      <td>CA-2011-105898</td>\n",
       "      <td>[Art, None]</td>\n",
       "      <td>[5.48 ,  65.58]</td>\n",
       "    </tr>\n",
       "  </tbody>\n",
       "</table>\n",
       "</div>"
      ],
      "text/plain": [
       "         Order ID                                          Category  \\\n",
       "0  CA-2011-167199  [Binders ,  Art ,  Phones ,  Fasteners ,  Paper]   \n",
       "1  CA-2011-149020                    [Office Supplies ,  Furniture]   \n",
       "2  CA-2011-131905     [Office Supplies ,  Technology ,  Technology]   \n",
       "3  CA-2011-127614                [Accessories ,  Tables ,  Binders]   \n",
       "4  CA-2011-112352                         [Stationery ,  Furniture]   \n",
       "5  CA-2011-105898                                       [Art, None]   \n",
       "\n",
       "                                          Amount  \n",
       "0  [609.98 ,  5.48 ,  391.98 ,  755.96 ,  31.12]  \n",
       "1                                [2.98 ,  51.94]  \n",
       "2                     [7.2 ,  42.0186 ,  42.035]  \n",
       "3                   [234.45 ,  1256.22 ,  17.46]  \n",
       "4                                  [54.35, None]  \n",
       "5                                [5.48 ,  65.58]  "
      ]
     },
     "execution_count": 9,
     "metadata": {},
     "output_type": "execute_result"
    }
   ],
   "source": [
    "df['Category'] = df['Category'].apply(lambda x: x if isinstance(x, list) else [])\n",
    "df['Amount'] = df['Amount'].apply(lambda x: x if isinstance(x, list) else [])\n",
    "\n",
    "df.apply(pad_lists, axis=1) # axis=1, every row"
   ]
  },
  {
   "cell_type": "code",
   "execution_count": 10,
   "id": "5b7f4f77-db0b-415f-8e81-d739b9f8ef09",
   "metadata": {},
   "outputs": [],
   "source": [
    "df = df.explode([\"Category\", \"Amount\"])"
   ]
  },
  {
   "cell_type": "code",
   "execution_count": 11,
   "id": "b327a106-a53b-4fa0-add3-06ac05ab9c30",
   "metadata": {},
   "outputs": [
    {
     "data": {
      "text/html": [
       "<div>\n",
       "<style scoped>\n",
       "    .dataframe tbody tr th:only-of-type {\n",
       "        vertical-align: middle;\n",
       "    }\n",
       "\n",
       "    .dataframe tbody tr th {\n",
       "        vertical-align: top;\n",
       "    }\n",
       "\n",
       "    .dataframe thead th {\n",
       "        text-align: right;\n",
       "    }\n",
       "</style>\n",
       "<table border=\"1\" class=\"dataframe\">\n",
       "  <thead>\n",
       "    <tr style=\"text-align: right;\">\n",
       "      <th></th>\n",
       "      <th>Order ID</th>\n",
       "      <th>Category</th>\n",
       "      <th>Amount</th>\n",
       "    </tr>\n",
       "  </thead>\n",
       "  <tbody>\n",
       "    <tr>\n",
       "      <th>4</th>\n",
       "      <td>CA-2011-112352</td>\n",
       "      <td>Furniture</td>\n",
       "      <td>None</td>\n",
       "    </tr>\n",
       "  </tbody>\n",
       "</table>\n",
       "</div>"
      ],
      "text/plain": [
       "         Order ID    Category Amount\n",
       "4  CA-2011-112352   Furniture   None"
      ]
     },
     "execution_count": 11,
     "metadata": {},
     "output_type": "execute_result"
    }
   ],
   "source": [
    "df[df['Amount'].isna()]"
   ]
  },
  {
   "cell_type": "code",
   "execution_count": 12,
   "id": "a22cb4bc-bc00-4a9c-84d1-1bb2d3af8736",
   "metadata": {},
   "outputs": [],
   "source": [
    "df.fillna({ 'Amount': 0}, inplace=True)"
   ]
  },
  {
   "cell_type": "code",
   "execution_count": 13,
   "id": "3889ab7a-5a90-462c-9cac-f47f7f51309a",
   "metadata": {},
   "outputs": [
    {
     "data": {
      "text/html": [
       "<div>\n",
       "<style scoped>\n",
       "    .dataframe tbody tr th:only-of-type {\n",
       "        vertical-align: middle;\n",
       "    }\n",
       "\n",
       "    .dataframe tbody tr th {\n",
       "        vertical-align: top;\n",
       "    }\n",
       "\n",
       "    .dataframe thead th {\n",
       "        text-align: right;\n",
       "    }\n",
       "</style>\n",
       "<table border=\"1\" class=\"dataframe\">\n",
       "  <thead>\n",
       "    <tr style=\"text-align: right;\">\n",
       "      <th></th>\n",
       "      <th>Order ID</th>\n",
       "      <th>Category</th>\n",
       "      <th>Amount</th>\n",
       "    </tr>\n",
       "  </thead>\n",
       "  <tbody>\n",
       "    <tr>\n",
       "      <th>0</th>\n",
       "      <td>CA-2011-167199</td>\n",
       "      <td>Binders</td>\n",
       "      <td>609.98</td>\n",
       "    </tr>\n",
       "    <tr>\n",
       "      <th>0</th>\n",
       "      <td>CA-2011-167199</td>\n",
       "      <td>Art</td>\n",
       "      <td>5.48</td>\n",
       "    </tr>\n",
       "    <tr>\n",
       "      <th>0</th>\n",
       "      <td>CA-2011-167199</td>\n",
       "      <td>Phones</td>\n",
       "      <td>391.98</td>\n",
       "    </tr>\n",
       "    <tr>\n",
       "      <th>0</th>\n",
       "      <td>CA-2011-167199</td>\n",
       "      <td>Fasteners</td>\n",
       "      <td>755.96</td>\n",
       "    </tr>\n",
       "    <tr>\n",
       "      <th>0</th>\n",
       "      <td>CA-2011-167199</td>\n",
       "      <td>Paper</td>\n",
       "      <td>31.12</td>\n",
       "    </tr>\n",
       "    <tr>\n",
       "      <th>1</th>\n",
       "      <td>CA-2011-149020</td>\n",
       "      <td>Office Supplies</td>\n",
       "      <td>2.98</td>\n",
       "    </tr>\n",
       "    <tr>\n",
       "      <th>1</th>\n",
       "      <td>CA-2011-149020</td>\n",
       "      <td>Furniture</td>\n",
       "      <td>51.94</td>\n",
       "    </tr>\n",
       "    <tr>\n",
       "      <th>2</th>\n",
       "      <td>CA-2011-131905</td>\n",
       "      <td>Office Supplies</td>\n",
       "      <td>7.2</td>\n",
       "    </tr>\n",
       "    <tr>\n",
       "      <th>2</th>\n",
       "      <td>CA-2011-131905</td>\n",
       "      <td>Technology</td>\n",
       "      <td>42.0186</td>\n",
       "    </tr>\n",
       "    <tr>\n",
       "      <th>2</th>\n",
       "      <td>CA-2011-131905</td>\n",
       "      <td>Technology</td>\n",
       "      <td>42.035</td>\n",
       "    </tr>\n",
       "    <tr>\n",
       "      <th>3</th>\n",
       "      <td>CA-2011-127614</td>\n",
       "      <td>Accessories</td>\n",
       "      <td>234.45</td>\n",
       "    </tr>\n",
       "    <tr>\n",
       "      <th>3</th>\n",
       "      <td>CA-2011-127614</td>\n",
       "      <td>Tables</td>\n",
       "      <td>1256.22</td>\n",
       "    </tr>\n",
       "    <tr>\n",
       "      <th>3</th>\n",
       "      <td>CA-2011-127614</td>\n",
       "      <td>Binders</td>\n",
       "      <td>17.46</td>\n",
       "    </tr>\n",
       "    <tr>\n",
       "      <th>4</th>\n",
       "      <td>CA-2011-112352</td>\n",
       "      <td>Stationery</td>\n",
       "      <td>54.35</td>\n",
       "    </tr>\n",
       "    <tr>\n",
       "      <th>4</th>\n",
       "      <td>CA-2011-112352</td>\n",
       "      <td>Furniture</td>\n",
       "      <td>0</td>\n",
       "    </tr>\n",
       "    <tr>\n",
       "      <th>5</th>\n",
       "      <td>CA-2011-105898</td>\n",
       "      <td>Art</td>\n",
       "      <td>5.48</td>\n",
       "    </tr>\n",
       "    <tr>\n",
       "      <th>5</th>\n",
       "      <td>CA-2011-105898</td>\n",
       "      <td>None</td>\n",
       "      <td>65.58</td>\n",
       "    </tr>\n",
       "  </tbody>\n",
       "</table>\n",
       "</div>"
      ],
      "text/plain": [
       "         Order ID          Category     Amount\n",
       "0  CA-2011-167199          Binders     609.98 \n",
       "0  CA-2011-167199              Art       5.48 \n",
       "0  CA-2011-167199           Phones     391.98 \n",
       "0  CA-2011-167199        Fasteners     755.96 \n",
       "0  CA-2011-167199             Paper      31.12\n",
       "1  CA-2011-149020  Office Supplies       2.98 \n",
       "1  CA-2011-149020         Furniture      51.94\n",
       "2  CA-2011-131905  Office Supplies        7.2 \n",
       "2  CA-2011-131905       Technology    42.0186 \n",
       "2  CA-2011-131905        Technology     42.035\n",
       "3  CA-2011-127614      Accessories     234.45 \n",
       "3  CA-2011-127614           Tables    1256.22 \n",
       "3  CA-2011-127614           Binders      17.46\n",
       "4  CA-2011-112352       Stationery       54.35\n",
       "4  CA-2011-112352         Furniture          0\n",
       "5  CA-2011-105898               Art      5.48 \n",
       "5  CA-2011-105898              None      65.58"
      ]
     },
     "execution_count": 13,
     "metadata": {},
     "output_type": "execute_result"
    }
   ],
   "source": [
    "df"
   ]
  },
  {
   "cell_type": "code",
   "execution_count": 14,
   "id": "95d64549-87d3-461c-a09b-4ee9eb63f394",
   "metadata": {},
   "outputs": [],
   "source": [
    "df = df.drop_duplicates()"
   ]
  },
  {
   "cell_type": "code",
   "execution_count": 15,
   "id": "1bec1d0a-fc82-4af4-9c5f-413d391f9e12",
   "metadata": {},
   "outputs": [
    {
     "name": "stdout",
     "output_type": "stream",
     "text": [
      "          Order ID          Category     Amount\n",
      "0   CA-2011-167199          Binders     609.98 \n",
      "1   CA-2011-167199              Art       5.48 \n",
      "2   CA-2011-167199           Phones     391.98 \n",
      "3   CA-2011-167199        Fasteners     755.96 \n",
      "4   CA-2011-167199             Paper      31.12\n",
      "5   CA-2011-149020  Office Supplies       2.98 \n",
      "6   CA-2011-149020         Furniture      51.94\n",
      "7   CA-2011-131905  Office Supplies        7.2 \n",
      "8   CA-2011-131905       Technology    42.0186 \n",
      "9   CA-2011-131905        Technology     42.035\n",
      "10  CA-2011-127614      Accessories     234.45 \n",
      "11  CA-2011-127614           Tables    1256.22 \n",
      "12  CA-2011-127614           Binders      17.46\n",
      "13  CA-2011-112352       Stationery       54.35\n",
      "14  CA-2011-112352         Furniture          0\n",
      "15  CA-2011-105898               Art      5.48 \n",
      "16  CA-2011-105898              None      65.58\n"
     ]
    }
   ],
   "source": [
    "df = df.reset_index(drop=True)\n",
    "print(df)"
   ]
  },
  {
   "cell_type": "code",
   "execution_count": null,
   "id": "81b0fe19-9afa-4b66-8f84-e9fae4b19ec2",
   "metadata": {},
   "outputs": [],
   "source": []
  }
 ],
 "metadata": {
  "kernelspec": {
   "display_name": "Python 3 (ipykernel)",
   "language": "python",
   "name": "python3"
  },
  "language_info": {
   "codemirror_mode": {
    "name": "ipython",
    "version": 3
   },
   "file_extension": ".py",
   "mimetype": "text/x-python",
   "name": "python",
   "nbconvert_exporter": "python",
   "pygments_lexer": "ipython3",
   "version": "3.11.9"
  }
 },
 "nbformat": 4,
 "nbformat_minor": 5
}
