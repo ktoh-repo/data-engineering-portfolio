{
 "cells": [
  {
   "cell_type": "code",
   "execution_count": 1,
   "id": "522e9a55-5345-4d18-aece-638fd0ff9657",
   "metadata": {},
   "outputs": [],
   "source": [
    "import pandas as pd"
   ]
  },
  {
   "cell_type": "code",
   "execution_count": 2,
   "id": "9e061d6d-ffa7-4371-806a-5b9f568be67a",
   "metadata": {},
   "outputs": [
    {
     "data": {
      "text/html": [
       "<div>\n",
       "<style scoped>\n",
       "    .dataframe tbody tr th:only-of-type {\n",
       "        vertical-align: middle;\n",
       "    }\n",
       "\n",
       "    .dataframe tbody tr th {\n",
       "        vertical-align: top;\n",
       "    }\n",
       "\n",
       "    .dataframe thead th {\n",
       "        text-align: right;\n",
       "    }\n",
       "</style>\n",
       "<table border=\"1\" class=\"dataframe\">\n",
       "  <thead>\n",
       "    <tr style=\"text-align: right;\">\n",
       "      <th></th>\n",
       "      <th>Description</th>\n",
       "      <th>Quantity</th>\n",
       "    </tr>\n",
       "  </thead>\n",
       "  <tbody>\n",
       "    <tr>\n",
       "      <th>0</th>\n",
       "      <td>lotion Benzylbenzoate lotion</td>\n",
       "      <td>0Bottle</td>\n",
       "    </tr>\n",
       "    <tr>\n",
       "      <th>1</th>\n",
       "      <td>Methylated spirit 100ml</td>\n",
       "      <td>0Bottle</td>\n",
       "    </tr>\n",
       "    <tr>\n",
       "      <th>2</th>\n",
       "      <td>susp Magnessium Trisilicate 200ml</td>\n",
       "      <td>0Bottle</td>\n",
       "    </tr>\n",
       "    <tr>\n",
       "      <th>3</th>\n",
       "      <td>Susp. Amoxicillin 125mg/5ml</td>\n",
       "      <td>0Bottle</td>\n",
       "    </tr>\n",
       "    <tr>\n",
       "      <th>4</th>\n",
       "      <td>Susp. Erythromycin 125mg/5ml</td>\n",
       "      <td>0Bottle</td>\n",
       "    </tr>\n",
       "  </tbody>\n",
       "</table>\n",
       "</div>"
      ],
      "text/plain": [
       "                         Description Quantity\n",
       "0       lotion Benzylbenzoate lotion  0Bottle\n",
       "1            Methylated spirit 100ml  0Bottle\n",
       "2  susp Magnessium Trisilicate 200ml  0Bottle\n",
       "3        Susp. Amoxicillin 125mg/5ml  0Bottle\n",
       "4       Susp. Erythromycin 125mg/5ml  0Bottle"
      ]
     },
     "execution_count": 2,
     "metadata": {},
     "output_type": "execute_result"
    }
   ],
   "source": [
    "df = pd.read_excel(\"../7.-Medicine-Data-with-lumped-Quantity-and-Measure.xlsx\")\n",
    "df.head()"
   ]
  },
  {
   "cell_type": "code",
   "execution_count": 3,
   "id": "41ce247a-b0fe-4f3d-9e2b-8cd75df76f6d",
   "metadata": {},
   "outputs": [
    {
     "data": {
      "text/plain": [
       "Description    object\n",
       "Quantity       object\n",
       "dtype: object"
      ]
     },
     "execution_count": 3,
     "metadata": {},
     "output_type": "execute_result"
    }
   ],
   "source": [
    "df.dtypes"
   ]
  },
  {
   "cell_type": "code",
   "execution_count": 4,
   "id": "e687bfa0-f716-4889-96bb-86b30f4f22c6",
   "metadata": {},
   "outputs": [
    {
     "data": {
      "text/plain": [
       "array(['0Bottle', '0Pcs', '0Tube', '0Pairs', '0Amp', '0Vial', '0roll',\n",
       "       '2Tube', '100Bottle', '110Bottle', '1.2Pcs', '0.8Pairs', '63Vial',\n",
       "       '44Pcs', '73Pcs', '51Pcs', '54vials', '6Amp', '4Amp', '2Vial',\n",
       "       '48Amp', '10Amp', '23Bottle', '9Bottle', '12Bottle', '13Bottle',\n",
       "       '11Bottle', '27Bottle', '7Bottle', '3Pcs', '5Pcs', '0.4pack',\n",
       "       '5Bottle', '67Bottle', '6Tube', '50Pcs', '5Vial', '30Bottle',\n",
       "       '60Bottle', '50Bottle', '50Vial', '10Bottle', '40Bottle', '1Pcs',\n",
       "       '10Tube', '20Vial', '24Bottle', '20Bottle', '3Bottle', '100Pcs',\n",
       "       '5Tube', '50Amp', '20Pcs', '10Vial', '26Pcs', '48Pcs', '87Pcs',\n",
       "       '13Pcs', '23Pcs', '96Vial', '7Amp', '16Vial', '59Amp', '17Amp',\n",
       "       '94Amp', '0.3pkt', '0.3pack', '35Pcs', '6Pcs', '10Pcs', '12Pcs',\n",
       "       '3Pairs', '40Pcs', '120Pcs', '8Vial', '30Pcs', '29Pcs', '62Pcs',\n",
       "       '68Vial', '2Pcs', '14Pcs', '8Amp', '60Pcs', '30Vial', '37Amp',\n",
       "       '90Vial', '43Amp', '40Amp', '65Pcs', '55Vial', '98Vial', '31Pcs',\n",
       "       '32Pcs', '39Pcs', '3Amp', '22Pcs', '70Pairs', '8Tube', '70Vial',\n",
       "       '72Pcs', '37Bottle', '35Bottle', '33Bottle', '17Bottle', '8Bottle',\n",
       "       '32Bottle', '29Bottle', '70Bottle', '36Bottle', '6Bottle',\n",
       "       '16Bottle', '26Bottle', '28Bottle', '14Bottle', '4Bottle',\n",
       "       '34Bottle', '2Bottle', '15Bottle', '64Bottle', '41Bottle',\n",
       "       '80Bottle', '25Bottle', '45Bottle', '46Bottle', '44Bottle',\n",
       "       '42Bottle', '38Bottle', '90Bottle', '150Bottle', '160Bottle',\n",
       "       '1Amp', '2Amp', '30Pairs', '9Pcs', '7vials', '7Vial', '16Amp',\n",
       "       '8Pcs', '18Bottle', '1Bottle', '1Pairs', '51Vial', '15Vial',\n",
       "       '11Pcs', '1Tube', '20Amp', '140Bottle', '3Tube', '46Amp', '5Amp',\n",
       "       '2Pairs', '100Amp', '47Amp', '2000Bottle', '36Pcs', '34Pcs',\n",
       "       '4Tube'], dtype=object)"
      ]
     },
     "execution_count": 4,
     "metadata": {},
     "output_type": "execute_result"
    }
   ],
   "source": [
    "df['Quantity'].unique()"
   ]
  },
  {
   "cell_type": "code",
   "execution_count": 5,
   "id": "a5e7cfc4-14ef-4412-980d-1584470231b3",
   "metadata": {},
   "outputs": [],
   "source": [
    "df['quantity'] = df['Quantity'].str.extract(r\"(\\d+)\")"
   ]
  },
  {
   "cell_type": "code",
   "execution_count": 6,
   "id": "1b87496a-2361-409f-a9fd-1a03b61f2788",
   "metadata": {},
   "outputs": [],
   "source": [
    "df['unit(s)'] = df['Quantity'].str.extract(r\"([a-zA-Z]+)\")"
   ]
  },
  {
   "cell_type": "code",
   "execution_count": 7,
   "id": "b6e73fab-84fc-40d2-8c88-eb1d815f19ce",
   "metadata": {},
   "outputs": [
    {
     "data": {
      "text/html": [
       "<div>\n",
       "<style scoped>\n",
       "    .dataframe tbody tr th:only-of-type {\n",
       "        vertical-align: middle;\n",
       "    }\n",
       "\n",
       "    .dataframe tbody tr th {\n",
       "        vertical-align: top;\n",
       "    }\n",
       "\n",
       "    .dataframe thead th {\n",
       "        text-align: right;\n",
       "    }\n",
       "</style>\n",
       "<table border=\"1\" class=\"dataframe\">\n",
       "  <thead>\n",
       "    <tr style=\"text-align: right;\">\n",
       "      <th></th>\n",
       "      <th>Description</th>\n",
       "      <th>Quantity</th>\n",
       "      <th>quantity</th>\n",
       "      <th>unit(s)</th>\n",
       "    </tr>\n",
       "  </thead>\n",
       "  <tbody>\n",
       "    <tr>\n",
       "      <th>0</th>\n",
       "      <td>lotion Benzylbenzoate lotion</td>\n",
       "      <td>0Bottle</td>\n",
       "      <td>0</td>\n",
       "      <td>Bottle</td>\n",
       "    </tr>\n",
       "    <tr>\n",
       "      <th>1</th>\n",
       "      <td>Methylated spirit 100ml</td>\n",
       "      <td>0Bottle</td>\n",
       "      <td>0</td>\n",
       "      <td>Bottle</td>\n",
       "    </tr>\n",
       "    <tr>\n",
       "      <th>2</th>\n",
       "      <td>susp Magnessium Trisilicate 200ml</td>\n",
       "      <td>0Bottle</td>\n",
       "      <td>0</td>\n",
       "      <td>Bottle</td>\n",
       "    </tr>\n",
       "    <tr>\n",
       "      <th>3</th>\n",
       "      <td>Susp. Amoxicillin 125mg/5ml</td>\n",
       "      <td>0Bottle</td>\n",
       "      <td>0</td>\n",
       "      <td>Bottle</td>\n",
       "    </tr>\n",
       "    <tr>\n",
       "      <th>4</th>\n",
       "      <td>Susp. Erythromycin 125mg/5ml</td>\n",
       "      <td>0Bottle</td>\n",
       "      <td>0</td>\n",
       "      <td>Bottle</td>\n",
       "    </tr>\n",
       "  </tbody>\n",
       "</table>\n",
       "</div>"
      ],
      "text/plain": [
       "                         Description Quantity quantity unit(s)\n",
       "0       lotion Benzylbenzoate lotion  0Bottle        0  Bottle\n",
       "1            Methylated spirit 100ml  0Bottle        0  Bottle\n",
       "2  susp Magnessium Trisilicate 200ml  0Bottle        0  Bottle\n",
       "3        Susp. Amoxicillin 125mg/5ml  0Bottle        0  Bottle\n",
       "4       Susp. Erythromycin 125mg/5ml  0Bottle        0  Bottle"
      ]
     },
     "execution_count": 7,
     "metadata": {},
     "output_type": "execute_result"
    }
   ],
   "source": [
    "df.head()"
   ]
  },
  {
   "cell_type": "code",
   "execution_count": 13,
   "id": "659950f7-130a-47ed-806e-75eb463ef3cc",
   "metadata": {},
   "outputs": [
    {
     "data": {
      "text/html": [
       "<div>\n",
       "<style scoped>\n",
       "    .dataframe tbody tr th:only-of-type {\n",
       "        vertical-align: middle;\n",
       "    }\n",
       "\n",
       "    .dataframe tbody tr th {\n",
       "        vertical-align: top;\n",
       "    }\n",
       "\n",
       "    .dataframe thead th {\n",
       "        text-align: right;\n",
       "    }\n",
       "</style>\n",
       "<table border=\"1\" class=\"dataframe\">\n",
       "  <thead>\n",
       "    <tr style=\"text-align: right;\">\n",
       "      <th></th>\n",
       "      <th>Description</th>\n",
       "      <th>quantity</th>\n",
       "      <th>unit(s)</th>\n",
       "    </tr>\n",
       "  </thead>\n",
       "  <tbody>\n",
       "    <tr>\n",
       "      <th>0</th>\n",
       "      <td>lotion Benzylbenzoate lotion</td>\n",
       "      <td>0</td>\n",
       "      <td>Bottle</td>\n",
       "    </tr>\n",
       "    <tr>\n",
       "      <th>1</th>\n",
       "      <td>Methylated spirit 100ml</td>\n",
       "      <td>0</td>\n",
       "      <td>Bottle</td>\n",
       "    </tr>\n",
       "    <tr>\n",
       "      <th>2</th>\n",
       "      <td>susp Magnessium Trisilicate 200ml</td>\n",
       "      <td>0</td>\n",
       "      <td>Bottle</td>\n",
       "    </tr>\n",
       "    <tr>\n",
       "      <th>3</th>\n",
       "      <td>Susp. Amoxicillin 125mg/5ml</td>\n",
       "      <td>0</td>\n",
       "      <td>Bottle</td>\n",
       "    </tr>\n",
       "    <tr>\n",
       "      <th>4</th>\n",
       "      <td>Susp. Erythromycin 125mg/5ml</td>\n",
       "      <td>0</td>\n",
       "      <td>Bottle</td>\n",
       "    </tr>\n",
       "    <tr>\n",
       "      <th>...</th>\n",
       "      <td>...</td>\n",
       "      <td>...</td>\n",
       "      <td>...</td>\n",
       "    </tr>\n",
       "    <tr>\n",
       "      <th>2274</th>\n",
       "      <td>Syp Ascorbic acid</td>\n",
       "      <td>20</td>\n",
       "      <td>Bottle</td>\n",
       "    </tr>\n",
       "    <tr>\n",
       "      <th>2275</th>\n",
       "      <td>syr Cough Syrup (P) 100ml</td>\n",
       "      <td>20</td>\n",
       "      <td>Bottle</td>\n",
       "    </tr>\n",
       "    <tr>\n",
       "      <th>2276</th>\n",
       "      <td>syr Cough Syrup (A) 100ml</td>\n",
       "      <td>10</td>\n",
       "      <td>Bottle</td>\n",
       "    </tr>\n",
       "    <tr>\n",
       "      <th>2277</th>\n",
       "      <td>Cotton Wool 100g</td>\n",
       "      <td>1</td>\n",
       "      <td>Pcs</td>\n",
       "    </tr>\n",
       "    <tr>\n",
       "      <th>2278</th>\n",
       "      <td>Disposable gloves</td>\n",
       "      <td>1</td>\n",
       "      <td>Pairs</td>\n",
       "    </tr>\n",
       "  </tbody>\n",
       "</table>\n",
       "<p>2279 rows × 3 columns</p>\n",
       "</div>"
      ],
      "text/plain": [
       "                            Description quantity unit(s)\n",
       "0          lotion Benzylbenzoate lotion        0  Bottle\n",
       "1               Methylated spirit 100ml        0  Bottle\n",
       "2     susp Magnessium Trisilicate 200ml        0  Bottle\n",
       "3           Susp. Amoxicillin 125mg/5ml        0  Bottle\n",
       "4          Susp. Erythromycin 125mg/5ml        0  Bottle\n",
       "...                                 ...      ...     ...\n",
       "2274                  Syp Ascorbic acid       20  Bottle\n",
       "2275          syr Cough Syrup (P) 100ml       20  Bottle\n",
       "2276          syr Cough Syrup (A) 100ml       10  Bottle\n",
       "2277                   Cotton Wool 100g        1     Pcs\n",
       "2278                  Disposable gloves        1   Pairs\n",
       "\n",
       "[2279 rows x 3 columns]"
      ]
     },
     "execution_count": 13,
     "metadata": {},
     "output_type": "execute_result"
    }
   ],
   "source": [
    "df.drop(columns={'Quantity'})"
   ]
  },
  {
   "cell_type": "code",
   "execution_count": null,
   "id": "5737f7a0-6652-44f9-b1f9-672880387119",
   "metadata": {},
   "outputs": [],
   "source": []
  }
 ],
 "metadata": {
  "kernelspec": {
   "display_name": "Python 3 (ipykernel)",
   "language": "python",
   "name": "python3"
  },
  "language_info": {
   "codemirror_mode": {
    "name": "ipython",
    "version": 3
   },
   "file_extension": ".py",
   "mimetype": "text/x-python",
   "name": "python",
   "nbconvert_exporter": "python",
   "pygments_lexer": "ipython3",
   "version": "3.11.9"
  }
 },
 "nbformat": 4,
 "nbformat_minor": 5
}
