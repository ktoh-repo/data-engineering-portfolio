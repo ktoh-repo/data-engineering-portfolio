{
 "cells": [
  {
   "cell_type": "code",
   "execution_count": 1,
   "id": "09c4d623-bc86-4a87-b97a-80eacff345ae",
   "metadata": {},
   "outputs": [],
   "source": [
    "import pandas as pd"
   ]
  },
  {
   "cell_type": "code",
   "execution_count": 2,
   "id": "22a9cf34-f8a0-4392-8375-f07132a4e975",
   "metadata": {},
   "outputs": [],
   "source": [
    "df = pd.read_excel(\"../6.-Hospital-Data-with-Mixed-Numbers-and-Characters.xlsx\")"
   ]
  },
  {
   "cell_type": "code",
   "execution_count": 3,
   "id": "8e524c9e-6b59-4768-8e6f-4318bce75f7a",
   "metadata": {},
   "outputs": [
    {
     "data": {
      "text/html": [
       "<div>\n",
       "<style scoped>\n",
       "    .dataframe tbody tr th:only-of-type {\n",
       "        vertical-align: middle;\n",
       "    }\n",
       "\n",
       "    .dataframe tbody tr th {\n",
       "        vertical-align: top;\n",
       "    }\n",
       "\n",
       "    .dataframe thead th {\n",
       "        text-align: right;\n",
       "    }\n",
       "</style>\n",
       "<table border=\"1\" class=\"dataframe\">\n",
       "  <thead>\n",
       "    <tr style=\"text-align: right;\">\n",
       "      <th></th>\n",
       "      <th>Description</th>\n",
       "      <th>Basic Unit</th>\n",
       "      <th>Beginning Balance</th>\n",
       "      <th>Quantity Received</th>\n",
       "      <th>Quantity Dispensed</th>\n",
       "      <th>Losses and Adjustments</th>\n",
       "      <th>Ending Balance (Physical Count)</th>\n",
       "    </tr>\n",
       "  </thead>\n",
       "  <tbody>\n",
       "    <tr>\n",
       "      <th>0</th>\n",
       "      <td>Tab. Cefuroxime 250mg</td>\n",
       "      <td>10</td>\n",
       "      <td>1000</td>\n",
       "      <td>0</td>\n",
       "      <td>0</td>\n",
       "      <td>0</td>\n",
       "      <td>0</td>\n",
       "    </tr>\n",
       "    <tr>\n",
       "      <th>1</th>\n",
       "      <td>Tab. Cefuroxime 250mg</td>\n",
       "      <td>10</td>\n",
       "      <td>1000</td>\n",
       "      <td>0</td>\n",
       "      <td>0</td>\n",
       "      <td>0</td>\n",
       "      <td>0</td>\n",
       "    </tr>\n",
       "    <tr>\n",
       "      <th>2</th>\n",
       "      <td>Tab. Cefuroxime 250mg</td>\n",
       "      <td>10</td>\n",
       "      <td>1000</td>\n",
       "      <td>0</td>\n",
       "      <td>0</td>\n",
       "      <td>0</td>\n",
       "      <td>0</td>\n",
       "    </tr>\n",
       "    <tr>\n",
       "      <th>3</th>\n",
       "      <td>Cap Ampicillin</td>\n",
       "      <td>100</td>\n",
       "      <td>350</td>\n",
       "      <td>0</td>\n",
       "      <td>0</td>\n",
       "      <td>0</td>\n",
       "      <td>0</td>\n",
       "    </tr>\n",
       "    <tr>\n",
       "      <th>4</th>\n",
       "      <td>Cap Ampicillin</td>\n",
       "      <td>100</td>\n",
       "      <td>350</td>\n",
       "      <td>0</td>\n",
       "      <td>0</td>\n",
       "      <td>0</td>\n",
       "      <td>0</td>\n",
       "    </tr>\n",
       "  </tbody>\n",
       "</table>\n",
       "</div>"
      ],
      "text/plain": [
       "             Description Basic Unit Beginning Balance  Quantity Received   \\\n",
       "0  Tab. Cefuroxime 250mg         10               1000                  0   \n",
       "1  Tab. Cefuroxime 250mg         10               1000                  0   \n",
       "2  Tab. Cefuroxime 250mg         10               1000                  0   \n",
       "3         Cap Ampicillin        100                350                  0   \n",
       "4         Cap Ampicillin        100                350                  0   \n",
       "\n",
       "  Quantity Dispensed  Losses and Adjustments Ending Balance (Physical Count)  \n",
       "0                   0                      0                               0  \n",
       "1                   0                      0                               0  \n",
       "2                   0                      0                               0  \n",
       "3                   0                      0                               0  \n",
       "4                   0                      0                               0  "
      ]
     },
     "execution_count": 3,
     "metadata": {},
     "output_type": "execute_result"
    }
   ],
   "source": [
    "df.head()"
   ]
  },
  {
   "cell_type": "code",
   "execution_count": 4,
   "id": "5cad29c5-b863-404e-aae4-cbc46a4219c4",
   "metadata": {},
   "outputs": [
    {
     "name": "stdout",
     "output_type": "stream",
     "text": [
      "<class 'pandas.core.frame.DataFrame'>\n",
      "RangeIndex: 5846 entries, 0 to 5845\n",
      "Data columns (total 7 columns):\n",
      " #   Column                           Non-Null Count  Dtype \n",
      "---  ------                           --------------  ----- \n",
      " 0   Description                      5846 non-null   object\n",
      " 1   Basic Unit                       5846 non-null   object\n",
      " 2   Beginning Balance                5846 non-null   object\n",
      " 3   Quantity Received                5846 non-null   object\n",
      " 4   Quantity Dispensed               5846 non-null   object\n",
      " 5   Losses and Adjustments           5846 non-null   object\n",
      " 6   Ending Balance (Physical Count)  5846 non-null   object\n",
      "dtypes: object(7)\n",
      "memory usage: 319.8+ KB\n"
     ]
    }
   ],
   "source": [
    "df.info()"
   ]
  },
  {
   "cell_type": "code",
   "execution_count": 5,
   "id": "c190c58b-37f4-498b-b70a-a81c49fa01c3",
   "metadata": {},
   "outputs": [
    {
     "data": {
      "text/plain": [
       "Index(['Description', 'Basic Unit', 'Beginning Balance ', 'Quantity Received ',\n",
       "       'Quantity Dispensed ', 'Losses and Adjustments',\n",
       "       'Ending Balance (Physical Count)'],\n",
       "      dtype='object')"
      ]
     },
     "execution_count": 5,
     "metadata": {},
     "output_type": "execute_result"
    }
   ],
   "source": [
    "df.columns"
   ]
  },
  {
   "cell_type": "markdown",
   "id": "bc6351d0-a163-44f6-b735-591a39034417",
   "metadata": {},
   "source": [
    "## Inspect quantity and balance field see is there any invalid data "
   ]
  },
  {
   "cell_type": "code",
   "execution_count": 6,
   "id": "4947944e-1cbd-4878-9b93-7a894c05d537",
   "metadata": {},
   "outputs": [
    {
     "data": {
      "text/plain": [
       "Description                        0\n",
       "Basic Unit                         0\n",
       "Beginning Balance                  0\n",
       "Quantity Received                  0\n",
       "Quantity Dispensed                 0\n",
       "Losses and Adjustments             0\n",
       "Ending Balance (Physical Count)    0\n",
       "dtype: int64"
      ]
     },
     "execution_count": 6,
     "metadata": {},
     "output_type": "execute_result"
    }
   ],
   "source": [
    "df.isnull().sum()"
   ]
  },
  {
   "cell_type": "code",
   "execution_count": 7,
   "id": "538a9db4-a9e2-4dd7-9852-03f2da95a3d3",
   "metadata": {},
   "outputs": [
    {
     "ename": "TypeError",
     "evalue": "'<' not supported between instances of 'str' and 'int'",
     "output_type": "error",
     "traceback": [
      "\u001b[1;31m---------------------------------------------------------------------------\u001b[0m",
      "\u001b[1;31mTypeError\u001b[0m                                 Traceback (most recent call last)",
      "Cell \u001b[1;32mIn[7], line 2\u001b[0m\n\u001b[0;32m      1\u001b[0m \u001b[38;5;66;03m# check quantity less than 0\u001b[39;00m\n\u001b[1;32m----> 2\u001b[0m df[(\u001b[43mdf\u001b[49m\u001b[43m[\u001b[49m\u001b[38;5;124;43m'\u001b[39;49m\u001b[38;5;124;43mQuantity Received \u001b[39;49m\u001b[38;5;124;43m'\u001b[39;49m\u001b[43m]\u001b[49m\u001b[43m \u001b[49m\u001b[38;5;241;43m<\u001b[39;49m\u001b[43m \u001b[49m\u001b[38;5;241;43m0\u001b[39;49m) \u001b[38;5;241m|\u001b[39m (df[\u001b[38;5;124m'\u001b[39m\u001b[38;5;124mQuantity Dispensed \u001b[39m\u001b[38;5;124m'\u001b[39m] \u001b[38;5;241m<\u001b[39m \u001b[38;5;241m0\u001b[39m)]\n",
      "File \u001b[1;32mC:\\Program Files\\anaconda3\\Lib\\site-packages\\pandas\\core\\ops\\common.py:76\u001b[0m, in \u001b[0;36m_unpack_zerodim_and_defer.<locals>.new_method\u001b[1;34m(self, other)\u001b[0m\n\u001b[0;32m     72\u001b[0m             \u001b[38;5;28;01mreturn\u001b[39;00m \u001b[38;5;28mNotImplemented\u001b[39m\n\u001b[0;32m     74\u001b[0m other \u001b[38;5;241m=\u001b[39m item_from_zerodim(other)\n\u001b[1;32m---> 76\u001b[0m \u001b[38;5;28;01mreturn\u001b[39;00m \u001b[43mmethod\u001b[49m\u001b[43m(\u001b[49m\u001b[38;5;28;43mself\u001b[39;49m\u001b[43m,\u001b[49m\u001b[43m \u001b[49m\u001b[43mother\u001b[49m\u001b[43m)\u001b[49m\n",
      "File \u001b[1;32mC:\\Program Files\\anaconda3\\Lib\\site-packages\\pandas\\core\\arraylike.py:48\u001b[0m, in \u001b[0;36mOpsMixin.__lt__\u001b[1;34m(self, other)\u001b[0m\n\u001b[0;32m     46\u001b[0m \u001b[38;5;129m@unpack_zerodim_and_defer\u001b[39m(\u001b[38;5;124m\"\u001b[39m\u001b[38;5;124m__lt__\u001b[39m\u001b[38;5;124m\"\u001b[39m)\n\u001b[0;32m     47\u001b[0m \u001b[38;5;28;01mdef\u001b[39;00m \u001b[38;5;21m__lt__\u001b[39m(\u001b[38;5;28mself\u001b[39m, other):\n\u001b[1;32m---> 48\u001b[0m     \u001b[38;5;28;01mreturn\u001b[39;00m \u001b[38;5;28;43mself\u001b[39;49m\u001b[38;5;241;43m.\u001b[39;49m\u001b[43m_cmp_method\u001b[49m\u001b[43m(\u001b[49m\u001b[43mother\u001b[49m\u001b[43m,\u001b[49m\u001b[43m \u001b[49m\u001b[43moperator\u001b[49m\u001b[38;5;241;43m.\u001b[39;49m\u001b[43mlt\u001b[49m\u001b[43m)\u001b[49m\n",
      "File \u001b[1;32mC:\\Program Files\\anaconda3\\Lib\\site-packages\\pandas\\core\\series.py:6119\u001b[0m, in \u001b[0;36mSeries._cmp_method\u001b[1;34m(self, other, op)\u001b[0m\n\u001b[0;32m   6116\u001b[0m lvalues \u001b[38;5;241m=\u001b[39m \u001b[38;5;28mself\u001b[39m\u001b[38;5;241m.\u001b[39m_values\n\u001b[0;32m   6117\u001b[0m rvalues \u001b[38;5;241m=\u001b[39m extract_array(other, extract_numpy\u001b[38;5;241m=\u001b[39m\u001b[38;5;28;01mTrue\u001b[39;00m, extract_range\u001b[38;5;241m=\u001b[39m\u001b[38;5;28;01mTrue\u001b[39;00m)\n\u001b[1;32m-> 6119\u001b[0m res_values \u001b[38;5;241m=\u001b[39m \u001b[43mops\u001b[49m\u001b[38;5;241;43m.\u001b[39;49m\u001b[43mcomparison_op\u001b[49m\u001b[43m(\u001b[49m\u001b[43mlvalues\u001b[49m\u001b[43m,\u001b[49m\u001b[43m \u001b[49m\u001b[43mrvalues\u001b[49m\u001b[43m,\u001b[49m\u001b[43m \u001b[49m\u001b[43mop\u001b[49m\u001b[43m)\u001b[49m\n\u001b[0;32m   6121\u001b[0m \u001b[38;5;28;01mreturn\u001b[39;00m \u001b[38;5;28mself\u001b[39m\u001b[38;5;241m.\u001b[39m_construct_result(res_values, name\u001b[38;5;241m=\u001b[39mres_name)\n",
      "File \u001b[1;32mC:\\Program Files\\anaconda3\\Lib\\site-packages\\pandas\\core\\ops\\array_ops.py:344\u001b[0m, in \u001b[0;36mcomparison_op\u001b[1;34m(left, right, op)\u001b[0m\n\u001b[0;32m    341\u001b[0m     \u001b[38;5;28;01mreturn\u001b[39;00m invalid_comparison(lvalues, rvalues, op)\n\u001b[0;32m    343\u001b[0m \u001b[38;5;28;01melif\u001b[39;00m lvalues\u001b[38;5;241m.\u001b[39mdtype \u001b[38;5;241m==\u001b[39m \u001b[38;5;28mobject\u001b[39m \u001b[38;5;129;01mor\u001b[39;00m \u001b[38;5;28misinstance\u001b[39m(rvalues, \u001b[38;5;28mstr\u001b[39m):\n\u001b[1;32m--> 344\u001b[0m     res_values \u001b[38;5;241m=\u001b[39m \u001b[43mcomp_method_OBJECT_ARRAY\u001b[49m\u001b[43m(\u001b[49m\u001b[43mop\u001b[49m\u001b[43m,\u001b[49m\u001b[43m \u001b[49m\u001b[43mlvalues\u001b[49m\u001b[43m,\u001b[49m\u001b[43m \u001b[49m\u001b[43mrvalues\u001b[49m\u001b[43m)\u001b[49m\n\u001b[0;32m    346\u001b[0m \u001b[38;5;28;01melse\u001b[39;00m:\n\u001b[0;32m    347\u001b[0m     res_values \u001b[38;5;241m=\u001b[39m _na_arithmetic_op(lvalues, rvalues, op, is_cmp\u001b[38;5;241m=\u001b[39m\u001b[38;5;28;01mTrue\u001b[39;00m)\n",
      "File \u001b[1;32mC:\\Program Files\\anaconda3\\Lib\\site-packages\\pandas\\core\\ops\\array_ops.py:129\u001b[0m, in \u001b[0;36mcomp_method_OBJECT_ARRAY\u001b[1;34m(op, x, y)\u001b[0m\n\u001b[0;32m    127\u001b[0m     result \u001b[38;5;241m=\u001b[39m libops\u001b[38;5;241m.\u001b[39mvec_compare(x\u001b[38;5;241m.\u001b[39mravel(), y\u001b[38;5;241m.\u001b[39mravel(), op)\n\u001b[0;32m    128\u001b[0m \u001b[38;5;28;01melse\u001b[39;00m:\n\u001b[1;32m--> 129\u001b[0m     result \u001b[38;5;241m=\u001b[39m \u001b[43mlibops\u001b[49m\u001b[38;5;241;43m.\u001b[39;49m\u001b[43mscalar_compare\u001b[49m\u001b[43m(\u001b[49m\u001b[43mx\u001b[49m\u001b[38;5;241;43m.\u001b[39;49m\u001b[43mravel\u001b[49m\u001b[43m(\u001b[49m\u001b[43m)\u001b[49m\u001b[43m,\u001b[49m\u001b[43m \u001b[49m\u001b[43my\u001b[49m\u001b[43m,\u001b[49m\u001b[43m \u001b[49m\u001b[43mop\u001b[49m\u001b[43m)\u001b[49m\n\u001b[0;32m    130\u001b[0m \u001b[38;5;28;01mreturn\u001b[39;00m result\u001b[38;5;241m.\u001b[39mreshape(x\u001b[38;5;241m.\u001b[39mshape)\n",
      "File \u001b[1;32mops.pyx:107\u001b[0m, in \u001b[0;36mpandas._libs.ops.scalar_compare\u001b[1;34m()\u001b[0m\n",
      "\u001b[1;31mTypeError\u001b[0m: '<' not supported between instances of 'str' and 'int'"
     ]
    }
   ],
   "source": [
    "# check quantity less than 0\n",
    "df[(df['Quantity Received '] < 0) | (df['Quantity Dispensed '] < 0)]"
   ]
  },
  {
   "cell_type": "code",
   "execution_count": 8,
   "id": "6196abe9-32b2-4116-848e-55758a50fca9",
   "metadata": {},
   "outputs": [
    {
     "data": {
      "text/plain": [
       "Description                        object\n",
       "Basic Unit                         object\n",
       "Beginning Balance                  object\n",
       "Quantity Received                  object\n",
       "Quantity Dispensed                 object\n",
       "Losses and Adjustments             object\n",
       "Ending Balance (Physical Count)    object\n",
       "dtype: object"
      ]
     },
     "execution_count": 8,
     "metadata": {},
     "output_type": "execute_result"
    }
   ],
   "source": [
    "df.dtypes"
   ]
  },
  {
   "cell_type": "markdown",
   "id": "a0e15722-9cde-4ce5-9887-57bf8d63dd3e",
   "metadata": {},
   "source": [
    "### Found column type issue"
   ]
  },
  {
   "cell_type": "code",
   "execution_count": 9,
   "id": "73a439c3-5336-4916-b20b-dd80fa841fef",
   "metadata": {},
   "outputs": [],
   "source": [
    "import re"
   ]
  },
  {
   "cell_type": "code",
   "execution_count": 10,
   "id": "2f2e693d-96f4-4023-a10d-4725b40c8dcd",
   "metadata": {},
   "outputs": [],
   "source": [
    "def str_to_num(value):\n",
    "    if isinstance(value, str): # If you need to check the specific type of the elements in a column, you can use isinstance. This can be useful if you know the exact type of character data you're expecting (e.g., str).\n",
    "        value = re.sub(r'o+|O+', '0', value)\n",
    "        value = re.sub(r'i+|I+', '1', value)\n",
    "        value = re.sub(r's+|S+', '5', value)        \n",
    "        value = re.sub(r'\\D', '', value)\n",
    "\n",
    "    try:\n",
    "        return int(value)\n",
    "    except ValueError:\n",
    "        return pd.NA"
   ]
  },
  {
   "cell_type": "code",
   "execution_count": 11,
   "id": "3f11b9f8-92de-469d-980e-d0f1f402f579",
   "metadata": {},
   "outputs": [],
   "source": [
    "df['Beginning Balance '] = df['Beginning Balance '].apply(str_to_num)"
   ]
  },
  {
   "cell_type": "code",
   "execution_count": 12,
   "id": "b166f20d-5ea1-40b5-a60c-aa8d6a158bf3",
   "metadata": {},
   "outputs": [
    {
     "data": {
      "text/plain": [
       "array([ 1000,   350,    30,     2,  4100,   410,  3300,   500,     0,\n",
       "           1,  2500,  2000,   950,     3,   850,   800,  1750,  4750,\n",
       "        1200,   900,  2800,  1100,  1700,  1780,   870,   200,  3000,\n",
       "           5,   400,  1950,   700,   140,   600,    10,     8,   160,\n",
       "         650,    90,   300,   550,    15,  4000,   170,   150,   120,\n",
       "         125,   230,   100,   180,    99,  2400,   220,  1650,  1600,\n",
       "         450,   705,     7,    60,     4,     6,    14,    50,  1800,\n",
       "          40,  1900,    20,    11,     9,  1350,    17,   -10,    18,\n",
       "          25,    96,    45,    70,    65,    26,   260,  1500,    80,\n",
       "          16,    23,    75,   162,  2700,  2150,  1250,  1690,  1450,\n",
       "          42,    51,  2300,  3600,  3125,   250,   375,  1375,  2600,\n",
       "        3400,  1940,   275,   770,  6500,  5100,   280,  2315,   750,\n",
       "       -1000,    33, 43617,   725,   560,   195,  1400,   270,   370,\n",
       "        1225,   540,  2200,   585,   295,   310,  2100,   625,   680,\n",
       "          21,    28,    27,    35,   130,  1300,   115,   165, 17000,\n",
       "         330,    12,    24,   210,   780,   325,   360,    72,    92,\n",
       "          82,  3500,    13,    43,    36,  4500,    85,  6100,   910,\n",
       "          94,    48,    59,    46,    47,    37,    95,    32,    41,\n",
       "          44,    34,   110,    38,    29,    67,    64,   580,   480,\n",
       "         620,   440,   190,   940,   320,   430,   915,   175,  1125,\n",
       "          39,    22,    31,    87,    73,    55,    62,   390,   290,\n",
       "         135,   520,   640,   225,    63, 23000,    68,    98,   145,\n",
       "          54], dtype=int64)"
      ]
     },
     "execution_count": 12,
     "metadata": {},
     "output_type": "execute_result"
    }
   ],
   "source": [
    "df['Beginning Balance '].unique()"
   ]
  },
  {
   "cell_type": "code",
   "execution_count": 13,
   "id": "f7b61c50-db04-493d-9aae-b287e747bb0f",
   "metadata": {},
   "outputs": [
    {
     "name": "stdout",
     "output_type": "stream",
     "text": [
      "490        i\n",
      "491     I000\n",
      "605        s\n",
      "835     20oo\n",
      "1084     0.S\n",
      "3812       O\n",
      "4286       o\n",
      "Name: Quantity Received , dtype: object\n"
     ]
    }
   ],
   "source": [
    "numeric_qty_received = pd.to_numeric(df['Quantity Received '], errors='coerce')\n",
    "# Check for non-integer values and assign them to a variable\n",
    "non_integer_qty_received = df['Quantity Received '][numeric_qty_received.isna()] \n",
    "print(non_integer_qty_received)"
   ]
  },
  {
   "cell_type": "code",
   "execution_count": 14,
   "id": "97f6efd2-5c22-4330-9d4c-a870340bd2cd",
   "metadata": {},
   "outputs": [],
   "source": [
    "df['Quantity Received '] = df['Quantity Received '].apply(str_to_num)"
   ]
  },
  {
   "cell_type": "code",
   "execution_count": 15,
   "id": "9bde9441-b1e0-4ec4-a5aa-5f913d651ab8",
   "metadata": {},
   "outputs": [
    {
     "data": {
      "text/plain": [
       "array([    0,    10,    20,     1,   100,     3,     5,     2,     7,\n",
       "           8,     4,  2000,  8000,  5000,  3000,  1000,    30,    12,\n",
       "       10000,    50, 20000,     6,    80,    60,    70,    90,   120,\n",
       "         200,   500,   300,    96,    40,   400,   130,   150,   140,\n",
       "         180,    15,    14,    19,    13,    17,     9,    24,   800,\n",
       "          22,   240,   600,    25,   160,   110], dtype=int64)"
      ]
     },
     "execution_count": 15,
     "metadata": {},
     "output_type": "execute_result"
    }
   ],
   "source": [
    "df['Quantity Received '].unique()"
   ]
  },
  {
   "cell_type": "code",
   "execution_count": 16,
   "id": "d351ac0b-1879-4e7f-8e76-9fea74d16e1e",
   "metadata": {},
   "outputs": [
    {
     "name": "stdout",
     "output_type": "stream",
     "text": [
      "9       i\n",
      "1781    o\n",
      "3352    O\n",
      "3354    o\n",
      "Name: Quantity Dispensed , dtype: object\n",
      "2950    O\n",
      "Name: Losses and Adjustments, dtype: object\n",
      "9          i\n",
      "491     i000\n",
      "2508       O\n",
      "5062       o\n",
      "Name: Ending Balance (Physical Count), dtype: object\n"
     ]
    }
   ],
   "source": [
    "numeric_qty_dispensed = pd.to_numeric(df['Quantity Dispensed '], errors=\"coerce\")\n",
    "non_integer_qty_dispensed = df['Quantity Dispensed '][numeric_qty_dispensed.isna()]\n",
    "print(non_integer_qty_dispensed)\n",
    "\n",
    "numeric_loss_adj = pd.to_numeric(df['Losses and Adjustments'], errors=\"coerce\")\n",
    "non_integer_loss_aj = df['Losses and Adjustments'][numeric_loss_adj.isna()]\n",
    "print(non_integer_loss_aj)\n",
    "\n",
    "numeric_ending_bal = pd.to_numeric(df['Ending Balance (Physical Count)'], errors=\"coerce\")\n",
    "non_integer_ending_bal = df['Ending Balance (Physical Count)'][numeric_ending_bal.isna()]\n",
    "print(non_integer_ending_bal)"
   ]
  },
  {
   "cell_type": "code",
   "execution_count": 17,
   "id": "6bd980ca-0246-45b3-a61d-e074ee87bbcd",
   "metadata": {},
   "outputs": [],
   "source": [
    "df['Quantity Dispensed '] = df['Quantity Dispensed '].apply(str_to_num)\n",
    "df['Losses and Adjustments'] = df['Losses and Adjustments'].apply(str_to_num)\n",
    "df['Ending Balance (Physical Count)'] = df['Ending Balance (Physical Count)'].apply(str_to_num) "
   ]
  },
  {
   "cell_type": "code",
   "execution_count": 18,
   "id": "fb54fdbe-d4f2-4457-8353-4daeba5fba42",
   "metadata": {},
   "outputs": [
    {
     "data": {
      "text/plain": [
       "Description                        object\n",
       "Basic Unit                         object\n",
       "Beginning Balance                   int64\n",
       "Quantity Received                   int64\n",
       "Quantity Dispensed                  int64\n",
       "Losses and Adjustments              int64\n",
       "Ending Balance (Physical Count)     int64\n",
       "dtype: object"
      ]
     },
     "execution_count": 18,
     "metadata": {},
     "output_type": "execute_result"
    }
   ],
   "source": [
    "df.dtypes"
   ]
  },
  {
   "cell_type": "code",
   "execution_count": 19,
   "id": "515843b2-8dd0-4c20-be43-1d8e69311981",
   "metadata": {},
   "outputs": [
    {
     "data": {
      "text/plain": [
       "array([    0,   300,   600,     1,   500,    40,    12,   950,    10,\n",
       "        2400,  4000,  4750,   850,  1700,  1800,   900,  2800, 14000,\n",
       "       16000, 10000,  5250,  7000,   870,  1740,     7,     2,  1000,\n",
       "        3000,    30,  5000,     3,   200,     9,    50,  2000,    70,\n",
       "         140,     4,   160,   650,    20,   550,  6000,   100,   250,\n",
       "           8,     5,  1020,  1200, 13600,  3600,  9000, 12000,     6,\n",
       "         450,    15, 36000,  9600,  3525,  7050,  8460,   350,   400,\n",
       "         700,    14,   150,    17,    28,    25,    11,    45,    13,\n",
       "          60,    80,    69,    90,   260,    21, 11700,  2100,   230,\n",
       "        1400,   980, 10500,  6480, 29160, 16200,  5400,  1600,    18,\n",
       "       10750,  2500,  5070,  8450,  9450,    36,    34,    65,    67,\n",
       "        3750,  2750,  5200,  1375,  1100,  2200,  2310,  3850, 15000,\n",
       "       21000,  7200, 11400,  5100,   840,   860,   320,   750,  1650,\n",
       "        5800,  7250,  4800, 44000,  5600,  3675,  2700,  3250,  1500,\n",
       "       17500,  9300, 12400,  7500,    16,  1260,  3060, 16250,   575,\n",
       "        1150,   825, 13500,  1470,   420,  4200,  2520,  7650,  2250,\n",
       "        3500,    35,    82,  2550,  4500,  1750,  3700,  7400, 11200,\n",
       "          26,   104,   800,    22,   460,    43,    42,    24,    27,\n",
       "         330,    23,   110,    76,  8700,   675, 14400,  8000,  4320,\n",
       "       24000,  3200,  2240,  2160,   480,  1440,  1360,  1050,  1350,\n",
       "          87,    29,    59,  6400, 22400, 28800,    57,    89, 18700,\n",
       "       11000,   135,    79,    33,    48,    38,  7800,  3900, 25600,\n",
       "       19200, 32400, 25200,  6500, 23000,    32,    51,  3400,  4650,\n",
       "        6200,  4350], dtype=int64)"
      ]
     },
     "execution_count": 19,
     "metadata": {},
     "output_type": "execute_result"
    }
   ],
   "source": [
    "df['Quantity Dispensed '].unique()"
   ]
  },
  {
   "cell_type": "code",
   "execution_count": 20,
   "id": "4df80330-69c1-44b3-b25a-507aa8c07f22",
   "metadata": {},
   "outputs": [
    {
     "data": {
      "text/plain": [
       "array([  0,  20,   1,  10,  15,   2,   7,  50, 100,  24,  30, 200,   5,\n",
       "         3,  40, 150,   4,  17,  49,  12,  96,  36,  60,  48,  25,  19,\n",
       "       160,   8, 300], dtype=int64)"
      ]
     },
     "execution_count": 20,
     "metadata": {},
     "output_type": "execute_result"
    }
   ],
   "source": [
    "df['Losses and Adjustments'].unique()"
   ]
  },
  {
   "cell_type": "code",
   "execution_count": 21,
   "id": "1ab1b1ef-3eed-43e0-8d63-ecda32ce1f28",
   "metadata": {},
   "outputs": [
    {
     "data": {
      "text/plain": [
       "array([    0,    30,    20,     1,    60,     8,     3,    10,    18,\n",
       "          15,     2,    17,    14,   200,  1000,   500,  3000,    13,\n",
       "        4000,  2000,     9,  1900,  1950,     5,   930,   700,   300,\n",
       "        5000,     6,     4,  6000, 32021,    70, 14000,    11,   400,\n",
       "         150,   350,  1500,    50,   100,    80,    24,    40,   110,\n",
       "          90,   120,    99,   550,    92,    95,    16,    12,   650,\n",
       "           7,   600,   270,  1800,  1400,  1600,    27,    22,    83,\n",
       "         130,    72,   380,    45,    25,   260,    31,    87,   199,\n",
       "          39,   140,   180,    82,    64,    66,   170,    75,    33,\n",
       "          38,    42,  7000,    19,  1140,    32,    35,    21,    28,\n",
       "          26,    65,    67,    46,    59,    53,    49,    44,    56,\n",
       "          47,    43,    37,   250,    36,    41,    34,   160,    23,\n",
       "         190,    29,    51,    98,    96,    48,   220,   240,   121,\n",
       "          62,    55,    73,    68,    93], dtype=int64)"
      ]
     },
     "execution_count": 21,
     "metadata": {},
     "output_type": "execute_result"
    }
   ],
   "source": [
    "df['Ending Balance (Physical Count)'].unique()"
   ]
  },
  {
   "cell_type": "code",
   "execution_count": null,
   "id": "45649b0c-cb86-4b53-a70d-ede174e3a441",
   "metadata": {},
   "outputs": [],
   "source": []
  }
 ],
 "metadata": {
  "kernelspec": {
   "display_name": "Python 3 (ipykernel)",
   "language": "python",
   "name": "python3"
  },
  "language_info": {
   "codemirror_mode": {
    "name": "ipython",
    "version": 3
   },
   "file_extension": ".py",
   "mimetype": "text/x-python",
   "name": "python",
   "nbconvert_exporter": "python",
   "pygments_lexer": "ipython3",
   "version": "3.11.9"
  }
 },
 "nbformat": 4,
 "nbformat_minor": 5
}
