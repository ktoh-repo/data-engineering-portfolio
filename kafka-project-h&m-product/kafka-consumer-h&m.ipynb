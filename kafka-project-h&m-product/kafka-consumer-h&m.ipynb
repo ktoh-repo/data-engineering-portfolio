{
 "cells": [
  {
   "cell_type": "code",
   "execution_count": null,
   "metadata": {},
   "outputs": [],
   "source": [
    "#pip install google-cloud-storage"
   ]
  },
  {
   "cell_type": "code",
   "execution_count": null,
   "metadata": {},
   "outputs": [],
   "source": [
    "from kafka import KafkaConsumer\n",
    "from json import loads\n",
    "import json\n",
    "import pandas as pd\n",
    "from google.cloud import storage"
   ]
  },
  {
   "cell_type": "code",
   "execution_count": null,
   "metadata": {},
   "outputs": [],
   "source": [
    "def consume_data(topic):\n",
    "    df = pd.DataFrame()\n",
    "    consumer = KafkaConsumer(topic, bootstrap_servers=[\"34.133.203.182:9092\"], value_deserializer = lambda x: json.loads(x.decode('utf-8')))\n",
    "\n",
    "    records = []\n",
    "\n",
    "    timeout_ms = 5000\n",
    "\n",
    "    while True:\n",
    "        message_pack = consumer.poll(timeout_ms=timeout_ms)\n",
    "        # print(message_pack)\n",
    "\n",
    "        if not message_pack:\n",
    "            break\n",
    "\n",
    "        for topic_partition, messages in message_pack.items():\n",
    "            for message in messages :\n",
    "                json_data = message.value\n",
    "                records.append(json_data)   \n",
    "\n",
    "    if records:\n",
    "        df = pd.DataFrame(records)\n",
    "        df.to_csv(f\"kafka-consumer-output/{topic}.csv\", index=False, sep=',')\n",
    "    else:\n",
    "        print(\"No messages received\")\n"
   ]
  },
  {
   "cell_type": "code",
   "execution_count": null,
   "metadata": {},
   "outputs": [],
   "source": [
    "consume_data(\"trans_fact\")"
   ]
  },
  {
   "cell_type": "code",
   "execution_count": null,
   "metadata": {},
   "outputs": [],
   "source": [
    "consume_data(\"date_dim\")"
   ]
  },
  {
   "cell_type": "code",
   "execution_count": null,
   "metadata": {},
   "outputs": [],
   "source": [
    "\n",
    "consume_data(\"customer_dim\")"
   ]
  },
  {
   "cell_type": "code",
   "execution_count": null,
   "metadata": {},
   "outputs": [],
   "source": [
    "\n",
    "consume_data(\"product_dim\")"
   ]
  }
 ],
 "metadata": {
  "kernelspec": {
   "display_name": "base",
   "language": "python",
   "name": "python3"
  },
  "language_info": {
   "codemirror_mode": {
    "name": "ipython",
    "version": 3
   },
   "file_extension": ".py",
   "mimetype": "text/x-python",
   "name": "python",
   "nbconvert_exporter": "python",
   "pygments_lexer": "ipython3",
   "version": "3.12.4"
  }
 },
 "nbformat": 4,
 "nbformat_minor": 2
}
