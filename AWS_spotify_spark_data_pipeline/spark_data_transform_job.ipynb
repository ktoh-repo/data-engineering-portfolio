{
	"metadata": {
		"kernelspec": {
			"name": "glue_pyspark",
			"display_name": "Glue PySpark",
			"language": "python"
		},
		"language_info": {
			"name": "Python_Glue_Session",
			"mimetype": "text/x-python",
			"codemirror_mode": {
				"name": "python",
				"version": 3
			},
			"pygments_lexer": "python3",
			"file_extension": ".py"
		}
	},
	"nbformat_minor": 4,
	"nbformat": 4,
	"cells": [
		{
			"cell_type": "code",
			"source": "%idle_timeout 2880\n%glue_version 4.0\n%worker_type G.1X\n%number_of_workers 5\n%additional_python_modules spotipy==2.19.0\n\nimport sys\nfrom awsglue.transforms import *\nfrom awsglue.utils import getResolvedOptions\nfrom pyspark.context import SparkContext\nfrom awsglue.context import GlueContext\nfrom awsglue.job import Job\nfrom awsglue.dynamicframe import DynamicFrame\n  \nsc = SparkContext.getOrCreate()\nglueContext = GlueContext(sc)\nspark = glueContext.spark_session\njob = Job(glueContext)",
			"metadata": {
				"trusted": true,
				"editable": true
			},
			"execution_count": 1,
			"outputs": [
				{
					"name": "stdout",
					"text": "Welcome to the Glue Interactive Sessions Kernel\nFor more information on available magic commands, please type %help in any new cell.\n\nPlease view our Getting Started page to access the most up-to-date information on the Interactive Sessions kernel: https://docs.aws.amazon.com/glue/latest/dg/interactive-sessions.html\nInstalled kernel version: 1.0.5 \nCurrent idle_timeout is None minutes.\nidle_timeout has been set to 2880 minutes.\nSetting Glue version to: 4.0\nPrevious worker type: None\nSetting new worker type to: G.1X\nPrevious number of workers: None\nSetting new number of workers to: 5\nAdditional python modules to be included:\nspotipy==2.19.0\npandas==1.3.3\nTrying to create a Glue session for the kernel.\nSession Type: glueetl\nWorker Type: G.1X\nNumber of Workers: 5\nIdle Timeout: 2880\nSession ID: 1b727efa-3c3c-4a7e-adf0-94699e084d6d\nApplying the following default arguments:\n--glue_kernel_version 1.0.5\n--enable-glue-datacatalog true\n--additional-python-modules spotipy==2.19.0,pandas==1.3.3\nWaiting for session 1b727efa-3c3c-4a7e-adf0-94699e084d6d to get into ready status...\nSession 1b727efa-3c3c-4a7e-adf0-94699e084d6d has been created.\n\n",
					"output_type": "stream"
				}
			]
		},
		{
			"cell_type": "code",
			"source": "from pyspark.sql.functions import explode, col, udf, when, size, concat_ws, collect_list, element_at, to_date\nfrom pyspark.sql.types import StructType, StructField, StringType, IntegerType\nfrom datetime import datetime\nimport os",
			"metadata": {
				"trusted": true,
				"tags": []
			},
			"execution_count": 85,
			"outputs": [
				{
					"name": "stdout",
					"text": "\n",
					"output_type": "stream"
				}
			]
		},
		{
			"cell_type": "code",
			"source": "import spotipy\nfrom spotipy.oauth2 import SpotifyClientCredentials",
			"metadata": {
				"trusted": true,
				"tags": []
			},
			"execution_count": 3,
			"outputs": [
				{
					"name": "stdout",
					"text": "\n",
					"output_type": "stream"
				}
			]
		},
		{
			"cell_type": "code",
			"source": "client_credentials_manager = SpotifyClientCredentials(client_id = '5f54ff961cbf41608b9c6eb7d7613e05', client_secret = '49622debd6274f2db7f52db6dad72de3')\n\nspAPI = spotipy.Spotify(client_credentials_manager = client_credentials_manager)",
			"metadata": {
				"trusted": true,
				"tags": []
			},
			"execution_count": 4,
			"outputs": [
				{
					"name": "stdout",
					"text": "\n",
					"output_type": "stream"
				}
			]
		},
		{
			"cell_type": "code",
			"source": "s3_path = \"s3://spotify-etl-project-tqx/raw_data/to_processed/\"\nsource_dyf = glueContext.create_dynamic_frame.from_options(\n    connection_type = \"s3\",\n    connection_options = {\"paths\": [s3_path]},\n    format=\"json\"\n)",
			"metadata": {
				"trusted": true,
				"tags": []
			},
			"execution_count": 5,
			"outputs": [
				{
					"name": "stdout",
					"text": "\n",
					"output_type": "stream"
				}
			]
		},
		{
			"cell_type": "code",
			"source": "spotify_df = source_dyf.toDF()",
			"metadata": {
				"trusted": true,
				"editable": true
			},
			"execution_count": 6,
			"outputs": [
				{
					"name": "stdout",
					"text": "/opt/amazon/spark/python/lib/pyspark.zip/pyspark/sql/dataframe.py:127: UserWarning: DataFrame constructor is internal. Do not directly use it.\n",
					"output_type": "stream"
				}
			]
		},
		{
			"cell_type": "code",
			"source": "spotify_df.show(5)",
			"metadata": {
				"trusted": true,
				"tags": []
			},
			"execution_count": 7,
			"outputs": [
				{
					"name": "stdout",
					"text": "+--------------------+--------------------+-----+----+------+--------+-----+\n|                href|               items|limit|next|offset|previous|total|\n+--------------------+--------------------+-----+----+------+--------+-----+\n|https://api.spoti...|[{2024-10-11T12:3...|  100|null|     0|    null|   50|\n+--------------------+--------------------+-----+----+------+--------+-----+\n",
					"output_type": "stream"
				}
			]
		},
		{
			"cell_type": "code",
			"source": "df = spotify_df",
			"metadata": {
				"trusted": true,
				"tags": []
			},
			"execution_count": 8,
			"outputs": [
				{
					"name": "stdout",
					"text": "\n",
					"output_type": "stream"
				}
			]
		},
		{
			"cell_type": "code",
			"source": "def process_albums(df):\n    df = df.withColumn(\"items\", explode(\"items\")).select(\n        col(\"items.track.album.id\").alias(\"album_id\"),\n        col(\"items.track.album.name\").alias(\"album_name\"),\n        col(\"items.track.album.release_date\").alias(\"release_date\"),\n        col(\"items.track.album.total_tracks\").alias(\"total_tracks\"),\n        col(\"items.track.album.external_urls.spotify\").alias(\"url\")\n    ).drop_duplicates([\"album_id\"])\n    return df",
			"metadata": {
				"trusted": true,
				"tags": []
			},
			"execution_count": 140,
			"outputs": [
				{
					"name": "stdout",
					"text": "\n",
					"output_type": "stream"
				}
			]
		},
		{
			"cell_type": "code",
			"source": "def get_artist_info(artist_id):\n    artist_info = []\n    try:\n        artist_info = spAPI.artist(artist_id)\n        genres = \", \".join(artist_info[\"genres\"])\n        followers = artist_info['followers']['total']\n        popularity = artist_info['popularity']\n        return genres, followers, popularity\n    except:\n        return \"\", 0, 0\n\n# register the UDF and specify return types for each field\n# skip explicitly defining the StructType in the UDF, and simply return a Python dictionary or tuple. However, it is a good practice to define the return type for UDFs in PySpark, as it makes the code more efficient and helps avoid type-related errors. Simply use: udf(get_artist_info)\n@udf(returnType=StructType([\n    StructField(\"genres\", StringType(), True),\n    StructField(\"followers\", IntegerType(), True),\n    StructField(\"popularity\", IntegerType(), True)\n]))\n\ndef artist_info_udf(artist_id):\n    return get_artist_info(artist_id)",
			"metadata": {
				"trusted": true,
				"tags": []
			},
			"execution_count": 20,
			"outputs": [
				{
					"name": "stdout",
					"text": "\n",
					"output_type": "stream"
				}
			]
		},
		{
			"cell_type": "code",
			"source": "def process_artists(df):\n    df_items_exploded = df.select(explode(col(\"items\")).alias(\"item\"))\n    \n    artists_df_exploded = df_items_exploded.select(\n        explode(col(\"item.track.artists\")).alias(\"artist\"))\n    \n    artists_df = artists_df_exploded.select(\n        col(\"artist.id\").alias(\"artist_id\"),\n        col(\"artist.name\").alias(\"artist_name\"),\n        col(\"artist.external_urls.spotify\").alias(\"url\")\n    ).drop_duplicates([\"artist_id\"])\n    \n    artists_df = artists_df.withColumn(\"artist_info\", artist_info_udf(col(\"artist_id\")))\n    \n    artists_df = artists_df.select(\n        col(\"artist_id\"),\n        col(\"artist_name\"),\n        col(\"url\"),\n        col(\"artist_info.genres\").alias(\"artist_genres\"),\n        col(\"artist_info.followers\").alias(\"artist_followers\"),\n        col(\"artist_info.popularity\").alias(\"popularity\")\n    )\n    \n    return artists_df",
			"metadata": {
				"trusted": true,
				"tags": []
			},
			"execution_count": 141,
			"outputs": [
				{
					"name": "stdout",
					"text": "\n",
					"output_type": "stream"
				}
			]
		},
		{
			"cell_type": "code",
			"source": "def process_songs(df):\n    df_items_exploded = df.select(explode(col(\"items\")).alias(\"item\"))\n    \n    df_songs_exploded = df_items_exploded.withColumn(\n        \"artist_id\",\n        explode(col(\"item.track.artists.id\"))\n    )\n\n    # Create a new DataFrame that has track_id and artist_id\n    df_songs_artist_exploded = df_songs_exploded.select(\n        col(\"item.track.id\").alias(\"song_id\"),\n        col(\"artist_id\")\n    )\n\n    df_song_artist = df_songs_artist_exploded.groupBy(\"song_id\") \\\n            .agg(concat_ws(\", \", collect_list(\"artist_id\")).alias(\"artist_ids\"))\n    \n    df_songs = df_items_exploded.select(\n        col(\"item.track.id\").alias(\"song_id\"),\n        col(\"item.track.name\").alias(\"song_name\"),\n        col(\"item.track.duration_ms\").alias(\"duration_ms\"),\n        col(\"item.track.popularity\").alias(\"popularity\"),\n        col(\"item.track.external_urls.spotify\").alias(\"url\"),\n        col(\"item.added_at\").alias(\"song_added\"),\n        col(\"item.track.album.id\").alias(\"album_id\")\n    ).drop_duplicates([\"song_id\"])\n    \n    df_songs = df_songs.withColumn(\"song_added\", to_date(col(\"song_added\")))\n    final_df = df_songs.join(df_song_artist, on=\"song_id\", how=\"inner\")\n    \n    return final_df",
			"metadata": {
				"trusted": true,
				"tags": []
			},
			"execution_count": null,
			"outputs": []
		},
		{
			"cell_type": "code",
			"source": "album_df = process_albums(spotify_df)\nalbum_df.show(5)",
			"metadata": {
				"trusted": true,
				"tags": []
			},
			"execution_count": 142,
			"outputs": [
				{
					"name": "stdout",
					"text": "+--------------------+--------------------+------------+------------+--------------------+\n|            album_id|          album_name|release_date|total_tracks|                 url|\n+--------------------+--------------------+------------+------------+--------------------+\n|0DLvFVIfwt3OHdK9k...|Where I've Been, ...|  2024-05-31|          12|https://open.spot...|\n|0EiI8ylL0FmWWpgHV...|The Rise and Fall...|  2023-09-22|          14|https://open.spot...|\n|0XA403JTounqFh2ow...|          Diet Pepsi|  2024-08-09|           1|https://open.spot...|\n|0lgs2Sa82lyX89nBU...|      FERXXOCALIPSIS|  2023-12-01|          10|https://open.spot...|\n|0mV9Pfr1GfoZLkp1E...|          Embrace It|  2024-08-23|           1|https://open.spot...|\n+--------------------+--------------------+------------+------------+--------------------+\nonly showing top 5 rows\n",
					"output_type": "stream"
				}
			]
		},
		{
			"cell_type": "code",
			"source": "artist_df = process_artists(spotify_df)\nartist_df.show(5)",
			"metadata": {
				"trusted": true,
				"tags": []
			},
			"execution_count": 143,
			"outputs": [
				{
					"name": "stdout",
					"text": "+--------------------+------------+--------------------+--------------------+----------------+----------+\n|           artist_id| artist_name|                 url|       artist_genres|artist_followers|popularity|\n+--------------------+------------+--------------------+--------------------+----------------+----------+\n|06HL4z0CvFAxyc27G...|Taylor Swift|https://open.spot...|                 pop|       123615685|       100|\n|0PCCGZ0wGLizHt2KZ...|     Artemas|https://open.spot...|                    |          956224|        80|\n|0Y5tJX1MQlPlqiwlO...|Travis Scott|https://open.spot...|     rap, slap house|        33635798|        94|\n|0du5cEVh5yTK9QJze...|  Bruno Mars|https://open.spot...|      dance pop, pop|        60240128|        94|\n|12GqGscKJx3aE4t07...|  Peso Pluma|https://open.spot...|corridos tumbados...|        16635683|        93|\n+--------------------+------------+--------------------+--------------------+----------------+----------+\nonly showing top 5 rows\n",
					"output_type": "stream"
				}
			]
		},
		{
			"cell_type": "code",
			"source": "song_df = process_songs(spotify_df)\nsong_df.show(5)",
			"metadata": {
				"trusted": true,
				"tags": []
			},
			"execution_count": 144,
			"outputs": [
				{
					"name": "stdout",
					"text": "+--------------------+--------------------+-----------+----------+--------------------+--------------------+--------------------+--------------------+\n|             song_id|           song_name|duration_ms|popularity|                 url|          song_added|            album_id|          artist_ids|\n+--------------------+--------------------+-----------+----------+--------------------+--------------------+--------------------+--------------------+\n|0IsIY8pfu1yaGkPUD...|Guess featuring b...|     143330|        70|https://open.spot...|2024-10-11T12:30:50Z|36P07bti6xD99o7S1...|25uiPmTg16RbhZWAq...|\n|0Sr7ssScx54yxdM2o...|Q U E V A S H A C...|     224022|        87|https://open.spot...|2024-10-11T12:30:50Z|3C5uwdRE5QRoXSGPP...|3E12tRURRvPfHz0hA...|\n|0WbMK4wrZ1wFSty9F...|    Good Luck, Babe!|     218423|        95|https://open.spot...|2024-10-11T12:30:50Z|1WAjjRMfZjEXtB0lQ...|7GlBOeep6PqTfFi59...|\n|0io16MKpbeDIdYzmG...|          Embrace It|     104418|        88|https://open.spot...|2024-10-11T12:30:50Z|0mV9Pfr1GfoZLkp1E...|5HK6QtizXJzCmoYTk...|\n|17phhZDn6oGtzMe56...|        Lose Control|     210688|        89|https://open.spot...|2024-10-11T12:30:50Z|7nacKlk586eLRBSIs...|33qOK5uJ8AR2xuQQA...|\n+--------------------+--------------------+-----------+----------+--------------------+--------------------+--------------------+--------------------+\nonly showing top 5 rows\n",
					"output_type": "stream"
				}
			]
		},
		{
			"cell_type": "code",
			"source": "def write_to_s3(df, path_suffix, format_type=\"csv\"):\n    dynamic_frame = DynamicFrame.fromDF(df, glueContext, \"dynamic_frame\")\n    \n    glueContext.write_dynamic_frame.from_options(\n        frame = dynamic_frame,\n        connection_type = \"s3\",\n        connection_options = {\"path\": f\"s3://spotify-etl-project-tqx/transformed_data/{path_suffix}/\"}, \n        format = format_type\n    )",
			"metadata": {
				"trusted": true,
				"tags": []
			},
			"execution_count": 145,
			"outputs": [
				{
					"name": "stdout",
					"text": "\n",
					"output_type": "stream"
				}
			]
		},
		{
			"cell_type": "code",
			"source": "write_to_s3(album_df, \"album_data/album_transformed_{}\".format(datetime.now().strftime(\"%Y%m%d\")), \"csv\")",
			"metadata": {
				"trusted": true,
				"tags": []
			},
			"execution_count": 146,
			"outputs": [
				{
					"name": "stdout",
					"text": "\n",
					"output_type": "stream"
				}
			]
		},
		{
			"cell_type": "code",
			"source": "write_to_s3(artist_df, \"artist_data/artist_transformed_{}\".format(datetime.now().strftime(\"%Y%m%d\")), \"csv\")",
			"metadata": {
				"trusted": true,
				"tags": []
			},
			"execution_count": null,
			"outputs": []
		},
		{
			"cell_type": "code",
			"source": "write_to_s3(song_df, \"song_data/song_transformed_{}\".format(datetime.now().strftime(\"%Y%m%d\")), \"csv\")",
			"metadata": {
				"trusted": true,
				"tags": []
			},
			"execution_count": 1,
			"outputs": [
				{
					"name": "stdout",
					"text": "Welcome to the Glue Interactive Sessions Kernel\nFor more information on available magic commands, please type %help in any new cell.\n\nPlease view our Getting Started page to access the most up-to-date information on the Interactive Sessions kernel: https://docs.aws.amazon.com/glue/latest/dg/interactive-sessions.html\nInstalled kernel version: 1.0.5 \nTrying to create a Glue session for the kernel.\nSession Type: glueetl\nSession ID: b9e3ad74-addc-4b98-a69c-888dc9a44516\nApplying the following default arguments:\n--glue_kernel_version 1.0.5\n--enable-glue-datacatalog true\nWaiting for session b9e3ad74-addc-4b98-a69c-888dc9a44516 to get into ready status...\nSession b9e3ad74-addc-4b98-a69c-888dc9a44516 has been created.\nNameError: name 'write_to_s3' is not defined\n",
					"output_type": "stream"
				}
			]
		},
		{
			"cell_type": "code",
			"source": "",
			"metadata": {},
			"execution_count": null,
			"outputs": []
		}
	]
}